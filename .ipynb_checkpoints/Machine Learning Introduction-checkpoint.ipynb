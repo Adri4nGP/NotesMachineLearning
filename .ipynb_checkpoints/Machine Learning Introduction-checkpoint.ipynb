{
 "cells": [
  {
   "cell_type": "markdown",
   "metadata": {},
   "source": [
    "# Machine Learning Introduction"
   ]
  },
  {
   "cell_type": "markdown",
   "metadata": {},
   "source": [
    "## Introduction to K-Nearest Neighbors"
   ]
  },
  {
   "cell_type": "markdown",
   "metadata": {},
   "source": [
    "Vamos a estudiar los listados de alquileres de AirBnb.\n",
    "\n",
    "El dataset está en dc_listings.csv\n",
    "\n",
    "Las columnas son:\n",
    "\n",
    "````\n",
    "host_response_rate: the response rate of the host\n",
    "host_acceptance_rate: number of requests to the host that convert to rentals\n",
    "host_listings_count: number of the host's other listings\n",
    "latitude: latitude of the geographic coordinates\n",
    "longitude: longitude of the geographic coordinates\n",
    "city: the city of the rental\n",
    "zipcode: the zip code of the rental\n",
    "state: the state the rental\n",
    "accommodates: the number of guests the rental can accommodate\n",
    "room_type: the type of rental (Private room, Shared room or Entire home/apt\n",
    "bedrooms: number of bedrooms included in the rental\n",
    "bathrooms: number of bathrooms included in the rental\n",
    "beds: number of beds included in the rental\n",
    "price: nightly price for the rental\n",
    "cleaning_fee: additional fee for cleaning the rental after the guest leaves\n",
    "security_deposit: refundable security deposit, in case of damages\n",
    "minimum_nights: minimum number of nights a guest can stay at the rental\n",
    "maximum_nights: maximum number of nights a guest can stay at the rental\n",
    "number_of_reviews: number of reviews that previous guests have left\n",
    "\n",
    "````"
   ]
  },
  {
   "cell_type": "code",
   "execution_count": 1,
   "metadata": {},
   "outputs": [
    {
     "name": "stdout",
     "output_type": "stream",
     "text": [
      "host_response_rate                  92%\n",
      "host_acceptance_rate                91%\n",
      "host_listings_count                  26\n",
      "accommodates                          4\n",
      "room_type               Entire home/apt\n",
      "bedrooms                              1\n",
      "bathrooms                             1\n",
      "beds                                  2\n",
      "price                           $160.00\n",
      "cleaning_fee                    $115.00\n",
      "security_deposit                $100.00\n",
      "minimum_nights                        1\n",
      "maximum_nights                     1125\n",
      "number_of_reviews                     0\n",
      "latitude                          38.89\n",
      "longitude                      -77.0028\n",
      "city                         Washington\n",
      "zipcode                           20003\n",
      "state                                DC\n",
      "Name: 0, dtype: object\n"
     ]
    }
   ],
   "source": [
    "import pandas as pd\n",
    "\n",
    "dc_listings = pd.read_csv('dc_airbnb.csv')\n",
    "\n",
    "print(dc_listings.iloc[0])"
   ]
  },
  {
   "cell_type": "markdown",
   "metadata": {},
   "source": [
    "La estrategia que queremos seguir es la siguiente:\n",
    "\n",
    "- Encontrar listados similares.\n",
    "\n",
    "- Calcular el precio promedio por una noche de los listados.\n",
    "\n",
    "- Poner el precio promedio como el precio de nuestro listado.\n",
    "\n",
    "![title](imagenes/knn.PNG)\n",
    "\n",
    "\n",
    "Hay dos cosas que hay que detallar:\n",
    "\n",
    "- La métrica de similaridad\n",
    "\n",
    "- Cómo elegir el valor de k"
   ]
  },
  {
   "cell_type": "markdown",
   "metadata": {},
   "source": [
    "### Similaridad\n",
    "\n",
    "Para calcular la similaridad utilizamos la distanica euclídea entre observaciones tomando los diferentes parámetros (características/variables/columnas).\n",
    "\n",
    "$d = \\sqrt{(q_1 - p_1)^2 + (q_2 - p_2)^2 + ... (q_n - p_n)^2}$\n",
    "\n",
    "![title](imagenes/euclidean.PNG)\n"
   ]
  },
  {
   "cell_type": "code",
   "execution_count": 2,
   "metadata": {},
   "outputs": [
    {
     "name": "stdout",
     "output_type": "stream",
     "text": [
      "1\n"
     ]
    }
   ],
   "source": [
    "# ejemplo univariante para distancia de una casa de 3 ocupantes con la primera fila\n",
    "first_distance = abs( dc_listings.iloc[0]['accommodates'] - 3)\n",
    "\n",
    "print(first_distance)"
   ]
  },
  {
   "cell_type": "markdown",
   "metadata": {},
   "source": [
    "**¿Cómo sabemos si este valor es grande o pequeño?**\n",
    "\n",
    "Calculamos la distancia de una casa de 3 ocupantes a todas las observaciones del dataset"
   ]
  },
  {
   "cell_type": "code",
   "execution_count": 3,
   "metadata": {},
   "outputs": [
    {
     "name": "stdout",
     "output_type": "stream",
     "text": [
      "1     2294\n",
      "2      503\n",
      "0      461\n",
      "3      279\n",
      "5       73\n",
      "4       35\n",
      "7       22\n",
      "6       17\n",
      "9       12\n",
      "13       8\n",
      "8        7\n",
      "12       6\n",
      "11       4\n",
      "10       2\n",
      "Name: distance, dtype: int64\n"
     ]
    }
   ],
   "source": [
    "dc_listings['distance'] = dc_listings['accommodates'].apply(lambda x: abs(x -  3) )\n",
    "\n",
    "print(dc_listings['distance'].value_counts())"
   ]
  },
  {
   "cell_type": "markdown",
   "metadata": {},
   "source": [
    "Según estos valores tenemos 461 casas de 3 ocupantes, o con distancia 0 a la que estamos comparando.\n",
    "\n",
    "Para evitar el sesgo del orden del dataset, hacemos un orden aleatorio y luego ordenamos según el valor de distancia. Las primeras casa seguirán siendo las de distancia 0."
   ]
  },
  {
   "cell_type": "code",
   "execution_count": 4,
   "metadata": {},
   "outputs": [
    {
     "name": "stdout",
     "output_type": "stream",
     "text": [
      "577     $185.00\n",
      "2166    $180.00\n",
      "3631    $175.00\n",
      "71      $128.00\n",
      "1011    $115.00\n",
      "380     $219.00\n",
      "943     $125.00\n",
      "3107    $250.00\n",
      "1499     $94.00\n",
      "625     $150.00\n",
      "Name: price, dtype: object\n"
     ]
    }
   ],
   "source": [
    "import numpy as np\n",
    "np.random.seed(1)\n",
    "\n",
    "shuffled_index = np.random.permutation(dc_listings.index)\n",
    "dc_listings = dc_listings.reindex(shuffled_index)\n",
    "\n",
    "\n",
    "dc_listings = dc_listings.sort_values(['distance'])\n",
    "\n",
    "print(dc_listings['price'][:10])"
   ]
  },
  {
   "cell_type": "markdown",
   "metadata": {},
   "source": [
    "Ahora queremos seleccionar las 5 primeras observaciones y calcular la media.\n",
    "\n",
    "Para ello antes limpiamos la columna de precio de , y de $."
   ]
  },
  {
   "cell_type": "code",
   "execution_count": 5,
   "metadata": {},
   "outputs": [
    {
     "name": "stdout",
     "output_type": "stream",
     "text": [
      "156.6\n"
     ]
    }
   ],
   "source": [
    "stripped_commas = dc_listings['price'].str.replace(',','')\n",
    "\n",
    "stripped_dollars = stripped_commas.str.replace('$','')\n",
    "\n",
    "dc_listings['price'] = stripped_dollars.astype('float')\n",
    "\n",
    "mean_price = dc_listings['price'][:5].mean()\n",
    "\n",
    "print(mean_price)"
   ]
  },
  {
   "cell_type": "markdown",
   "metadata": {},
   "source": [
    "Hacemos una función más general para calcular los precios de alojamientos con distintos valores de ocupantes"
   ]
  },
  {
   "cell_type": "code",
   "execution_count": 6,
   "metadata": {},
   "outputs": [
    {
     "name": "stdout",
     "output_type": "stream",
     "text": [
      "1 ocupante: 71.8\n",
      "2 ocupantes: 96.8\n",
      "4 ocupantes: 96.0\n"
     ]
    }
   ],
   "source": [
    "# Brought along the changes we made to the `dc_listings` Dataframe.\n",
    "dc_listings = pd.read_csv('dc_airbnb.csv')\n",
    "stripped_commas = dc_listings['price'].str.replace(',', '')\n",
    "stripped_dollars = stripped_commas.str.replace('$', '')\n",
    "dc_listings['price'] = stripped_dollars.astype('float')\n",
    "dc_listings = dc_listings.loc[np.random.permutation(len(dc_listings))]\n",
    "\n",
    "def predict_price(new_listing):\n",
    "    temp_df = dc_listings.copy()\n",
    "    ## Complete the function.\n",
    "    \n",
    "    temp_df['distance'] = temp_df['accommodates'].apply(lambda x: abs(x - new_listing) )\n",
    "    \n",
    "    temp_df = temp_df.sort_values(['distance'])     \n",
    "    \n",
    "    return temp_df['price'][:5].mean()\n",
    "\n",
    "acc_one = predict_price(1)\n",
    "acc_two = predict_price(2)\n",
    "acc_four = predict_price(4)\n",
    "\n",
    "\n",
    "print(\"1 ocupante: {}\".format(acc_one))\n",
    "print(\"2 ocupantes: {}\".format(acc_two))\n",
    "print(\"4 ocupantes: {}\".format(acc_four))\n"
   ]
  },
  {
   "cell_type": "markdown",
   "metadata": {},
   "source": [
    "Esto es una función que puede predecir un precio para un alojamiento sabiendo el número de ocupantes. Representa un **Modelo de Machine Learning**, ya que la salida es una predicción dada una entrada al modelo."
   ]
  },
  {
   "cell_type": "markdown",
   "metadata": {},
   "source": [
    "### Evaluating Model Performance"
   ]
  },
  {
   "cell_type": "markdown",
   "metadata": {},
   "source": [
    "Dividimos el dataset en dos particiones: train (75%) y test (25%).\n",
    "\n",
    "Utilizamos el train set para hacer predicciones.\n",
    "\n",
    "Las predicciones se hacen para predecir un valor de las observaciones del test set y luego compararlas con su valor real."
   ]
  },
  {
   "cell_type": "code",
   "execution_count": 7,
   "metadata": {},
   "outputs": [],
   "source": [
    "import pandas as pd\n",
    "import numpy as np\n",
    "dc_listings = pd.read_csv(\"dc_airbnb.csv\")\n",
    "stripped_commas = dc_listings['price'].str.replace(',', '')\n",
    "stripped_dollars = stripped_commas.str.replace('$', '')\n",
    "dc_listings['price'] = stripped_dollars.astype('float')\n",
    "train_df = dc_listings.iloc[0:2792]\n",
    "test_df = dc_listings.iloc[2792:]\n",
    "\n",
    "def predict_price(new_listing):\n",
    "    ## DataFrame.copy() performs a deep copy\n",
    "    temp_df = train_df.copy()\n",
    "    temp_df['distance'] = temp_df['accommodates'].apply(lambda x: np.abs(x - new_listing))\n",
    "    temp_df = temp_df.sort_values('distance')\n",
    "    nearest_neighbor_prices = temp_df.iloc[0:5]['price']\n",
    "    predicted_price = nearest_neighbor_prices.mean()\n",
    "    return(predicted_price)\n"
   ]
  },
  {
   "cell_type": "markdown",
   "metadata": {},
   "source": [
    "Hemos cambiado la función predict para que solo tenga en cuenta los valores de train.\n",
    "\n",
    "Ahora hacemos una predicción solo con train para ver cómo se comporta con las observaciones del test set (Que no se consideran a la hora de hacer la predicción)"
   ]
  },
  {
   "cell_type": "code",
   "execution_count": 8,
   "metadata": {},
   "outputs": [
    {
     "name": "stderr",
     "output_type": "stream",
     "text": [
      "C:\\Users\\adrig\\anaconda3\\lib\\site-packages\\ipykernel_launcher.py:1: SettingWithCopyWarning: \n",
      "A value is trying to be set on a copy of a slice from a DataFrame.\n",
      "Try using .loc[row_indexer,col_indexer] = value instead\n",
      "\n",
      "See the caveats in the documentation: https://pandas.pydata.org/pandas-docs/stable/user_guide/indexing.html#returning-a-view-versus-a-copy\n",
      "  \"\"\"Entry point for launching an IPython kernel.\n"
     ]
    }
   ],
   "source": [
    "test_df['predicted_price'] = test_df['accommodates'].apply(predict_price)"
   ]
  },
  {
   "cell_type": "markdown",
   "metadata": {},
   "source": [
    "#### Error Metric\n",
    "\n",
    "Tenemos que cuantificar cómo de precisas fueron nuestras predicciones comparando con nuestros valores reales.\n",
    "\n",
    "Esto se consigue con el **mean absolute error**.\n",
    "\n",
    "$MAE = \\cfrac{1}{n} \\sum_{k=1}^n |(actual_1 - predicted_1)| + |(actual_2 - predicted_2)| + ... + |(actual_n - predicted_n)|$"
   ]
  },
  {
   "cell_type": "code",
   "execution_count": 9,
   "metadata": {},
   "outputs": [
    {
     "name": "stdout",
     "output_type": "stream",
     "text": [
      "56.29001074113876\n"
     ]
    },
    {
     "name": "stderr",
     "output_type": "stream",
     "text": [
      "C:\\Users\\adrig\\anaconda3\\lib\\site-packages\\ipykernel_launcher.py:2: SettingWithCopyWarning: \n",
      "A value is trying to be set on a copy of a slice from a DataFrame.\n",
      "Try using .loc[row_indexer,col_indexer] = value instead\n",
      "\n",
      "See the caveats in the documentation: https://pandas.pydata.org/pandas-docs/stable/user_guide/indexing.html#returning-a-view-versus-a-copy\n",
      "  \n"
     ]
    }
   ],
   "source": [
    "import numpy as np\n",
    "test_df['error'] = np.absolute(test_df['predicted_price'] - test_df['price'])\n",
    "mae = test_df['error'].mean()\n",
    "print(mae)"
   ]
  },
  {
   "cell_type": "markdown",
   "metadata": {},
   "source": [
    "En general queremos penalizar más a los valores que estén más lejos que a los que estén más cerca.\n",
    "\n",
    "Por lo tanto es más útil usar el **mean squared error**.\n",
    "\n",
    "$MSE = \\cfrac{1}{n} \\sum_{k=1}^n (actual_1 - predicted_1)^2 + (actual_2 - predicted_2)^2 + ... + (actual_n - predicted_n)^2$\n"
   ]
  },
  {
   "cell_type": "code",
   "execution_count": 10,
   "metadata": {},
   "outputs": [
    {
     "name": "stdout",
     "output_type": "stream",
     "text": [
      "18646.525370569325\n"
     ]
    },
    {
     "name": "stderr",
     "output_type": "stream",
     "text": [
      "C:\\Users\\adrig\\anaconda3\\lib\\site-packages\\ipykernel_launcher.py:1: SettingWithCopyWarning: \n",
      "A value is trying to be set on a copy of a slice from a DataFrame.\n",
      "Try using .loc[row_indexer,col_indexer] = value instead\n",
      "\n",
      "See the caveats in the documentation: https://pandas.pydata.org/pandas-docs/stable/user_guide/indexing.html#returning-a-view-versus-a-copy\n",
      "  \"\"\"Entry point for launching an IPython kernel.\n"
     ]
    }
   ],
   "source": [
    "test_df['squared_error'] = (test_df['predicted_price'] - test_df['price'])**(2)\n",
    "mse = test_df['squared_error'].mean()\n",
    "print(mse)"
   ]
  },
  {
   "cell_type": "markdown",
   "metadata": {},
   "source": [
    "Esto es un valor en dolares^2. No sabemos si es alto o bajo porque no tenemos con qué compararlo.\n",
    "\n",
    "Podemos hacer una predicción con otra variable y ver cómo se compara. Por ejemplo prediciendo el precio con el número de baños."
   ]
  },
  {
   "cell_type": "code",
   "execution_count": 11,
   "metadata": {},
   "outputs": [
    {
     "name": "stdout",
     "output_type": "stream",
     "text": [
      "18405.444081632548\n"
     ]
    },
    {
     "name": "stderr",
     "output_type": "stream",
     "text": [
      "C:\\Users\\adrig\\anaconda3\\lib\\site-packages\\ipykernel_launcher.py:13: SettingWithCopyWarning: \n",
      "A value is trying to be set on a copy of a slice from a DataFrame.\n",
      "Try using .loc[row_indexer,col_indexer] = value instead\n",
      "\n",
      "See the caveats in the documentation: https://pandas.pydata.org/pandas-docs/stable/user_guide/indexing.html#returning-a-view-versus-a-copy\n",
      "  del sys.path[0]\n",
      "C:\\Users\\adrig\\anaconda3\\lib\\site-packages\\ipykernel_launcher.py:15: SettingWithCopyWarning: \n",
      "A value is trying to be set on a copy of a slice from a DataFrame.\n",
      "Try using .loc[row_indexer,col_indexer] = value instead\n",
      "\n",
      "See the caveats in the documentation: https://pandas.pydata.org/pandas-docs/stable/user_guide/indexing.html#returning-a-view-versus-a-copy\n",
      "  from ipykernel import kernelapp as app\n"
     ]
    }
   ],
   "source": [
    "train_df = dc_listings.iloc[0:2792]\n",
    "test_df = dc_listings.iloc[2792:]\n",
    "\n",
    "def predict_price(new_listing):\n",
    "    temp_df = train_df.copy()\n",
    "    temp_df['distance'] = temp_df['bathrooms'].apply(lambda x: np.abs(x - new_listing))\n",
    "    temp_df = temp_df.sort_values('distance')\n",
    "    nearest_neighbors_prices = temp_df.iloc[0:5]['price']\n",
    "    predicted_price = nearest_neighbors_prices.mean()\n",
    "    return(predicted_price)\n",
    "\n",
    "\n",
    "test_df['predicted_price'] = test_df['bathrooms'].apply(predict_price)\n",
    "\n",
    "test_df['squared_error'] = (test_df['price'] - test_df['predicted_price'])**2\n",
    "\n",
    "mse = test_df['squared_error'].mean()\n",
    "\n",
    "print(mse)"
   ]
  },
  {
   "cell_type": "markdown",
   "metadata": {},
   "source": [
    "Una manera más intuitiva de saber la desviación de la predicción es hacer la rais de MSE -> RMSE, ya que el resultado será en las unidades de la variable que estamos prediciendo.\n",
    "\n",
    "$RMSE = \\sqrt{MSE}$\n"
   ]
  },
  {
   "cell_type": "code",
   "execution_count": 12,
   "metadata": {},
   "outputs": [
    {
     "name": "stdout",
     "output_type": "stream",
     "text": [
      "135.6666653295221\n"
     ]
    }
   ],
   "source": [
    "rmse = np.sqrt(mse)\n",
    "print(rmse)"
   ]
  },
  {
   "cell_type": "markdown",
   "metadata": {},
   "source": [
    "Estamos haciendo una predicción que está a una distancia 135.6 dolares de la real de media.\n",
    "\n",
    "Para unos alojamientos de pocos cientos de dolares habría que reducir este error mucho para que sea útil.\n",
    "\n",
    "Hemos visto diferentes métricas de error. Para entender mejor la efectividad de un modelo podemos comparar distintas métricas.\n",
    "\n",
    "Para el MAE, las diferencias entre predicciones y reales crecen linearlmente.\n",
    "\n",
    "Para el RMSE, cada error se eleva al cuadrado antes de la raiz de la suma. Cada error individual crece cuadráticamente y tiene distinto efecto en el RMSE.\n",
    "\n",
    "Un ejemplo:"
   ]
  },
  {
   "cell_type": "code",
   "execution_count": 13,
   "metadata": {},
   "outputs": [
    {
     "name": "stdout",
     "output_type": "stream",
     "text": [
      "mae_one: 7.5\n",
      "rmse_one: 7.905694150420948\n",
      "mae_two: 62.5\n",
      "rmse_two: 235.82302686548658\n"
     ]
    }
   ],
   "source": [
    "errors_one = pd.Series([5, 10, 5, 10, 5, 10, 5, 10, 5, 10, 5, 10, 5, 10, 5, 10, 5, 10])\n",
    "errors_two = pd.Series([5, 10, 5, 10, 5, 10, 5, 10, 5, 10, 5, 10, 5, 10, 5, 10, 5, 1000])\n",
    "\n",
    "mae_one = errors_one.mean()\n",
    "\n",
    "rmse_one = np.sqrt((errors_one**2).mean())\n",
    "\n",
    "mae_two = errors_two.mean()\n",
    "\n",
    "rmse_two = np.sqrt((errors_two**2).mean())\n",
    "\n",
    "\n",
    "print(\"mae_one: {}\".format(mae_one))\n",
    "print(\"rmse_one: {}\".format(rmse_one))\n",
    "print(\"mae_two: {}\".format(mae_two ))\n",
    "print(\"rmse_two: {}\".format(rmse_two ))"
   ]
  },
  {
   "cell_type": "markdown",
   "metadata": {},
   "source": [
    "El MAE ha tenido un ratio 1:1 aprox, mientras que el RMSE casi de 1:4.\n",
    "\n",
    "Se espera que el MAE sea más pequeño.\n",
    "\n",
    "La única diferencia entre los dos datasets es la presencia del 1000, que sería como un outlier.\n",
    "\n",
    "Cuando hay mucha diferencia entre RMSE y MAE podemos entender que hay errores (outliers) muy grandes pero infrecuentes.\n",
    "\n",
    "Cuando un error grande es muy indeseable es mucho mejor usar RMSE.\n",
    "\n",
    "[Este post lo explica con más detalle](https://medium.com/human-in-a-machine-world/mae-and-rmse-which-metric-is-better-e60ac3bde13d#.lyc8od1ix).\n",
    "\n",
    "Cuanto más grande el test set más tiende a crecer el RMSE, por lo que es difícil comparar el resultado que dan modelos en tests samples de distintos tamaños.\n"
   ]
  },
  {
   "cell_type": "markdown",
   "metadata": {},
   "source": [
    "### Multivariate K-Nearest Neighbors"
   ]
  },
  {
   "cell_type": "markdown",
   "metadata": {},
   "source": [
    "Anteriormente hemos visto cómo predecir con modelos univariantes. Sin embargo, usar una única característica en general no refleja la bien de lo que queremos predecir en el mundo real.\n",
    "\n",
    "Hay dos manera de modificar el modelo para mejorar el RMSE:\n",
    "\n",
    "- Aumentar el número de atributos para calcular similaridad.\n",
    "\n",
    "- Aumentar en número de vecinos (k)\n",
    "\n",
    "Vamos a centrarnos en aumentar los atributos.\n",
    "\n",
    "Estos atributos se usan para medir la distancia euclídea, por lo que funcionarán bien valores numéricos y ordinales.\n",
    "\n",
    "Habrá que filtrar:\n",
    "\n",
    "- No numéricos\n",
    "\n",
    "- Valores perdidos\n",
    "\n",
    "- Valores no ordinales (latitud, longitud, zip code)\n",
    "\n",
    "Para lat y long podríamos calcular la distancia con las ecuaciones de haversine, pero no lo vamos a hacer.\n",
    "\n"
   ]
  },
  {
   "cell_type": "code",
   "execution_count": 14,
   "metadata": {},
   "outputs": [
    {
     "name": "stdout",
     "output_type": "stream",
     "text": [
      "<class 'pandas.core.frame.DataFrame'>\n",
      "Int64Index: 3723 entries, 574 to 1061\n",
      "Data columns (total 19 columns):\n",
      " #   Column                Non-Null Count  Dtype  \n",
      "---  ------                --------------  -----  \n",
      " 0   host_response_rate    3289 non-null   object \n",
      " 1   host_acceptance_rate  3109 non-null   object \n",
      " 2   host_listings_count   3723 non-null   int64  \n",
      " 3   accommodates          3723 non-null   int64  \n",
      " 4   room_type             3723 non-null   object \n",
      " 5   bedrooms              3702 non-null   float64\n",
      " 6   bathrooms             3696 non-null   float64\n",
      " 7   beds                  3712 non-null   float64\n",
      " 8   price                 3723 non-null   float64\n",
      " 9   cleaning_fee          2335 non-null   object \n",
      " 10  security_deposit      1426 non-null   object \n",
      " 11  minimum_nights        3723 non-null   int64  \n",
      " 12  maximum_nights        3723 non-null   int64  \n",
      " 13  number_of_reviews     3723 non-null   int64  \n",
      " 14  latitude              3723 non-null   float64\n",
      " 15  longitude             3723 non-null   float64\n",
      " 16  city                  3723 non-null   object \n",
      " 17  zipcode               3714 non-null   object \n",
      " 18  state                 3723 non-null   object \n",
      "dtypes: float64(6), int64(5), object(8)\n",
      "memory usage: 581.7+ KB\n"
     ]
    }
   ],
   "source": [
    "import pandas as pd\n",
    "import numpy as np\n",
    "np.random.seed(1)\n",
    "\n",
    "dc_listings = pd.read_csv('dc_airbnb.csv')\n",
    "dc_listings = dc_listings.loc[np.random.permutation(len(dc_listings))]\n",
    "stripped_commas = dc_listings['price'].str.replace(',', '')\n",
    "stripped_dollars = stripped_commas.str.replace('$', '')\n",
    "dc_listings['price'] = stripped_dollars.astype('float')\n",
    "\n",
    "\n",
    "dc_listings.info()"
   ]
  },
  {
   "cell_type": "markdown",
   "metadata": {},
   "source": [
    "Quitamos las columnas no ordinales, no numéricas y las que no describen una característica propia del alojamiento."
   ]
  },
  {
   "cell_type": "code",
   "execution_count": 15,
   "metadata": {},
   "outputs": [
    {
     "name": "stdout",
     "output_type": "stream",
     "text": [
      "accommodates            0\n",
      "bedrooms               21\n",
      "bathrooms              27\n",
      "beds                   11\n",
      "price                   0\n",
      "cleaning_fee         1388\n",
      "security_deposit     2297\n",
      "minimum_nights          0\n",
      "maximum_nights          0\n",
      "number_of_reviews       0\n",
      "dtype: int64\n"
     ]
    }
   ],
   "source": [
    "columns_drop = ['room_type', 'city', 'state', 'latitude', 'longitude', 'zipcode', 'host_response_rate', 'host_acceptance_rate', 'host_listings_count']\n",
    "\n",
    "dc_listings.drop(columns_drop, axis = 1, inplace = True)\n",
    "\n",
    "print(dc_listings.isnull().sum())"
   ]
  },
  {
   "cell_type": "markdown",
   "metadata": {},
   "source": [
    "Las columnas bedrooms, bathrooms y beds tienen un % muy pequeño de nulls, por lo que podemos eliminar las filas con null sin problemas.\n",
    "\n",
    "\n",
    "Las columnas cloaning_fee y security_deposit tienen muchos nulls, por lo que lo mejor es eliminar esas columnas"
   ]
  },
  {
   "cell_type": "code",
   "execution_count": 16,
   "metadata": {},
   "outputs": [
    {
     "name": "stdout",
     "output_type": "stream",
     "text": [
      "accommodates         0\n",
      "bedrooms             0\n",
      "bathrooms            0\n",
      "beds                 0\n",
      "price                0\n",
      "minimum_nights       0\n",
      "maximum_nights       0\n",
      "number_of_reviews    0\n",
      "dtype: int64\n"
     ]
    }
   ],
   "source": [
    "dc_listings.drop(['cleaning_fee', 'security_deposit'], axis = 1, inplace = True)\n",
    "\n",
    "dc_listings.dropna(axis = 0, inplace = True)\n",
    "\n",
    "\n",
    "print(dc_listings.isnull().sum())"
   ]
  },
  {
   "cell_type": "markdown",
   "metadata": {},
   "source": [
    "#### Normalización de las columnas de features\n",
    "\n",
    "Ahora surge un problema, ya que los valores que pueden alcanzarse en cada una de las columnas es muy diferente. Debido a esto, el peso que puede tener cada una en el error varía mucho.\n",
    "\n",
    "| accommodates | bedrooms | bathrooms | beds | price | minimum_nights | maximum_nights | number_of_reviews |\n",
    "|--------------|----------|-----------|------|-------|----------------|----------------|-------------------|\n",
    "| 2            | 1.0      | 1.0       | 1.0  | 125.0 | 1              | 4              | 149               |\n",
    "| 2            | 1.0      | 1.5       | 1.0  | 85.0  | 1              | 30             | 49                |\n",
    "| 1            | 1.0      | 0.5       | 1.0  | 50.0  | 1              | 1125           | 1                 |\n",
    "| 2            | 1.0      | 1.0       | 1.0  | 209.0 | 4              | 730            | 2                 |\n",
    "| 12           | 5.0      | 2.0       | 5.0  | 215.0 | 2              | 1825           | 34                |\n",
    "\n",
    "\n",
    "Esto se puede solucionar mediante la normalización de cada columna (z-score).\n",
    "\n",
    "$x = \\cfrac{x - \\mu}{\\sigma}$\n",
    "\n",
    "\n",
    "De esta manera todas las features serán distribuciones de media 0 y desviación típica 1.\n",
    "\n",
    "El precio no es una feature."
   ]
  },
  {
   "cell_type": "code",
   "execution_count": 17,
   "metadata": {},
   "outputs": [
    {
     "data": {
      "text/html": [
       "<div>\n",
       "<style scoped>\n",
       "    .dataframe tbody tr th:only-of-type {\n",
       "        vertical-align: middle;\n",
       "    }\n",
       "\n",
       "    .dataframe tbody tr th {\n",
       "        vertical-align: top;\n",
       "    }\n",
       "\n",
       "    .dataframe thead th {\n",
       "        text-align: right;\n",
       "    }\n",
       "</style>\n",
       "<table border=\"1\" class=\"dataframe\">\n",
       "  <thead>\n",
       "    <tr style=\"text-align: right;\">\n",
       "      <th></th>\n",
       "      <th>accommodates</th>\n",
       "      <th>bedrooms</th>\n",
       "      <th>bathrooms</th>\n",
       "      <th>beds</th>\n",
       "      <th>price</th>\n",
       "      <th>minimum_nights</th>\n",
       "      <th>maximum_nights</th>\n",
       "      <th>number_of_reviews</th>\n",
       "    </tr>\n",
       "  </thead>\n",
       "  <tbody>\n",
       "    <tr>\n",
       "      <th>574</th>\n",
       "      <td>-0.596544</td>\n",
       "      <td>-0.249467</td>\n",
       "      <td>-0.439151</td>\n",
       "      <td>-0.546858</td>\n",
       "      <td>125.0</td>\n",
       "      <td>-0.341375</td>\n",
       "      <td>-0.016604</td>\n",
       "      <td>4.579650</td>\n",
       "    </tr>\n",
       "    <tr>\n",
       "      <th>1593</th>\n",
       "      <td>-0.596544</td>\n",
       "      <td>-0.249467</td>\n",
       "      <td>0.412923</td>\n",
       "      <td>-0.546858</td>\n",
       "      <td>85.0</td>\n",
       "      <td>-0.341375</td>\n",
       "      <td>-0.016603</td>\n",
       "      <td>1.159275</td>\n",
       "    </tr>\n",
       "    <tr>\n",
       "      <th>3091</th>\n",
       "      <td>-1.095499</td>\n",
       "      <td>-0.249467</td>\n",
       "      <td>-1.291226</td>\n",
       "      <td>-0.546858</td>\n",
       "      <td>50.0</td>\n",
       "      <td>-0.341375</td>\n",
       "      <td>-0.016573</td>\n",
       "      <td>-0.482505</td>\n",
       "    </tr>\n",
       "  </tbody>\n",
       "</table>\n",
       "</div>"
      ],
      "text/plain": [
       "      accommodates  bedrooms  bathrooms      beds  price  minimum_nights  \\\n",
       "574      -0.596544 -0.249467  -0.439151 -0.546858  125.0       -0.341375   \n",
       "1593     -0.596544 -0.249467   0.412923 -0.546858   85.0       -0.341375   \n",
       "3091     -1.095499 -0.249467  -1.291226 -0.546858   50.0       -0.341375   \n",
       "\n",
       "      maximum_nights  number_of_reviews  \n",
       "574        -0.016604           4.579650  \n",
       "1593       -0.016603           1.159275  \n",
       "3091       -0.016573          -0.482505  "
      ]
     },
     "execution_count": 17,
     "metadata": {},
     "output_type": "execute_result"
    }
   ],
   "source": [
    "normalized_listings = (dc_listings - dc_listings.mean()) / dc_listings.std()\n",
    "\n",
    "normalized_listings['price'] = dc_listings['price']\n",
    "\n",
    "normalized_listings.head(3)"
   ]
  },
  {
   "cell_type": "markdown",
   "metadata": {},
   "source": [
    "#### Distancia en multivariable\n",
    "\n",
    "Se calcula con la distancia euclídea\n",
    "\n",
    "$d = \\sqrt{(q_1 - p_1)^2 + (q_2 - p_2)^2 + ... (q_n - p_n)^2}$\n",
    "\n",
    "Tenemos una funcion de scipy.spatial() que tiene 2 vecotres como parámetros y calcula la distancia euclídea.\n",
    "\n",
    "- Los vectores deben ser en forma de lista (python list, numpy array, pandas series)\n",
    "- Los vectores tienen que ser unidimensionales\n",
    "\n"
   ]
  },
  {
   "cell_type": "code",
   "execution_count": 18,
   "metadata": {},
   "outputs": [
    {
     "name": "stdout",
     "output_type": "stream",
     "text": [
      "5.272543124668404\n"
     ]
    }
   ],
   "source": [
    "from scipy.spatial import distance\n",
    "\n",
    "first_fifth_distance = distance.euclidean(normalized_listings[['accommodates','bathrooms']].iloc[0], normalized_listings[['accommodates','bathrooms']].iloc[4])\n",
    "\n",
    "print(first_fifth_distance)"
   ]
  },
  {
   "cell_type": "markdown",
   "metadata": {},
   "source": [
    "#### Scikit-Learn Library\n",
    "\n",
    "Se puede ser más productivoe iterar más rápido utilizando esta libreríade Python. Contiene funciones todos los algoritmos más importantes en Machine Learning y un workflow simple y unificado.\n",
    "\n",
    "Workflow de scikit-learn:\n",
    "\n",
    "- Instanciar el modelo específico de Machine Learning deseado\n",
    "\n",
    "- Ajustar/fit el modelo a los datos de entrenamiento\n",
    "\n",
    "- Hacer predicciones con el modelo\n",
    "\n",
    "- Evaluar la precisión de las predicciones\n",
    "\n",
    "En el caso de K-Nearest Neighbors usaríamos la clase [KNeighborsRegressor](https://scikit-learn.org/stable/modules/generated/sklearn.neighbors.KNeighborsRegressor.html#sklearn.neighbors.KNeighborsRegressor)\n",
    "\n",
    "\n",
    "Cualquier modelo prediga valores numéricos se conoce como un modelo de **regresión**.\n",
    "\n",
    "Si nuestro modelo predice una etiqueta o label se considera un modelo de **clasificación**.\n",
    "\n",
    "\n",
    "Scikit-Learn es similar a Matplotlib en tanto que necesitas instanciar un modelo vacío llamando al contructor.\n",
    "\n",
    "\n",
    "````\n",
    "from sklearn.neighbors import KNeighborsRegressor\n",
    "knn = KNeighborsRegressor()\n",
    "\n",
    "````\n",
    "\n",
    "Por defecto:\n",
    "\n",
    "\n",
    "- n_neighbors: the number of neighbors, is set to 5\n",
    "- algorithm: for computing nearest neighbors, is set to auto\n",
    "- p: set to 2, corresponding to Euclidean distance\n",
    "\n",
    "Si dejamos algorithm en auto hace tree-based optimizations, que aún no vamos a ver. Por lo que ponemos brute\n",
    "\n",
    "````\n",
    "knn = KNeighborsRegressor(algorithm='brute')\n",
    "````\n",
    "\n",
    "\n"
   ]
  },
  {
   "cell_type": "markdown",
   "metadata": {},
   "source": [
    "#### Entrenando y prediciendo con nuestro dataset\n",
    "\n",
    "Ahora podemos hacer fit con un modelo y nuestros datos.\n",
    "\n",
    "Para todos los modelos necesitamos:\n",
    "\n",
    "- Un objeto matrix que contenga las feature columns para el training set (accomodates y bathrooms, p ej) (Un dataframe o un NUmPy 2D array).\n",
    "\n",
    "- Un objeto tipo lista que contenga los valores objetivo correctos (el precio p ej) (np array, python list, pd series)\n",
    "\n",
    "Cuando se llama al método fit(), scikit-learn guarda los datos de training en la instancia creada de KNearestNeighbors. (Missing values o no numéricos dará error)\n",
    "\n",
    "Para hacer las predicciones tenemos que dar las feature columns del test set . El número de columnas ha de ser el mismo que en training para que no de error. Se utiliza el método predict().\n",
    "\n"
   ]
  },
  {
   "cell_type": "code",
   "execution_count": 19,
   "metadata": {},
   "outputs": [],
   "source": [
    "from sklearn.neighbors import KNeighborsRegressor\n",
    "\n",
    "train_df = normalized_listings.iloc[0:2792]\n",
    "test_df = normalized_listings.iloc[2792:]\n",
    "\n",
    "\n",
    "knn = KNeighborsRegressor(algorithm='brute')\n",
    "\n",
    "knn.fit(train_df[['accommodates','bathrooms']], train_df['price'])\n",
    "\n",
    "predictions = knn.predict(test_df[['accommodates','bathrooms']])"
   ]
  },
  {
   "cell_type": "markdown",
   "metadata": {},
   "source": [
    "#### Cálculo del error\n",
    "\n",
    "\n",
    "Podemos usar otro método de scikit-learn que es sklearn.metrics.mean_squared_error function() para clacular el MSE de dos vectores (list like object)"
   ]
  },
  {
   "cell_type": "code",
   "execution_count": 20,
   "metadata": {},
   "outputs": [
    {
     "name": "stdout",
     "output_type": "stream",
     "text": [
      "MSE:  15660.39795221843\n",
      "RMSE:  125.14151170662127\n"
     ]
    }
   ],
   "source": [
    "from sklearn.metrics import mean_squared_error\n",
    "\n",
    "\n",
    "two_features_mse = mean_squared_error(test_df['price'], predictions)\n",
    "\n",
    "two_features_rmse = np.sqrt(two_features_mse)\n",
    "\n",
    "print(\"MSE: \", two_features_mse)\n",
    "print(\"RMSE: \", two_features_rmse)"
   ]
  },
  {
   "cell_type": "markdown",
   "metadata": {},
   "source": [
    "Aquí hay una tabla comparando MSE y RMSE del multivariante y de los univariantes\n",
    "\n",
    "| feature(s)              | MSE     | RMSE  |\n",
    "|-------------------------|---------|-------|\n",
    "| accommodates            | 18646.5 | 136.6 |\n",
    "| bathrooms               | 17333.4 | 131.7 |\n",
    "| accommodates, bathrooms | 15660.4 | 125.1 |\n",
    "\n",
    "Vemos que ha mejorado el error al añadir más features.\n",
    "\n",
    "Ahora probamos con más features"
   ]
  },
  {
   "cell_type": "code",
   "execution_count": 21,
   "metadata": {},
   "outputs": [
    {
     "name": "stdout",
     "output_type": "stream",
     "text": [
      "MSE:  13320.230625711036\n",
      "RMSE:  115.41330350402\n"
     ]
    }
   ],
   "source": [
    "features = ['accommodates', 'bedrooms', 'bathrooms', 'number_of_reviews']\n",
    "\n",
    "from sklearn.neighbors import KNeighborsRegressor\n",
    "from sklearn.metrics import mean_squared_error\n",
    "\n",
    "knn = KNeighborsRegressor(n_neighbors=5, algorithm='brute')\n",
    "\n",
    "knn.fit(train_df[features], train_df['price'])\n",
    "\n",
    "four_predictions = knn.predict(test_df[features])\n",
    "\n",
    "four_mse = mean_squared_error(test_df['price'], four_predictions)\n",
    "\n",
    "four_rmse = np.sqrt(four_mse)\n",
    "\n",
    "print(\"MSE: \", four_mse)\n",
    "print(\"RMSE: \", four_rmse)"
   ]
  },
  {
   "cell_type": "markdown",
   "metadata": {},
   "source": [
    "Y si ahora utilizamos todas las features:"
   ]
  },
  {
   "cell_type": "code",
   "execution_count": 22,
   "metadata": {},
   "outputs": [
    {
     "name": "stdout",
     "output_type": "stream",
     "text": [
      "MSE:  15455.275631399316\n",
      "RMSE:  124.31924883701363\n"
     ]
    }
   ],
   "source": [
    "features = train_df.columns.tolist()\n",
    "features.remove('price')\n",
    "\n",
    "from sklearn.neighbors import KNeighborsRegressor\n",
    "from sklearn.metrics import mean_squared_error\n",
    "\n",
    "knn = KNeighborsRegressor(n_neighbors=5, algorithm='brute')\n",
    "\n",
    "knn.fit(train_df[features], train_df['price'])\n",
    "\n",
    "all_features_predictions = knn.predict(test_df[features])\n",
    "\n",
    "all_features_mse  = mean_squared_error(test_df['price'], all_features_predictions)\n",
    "\n",
    "all_features_rmse  = np.sqrt(all_features_mse)\n",
    "\n",
    "print(\"MSE: \", all_features_mse)\n",
    "print(\"RMSE: \", all_features_rmse )"
   ]
  },
  {
   "cell_type": "markdown",
   "metadata": {},
   "source": [
    "#### Nota importante \n",
    "Por lo que podemos ver, aumentar el número de features no mejora necesariamente la predicción.\n",
    "\n",
    "Hayq ue seleccionar los atributos relevantes para calcular similaridad. Esto es un proceso llamado **feature selection**."
   ]
  },
  {
   "cell_type": "markdown",
   "metadata": {},
   "source": [
    "### Hyperparameter Optimization\n",
    "\n",
    "En esta lección nos vamos acentrar en la variación del valor de número de vecinos k.\n",
    "\n"
   ]
  },
  {
   "cell_type": "code",
   "execution_count": 23,
   "metadata": {},
   "outputs": [],
   "source": [
    "import pandas as pd\n",
    "\n",
    "train_df = pd.read_csv('dc_airbnb_train.csv')\n",
    "\n",
    "\n",
    "test_df = pd.read_csv('dc_airbnb_test.csv')"
   ]
  },
  {
   "cell_type": "markdown",
   "metadata": {},
   "source": [
    "Un forma común de hacer optimización de hiperparámetros es la técnica de **grid search**:\n",
    "\n",
    "- Seleccionar subconjunto de posibles hiperparam\n",
    "\n",
    "- Entrenar modelo usando estos vaalores\n",
    "\n",
    "- Evaluar el desempeño de cada modelo\n",
    "\n",
    "- Seleccionar el hiperparam que tenga menor error\n",
    "\n",
    "Puede tardar mucho tiempo si el dataset es muy grande.\n",
    "\n",
    "Vemos qué ocurre con k [1,5]\n"
   ]
  },
  {
   "cell_type": "code",
   "execution_count": 24,
   "metadata": {},
   "outputs": [
    {
     "name": "stdout",
     "output_type": "stream",
     "text": [
      "[26364.92832764505, 15100.52246871445, 14579.597901655923, 16212.300767918088, 14090.011649601822]\n"
     ]
    }
   ],
   "source": [
    "from sklearn.neighbors import KNeighborsRegressor\n",
    "from sklearn.metrics import mean_squared_error\n",
    "\n",
    "hyper_params = [i for i in range(1,6)]\n",
    "\n",
    "mse_values = []\n",
    "\n",
    "features = ['accommodates','bedrooms','bathrooms','number_of_reviews']\n",
    "\n",
    "for k in hyper_params:\n",
    "    knn = KNeighborsRegressor(n_neighbors = k, algorithm = 'brute')\n",
    "    \n",
    "    knn.fit(train_df[features], train_df['price'])\n",
    "    \n",
    "    predictions = knn.predict(test_df[features])\n",
    "    \n",
    "    mse_values.append(mean_squared_error(test_df['price'], predictions))\n",
    "    \n",
    "    \n",
    "    \n",
    "print(mse_values)\n"
   ]
  },
  {
   "cell_type": "markdown",
   "metadata": {},
   "source": [
    "Proba,mmos ahora hasta k = 20"
   ]
  },
  {
   "cell_type": "code",
   "execution_count": 25,
   "metadata": {},
   "outputs": [
    {
     "name": "stdout",
     "output_type": "stream",
     "text": [
      "[26364.92832764505, 15100.52246871445, 14579.597901655923, 16212.300767918088, 14090.011649601822, 13657.45250284414, 14288.273896589353, 14853.448183304892, 14670.831907751512, 14642.451478953355, 14734.071380889252, 14854.802332195677, 14733.16190399257, 14777.975894453346, 14771.171543420554, 14870.178509847838, 14830.55072806075, 14782.595763283192, 14773.558705907935, 14676.544189419797]\n"
     ]
    }
   ],
   "source": [
    "\n",
    "hyper_params = [i for i in range(1,21)]\n",
    "\n",
    "mse_values = []\n",
    "\n",
    "features = ['accommodates','bedrooms','bathrooms','number_of_reviews']\n",
    "\n",
    "for k in hyper_params:\n",
    "    knn = KNeighborsRegressor(n_neighbors = k, algorithm = 'brute')\n",
    "    \n",
    "    knn.fit(train_df[features], train_df['price'])\n",
    "    \n",
    "    predictions = knn.predict(test_df[features])\n",
    "    \n",
    "    mse_values.append(mean_squared_error(test_df['price'], predictions))\n",
    "    \n",
    "    \n",
    "    \n",
    "print(mse_values)"
   ]
  },
  {
   "cell_type": "code",
   "execution_count": 26,
   "metadata": {},
   "outputs": [
    {
     "data": {
      "text/plain": [
       "<matplotlib.collections.PathCollection at 0x1d182e5c808>"
      ]
     },
     "execution_count": 26,
     "metadata": {},
     "output_type": "execute_result"
    },
    {
     "data": {
      "image/png": "[encoded data removed]",
      "text/plain": [
       "<Figure size 432x288 with 1 Axes>"
      ]
     },
     "metadata": {
      "needs_background": "light"
     },
     "output_type": "display_data"
    }
   ],
   "source": [
    "import matplotlib.pyplot as plt\n",
    "plt.scatter(hyper_params, mse_values)"
   ]
  },
  {
   "cell_type": "markdown",
   "metadata": {},
   "source": [
    "En un principio decrece para luego volver a crecer. Esto es muy típico.\n",
    "\n",
    "El menor valor corresponde a 6.\n",
    "\n",
    "Ahora podemos probar a hacer lo mismo con la lista entera de features a ver qué diferencia hay."
   ]
  },
  {
   "cell_type": "code",
   "execution_count": 27,
   "metadata": {},
   "outputs": [
    {
     "name": "stdout",
     "output_type": "stream",
     "text": [
      "[23303.759954493744, 14917.940273037542, 15006.17772721527, 15449.652801478953, 15291.714448236631, 15477.23381999747, 14962.337558914352, 15127.307824943116, 15088.43767468644, 14827.991319681452, 14711.46334583815, 14804.073702755657, 14877.339789028683, 14972.467100833506, 14961.879393249905, 15071.084271011092, 15096.083824415131, 15256.588224553716, 15216.990416583942, 15211.60953924915]\n"
     ]
    },
    {
     "data": {
      "text/plain": [
       "<matplotlib.collections.PathCollection at 0x1d182e86308>"
      ]
     },
     "execution_count": 27,
     "metadata": {},
     "output_type": "execute_result"
    },
    {
     "data": {
      "image/png": "[encoded data removed]",
      "text/plain": [
       "<Figure size 432x288 with 1 Axes>"
      ]
     },
     "metadata": {
      "needs_background": "light"
     },
     "output_type": "display_data"
    }
   ],
   "source": [
    "hyper_params = [x for x in range(1,21)]\n",
    "mse_values = list()\n",
    "\n",
    "features = train_df.columns.tolist()\n",
    "features.remove('price')\n",
    "\n",
    "for k in hyper_params:\n",
    "    knn = KNeighborsRegressor(n_neighbors = k, algorithm = 'brute')\n",
    "    \n",
    "    knn.fit(train_df[features], train_df['price'])\n",
    "    \n",
    "    predictions = knn.predict(test_df[features])\n",
    "    \n",
    "    mse_values.append(mean_squared_error(test_df['price'], predictions))\n",
    "    \n",
    "    \n",
    "    \n",
    "print(mse_values)\n",
    "\n",
    "plt.scatter(hyper_params, mse_values)"
   ]
  },
  {
   "cell_type": "markdown",
   "metadata": {},
   "source": [
    "Vemos que el workflow general es :\n",
    "- Seleccionar features relevantes para el target.\n",
    "\n",
    "- Usar grid search para encontrar el hiperparam óptimo\n",
    "\n",
    "- Evaluar precisión y repetir\n",
    "\n",
    "Vamos a estudar el comportamiento con 2 features y 3 features"
   ]
  },
  {
   "cell_type": "code",
   "execution_count": 28,
   "metadata": {},
   "outputs": [
    {
     "name": "stdout",
     "output_type": "stream",
     "text": [
      "{5: 14790.314266211606}\n",
      "{5: 13522.893333333333}\n"
     ]
    }
   ],
   "source": [
    "two_features = ['accommodates', 'bathrooms']\n",
    "three_features = ['accommodates', 'bathrooms', 'bedrooms']\n",
    "hyper_params = [x for x in range(1,21)]\n",
    "# Append the first model's MSE values to this list.\n",
    "two_mse_values = list()\n",
    "# Append the second model's MSE values to this list.\n",
    "three_mse_values = list()\n",
    "two_hyp_mse = dict()\n",
    "three_hyp_mse = dict()\n",
    "\n",
    "temp_dict = {}\n",
    "\n",
    "for k in hyper_params:\n",
    "    \n",
    "    knn = KNeighborsRegressor(n_neighbors = k, algorithm = 'brute')\n",
    "    \n",
    "    knn.fit(train_df[two_features], train_df['price'])\n",
    "    \n",
    "    predictions = knn.predict(test_df[two_features])\n",
    "    \n",
    "    mse = mean_squared_error(test_df['price'], predictions)\n",
    "    two_mse_values.append(mse)\n",
    "    \n",
    "    temp_dict[k] = mse\n",
    "    \n",
    "\n",
    "two_hyp_mse = {min(temp_dict, key=temp_dict.get) : temp_dict[min(temp_dict, key=temp_dict.get)]}\n",
    "\n",
    "\n",
    "\n",
    "temp_dict_3 = {}\n",
    "\n",
    "for k in hyper_params:\n",
    "    \n",
    "    knn = KNeighborsRegressor(n_neighbors = k, algorithm = 'brute')\n",
    "    \n",
    "    knn.fit(train_df[three_features], train_df['price'])\n",
    "    \n",
    "    predictions = knn.predict(test_df[three_features])\n",
    "    \n",
    "    mse = mean_squared_error(test_df['price'], predictions)\n",
    "    three_mse_values.append(mse)\n",
    "    \n",
    "    temp_dict_3[k] = mse\n",
    "    \n",
    "\n",
    "three_hyp_mse = {min(temp_dict_3, key=temp_dict_3.get) : temp_dict_3[min(temp_dict_3, key=temp_dict_3.get)]}\n",
    "\n",
    "print(two_hyp_mse)\n",
    "print(three_hyp_mse)\n"
   ]
  },
  {
   "cell_type": "markdown",
   "metadata": {},
   "source": [
    "Vemos que mejora respecto a usar 4 features y es mejor que usar una sola. Lo mejor parece ser utilizar varias features pero sin necesidad de usar todas."
   ]
  },
  {
   "cell_type": "markdown",
   "metadata": {},
   "source": [
    "### Cross Validation"
   ]
  },
  {
   "cell_type": "markdown",
   "metadata": {},
   "source": [
    "Anteriormente hemos visto train/test validation para medir la precisión de un modelo.\n",
    "\n",
    "Vamos a ver otras técnicas robustas de validación.\n",
    "\n",
    "#### Holdout Validation\n",
    "\n",
    "- Dividimos el data set en 2 sets a 50%.\n",
    "- Usamos un set como training y otro como test, computamos error\n",
    "- Cambiamos el rol de los sets, computamos error\n",
    "- Hacmos promedio de los dos\n",
    "\n",
    "De esta manera se elimina el número de obsrvaciones como posible fuente de variación en el rendimiento del modelo."
   ]
  },
  {
   "cell_type": "code",
   "execution_count": 29,
   "metadata": {},
   "outputs": [],
   "source": [
    "import numpy as np\n",
    "import pandas as pd\n",
    "\n",
    "dc_listings = pd.read_csv(\"dc_airbnb.csv\")\n",
    "stripped_commas = dc_listings['price'].str.replace(',', '')\n",
    "stripped_dollars = stripped_commas.str.replace('$', '')\n",
    "dc_listings['price'] = stripped_dollars.astype('float')\n",
    "shuffled_index = np.random.permutation(dc_listings.index)\n",
    "dc_listings = dc_listings.reindex(shuffled_index)\n",
    "\n",
    "split_one = dc_listings.iloc[0:1862].copy()\n",
    "split_two = dc_listings.iloc[1862:].copy()"
   ]
  },
  {
   "cell_type": "code",
   "execution_count": null,
   "metadata": {},
   "outputs": [],
   "source": []
  },
  {
   "cell_type": "markdown",
   "metadata": {},
   "source": [
    "Hacemos entrenamiento y testeo con los dos sets"
   ]
  },
  {
   "cell_type": "code",
   "execution_count": 30,
   "metadata": {},
   "outputs": [
    {
     "name": "stdout",
     "output_type": "stream",
     "text": [
      "131.6207283081407 128.77209995637674 130.19641413225872\n"
     ]
    }
   ],
   "source": [
    "from sklearn.neighbors import KNeighborsRegressor\n",
    "from sklearn.metrics import mean_squared_error\n",
    "\n",
    "train_one = split_one\n",
    "test_one = split_two\n",
    "train_two = split_two\n",
    "test_two = split_one\n",
    "# First half\n",
    "model = KNeighborsRegressor()\n",
    "model.fit(train_one[[\"accommodates\"]], train_one[\"price\"])\n",
    "test_one[\"predicted_price\"] = model.predict(test_one[[\"accommodates\"]])\n",
    "iteration_one_rmse = mean_squared_error(test_one[\"price\"], test_one[\"predicted_price\"])**(1/2)\n",
    "\n",
    "# Second half\n",
    "model.fit(train_two[[\"accommodates\"]], train_two[\"price\"])\n",
    "test_two[\"predicted_price\"] = model.predict(test_two[[\"accommodates\"]])\n",
    "iteration_two_rmse = mean_squared_error(test_two[\"price\"], test_two[\"predicted_price\"])**(1/2)\n",
    "\n",
    "avg_rmse = np.mean([iteration_two_rmse, iteration_one_rmse])\n",
    "\n",
    "print(iteration_one_rmse, iteration_two_rmse, avg_rmse)"
   ]
  },
  {
   "cell_type": "markdown",
   "metadata": {},
   "source": [
    "#### K-fold Cross-Validation\n",
    "\n",
    "En realidad el holdout validation es un caso específico del k-fold cross-validation cuando k es 2.\n",
    "\n",
    "Este usa una parte más grande de los datos para el training y va rotando entre diferentes subsets. Así se evitan ciertos problemas del train/test validation simple.\n",
    "\n",
    "![title](imagenes/k-fold-cv.PNG)\n",
    "\n",
    "Según aumente el número de divisiones, aumentará la varianza del error obtenido entre folds.\n",
    "\n",
    "Dividimos el dataset añadiendo una columna \"fold\" por simplicidad"
   ]
  },
  {
   "cell_type": "markdown",
   "metadata": {},
   "source": []
  },
  {
   "cell_type": "code",
   "execution_count": 31,
   "metadata": {},
   "outputs": [
    {
     "name": "stdout",
     "output_type": "stream",
     "text": [
      "5.0    745\n",
      "2.0    745\n",
      "1.0    745\n",
      "4.0    744\n",
      "3.0    744\n",
      "Name: fold, dtype: int64\n",
      "\n",
      " Num of missing values:  0\n"
     ]
    }
   ],
   "source": [
    "dc_listings.loc[dc_listings.index[0:745], \"fold\"] = 1\n",
    "dc_listings.loc[dc_listings.index[745:1490], \"fold\"] = 2\n",
    "dc_listings.loc[dc_listings.index[1490:2234], \"fold\"] = 3\n",
    "dc_listings.loc[dc_listings.index[2234:2978], \"fold\"] = 4\n",
    "dc_listings.loc[dc_listings.index[2978:3723], \"fold\"] = 5\n",
    "\n",
    "print(dc_listings['fold'].value_counts())\n",
    "print(\"\\n Num of missing values: \", dc_listings['fold'].isnull().sum())"
   ]
  },
  {
   "cell_type": "markdown",
   "metadata": {},
   "source": [
    "Hacemos k-fold cv en un modelo simple univariante:"
   ]
  },
  {
   "cell_type": "code",
   "execution_count": 32,
   "metadata": {},
   "outputs": [],
   "source": [
    "from sklearn.neighbors import KNeighborsRegressor\n",
    "from sklearn.metrics import mean_squared_error\n",
    "\n",
    "knn = KNeighborsRegressor()\n",
    "\n",
    "knn.fit(dc_listings[dc_listings['fold'] != 1][['accommodates']], dc_listings[dc_listings['fold'] != 1]['price'])\n",
    "\n",
    "\n",
    "labels = knn.predict(dc_listings[dc_listings['fold'] == 1][['accommodates']])\n",
    "\n",
    "\n",
    "iteration_one_rmse = mean_squared_error(dc_listings[dc_listings['fold'] == 1]['price'], labels) ** (1/2)"
   ]
  },
  {
   "cell_type": "markdown",
   "metadata": {},
   "source": [
    "O de otra manera más detallada:"
   ]
  },
  {
   "cell_type": "code",
   "execution_count": 33,
   "metadata": {},
   "outputs": [],
   "source": [
    "from sklearn.neighbors import KNeighborsRegressor\n",
    "from sklearn.metrics import mean_squared_error\n",
    "# Training\n",
    "model = KNeighborsRegressor()\n",
    "train_iteration_one = dc_listings[dc_listings[\"fold\"] != 1]\n",
    "test_iteration_one = dc_listings[dc_listings[\"fold\"] == 1].copy()\n",
    "model.fit(train_iteration_one[[\"accommodates\"]], train_iteration_one[\"price\"])\n",
    "\n",
    "# Predicting\n",
    "labels = model.predict(test_iteration_one[[\"accommodates\"]])\n",
    "test_iteration_one[\"predicted_price\"] = labels\n",
    "iteration_one_mse = mean_squared_error(test_iteration_one[\"price\"], test_iteration_one[\"predicted_price\"])\n",
    "iteration_one_rmse = iteration_one_mse ** (1/2)"
   ]
  },
  {
   "cell_type": "markdown",
   "metadata": {},
   "source": [
    "Hacemos una función para hacer el proceso de iteración más fácil.\n",
    "\n",
    "Recibe como argumentos un data set y una lista de folds (Asume que el dataset ya tiene una columna con folds acorde) y devuelve una lista de rmses."
   ]
  },
  {
   "cell_type": "code",
   "execution_count": 34,
   "metadata": {},
   "outputs": [
    {
     "name": "stdout",
     "output_type": "stream",
     "text": [
      "[112.04826596623559, 144.38561957805769, 124.88396829711334, 136.89503611883998, 112.45994078728297]\n",
      "126.13456614950594\n"
     ]
    }
   ],
   "source": [
    "# Use np.mean to calculate the mean.\n",
    "import numpy as np\n",
    "fold_ids = [1,2,3,4,5]\n",
    "def train_and_validate(df, folds):\n",
    "    fold_rmses = []\n",
    "    for fold in folds:\n",
    "        # Train\n",
    "        model = KNeighborsRegressor()\n",
    "        train = df[df[\"fold\"] != fold]\n",
    "        test = df[df[\"fold\"] == fold].copy()\n",
    "        model.fit(train[[\"accommodates\"]], train[\"price\"])\n",
    "        # Predict\n",
    "        labels = model.predict(test[[\"accommodates\"]])\n",
    "        test[\"predicted_price\"] = labels\n",
    "        mse = mean_squared_error(test[\"price\"], test[\"predicted_price\"])\n",
    "        rmse = mse**(1/2)\n",
    "        fold_rmses.append(rmse)\n",
    "    return(fold_rmses)\n",
    "\n",
    "rmses = train_and_validate(dc_listings, fold_ids)\n",
    "print(rmses)\n",
    "avg_rmse = np.mean(rmses)\n",
    "print(avg_rmse)"
   ]
  },
  {
   "cell_type": "markdown",
   "metadata": {},
   "source": [
    "#### KFold Class en Scikit-Learn\n",
    "\n",
    "Scikit Learn lo pone fácil para experimentar con hiperparam y evaluar su rendimiento.\n",
    "\n",
    "LA [KFold](https://scikit-learn.org/stable/modules/generated/sklearn.model_selection.KFold.html#sklearn.model_selection.KFold) class de sklearn.model_selection se instancia de manera similar que los modelos con unos parámetros.\n",
    "\n",
    "En ella se pone el número de folds, si se hace un ordenamiento aleatorio del dataset, etc. \n",
    "\n",
    "````\n",
    "from sklearn.model_selection import KFold\n",
    "kf = KFold(n_splits, shuffle=False, random_state=None)\n",
    "\n",
    "\n",
    "````\n",
    "\n",
    "- n_splits is the number of folds you want to use,\n",
    "- shuffle is used to toggle shuffling of the ordering of the observations in the dataset,\n",
    "- random_state is used to specify the random seed value if shuffle is set to True.\n",
    "\n",
    "Luego se pasa a la función [cross_val_score()](https://scikit-learn.org/stable/modules/generated/sklearn.model_selection.cross_val_score.html) como parámetro junto al modelo que se haya elegido (p ej KNearestneighbor) así como los datos.\n",
    "\n",
    "````\n",
    "from sklearn.model_selection import cross_val_score\n",
    "cross_val_score(estimator, X, Y, scoring=None, cv=None)\n",
    "````\n",
    "\n",
    "- estimator is a sklearn model that implements the fit method (e.g. instance of KNeighborsRegressor),\n",
    "- X is the list or 2D array containing the features you want to train on,\n",
    "- y is a list containing the values you want to predict (target column),\n",
    "- scoring is a string describing the scoring criteria (list of accepted values here).\n",
    "- cv describes the number of folds. Here are some examples of accepted values:\n",
    "    - an instance of the KFold class,\n",
    "    - an integer representing the number of folds.\n",
    "\n",
    "\n",
    "El workflow general es:\n",
    "\n",
    "- Instanciar modelo deseado de scikit-learn a hacer fit\n",
    "\n",
    "- instanciar clase KFold con los parámetros deseados de k-fold cross-validation\n",
    "\n",
    "- utilizar cross_val_score() para obtener la scoring metric"
   ]
  },
  {
   "cell_type": "code",
   "execution_count": 35,
   "metadata": {},
   "outputs": [
    {
     "name": "stdout",
     "output_type": "stream",
     "text": [
      "[-28321.07511409 -13829.76987919 -22768.27742282  -9285.8494086\n",
      " -12532.78451613]\n",
      "129.01866963719164\n"
     ]
    }
   ],
   "source": [
    "from sklearn.model_selection import cross_val_score, KFold\n",
    "\n",
    "kf = KFold(n_splits = 5, shuffle = True , random_state = 1)\n",
    "\n",
    "knn = KNeighborsRegressor()\n",
    "\n",
    "mses = cross_val_score(knn, dc_listings[['accommodates']], dc_listings['price'], scoring = 'neg_mean_squared_error', cv = kf )\n",
    "\n",
    "avg_rmse = np.mean(np.sqrt(abs(mses)))\n",
    "\n",
    "print(mses)\n",
    "print(avg_rmse)"
   ]
  },
  {
   "cell_type": "markdown",
   "metadata": {},
   "source": [
    "Elegir el k adecuado es difícil.\n",
    "\n",
    "Hemos visto que que **Holdout Validation** corresponde a k=2\n",
    "\n",
    "Se conoce como **leave-one-out cross validation** cuando k = n, es decir el número de observaciones del dataset.\n",
    "\n",
    "Tras mucha prueba y error, se ha visto que un valor estándar de k es 10.\n",
    "\n",
    "Aquí vemos resultados de k de 3 a 23. Se ve que la desviación típica de RMSE aumenta según aumenta el número de folds."
   ]
  },
  {
   "cell_type": "code",
   "execution_count": 36,
   "metadata": {},
   "outputs": [
    {
     "name": "stdout",
     "output_type": "stream",
     "text": [
      "3 folds:  avg RMSE:  133.39155832923973 std RMSE:  11.086603336206089\n",
      "5 folds:  avg RMSE:  129.01866963719164 std RMSE:  26.49026525380437\n",
      "7 folds:  avg RMSE:  128.2563631358857 std RMSE:  24.433778651168502\n",
      "9 folds:  avg RMSE:  127.32586680970088 std RMSE:  37.14784717325374\n",
      "10 folds:  avg RMSE:  125.76801286044285 std RMSE:  34.17044630953882\n",
      "11 folds:  avg RMSE:  128.05794633376306 std RMSE:  28.189791000247233\n",
      "13 folds:  avg RMSE:  135.19672255133156 std RMSE:  37.393562781262155\n",
      "15 folds:  avg RMSE:  129.36948920791744 std RMSE:  32.19005631512455\n",
      "17 folds:  avg RMSE:  129.95026068075245 std RMSE:  42.23205089616785\n",
      "19 folds:  avg RMSE:  123.23092426546866 std RMSE:  36.25629204751065\n",
      "21 folds:  avg RMSE:  123.74230115930078 std RMSE:  40.953451986202275\n",
      "23 folds:  avg RMSE:  124.80660657221455 std RMSE:  44.4282428992255\n"
     ]
    }
   ],
   "source": [
    "from sklearn.model_selection import cross_val_score, KFold\n",
    "\n",
    "num_folds = [3, 5, 7, 9, 10, 11, 13, 15, 17, 19, 21, 23]\n",
    "\n",
    "#num_folds = [i for i in range(3,100)]\n",
    "\n",
    "for fold in num_folds:\n",
    "    kf = KFold(fold, shuffle=True, random_state=1)\n",
    "    model = KNeighborsRegressor()\n",
    "    mses = cross_val_score(model, dc_listings[[\"accommodates\"]], dc_listings[\"price\"], scoring=\"neg_mean_squared_error\", cv=kf)\n",
    "    rmses = np.sqrt(np.absolute(mses))\n",
    "    avg_rmse = np.mean(rmses)\n",
    "    std_rmse = np.std(rmses)\n",
    "    print(str(fold), \"folds: \", \"avg RMSE: \", str(avg_rmse), \"std RMSE: \", str(std_rmse))"
   ]
  },
  {
   "cell_type": "markdown",
   "metadata": {},
   "source": [
    "#### Bias and Variance\n",
    "\n",
    "Los modelos tienen dos fuentes de error: el sesgo y la varianza.\n",
    "\n",
    "El Bias describe errores que resultan de malas asunciones sobre el algoritmo de aprendizaje. Por ejemplo considerar solo una feature para crear un modelo. Es una deficiencia del modelo. Se puede apreciar que hay un gran componente de bias si el error en el trainig set es similar al de test set, y ambos son mayores de lo que tenemos por objetivo. Es un underfitting. El RMSE promedio es un proxy de la componente de bias en el error.\n",
    "\n",
    "La variance describe un error que ocurre debido a la variabilidad de las predicciones. Un modelo muy comlpejo que funciona muy bien con el training set pero mucho peor en el test set tiene un gran componente de error de varianza. Es un overfitting. LA desviación típica del RMSE es un proxy de la componente de varianza.\n",
    "\n",
    "Siemrpe habrá un balance entre los dos tipos de error.\n",
    "\n",
    "![title](imagenes/bias-variance.PNG)\n"
   ]
  },
  {
   "cell_type": "markdown",
   "metadata": {},
   "source": [
    "## Calculus For Machine Learning"
   ]
  },
  {
   "cell_type": "markdown",
   "metadata": {},
   "source": [
    "En el caso de KNN, es un algoritmo que no requiere de muchos conocimientos matemáticos para entender cómo funciona.\n",
    "\n",
    "Sin embargo, no es útil aplicarlo a adatasets grandes porque el modelo se representa con el training set entero.\n",
    "\n",
    "Es decir, cada vez que queramos hacer una predicción  en una nueva observación tenemos que calcular la distancia de la nueva observación respecto del training set entero. Luego hay que clasificar por distancia ascendente. Todo esto es computacionalemte costoso.\n",
    "\n",
    "En la mayoría de las siguientes técnicas el modelo se representa como una función matemática. Esta función aproxima la función subyuacente qie rige cómo las features se relacionan con el atributo objetivo. Una vez sacada esta función, es computacionalmente barato hacer prediciones.\n",
    "\n",
    "Hay que entender algunas ideas básicas de cálculo:\n",
    "\n",
    "- Pendiente en un punto\n",
    "\n",
    "- PUntos extremos de la función\n",
    "\n",
    "- Determinar la función óptima que representa al dataset\n",
    "\n",
    "\n",
    "Ponemos por ejemplo la función $ y = -x^2 + 3x - 1$\n",
    "\n",
    "$y$ es la posición vertical de una pelota\n",
    "\n",
    "$x$ es el tiempo\n"
   ]
  },
  {
   "cell_type": "code",
   "execution_count": 37,
   "metadata": {},
   "outputs": [
    {
     "data": {
      "text/plain": [
       "[<matplotlib.lines.Line2D at 0x1d1fda7a2c8>]"
      ]
     },
     "execution_count": 37,
     "metadata": {},
     "output_type": "execute_result"
    },
    {
     "data": {
      "image/png": "[encoded data removed]",
      "text/plain": [
       "<Figure size 432x288 with 1 Axes>"
      ]
     },
     "metadata": {
      "needs_background": "light"
     },
     "output_type": "display_data"
    }
   ],
   "source": [
    "import numpy as np\n",
    "import matplotlib.pyplot as plt\n",
    "\n",
    "x = np.linspace(0,3,100)\n",
    "\n",
    "y = -x*x + 3*x - 1\n",
    "\n",
    "plt.plot(x,y)"
   ]
  },
  {
   "cell_type": "markdown",
   "metadata": {},
   "source": [
    "Función lineal \n",
    "\n",
    "$y = mx + b$\n",
    "\n",
    "$m$ slope\n",
    "\n",
    "$b$ intercept"
   ]
  },
  {
   "cell_type": "code",
   "execution_count": 38,
   "metadata": {},
   "outputs": [
    {
     "data": {
      "text/plain": [
       "True"
      ]
     },
     "execution_count": 38,
     "metadata": {},
     "output_type": "execute_result"
    }
   ],
   "source": [
    "def slope(x1,x2,y1,y2):    \n",
    "    return (y2- y1)/(x2-x1)\n",
    "\n",
    "slope_one = slope(0,4,1,13)\n",
    "slope_two = slope(5,-1,16,-2)\n",
    "\n",
    "slope_one == slope_two"
   ]
  },
  {
   "cell_type": "markdown",
   "metadata": {},
   "source": [
    "Una función no lineal como  $ y = -x^2 + 3x - 1$ obviamente no conserva la pendiente y cambios equivalentes en distancia en x tienen cambios muy distintos en y.\n",
    "\n",
    "\n",
    "Dibujamos **secantes** de una curva: Línea que corta a una curva por dos puntos.\n",
    "\n",
    "Si los puntos están muy cercanos la secante se aproxima muy bien a la curva, llegando a ser la pendiente en el caso extremo y se llama **tangente**, según se alejan divergen de la curva.\n",
    "\n",
    "Representa el ratio de cambio instatáneao de la función y no se puede calcular con la fórmula anterior porque es una indeterminación\n",
    "\n",
    "$m = \\cfrac {y_2- y_1}{x_2-x_1} = \\cfrac{0}{0}$\n",
    "\n",
    "\n",
    "\n",
    "Esto nos indica que para funciones no lineales no es sificiente con tener dos puntos para poder sacar un modelo matemáqtico que aproxime la fución."
   ]
  },
  {
   "cell_type": "code",
   "execution_count": 39,
   "metadata": {},
   "outputs": [
    {
     "data": {
      "image/png": "[encoded data removed]",
      "text/plain": [
       "<Figure size 432x288 with 1 Axes>"
      ]
     },
     "metadata": {},
     "output_type": "display_data"
    },
    {
     "data": {
      "image/png": "[encoded data removed]",
      "text/plain": [
       "<Figure size 432x288 with 1 Axes>"
      ]
     },
     "metadata": {},
     "output_type": "display_data"
    },
    {
     "data": {
      "image/png": "[encoded data removed]",
      "text/plain": [
       "<Figure size 432x288 with 1 Axes>"
      ]
     },
     "metadata": {},
     "output_type": "display_data"
    }
   ],
   "source": [
    "import seaborn\n",
    "seaborn.set(style='darkgrid')\n",
    "\n",
    "def draw_secant(x_values):\n",
    "    x = np.linspace(-20,30,100)\n",
    "    y = -1*(x**2) + x*3 - 1\n",
    "    plt.plot(x,y)\n",
    "    # Add your code here.\n",
    "    x1 = x_values[0]\n",
    "    x2 = x_values[1]\n",
    "    y1 = -1*(x1**2) + x1*3 - 1\n",
    "    y2 = -1*(x2**2) + x2*3 - 1\n",
    "    \n",
    "    m = (y2 - y1)/(x2 - x1)\n",
    "    \n",
    "    b = y1 - m * x1\n",
    "    \n",
    "    \n",
    "    \n",
    "    ys = m*x + b\n",
    "    \n",
    "    plt.plot(x, ys, 'green')\n",
    "    plt.show()\n",
    "    \n",
    "    \n",
    "draw_secant([3,5])\n",
    "\n",
    "draw_secant([3,10])\n",
    "\n",
    "draw_secant([3,15])"
   ]
  },
  {
   "cell_type": "markdown",
   "metadata": {},
   "source": [
    "### Understanding Limits"
   ]
  },
  {
   "cell_type": "markdown",
   "metadata": {},
   "source": [
    "No podemos calcular la pendiente directamente con $m = \\cfrac{f(x_2)-f(x_1)}{x_2 - x_1} = \\cfrac{0}{0}$.\n",
    "\n",
    "Tenemos que aproximarnos por los lados y calcular el límite:\n",
    "\n",
    "\n",
    "Si  $ f(x) = -x^2 + 3x - 1$, fijando $x_1$ a 3  calculamos cuánto vale la pendiente usando el límite : $lim_{x_2 \\to 3} \\cfrac{f(x_2) + 1}{x_2 - 3} = -3$\n",
    "\n",
    "Es un límite inderterminado, lo podemos aproximar tomando números cercanos y hacer substitución directa.\n",
    "\n",
    "\n",
    "| x1     | x0 | m       |\n",
    "|--------|----|---------|\n",
    "| 2.9    | 3  | -2.9    |\n",
    "| 2.99   | 3  | -2.99   |\n",
    "| 2.999  | 3  | -2.999  |\n",
    "| 3.01   | 3  | -3.01   |\n",
    "| 3.001  | 3  | -3.001  |\n",
    "| 3.0001 | 3  | -3.0001 |"
   ]
  },
  {
   "cell_type": "markdown",
   "metadata": {},
   "source": [
    "### SymPy librería de simbólicos\n",
    "\n",
    "Unsamos sympy.symbols para declarar variables. El flujode trabajo es distinto a como hemos dibujado antes las funciones con linspace.\n"
   ]
  },
  {
   "cell_type": "code",
   "execution_count": 40,
   "metadata": {},
   "outputs": [
    {
     "name": "stdout",
     "output_type": "stream",
     "text": [
      "x**2 + 1\n"
     ]
    }
   ],
   "source": [
    "import sympy\n",
    "\n",
    "x,y = sympy.symbols('x y')\n",
    "\n",
    "y = x**2 + 1\n",
    "\n",
    "print(y)\n",
    "\n"
   ]
  },
  {
   "cell_type": "markdown",
   "metadata": {},
   "source": [
    "##### Calculando un límite con sympy\n",
    "\n",
    "Tiene como entrada:\n",
    "\n",
    "- La función que estamos estudiando\n",
    "\n",
    "- La variable\n",
    "\n",
    "- El valor al que nos aproximamos de la variable input\n",
    " "
   ]
  },
  {
   "cell_type": "code",
   "execution_count": 41,
   "metadata": {},
   "outputs": [
    {
     "name": "stdout",
     "output_type": "stream",
     "text": [
      "2\n"
     ]
    }
   ],
   "source": [
    "limit = sympy.limit(x**2 +1, x, 1)\n",
    "print(limit)"
   ]
  },
  {
   "cell_type": "code",
   "execution_count": 42,
   "metadata": {},
   "outputs": [
    {
     "name": "stdout",
     "output_type": "stream",
     "text": [
      "-2.89999999999999\n"
     ]
    }
   ],
   "source": [
    "import sympy\n",
    "x2,y = sympy.symbols('x2 y')\n",
    "\n",
    "y = (-x2**2) + 3*x2 - 1\n",
    "\n",
    "\n",
    "\n",
    "limit_one = sympy.limit((y + 1)/(x2- 3), x2, 2.9)\n",
    "print(limit_one)"
   ]
  },
  {
   "cell_type": "markdown",
   "metadata": {},
   "source": [
    "#### Convirtiendo un límite indefinido en definido\n",
    "\n",
    "Tenemos una serie de propiedades:\n",
    "\n",
    "$lim_{x \\to a}\\left[ f(x) + g(x)\\right] = lim_{x \\to a} f(x) + lim_{x \\to a} g(x)  $\n",
    "\n",
    "$lim_{x \\to a}\\left[ f(x) - g(x)\\right] = lim_{x \\to a} f(x) - lim_{x \\to a} g(x)  $"
   ]
  },
  {
   "cell_type": "code",
   "execution_count": 43,
   "metadata": {},
   "outputs": [
    {
     "name": "stdout",
     "output_type": "stream",
     "text": [
      "3\n"
     ]
    }
   ],
   "source": [
    "\n",
    "import sympy\n",
    "x,y = sympy.symbols('x y')\n",
    "\n",
    "limit_two = sympy.limit(3*x**2 + 3*x -3, x, 1)\n",
    "\n",
    "print(limit_two)"
   ]
  },
  {
   "cell_type": "markdown",
   "metadata": {},
   "source": [
    "$lim_{x \\to a} \\left[c \\space f(x) \\right] = c\\space lim_{x \\to a} f(x) $"
   ]
  },
  {
   "cell_type": "markdown",
   "metadata": {},
   "source": [
    "Podemos usar estas propiedades para transformar nuestro límite indeterminado en determinado:\n",
    "\n",
    "$ lim_{x_2 \\to 3}  \\cfrac{f(x_2) + 1}{x_2 - 3} =  lim_{x_2 \\to 3} \\cfrac{ -x^2 + 3x}{x_2 - 3} = lim_{x_2 \\to 3} -x_2 = -3$\n",
    "\n"
   ]
  },
  {
   "cell_type": "markdown",
   "metadata": {},
   "source": [
    "### Finding Extreme Points"
   ]
  },
  {
   "cell_type": "markdown",
   "metadata": {},
   "source": [
    "En esta ecuación de la pendiente $h$ representa la distancia entre dos puntos $x$ y $x + h$. La pendiente es el valor al que se aproxima el límite cuando $h$ se aproxima a 0. Esto se llama diferenciación o derivar.\n",
    "\n",
    "$ m =  lim_{h \\to 0}  \\cfrac{f(x + h) - f(x)}{h}$\n",
    "\n",
    "Por ejemplo para  $ f(x) = -x^2 + 3x - 1$, si la pasamos por la anterior ecuaciuón quedaría:\n",
    "\n",
    "$m =  lim_{h \\to 0}  -2x - h + 3 = -2x +3$ \n",
    "\n",
    "Que es otra ecuación que representa a la pendiente de la función"
   ]
  },
  {
   "cell_type": "code",
   "execution_count": 44,
   "metadata": {},
   "outputs": [
    {
     "data": {
      "text/plain": [
       "[<matplotlib.lines.Line2D at 0x1d1858fdd08>]"
      ]
     },
     "execution_count": 44,
     "metadata": {},
     "output_type": "execute_result"
    },
    {
     "data": {
      "image/png": "[encoded data removed]",
      "text/plain": [
       "<Figure size 432x288 with 1 Axes>"
      ]
     },
     "metadata": {},
     "output_type": "display_data"
    }
   ],
   "source": [
    "import matplotlib.pyplot as plt\n",
    "import numpy as np\n",
    "\n",
    "x = np.linspace(-5,6,110)\n",
    "\n",
    "y = -2*x + 3\n",
    "\n",
    "plt.plot(x,y)"
   ]
  },
  {
   "cell_type": "markdown",
   "metadata": {},
   "source": [
    "#### Punto Crítico\n",
    "\n",
    "Es donde la pendiente está indefinida o es 0.\n",
    "\n",
    "#### Punto extremo\n",
    "\n",
    "Cuando la pendinete es 0 y transiciona de signo de un lado al otro\n",
    "\n",
    "\n",
    "Calcularemos las pendientes con las derivadas de las funciones y sus porpiedades de linearidad y de factor constante."
   ]
  },
  {
   "cell_type": "markdown",
   "metadata": {},
   "source": [
    "## Algebra For Machine Learning\n",
    "\n",
    "El álgebra lineal es un método para representar y entender las soluciones a **sistemas de ecuaciones lineales**."
   ]
  },
  {
   "cell_type": "code",
   "execution_count": 45,
   "metadata": {},
   "outputs": [
    {
     "data": {
      "text/plain": [
       "[<matplotlib.lines.Line2D at 0x1d1859419c8>]"
      ]
     },
     "execution_count": 45,
     "metadata": {},
     "output_type": "execute_result"
    },
    {
     "data": {
      "image/png": "[encoded data removed]",
      "text/plain": [
       "<Figure size 432x288 with 1 Axes>"
      ]
     },
     "metadata": {},
     "output_type": "display_data"
    }
   ],
   "source": [
    "import numpy as np\n",
    "import matplotlib.pyplot as plt\n",
    "\n",
    "x = np.linspace(0,50,1000)\n",
    "\n",
    "y1 = 30*x + 1000\n",
    "\n",
    "y2 = 50*x +100\n",
    "\n",
    "plt.plot(x,y1,'orange')\n",
    "\n",
    "plt.plot(x,y2,'blue')"
   ]
  },
  {
   "cell_type": "markdown",
   "metadata": {},
   "source": [
    "Para dos ecuaciones con dos variables es fácil resolver por método de eliminación.\n",
    "\n",
    "Para mayor número de variables y ecuaciones utilizando una variación de eliminación llamada **Gaussian elimination**.\n",
    "\n",
    "La forma general de un sistema de ecuaciones lineales es :\n",
    "\n",
    "$Ax + By = c$\n",
    "\n",
    "En las ecuaciones del sistema anterior la matriz aumentada sería:\n",
    "\n",
    "\n",
    "\n",
    "$\n",
    "\\left[\n",
    "  \\begin{matrix}\n",
    "    30 & -1 \\\\\n",
    "    50 & -1 \n",
    "  \\end{matrix}\n",
    "  \\left|\n",
    "    \\,\n",
    "    \\begin{matrix}\n",
    "      -1000  \\\\\n",
    "      -100  \\\\      \n",
    "    \\end{matrix}\n",
    "  \\right.\n",
    "\\right]\n",
    "$"
   ]
  },
  {
   "cell_type": "code",
   "execution_count": 46,
   "metadata": {},
   "outputs": [],
   "source": [
    "matrix_one = np.asarray([\n",
    "    [30, -1, -1000],\n",
    "    [50, -1, -100]  \n",
    "], dtype=np.float32)"
   ]
  },
  {
   "cell_type": "code",
   "execution_count": 47,
   "metadata": {},
   "outputs": [
    {
     "data": {
      "text/plain": [
       "array([[   30.,    -1., -1000.],\n",
       "       [   50.,    -1.,  -100.]], dtype=float32)"
      ]
     },
     "execution_count": 47,
     "metadata": {},
     "output_type": "execute_result"
    }
   ],
   "source": [
    "matrix_one"
   ]
  },
  {
   "cell_type": "markdown",
   "metadata": {},
   "source": [
    "Para resolver el sistema tenemos que convertir la matriz de coeficientes en la identidad. La mayoría de los sistemas no se podrá y serán indefinidos o no tendrán solución."
   ]
  },
  {
   "cell_type": "markdown",
   "metadata": {},
   "source": [
    "Se pueden hacer operaciones con las filas de la matriz para resolverlo, multiplicando constantes o sumando o restando filas. En numpy sería así:"
   ]
  },
  {
   "cell_type": "code",
   "execution_count": 48,
   "metadata": {},
   "outputs": [],
   "source": [
    "matrix =  np.asarray([\n",
    "    [1, 3],\n",
    "    [50, 2]  \n",
    "], dtype=np.float32)\n",
    "# Swap the second row (at index value 1) with the first row (at index value 0).\n",
    "matrix = matrix[[1,0]]"
   ]
  },
  {
   "cell_type": "code",
   "execution_count": 49,
   "metadata": {},
   "outputs": [],
   "source": [
    "# Multipy the second row by 2.\n",
    "matrix[1] = 2*matrix[1]"
   ]
  },
  {
   "cell_type": "code",
   "execution_count": 50,
   "metadata": {},
   "outputs": [],
   "source": [
    "# Add the second row to the first row.\n",
    "matrix[1] = matrix[1] + matrix[0]"
   ]
  },
  {
   "cell_type": "markdown",
   "metadata": {},
   "source": [
    "Y ahora para nuestro sistema de antes"
   ]
  },
  {
   "cell_type": "code",
   "execution_count": 51,
   "metadata": {},
   "outputs": [],
   "source": [
    "matrix_one = np.asarray([\n",
    "    [30, -1, -500],\n",
    "    [50, -1, -100]  \n",
    "], dtype=np.float32)\n",
    "\n",
    "\n",
    "matrix_one[0] = matrix_one[0]/30"
   ]
  },
  {
   "cell_type": "code",
   "execution_count": 52,
   "metadata": {},
   "outputs": [
    {
     "data": {
      "text/plain": [
       "array([[ 1.0000000e+00, -3.3333335e-02, -1.6666666e+01],\n",
       "       [ 5.0000000e+01, -1.0000000e+00, -1.0000000e+02]], dtype=float32)"
      ]
     },
     "execution_count": 52,
     "metadata": {},
     "output_type": "execute_result"
    }
   ],
   "source": [
    "matrix_one"
   ]
  },
  {
   "cell_type": "code",
   "execution_count": 53,
   "metadata": {},
   "outputs": [],
   "source": [
    "matrix_three = np.asarray([\n",
    "    [1, -1/30, -1000/30],\n",
    "    [0, 1, 2350]  \n",
    "], dtype=np.float32)\n",
    "\n",
    "\n",
    "\n",
    "matrix_three[0] = matrix_three[0] + matrix_three[1]/30"
   ]
  },
  {
   "cell_type": "code",
   "execution_count": 54,
   "metadata": {},
   "outputs": [
    {
     "data": {
      "text/plain": [
       "array([[1.0000000e+00, 0.0000000e+00, 4.5000004e+01],\n",
       "       [0.0000000e+00, 1.0000000e+00, 2.3500000e+03]], dtype=float32)"
      ]
     },
     "execution_count": 54,
     "metadata": {},
     "output_type": "execute_result"
    }
   ],
   "source": [
    "matrix_three"
   ]
  },
  {
   "cell_type": "markdown",
   "metadata": {},
   "source": [
    "### Vectors\n",
    "\n",
    "Si una matriz es una tabla de números filas x columnas.\n",
    "\n",
    "Cada fila/columna es una lista de números.\n",
    "\n",
    "Cada lista de número es un vector.\n",
    "\n",
    "Los vectores columna tienen operaciones asociadas y propiedades interesantes para los sitemas lineales.\n",
    "\n",
    "A partir de ahora cuando consideramos vectores los vectores columna.\n",
    "\n",
    "Un vector representa una dirección y una magnitud.\n",
    "\n",
    "\n",
    "\n",
    "Para representar vectores en matplotlib podemos usar pyplot.quiver().\n",
    "\n",
    "Tiene 4 parámetros: origen y destino.\n",
    "\n",
    "\n",
    "````\n",
    "plt.quiver(0, 0, 1, 2, angles='xy', scale_units='xy', scale=1)\n",
    "````\n",
    "Setting angles to 'xy' lets matplotlib know we want the angle of the vector to be between the points we specified. The scale_units and scale parameters lets us specify custom scaling parameters for the vectors\n"
   ]
  },
  {
   "cell_type": "code",
   "execution_count": 55,
   "metadata": {},
   "outputs": [
    {
     "data": {
      "text/plain": [
       "<matplotlib.quiver.Quiver at 0x1d185a00c48>"
      ]
     },
     "execution_count": 55,
     "metadata": {},
     "output_type": "execute_result"
    },
    {
     "data": {
      "image/png": "[encoded data removed]",
      "text/plain": [
       "<Figure size 432x288 with 1 Axes>"
      ]
     },
     "metadata": {},
     "output_type": "display_data"
    }
   ],
   "source": [
    "plt.axhline(0, c='black', lw=0.5)\n",
    "plt.axvline(0, c='black', lw=0.5)\n",
    "plt.xlim(-3,3)\n",
    "plt.ylim(-4,4)\n",
    "\n",
    "plt.quiver(0, 0, 1, 2)"
   ]
  },
  {
   "cell_type": "code",
   "execution_count": 56,
   "metadata": {},
   "outputs": [
    {
     "data": {
      "text/plain": [
       "<matplotlib.quiver.Quiver at 0x1d185a5c5c8>"
      ]
     },
     "execution_count": 56,
     "metadata": {},
     "output_type": "execute_result"
    },
    {
     "data": {
      "image/png": "[encoded data removed]",
      "text/plain": [
       "<Figure size 432x288 with 1 Axes>"
      ]
     },
     "metadata": {},
     "output_type": "display_data"
    }
   ],
   "source": [
    "plt.axhline(0, c='black', lw=0.5)\n",
    "plt.axvline(0, c='black', lw=0.5)\n",
    "plt.xlim(-3,3)\n",
    "plt.ylim(-4,4)\n",
    "\n",
    "plt.quiver(0, 0, 1, 2, angles='xy', scale_units='xy', scale=1)"
   ]
  },
  {
   "cell_type": "code",
   "execution_count": 57,
   "metadata": {},
   "outputs": [
    {
     "data": {
      "text/plain": [
       "<matplotlib.quiver.Quiver at 0x1d185ae3488>"
      ]
     },
     "execution_count": 57,
     "metadata": {},
     "output_type": "execute_result"
    },
    {
     "data": {
      "image/png": "[encoded data removed]",
      "text/plain": [
       "<Figure size 432x288 with 1 Axes>"
      ]
     },
     "metadata": {},
     "output_type": "display_data"
    }
   ],
   "source": [
    "import matplotlib.pyplot as plt\n",
    "import numpy as np\n",
    "\n",
    "# This code draws the x and y axis as lines.\n",
    "\n",
    "plt.axhline(0, c='black', lw=0.5)\n",
    "plt.axvline(0, c='black', lw=0.5)\n",
    "plt.xlim(-3,3)\n",
    "plt.ylim(-4,4)\n",
    "\n",
    "plt.quiver(0, 0, 2, 3, angles='xy', scale_units='xy', scale=1, color='blue')\n",
    "\n",
    "\n",
    "plt.quiver(0, 0, -2, -3, angles='xy', scale_units='xy', scale=1, color='blue')\n",
    "\n",
    "\n",
    "plt.quiver(0, 0, 1, 1, angles='xy', scale_units='xy', scale=1, color='gold')\n",
    "\n",
    "\n",
    "plt.quiver(0, 0, 2, 2, angles='xy', scale_units='xy', scale=1, color='gold')"
   ]
  },
  {
   "cell_type": "markdown",
   "metadata": {},
   "source": [
    "Adición y substracción de vectores:"
   ]
  },
  {
   "cell_type": "code",
   "execution_count": 58,
   "metadata": {},
   "outputs": [
    {
     "data": {
      "text/plain": [
       "<matplotlib.quiver.Quiver at 0x1d185b55588>"
      ]
     },
     "execution_count": 58,
     "metadata": {},
     "output_type": "execute_result"
    },
    {
     "data": {
      "image/png": "[encoded data removed]",
      "text/plain": [
       "<Figure size 432x288 with 1 Axes>"
      ]
     },
     "metadata": {},
     "output_type": "display_data"
    }
   ],
   "source": [
    "plt.axhline(0, c='black', lw=0.5)\n",
    "plt.axvline(0, c='black', lw=0.5)\n",
    "plt.xlim(-4,4)\n",
    "plt.ylim(-1,4)\n",
    "\n",
    "plt.quiver(0, 0, 3, 0, angles='xy', scale_units='xy', scale=1, color='black')\n",
    "\n",
    "plt.quiver(3, 0, 0, 3, angles='xy', scale_units='xy', scale=1, color='black')\n",
    "\n",
    "plt.quiver(0, 0, 3, 3, angles='xy', scale_units='xy', scale=1, color='green')"
   ]
  },
  {
   "cell_type": "markdown",
   "metadata": {},
   "source": [
    "Scale vectors"
   ]
  },
  {
   "cell_type": "code",
   "execution_count": 59,
   "metadata": {},
   "outputs": [
    {
     "data": {
      "text/plain": [
       "<matplotlib.quiver.Quiver at 0x1d185bbdd88>"
      ]
     },
     "execution_count": 59,
     "metadata": {},
     "output_type": "execute_result"
    },
    {
     "data": {
      "image/png": "[encoded data removed]",
      "text/plain": [
       "<Figure size 432x288 with 1 Axes>"
      ]
     },
     "metadata": {},
     "output_type": "display_data"
    }
   ],
   "source": [
    "plt.axhline(0, c='black', lw=0.5)\n",
    "plt.axvline(0, c='black', lw=0.5)\n",
    "plt.xlim(0,10)\n",
    "plt.ylim(0,5)\n",
    "\n",
    "\n",
    "\n",
    "plt.quiver(0, 0, 3, 1, angles='xy', scale_units='xy', scale=1, color='blue')\n",
    "\n",
    "plt.quiver(0, 0, 6, 2, angles='xy', scale_units='xy', scale=1, color='green')\n",
    "\n",
    "plt.quiver(0, 0, 9, 3, angles='xy', scale_units='xy', scale=1, color='orange')"
   ]
  },
  {
   "cell_type": "markdown",
   "metadata": {},
   "source": [
    "#### Vectores en NumPy"
   ]
  },
  {
   "cell_type": "markdown",
   "metadata": {},
   "source": [
    "##### Combinación lineal"
   ]
  },
  {
   "cell_type": "code",
   "execution_count": 60,
   "metadata": {},
   "outputs": [
    {
     "data": {
      "text/plain": [
       "array([[17.],\n",
       "       [ 4.],\n",
       "       [ 7.]], dtype=float32)"
      ]
     },
     "execution_count": 60,
     "metadata": {},
     "output_type": "execute_result"
    }
   ],
   "source": [
    "import numpy as np\n",
    "\n",
    "vector_one = np.asarray([\n",
    "    [1],\n",
    "    [2],\n",
    "    [1]\n",
    "], dtype=np.float32)\n",
    "\n",
    "\n",
    "vector_two = np.asarray([\n",
    "    [3],\n",
    "    [0],\n",
    "    [1]\n",
    "], dtype=np.float32)\n",
    "\n",
    "\n",
    "vector_linear_combination = 2*vector_one + 5*vector_two\n",
    "vector_linear_combination"
   ]
  },
  {
   "cell_type": "markdown",
   "metadata": {},
   "source": [
    "##### Producto escalar, dot product\n",
    "\n",
    "Hay que representar uno de ellos como columna y otro como fila"
   ]
  },
  {
   "cell_type": "code",
   "execution_count": 61,
   "metadata": {},
   "outputs": [
    {
     "name": "stdout",
     "output_type": "stream",
     "text": [
      "[4.]\n"
     ]
    }
   ],
   "source": [
    "dot_product = np.dot(vector_one[:,0], vector_two)\n",
    "print(dot_product)"
   ]
  },
  {
   "cell_type": "markdown",
   "metadata": {},
   "source": [
    "#### Saber si un vector es combinación lineal de otros\n",
    "\n",
    "Consiste en resolver las ecuaciones:\n",
    "\n",
    " \n",
    "$\n",
    "c_1\n",
    "\\left[\n",
    "    \\begin{matrix}\n",
    "        3\\\\\n",
    "        1\n",
    "    \\end{matrix} \n",
    "\\right]\n",
    "$\n",
    "$\n",
    "+\n",
    "$\n",
    "$\n",
    "c_2\n",
    "\\left[\n",
    "    \\begin{matrix}\n",
    "        1 \\\\\n",
    "        2\n",
    "    \\end{matrix}\n",
    "\\right] \n",
    "=   \n",
    "\\left[\n",
    "    \\begin{matrix}\n",
    "        4\\\\\n",
    "        -2\n",
    "    \\end{matrix}\n",
    "\\right] \n",
    "$\n",
    "  \n",
    "  \n",
    "![title](imagenes/linear_comb_1.PNG)\n",
    "  \n",
    "![title](imagenes/linear_comb_2.PNG)"
   ]
  },
  {
   "cell_type": "code",
   "execution_count": 62,
   "metadata": {},
   "outputs": [
    {
     "name": "stdout",
     "output_type": "stream",
     "text": [
      "[[ 4.]\n",
      " [-2.]]\n"
     ]
    }
   ],
   "source": [
    "w = np.asarray([\n",
    "    [1],\n",
    "    [2]\n",
    "], dtype=np.float32)\n",
    "\n",
    "v = np.asarray([\n",
    "    [3],\n",
    "    [1]\n",
    "], dtype=np.float32)\n",
    "\n",
    "\n",
    "end_point = 2*v - 2*w\n",
    "print(end_point)"
   ]
  },
  {
   "cell_type": "markdown",
   "metadata": {},
   "source": [
    "#### Resolución de sistemas de ecuaciones lineales\n",
    "\n",
    "Las solución de sistemas de ecuaciones lineales se reduce a saber si el vector de la solución es combinación lineal de los vectores que forman parte de la matriz de coeficientes de las variables.\n",
    "\n",
    "\n",
    "$A\\vec{x} = \\vec{b}$\n",
    "\n",
    "$A$ es la matriz de coeficientes.\n",
    "\n",
    "$\\vec{x}$ es el vector solución.\n",
    "\n",
    "$\\vec{b}$ es el vector constante.\n",
    "\n",
    "$ \\left[\\begin{matrix}\n",
    "    30 & -1\\\\\n",
    "    50 & -1\n",
    "  \\end{matrix} \\right]    \n",
    "  \\left[\\begin{matrix}\n",
    "    x \\\\\n",
    "    y\n",
    "  \\end{matrix}  \\right] \n",
    "  =   \n",
    "  \\left[\\begin{matrix}\n",
    "    -1000\\\\\n",
    "    -100\n",
    "  \\end{matrix} \\right] \n",
    "  $"
   ]
  },
  {
   "cell_type": "markdown",
   "metadata": {},
   "source": [
    "### Matrix Algebra\n",
    "\n",
    "Las operaciones sobre vectores son aplicables sobre matrices."
   ]
  },
  {
   "cell_type": "code",
   "execution_count": 63,
   "metadata": {},
   "outputs": [
    {
     "name": "stdout",
     "output_type": "stream",
     "text": [
      "[[15.7]\n",
      " [14.7]\n",
      " [20.7]]\n"
     ]
    }
   ],
   "source": [
    "matrix_a = np.asarray([\n",
    "    [0.7, 3, 9],\n",
    "    [1.7, 2, 9],\n",
    "    [0.7, 9, 2]\n",
    "], dtype=np.float32)\n",
    "\n",
    "vector_b = np.asarray([\n",
    "    [1],\n",
    "    [2],\n",
    "    [1]\n",
    "], dtype=np.float32)\n",
    "\n",
    "\n",
    "\n",
    "ab_product = np.dot(matrix_a, vector_b)\n",
    "\n",
    "print(ab_product)"
   ]
  },
  {
   "cell_type": "code",
   "execution_count": 64,
   "metadata": {},
   "outputs": [
    {
     "name": "stdout",
     "output_type": "stream",
     "text": [
      "[[ 82.1         2.1        10.       ]\n",
      " [194.1         5.1000004  19.       ]\n",
      " [ 88.1         2.1        16.       ]]\n",
      "\n",
      "\n",
      "[[ 91.2 435. ]\n",
      " [  1.4  12. ]]\n"
     ]
    }
   ],
   "source": [
    "matrix_a = np.asarray([\n",
    "    [0.7, 3],\n",
    "    [1.7, 2],\n",
    "    [0.7, 9]\n",
    "], dtype=np.float32)\n",
    "\n",
    "matrix_b = np.asarray([\n",
    "    [113, 3, 10],\n",
    "    [1, 0, 1],\n",
    "], dtype=np.float32)\n",
    "\n",
    "product_ab = np.dot(matrix_a, matrix_b)\n",
    "print(product_ab)\n",
    "\n",
    "print('\\n')\n",
    "\n",
    "product_ba = np.dot(matrix_b, matrix_a)\n",
    "print(product_ba)"
   ]
  },
  {
   "cell_type": "markdown",
   "metadata": {},
   "source": [
    "#### Matriz transpuesta\n",
    "\n",
    "$A^T + B^T = (A + B)^T$\n",
    "\n",
    "$(AB)^T = B^TA^T$"
   ]
  },
  {
   "cell_type": "code",
   "execution_count": 65,
   "metadata": {},
   "outputs": [
    {
     "name": "stdout",
     "output_type": "stream",
     "text": [
      "[[0.7 1.7 0.7]\n",
      " [3.  2.  9. ]]\n",
      "\n",
      "\n",
      "[[0.7 3. ]\n",
      " [1.7 2. ]\n",
      " [0.7 9. ]]\n",
      "\n",
      "\n",
      "[[ 82.1       194.1        88.1      ]\n",
      " [  2.1         5.1000004   2.1      ]\n",
      " [ 10.         19.         16.       ]]\n",
      "\n",
      "\n",
      "[[ 91.2   1.4]\n",
      " [435.   12. ]]\n",
      "\n",
      "\n",
      "[[ 82.1         2.1        10.       ]\n",
      " [194.1         5.1000004  19.       ]\n",
      " [ 88.1         2.1        16.       ]]\n",
      "\n",
      "\n"
     ]
    },
    {
     "data": {
      "text/plain": [
       "array([[ True, False, False],\n",
       "       [False,  True, False],\n",
       "       [False, False,  True]])"
      ]
     },
     "execution_count": 65,
     "metadata": {},
     "output_type": "execute_result"
    }
   ],
   "source": [
    "matrix_a = np.asarray([\n",
    "    [0.7, 3],\n",
    "    [1.7, 2],\n",
    "    [0.7, 9]\n",
    "], dtype=np.float32)\n",
    "\n",
    "matrix_b = np.asarray([\n",
    "    [113, 3, 10],\n",
    "    [1, 0, 1],\n",
    "], dtype=np.float32)\n",
    "\n",
    "\n",
    "transpose_a = np.transpose(matrix_a)\n",
    "print(transpose_a)\n",
    "print('\\n')\n",
    "print(np.transpose(transpose_a))\n",
    "\n",
    "print('\\n')\n",
    "\n",
    "trans_ba = np.dot(np.transpose(matrix_b), transpose_a)\n",
    "print(trans_ba)\n",
    "\n",
    "print('\\n')\n",
    "\n",
    "trans_ab = np.dot( transpose_a, np.transpose(matrix_b))\n",
    "print(trans_ab)\n",
    "\n",
    "print('\\n')\n",
    "\n",
    "product_ab = np.dot(matrix_a, matrix_b)\n",
    "print(product_ab)\n",
    "\n",
    "print('\\n')\n",
    "\n",
    "product_ab == trans_ba"
   ]
  },
  {
   "cell_type": "markdown",
   "metadata": {},
   "source": [
    "#### Matriz identidad"
   ]
  },
  {
   "cell_type": "code",
   "execution_count": 66,
   "metadata": {},
   "outputs": [
    {
     "name": "stdout",
     "output_type": "stream",
     "text": [
      "[[ True  True  True]\n",
      " [ True  True  True]\n",
      " [ True  True  True]]\n",
      "[[ True  True]\n",
      " [ True  True]\n",
      " [ True  True]]\n"
     ]
    }
   ],
   "source": [
    "i_2 = np.identity(2)\n",
    "i_3 = np.identity(3)\n",
    "\n",
    "matrix_33 = np.asarray([\n",
    "    [0.7, 3, 9],\n",
    "    [1.7, 2, 9],\n",
    "    [0.7, 9, 2]\n",
    "], dtype=np.float32)\n",
    "\n",
    "matrix_23 = np.asarray([\n",
    "    [0.7, 3],\n",
    "    [1.7, 2],\n",
    "    [0.7, 9]\n",
    "], dtype=np.float32)\n",
    "\n",
    "\n",
    "identity_33 = np.dot(matrix_33, i_3)\n",
    "\n",
    "\n",
    "identity_23 = np.dot(matrix_23, i_2)\n",
    "\n",
    "print(identity_33 == matrix_33)\n",
    "\n",
    "print(identity_23 == matrix_23)"
   ]
  },
  {
   "cell_type": "markdown",
   "metadata": {},
   "source": [
    "#### Matriz inversa\n",
    "\n",
    "Solo se puede calcular en matrices cuadradas y con determinante no nulo\n",
    "\n",
    "$I = A^{-1}A$\n",
    "\n",
    "Para resolver un sistema de ecuaciones\n",
    "\n",
    "$A^{-1}A\\vec{x} = A^{-1}\\vec{b}$"
   ]
  },
  {
   "cell_type": "code",
   "execution_count": 67,
   "metadata": {},
   "outputs": [
    {
     "name": "stdout",
     "output_type": "stream",
     "text": [
      "[[1. 0.]\n",
      " [0. 1.]]\n"
     ]
    }
   ],
   "source": [
    "matrix_a = np.asarray([\n",
    "    [1.5, 3],\n",
    "    [1, 4]\n",
    "])\n",
    "\n",
    "def matrix_inverse_two(matrix2x2):\n",
    "    determinant = matrix2x2[0][0] * matrix2x2[1][1] - matrix2x2[0][1] * matrix2x2[1][0]\n",
    "    matrix = np.asarray([\n",
    "    [matrix2x2[1][1],  - matrix2x2[0][1]],\n",
    "    [- matrix2x2[1][0], matrix2x2[0][0]]\n",
    "])\n",
    "    try:\n",
    "        inverse = 1/(determinant) * matrix\n",
    "        return inverse\n",
    "    except ValueError:\n",
    "        print(\"determinant is 0\")\n",
    "        \n",
    "inverse_a = matrix_inverse_two(matrix_a)\n",
    "\n",
    "i_2 = np.dot(inverse_a, matrix_a)\n",
    "print(i_2)"
   ]
  },
  {
   "cell_type": "markdown",
   "metadata": {},
   "source": [
    "##### np.linalg.inv()\n",
    "Ahora para resolver el sistema de antes y de manera más general usamos np.linalg.inv()"
   ]
  },
  {
   "cell_type": "code",
   "execution_count": 68,
   "metadata": {},
   "outputs": [
    {
     "name": "stdout",
     "output_type": "stream",
     "text": [
      "[[  45.]\n",
      " [2350.]]\n"
     ]
    }
   ],
   "source": [
    "A = np.asarray([\n",
    "    [30, -1],\n",
    "    [50, -1]  \n",
    "], dtype=np.float32)\n",
    "\n",
    "b = np.asarray([\n",
    "    [-1000],\n",
    "    [-100]  \n",
    "], dtype=np.float32)\n",
    "\n",
    "\n",
    "solution_x = np.dot(np.linalg.inv(A), b)\n",
    "\n",
    "print(solution_x)"
   ]
  },
  {
   "cell_type": "markdown",
   "metadata": {},
   "source": [
    "#### Fórmula de la matriz inversa 3x3\n",
    "\n",
    "Se utiliza la matriz adjunta, que es aplicable de manera general para nxn\n",
    "\n",
    "![title](imagenes/inverse-of-3x3-matrix-formula.PNG)"
   ]
  },
  {
   "cell_type": "markdown",
   "metadata": {},
   "source": [
    "#### Cálculo del determinante\n",
    "\n",
    "Consiste en descomponer la matriz en matrices menores y calcular sus determinantes.\n",
    "\n",
    "Para una de 3x3 sería\n",
    "  \n",
    "![title](imagenes/determinant.PNG)\n",
    "\n",
    "La función de numpy es numpy.linalg.det()"
   ]
  },
  {
   "cell_type": "code",
   "execution_count": 69,
   "metadata": {},
   "outputs": [],
   "source": [
    "matrix_22 = np.asarray([\n",
    "    [8, 4],\n",
    "    [4, 2]\n",
    "])\n",
    "\n",
    "matrix_33 = np.asarray([\n",
    "    [1, 1, 1],\n",
    "    [1, 1, 6],\n",
    "    [7, 8, 9]\n",
    "])\n",
    "\n",
    "\n",
    "det_22 = np.linalg.det(matrix_22)\n",
    "\n",
    "det_33 = np.linalg.det(matrix_33)"
   ]
  },
  {
   "cell_type": "markdown",
   "metadata": {},
   "source": [
    "### Solution Sets\n",
    "\n",
    "Hemos visto dos métodos para resolevr un sistema lineal:\n",
    "\n",
    "- Eliminación Gaussiana\n",
    "\n",
    "- Cálculo de matriz inversa de coeficientes\n",
    "\n",
    "Ahora teneos que saber qué podemos ahcer con:\n",
    "\n",
    "- Sistemas que no tienen solución\n",
    "\n",
    "- Sistemas cuya solución no es un único vector\n",
    "\n",
    "- Sistemas con $\\vec{b} = 0$"
   ]
  },
  {
   "cell_type": "markdown",
   "metadata": {},
   "source": [
    "#### Sistema inconsistente\n",
    "\n",
    "Tiene dos o más ecuaciones que no se solapan sus valores.\n",
    "\n",
    "Por ejemplo si tenemos la matriz aumentada:\n",
    "\n",
    "$\n",
    "\\left[\n",
    "  \\begin{matrix}\n",
    "    8 & 4 \\\\\n",
    "    4 & 2 \n",
    "  \\end{matrix}\n",
    "  \\left|\n",
    "    \\,\n",
    "    \\begin{matrix}\n",
    "      5  \\\\\n",
    "      5  \\\\      \n",
    "    \\end{matrix}\n",
    "  \\right.\n",
    "\\right]\n",
    "$\n",
    "\n",
    "Si sacamos las ecuaciones asociadas y representamos las rectas que representan:"
   ]
  },
  {
   "cell_type": "code",
   "execution_count": 70,
   "metadata": {},
   "outputs": [
    {
     "data": {
      "text/plain": [
       "[<matplotlib.lines.Line2D at 0x1d182f87b88>]"
      ]
     },
     "execution_count": 70,
     "metadata": {},
     "output_type": "execute_result"
    },
    {
     "data": {
      "image/png": "[encoded data removed]",
      "text/plain": [
       "<Figure size 432x288 with 1 Axes>"
      ]
     },
     "metadata": {},
     "output_type": "display_data"
    }
   ],
   "source": [
    "import numpy as np\n",
    "import matplotlib.pyplot as plt\n",
    "\n",
    "x = np.linspace(0,20, 1000)\n",
    "\n",
    "y1 = -2*x + 5/4\n",
    "\n",
    "y2 = -2*x + 5/2\n",
    "\n",
    "plt.plot(x, y1, 'blue')\n",
    "\n",
    "plt.plot(x, y2, 'blue')"
   ]
  },
  {
   "cell_type": "markdown",
   "metadata": {},
   "source": [
    "Vemos que las rectas no se cruzan, por lo que el sistema no tiene solución.\n",
    "\n",
    "El determinante de la matriz de coeficientes $A$ es 0."
   ]
  },
  {
   "cell_type": "markdown",
   "metadata": {},
   "source": [
    "#### Sistemas homogéneos\n",
    "\n",
    "El vector constante es el vector nulo.\n",
    "\n",
    "$\n",
    "\\left[\n",
    "  \\begin{matrix}\n",
    "    8 & 4 \\\\\n",
    "    4 & 2 \n",
    "  \\end{matrix}\n",
    "  \\left|\n",
    "    \\,\n",
    "    \\begin{matrix}\n",
    "      0  \\\\\n",
    "      0  \\\\      \n",
    "    \\end{matrix}\n",
    "  \\right.\n",
    "\\right]\n",
    "$\n",
    "\n",
    "Siempre tienen al menos una solución, el vector nulo. \n",
    "\n",
    "#### SIstema Cuadrado no-Homogéneo\n",
    "\n",
    "Hay tres posibilidades:\n",
    "\n",
    "- Sin solución\n",
    "- Solución única\n",
    "- Infinitas soluciones\n",
    "\n",
    "![title](imagenes/square_non_homog.PNG)\n",
    "\n",
    "#### Sistema rectangular no-homogéneo\n",
    "\n",
    "Dos posibilidades\n",
    "\n",
    "- Sin solución\n",
    "- Infinitas soluciones\n",
    "\n",
    "\n",
    "$\n",
    "\\left[\n",
    "  \\begin{matrix}\n",
    "    1 & 0 & 3 \\\\\n",
    "    0 & 1 & -1  \n",
    "  \\end{matrix}\n",
    "  \\left|\n",
    "    \\,\n",
    "    \\begin{matrix}\n",
    "      1  \\\\\n",
    "      1/2  \\\\      \n",
    "    \\end{matrix}\n",
    "  \\right.\n",
    "\\right]\n",
    "$\n",
    "\n",
    "\n",
    "$x_1 + 3x_3 = 1$\n",
    "\n",
    "$x_2 - x_3 = 1/2 $\n",
    "\n",
    "Queda $x_3$ como una variable libre\n",
    "\n",
    "$x_1 = 1 - 3x_3  $\n",
    "\n",
    "$x_2 =  1/2 +  x_3 $\n",
    "\n",
    "El grupo de infinitas soluciones se llama el **espacio de soluciones**\n",
    "\n",
    "La forma paramétrica sería \n",
    "\n",
    "$\\vec{x} = x_3 \\cdot\n",
    "\\left[\n",
    "  \\begin{matrix}\n",
    "    4/3 \\\\\n",
    "    0 \\\\\n",
    "    1 \n",
    "  \\end{matrix}  \n",
    "\\right]\n",
    "$"
   ]
  },
  {
   "cell_type": "code",
   "execution_count": 71,
   "metadata": {},
   "outputs": [],
   "source": [
    "def test_homog(x3):\n",
    "    x1 = 4/3*x3\n",
    "    x2 = 0\n",
    "    \n",
    "    A = np.asarray([\n",
    "    [1, 0, -4/3],\n",
    "    [0, 1, 0],\n",
    "    [0, 0, 0]\n",
    "    ])\n",
    "    \n",
    "    x = np.asarray([\n",
    "    [x1],\n",
    "    [x2],\n",
    "    [x3]\n",
    "    ])\n",
    "    \n",
    "    null = np.asarray([\n",
    "    [0],\n",
    "    [0],\n",
    "    [0]\n",
    "    ])\n",
    "    \n",
    "    return(null == np.dot(A, x))\n",
    "\n",
    "b_one = test_homog(1)\n",
    "\n",
    "b_two = test_homog(-10)"
   ]
  },
  {
   "cell_type": "markdown",
   "metadata": {},
   "source": [
    "##### Square vs. Rectangular\n",
    "\n",
    "When A  is a square matrix, we can compute the determinant to determine if there's a solution and the matrix inverse if the determinant isn't equal to 0.\n",
    "\n",
    "Unfortunately, computing the determinant and matrix inverse are very computationally intensive and should only be used for low dimensional matrices. These techniques are incredibly useful when working with small linear systems by hand, however.\n",
    "\n",
    "When A is a rectangular matrix, we're looking to determine if the system has no solutions or infinitely many solutions using Gaussian elimination. If the latter, it's common to express the solution space in parametric vector form.\n",
    "\n",
    "##### Nonhomogenous vs. Homogenous\n",
    "\n",
    "When A is nonhomogenous, the linear system can contain zero, one, or infinitely many solutions. However, if A is rectangular and nonhomogenous, it can't contain just a unique solution (there will always be a free variable).\n",
    "\n",
    "When A is homogenous, the linear system always contains the trivial solution (the zero vector). To determine if there's a solution space, we need to use Gaussian elimination to see if there are any inconsistent equations. If not, we can express the solution space in parametric form using the free variable."
   ]
  },
  {
   "cell_type": "markdown",
   "metadata": {},
   "source": [
    "## Linear Regression For Machine Learning"
   ]
  },
  {
   "cell_type": "markdown",
   "metadata": {},
   "source": [
    "### The Linear Regression Model\n",
    "\n",
    "A diferencia del KNN, este tipo de apredizaje se clasifica como **Machine Learning Paramétrico**.\n",
    "\n",
    "Existen dos tipos fundamentales de algoritmos de aprendizaje: instance-based learning y parametric machine learning.\n",
    "\n",
    "#### Instance Based Learning\n",
    "\n",
    "Es el tipo de KNN.\n",
    "\n",
    "No trata de capturar una relación entre feature y target.\n",
    "\n",
    "utiliza la totalidad del training set en cada predicción.\n",
    "\n",
    "No escala bien porque a mayor el data set más intensivo es el cálculo de distancias y ordenación de cada elemento que se pruebe en el test set.\n",
    "\n",
    "![title](imagenes/instance_learning.PNG)\n",
    "\n",
    "#### Parametric Machine Learning\n",
    "\n",
    "Como linear regression o logistic regression.\n",
    "\n",
    "El resultado del entrenamiento del modelo es una función matemática que aproxima lod patrones en el training set.\n",
    "\n",
    "Esta función se le llama **modelo**.\n",
    "\n",
    "En el modelo de regresión lineal la aproximación de la relación entre features y target es mediante una ecuación de regresión lineal.\n",
    "\n",
    "$y = a_1x_1 + a_2x_2 + ... + a_nx_n$\n",
    "\n",
    "La complejidad del cálculo para una predicción es uy inferior al modelo de KNN, da igual cómo de grande sea el data set.\n",
    "\n",
    "![title](imagenes/parametric_learning.PNG)"
   ]
  },
  {
   "cell_type": "markdown",
   "metadata": {},
   "source": [
    "Vamos atrabajar con el dataset  de casas vendidas en Ames, Iowa recopilado por Dean De Cock\n",
    "\n",
    "AmesHousing.txt, cuyas columnas son:\n",
    "\n",
    "- Lot Area: Lot size in square feet.\n",
    "- Overall Qual: Rates the overall material and finish of the house.\n",
    "- Overall Cond: Rates the overall condition of the house.\n",
    "- Year Built: Original construction date.\n",
    "- Low Qual Fin SF: Low quality finished square feet (all floors).\n",
    "- Full Bath: Full bathrooms above grade.\n",
    "- Fireplaces: Number of fireplaces.\n",
    "\n",
    "[La documentación del dataset](https://s3.amazonaws.com/dq-content/307/data_description.txt)"
   ]
  },
  {
   "cell_type": "code",
   "execution_count": 72,
   "metadata": {},
   "outputs": [
    {
     "name": "stdout",
     "output_type": "stream",
     "text": [
      "<class 'pandas.core.frame.DataFrame'>\n",
      "RangeIndex: 2930 entries, 0 to 2929\n",
      "Data columns (total 82 columns):\n",
      " #   Column           Non-Null Count  Dtype  \n",
      "---  ------           --------------  -----  \n",
      " 0   Order            2930 non-null   int64  \n",
      " 1   PID              2930 non-null   int64  \n",
      " 2   MS SubClass      2930 non-null   int64  \n",
      " 3   MS Zoning        2930 non-null   object \n",
      " 4   Lot Frontage     2440 non-null   float64\n",
      " 5   Lot Area         2930 non-null   int64  \n",
      " 6   Street           2930 non-null   object \n",
      " 7   Alley            198 non-null    object \n",
      " 8   Lot Shape        2930 non-null   object \n",
      " 9   Land Contour     2930 non-null   object \n",
      " 10  Utilities        2930 non-null   object \n",
      " 11  Lot Config       2930 non-null   object \n",
      " 12  Land Slope       2930 non-null   object \n",
      " 13  Neighborhood     2930 non-null   object \n",
      " 14  Condition 1      2930 non-null   object \n",
      " 15  Condition 2      2930 non-null   object \n",
      " 16  Bldg Type        2930 non-null   object \n",
      " 17  House Style      2930 non-null   object \n",
      " 18  Overall Qual     2930 non-null   int64  \n",
      " 19  Overall Cond     2930 non-null   int64  \n",
      " 20  Year Built       2930 non-null   int64  \n",
      " 21  Year Remod/Add   2930 non-null   int64  \n",
      " 22  Roof Style       2930 non-null   object \n",
      " 23  Roof Matl        2930 non-null   object \n",
      " 24  Exterior 1st     2930 non-null   object \n",
      " 25  Exterior 2nd     2930 non-null   object \n",
      " 26  Mas Vnr Type     2907 non-null   object \n",
      " 27  Mas Vnr Area     2907 non-null   float64\n",
      " 28  Exter Qual       2930 non-null   object \n",
      " 29  Exter Cond       2930 non-null   object \n",
      " 30  Foundation       2930 non-null   object \n",
      " 31  Bsmt Qual        2850 non-null   object \n",
      " 32  Bsmt Cond        2850 non-null   object \n",
      " 33  Bsmt Exposure    2847 non-null   object \n",
      " 34  BsmtFin Type 1   2850 non-null   object \n",
      " 35  BsmtFin SF 1     2929 non-null   float64\n",
      " 36  BsmtFin Type 2   2849 non-null   object \n",
      " 37  BsmtFin SF 2     2929 non-null   float64\n",
      " 38  Bsmt Unf SF      2929 non-null   float64\n",
      " 39  Total Bsmt SF    2929 non-null   float64\n",
      " 40  Heating          2930 non-null   object \n",
      " 41  Heating QC       2930 non-null   object \n",
      " 42  Central Air      2930 non-null   object \n",
      " 43  Electrical       2929 non-null   object \n",
      " 44  1st Flr SF       2930 non-null   int64  \n",
      " 45  2nd Flr SF       2930 non-null   int64  \n",
      " 46  Low Qual Fin SF  2930 non-null   int64  \n",
      " 47  Gr Liv Area      2930 non-null   int64  \n",
      " 48  Bsmt Full Bath   2928 non-null   float64\n",
      " 49  Bsmt Half Bath   2928 non-null   float64\n",
      " 50  Full Bath        2930 non-null   int64  \n",
      " 51  Half Bath        2930 non-null   int64  \n",
      " 52  Bedroom AbvGr    2930 non-null   int64  \n",
      " 53  Kitchen AbvGr    2930 non-null   int64  \n",
      " 54  Kitchen Qual     2930 non-null   object \n",
      " 55  TotRms AbvGrd    2930 non-null   int64  \n",
      " 56  Functional       2930 non-null   object \n",
      " 57  Fireplaces       2930 non-null   int64  \n",
      " 58  Fireplace Qu     1508 non-null   object \n",
      " 59  Garage Type      2773 non-null   object \n",
      " 60  Garage Yr Blt    2771 non-null   float64\n",
      " 61  Garage Finish    2771 non-null   object \n",
      " 62  Garage Cars      2929 non-null   float64\n",
      " 63  Garage Area      2929 non-null   float64\n",
      " 64  Garage Qual      2771 non-null   object \n",
      " 65  Garage Cond      2771 non-null   object \n",
      " 66  Paved Drive      2930 non-null   object \n",
      " 67  Wood Deck SF     2930 non-null   int64  \n",
      " 68  Open Porch SF    2930 non-null   int64  \n",
      " 69  Enclosed Porch   2930 non-null   int64  \n",
      " 70  3Ssn Porch       2930 non-null   int64  \n",
      " 71  Screen Porch     2930 non-null   int64  \n",
      " 72  Pool Area        2930 non-null   int64  \n",
      " 73  Pool QC          13 non-null     object \n",
      " 74  Fence            572 non-null    object \n",
      " 75  Misc Feature     106 non-null    object \n",
      " 76  Misc Val         2930 non-null   int64  \n",
      " 77  Mo Sold          2930 non-null   int64  \n",
      " 78  Yr Sold          2930 non-null   int64  \n",
      " 79  Sale Type        2930 non-null   object \n",
      " 80  Sale Condition   2930 non-null   object \n",
      " 81  SalePrice        2930 non-null   int64  \n",
      "dtypes: float64(11), int64(28), object(43)\n",
      "memory usage: 1.8+ MB\n"
     ]
    }
   ],
   "source": [
    "import pandas as pd\n",
    "\n",
    "data = pd.read_csv('AmesHousing.txt', delimiter = '\\t')\n",
    "\n",
    "train = data.loc[:1459]\n",
    "\n",
    "test = data.loc[1460:]\n",
    "\n",
    "data.info()\n",
    "\n",
    "target = 'SalePrice'"
   ]
  },
  {
   "cell_type": "markdown",
   "metadata": {},
   "source": [
    "#### Regresión Lineal Simple ( Caso univariante )\n",
    "\n",
    "\n",
    "$\\hat{y} = a_1x_1 + a_0$\n",
    "\n",
    "\n",
    "$\\hat{y}$ es la columna target\n",
    "\n",
    "$x_1$ representa la columna feature\n",
    "\n",
    "$a_0, a_1$ son los parámetros específicos al dataset"
   ]
  },
  {
   "cell_type": "markdown",
   "metadata": {},
   "source": [
    "Sacamos la columna que podría ser la que mejor puede aprixomar el modelo con una sola variable"
   ]
  },
  {
   "cell_type": "code",
   "execution_count": 73,
   "metadata": {},
   "outputs": [
    {
     "data": {
      "image/png": "[encoded data removed]",
      "text/plain": [
       "<Figure size 504x1080 with 3 Axes>"
      ]
     },
     "metadata": {},
     "output_type": "display_data"
    }
   ],
   "source": [
    "import matplotlib.pyplot as plt\n",
    "\n",
    "columns = ['Garage Area', 'Gr Liv Area', 'Overall Cond']\n",
    "\n",
    "fig = plt.figure(figsize=(7, 15))\n",
    "for sp in range(0,3):\n",
    "    ax = fig.add_subplot(3,1,sp+1)\n",
    "    ax.scatter(train[columns[sp]], train['SalePrice'], label=sp, c='blue',  linewidth=3)   \n",
    "    ax.set_xlabel(columns[sp])\n",
    "    ax.set_ylabel('SalePrice')\n",
    "\n",
    "plt.show()"
   ]
  },
  {
   "cell_type": "markdown",
   "metadata": {},
   "source": [
    "Parece que la variable que mejor se correlaciona con el precio es **Gr Liv Area**.\n",
    "\n",
    "Esto lo podemos calcular con la correlación entre pares de columnas con pandas.DataFrame.corr()"
   ]
  },
  {
   "cell_type": "code",
   "execution_count": 74,
   "metadata": {},
   "outputs": [
    {
     "name": "stdout",
     "output_type": "stream",
     "text": [
      "              Garage Area  Gr Liv Area  Overall Cond  SalePrice\n",
      "Garage Area      1.000000     0.465366     -0.132401   0.662397\n",
      "Gr Liv Area      0.465366     1.000000     -0.133710   0.698990\n",
      "Overall Cond    -0.132401    -0.133710      1.000000  -0.099395\n",
      "SalePrice        0.662397     0.698990     -0.099395   1.000000\n"
     ]
    }
   ],
   "source": [
    "print(train[['Garage Area', 'Gr Liv Area', 'Overall Cond', 'SalePrice']].corr())"
   ]
  },
  {
   "cell_type": "markdown",
   "metadata": {},
   "source": [
    "#### Residual Sum Of Squares\n",
    "\n",
    "Los parámetros óptimos se encuentran optimizando la suma de los residuos al cuadrado **RSS**.\n",
    "\n",
    "Los residuos son la diferencia entre el valor predicho ($\\hat{y}$) y el obtenido ($y$).\n",
    "\n",
    "$RSS = (y_1 - \\hat{y_1})^2 +  (y_2 - \\hat{y_2})^2 + ... +  (y_n - \\hat{y_n})^2 $\n",
    "\n",
    "$RSS =\\sum_{i=1}^n (y_i - \\hat{y_i})^2$\n",
    "\n",
    "$MSE = \\cfrac{1}{n} \\sum_{i=1}^n (y_i - \\hat{y_i})^2$"
   ]
  },
  {
   "cell_type": "code",
   "execution_count": 75,
   "metadata": {},
   "outputs": [
    {
     "name": "stdout",
     "output_type": "stream",
     "text": [
      "[116.86624683]\n",
      "5366.821710056043\n"
     ]
    }
   ],
   "source": [
    "from sklearn.linear_model import LinearRegression\n",
    "\n",
    "model = LinearRegression()\n",
    "model.fit(train[['Gr Liv Area']], train['SalePrice'])\n",
    "\n",
    "print(model.coef_)\n",
    "print(model.intercept_)\n",
    "\n",
    "a1 = model.coef_\n",
    "a0 = model.intercept_\n"
   ]
  },
  {
   "cell_type": "markdown",
   "metadata": {},
   "source": [
    "Por cada sqft de área que aumente el precio aumenta 116,67 dólares.\n",
    "\n",
    "Ahora podemos predecir los elementos el test set"
   ]
  },
  {
   "cell_type": "code",
   "execution_count": 76,
   "metadata": {},
   "outputs": [
    {
     "name": "stdout",
     "output_type": "stream",
     "text": [
      "56034.362001412796\n",
      "57088.25161263909\n"
     ]
    }
   ],
   "source": [
    "import numpy as np\n",
    "from sklearn.metrics import mean_squared_error\n",
    "\n",
    "lr = LinearRegression()\n",
    "lr.fit(train[['Gr Liv Area']], train['SalePrice'])\n",
    "\n",
    "prediction_train = lr.predict(train[['Gr Liv Area']])\n",
    "\n",
    "\n",
    "prediction_test = lr.predict(test[['Gr Liv Area']])\n",
    "\n",
    "train_rmse = np.sqrt(mean_squared_error(train['SalePrice'], prediction_train))\n",
    "\n",
    "test_rmse = np.sqrt(mean_squared_error(test['SalePrice'], prediction_test))\n",
    "\n",
    "print(train_rmse)\n",
    "\n",
    "print(test_rmse)"
   ]
  },
  {
   "cell_type": "markdown",
   "metadata": {},
   "source": [
    "#### Multiple Linear Regression\n",
    "\n",
    "Ahora cogemos también las otras dos columnas de antes y entrenamos un modelo.\n",
    "\n",
    "Vemos las diferencias."
   ]
  },
  {
   "cell_type": "code",
   "execution_count": 77,
   "metadata": {},
   "outputs": [
    {
     "name": "stdout",
     "output_type": "stream",
     "text": [
      "56032.398015258674\n",
      "57066.90779448559\n"
     ]
    }
   ],
   "source": [
    "cols = ['Overall Cond', 'Gr Liv Area']\n",
    "\n",
    "lr = LinearRegression()\n",
    "lr.fit(train[cols], train['SalePrice'])\n",
    "\n",
    "prediction_train_2 = lr.predict(train[cols])\n",
    "\n",
    "prediction_test_2 = lr.predict(test[cols])\n",
    "\n",
    "train_rmse_2 = np.sqrt(mean_squared_error(train['SalePrice'], prediction_train_2))\n",
    "\n",
    "test_rmse_2 = np.sqrt(mean_squared_error(test['SalePrice'], prediction_test_2))\n",
    "\n",
    "print(train_rmse_2)\n",
    "\n",
    "print(test_rmse_2)"
   ]
  },
  {
   "cell_type": "markdown",
   "metadata": {},
   "source": [
    "### Feature Selection\n",
    "\n",
    "Una vez seleccionado el modelo, lo sisguiente es seleccionar las features apropiadas.\n",
    "\n",
    "Estudiamos:\n",
    "- correlación entre features y target\n",
    "- correlación entre features \n",
    "- varianza de features\n",
    "\n",
    "Nos centramos en seleccionar features sin valres perdidos o que no necesitan transformaciones."
   ]
  },
  {
   "cell_type": "markdown",
   "metadata": {},
   "source": [
    "Primero eliminamos las columnas no numéricas y luego otras que son útiles en regresión"
   ]
  },
  {
   "cell_type": "code",
   "execution_count": 100,
   "metadata": {},
   "outputs": [
    {
     "name": "stdout",
     "output_type": "stream",
     "text": [
      "Order              0\n",
      "MS SubClass        0\n",
      "Lot Area           0\n",
      "Overall Qual       0\n",
      "Overall Cond       0\n",
      "1st Flr SF         0\n",
      "2nd Flr SF         0\n",
      "Low Qual Fin SF    0\n",
      "Gr Liv Area        0\n",
      "Full Bath          0\n",
      "Half Bath          0\n",
      "Bedroom AbvGr      0\n",
      "Kitchen AbvGr      0\n",
      "TotRms AbvGrd      0\n",
      "Fireplaces         0\n",
      "Garage Cars        0\n",
      "Garage Area        0\n",
      "Wood Deck SF       0\n",
      "Open Porch SF      0\n",
      "Enclosed Porch     0\n",
      "3Ssn Porch         0\n",
      "Screen Porch       0\n",
      "Pool Area          0\n",
      "Misc Val           0\n",
      "SalePrice          0\n",
      "dtype: int64\n"
     ]
    }
   ],
   "source": [
    "\n",
    "import pandas as pd\n",
    "data = pd.read_csv('AmesHousing.txt', delimiter=\"\\t\")\n",
    "train = data[0:1460]\n",
    "test = data[1460:]\n",
    "\n",
    "\n",
    "numerical_train = train.select_dtypes(include=['int16', 'int32', 'int64', 'float16', 'float32', 'float64'])\n",
    "numerical_train = numerical_train.drop(['PID', 'Year Built', 'Year Remod/Add', 'Garage Yr Blt', 'Mo Sold', 'Yr Sold'], axis=1)\n",
    "null_series = numerical_train.isnull().sum()\n",
    "full_cols_series = null_series[null_series == 0]\n",
    "print(full_cols_series)"
   ]
  },
  {
   "cell_type": "code",
   "execution_count": 102,
   "metadata": {},
   "outputs": [
    {
     "data": {
      "text/plain": [
       "25"
      ]
     },
     "execution_count": 102,
     "metadata": {},
     "output_type": "execute_result"
    }
   ],
   "source": [
    "len(full_cols_series)"
   ]
  },
  {
   "cell_type": "markdown",
   "metadata": {},
   "source": [
    "Estudiar la correlación entre 25 features y target con una matriz de correlación es muy difícil, por lo que es mejor hacer correlación solo con el target."
   ]
  },
  {
   "cell_type": "code",
   "execution_count": 103,
   "metadata": {},
   "outputs": [
    {
     "name": "stdout",
     "output_type": "stream",
     "text": [
      "Misc Val           0.009903\n",
      "3Ssn Porch         0.038699\n",
      "Low Qual Fin SF    0.060352\n",
      "Order              0.068181\n",
      "MS SubClass        0.088504\n",
      "Overall Cond       0.099395\n",
      "Screen Porch       0.100121\n",
      "Bedroom AbvGr      0.106941\n",
      "Kitchen AbvGr      0.130843\n",
      "Pool Area          0.145474\n",
      "Enclosed Porch     0.165873\n",
      "2nd Flr SF         0.202352\n",
      "Half Bath          0.272870\n",
      "Lot Area           0.274730\n",
      "Wood Deck SF       0.319104\n",
      "Open Porch SF      0.344383\n",
      "TotRms AbvGrd      0.483701\n",
      "Fireplaces         0.485683\n",
      "Full Bath          0.518194\n",
      "1st Flr SF         0.657119\n",
      "Garage Area        0.662397\n",
      "Garage Cars        0.663485\n",
      "Gr Liv Area        0.698990\n",
      "Overall Qual       0.804562\n",
      "SalePrice          1.000000\n",
      "Name: SalePrice, dtype: float64\n"
     ]
    }
   ],
   "source": [
    "train_subset = train[full_cols_series.index]\n",
    "corrmat = train_subset.corr()\n",
    "sorted_corrs = corrmat['SalePrice'].abs().sort_values()\n",
    "print(sorted_corrs)"
   ]
  },
  {
   "cell_type": "markdown",
   "metadata": {},
   "source": [
    "#### Collinearity\n",
    "\n",
    "Cuando dos features tienen mucha correlación están duplicando información sobre el target. No se necesita mantener ambas.\n",
    "\n",
    "Por ejemplo, podemos poner un umbral de 0.3 en correlación con target para filtrar un poco más los features y luego ver qué colinearidad tienen las features.\n",
    "\n",
    "Es bueno elegir y experimentar con umbrales de correlación como 0.3, e ir adaptando según resultados.\n",
    "\n",
    "Una manera mejor que la matriz de correlación para ver la colinearidad es el seaborn.heatmap()"
   ]
  },
  {
   "cell_type": "code",
   "execution_count": 113,
   "metadata": {},
   "outputs": [
    {
     "data": {
      "text/plain": [
       "<matplotlib.axes._subplots.AxesSubplot at 0x1d1891d9948>"
      ]
     },
     "execution_count": 113,
     "metadata": {},
     "output_type": "execute_result"
    },
    {
     "data": {
      "image/png": "[encoded data removed]",
      "text/plain": [
       "<Figure size 1080x720 with 2 Axes>"
      ]
     },
     "metadata": {},
     "output_type": "display_data"
    }
   ],
   "source": [
    "import seaborn as sns\n",
    "import matplotlib.pyplot as plt\n",
    "\n",
    "strong_corrs = sorted_corrs[sorted_corrs > 0.3]\n",
    "\n",
    "corrmat = train_subset[strong_corrs.index].corr()\n",
    "\n",
    "fig = plt.figure(figsize=(15,10))\n",
    "sns.heatmap(corrmat)\n"
   ]
  },
  {
   "cell_type": "markdown",
   "metadata": {},
   "source": [
    "Vemos que las columnas Gr Liv Area y TotRms AbvGrd tienen alta correlación.\n",
    "\n",
    "Lo mismo pasa con garage Area y garage Cars.\n",
    "\n",
    "Nos quedamos con las que son variables continuas y que ofrecen mayor detalle.\n",
    "\n",
    "Es necesario también asegurarse de que el test set no tiene filas vacías.\n",
    "Vemos que tiene una en garage Area así que eliminamos esa fila más adelante, antes de predecir en el test."
   ]
  },
  {
   "cell_type": "code",
   "execution_count": 114,
   "metadata": {},
   "outputs": [
    {
     "name": "stdout",
     "output_type": "stream",
     "text": [
      "<class 'pandas.core.frame.DataFrame'>\n",
      "RangeIndex: 1470 entries, 1460 to 2929\n",
      "Data columns (total 9 columns):\n",
      " #   Column         Non-Null Count  Dtype  \n",
      "---  ------         --------------  -----  \n",
      " 0   Wood Deck SF   1470 non-null   int64  \n",
      " 1   Open Porch SF  1470 non-null   int64  \n",
      " 2   Fireplaces     1470 non-null   int64  \n",
      " 3   Full Bath      1470 non-null   int64  \n",
      " 4   1st Flr SF     1470 non-null   int64  \n",
      " 5   Garage Area    1469 non-null   float64\n",
      " 6   Gr Liv Area    1470 non-null   int64  \n",
      " 7   Overall Qual   1470 non-null   int64  \n",
      " 8   SalePrice      1470 non-null   int64  \n",
      "dtypes: float64(1), int64(8)\n",
      "memory usage: 103.5 KB\n",
      "None\n"
     ]
    }
   ],
   "source": [
    "final_corr_cols = strong_corrs.drop(['Garage Cars', 'TotRms AbvGrd'])\n",
    "print(test[final_corr_cols.index].info())"
   ]
  },
  {
   "cell_type": "code",
   "execution_count": 117,
   "metadata": {},
   "outputs": [
    {
     "name": "stdout",
     "output_type": "stream",
     "text": [
      "34173.97629185852\n",
      "41032.0261201977\n"
     ]
    }
   ],
   "source": [
    "from sklearn.linear_model import LinearRegression\n",
    "from sklearn.metrics import mean_squared_error\n",
    "import numpy as np\n",
    "\n",
    "final_corr_cols = strong_corrs.drop(['Garage Cars', 'TotRms AbvGrd'])\n",
    "features = final_corr_cols.drop(['SalePrice']).index\n",
    "target = 'SalePrice'\n",
    "\n",
    "clean_test = test[final_corr_cols.index].copy()\n",
    "\n",
    "clean_test.dropna(axis = 0, inplace = True)\n",
    "\n",
    "lrm = LinearRegression()\n",
    "lrm.fit(train[features], train[target])\n",
    "\n",
    "train_predictions = lrm.predict(train[features])\n",
    "\n",
    "test_predictions = lrm.predict(clean_test[features])\n",
    "\n",
    "train_rmse = np.sqrt(mean_squared_error(train[target], train_predictions))\n",
    "\n",
    "test_rmse = np.sqrt(mean_squared_error(clean_test[target], test_predictions))\n",
    "\n",
    "print(train_rmse)\n",
    "\n",
    "print(test_rmse)"
   ]
  },
  {
   "cell_type": "code",
   "execution_count": null,
   "metadata": {},
   "outputs": [],
   "source": []
  },
  {
   "cell_type": "markdown",
   "metadata": {},
   "source": [
    "#### Baja Varianza\n",
    "\n",
    "Las columnas con poca varianza no contribuyen de manera importante a la capacidad del modelo para predecir.\n",
    "\n",
    "Para poder comparar varianzas tenemos que reescalar los valores de manera que todos están comprendidos entre 0 y 1.\n",
    "\n",
    "$x_{escalado} = \\cfrac{x - min(x)}{max(x) - min(x)}$\n"
   ]
  },
  {
   "cell_type": "code",
   "execution_count": 119,
   "metadata": {},
   "outputs": [
    {
     "name": "stdout",
     "output_type": "stream",
     "text": [
      "Wood Deck SF     0.0\n",
      "Open Porch SF    0.0\n",
      "Fireplaces       0.0\n",
      "Full Bath        0.0\n",
      "1st Flr SF       0.0\n",
      "Garage Area      0.0\n",
      "Gr Liv Area      0.0\n",
      "Overall Qual     0.0\n",
      "dtype: float64\n",
      "Wood Deck SF     1.0\n",
      "Open Porch SF    1.0\n",
      "Fireplaces       1.0\n",
      "Full Bath        1.0\n",
      "1st Flr SF       1.0\n",
      "Garage Area      1.0\n",
      "Gr Liv Area      1.0\n",
      "Overall Qual     1.0\n",
      "dtype: float64\n"
     ]
    }
   ],
   "source": [
    "unit_train = (train[features] - train[features].min())/(train[features].max() - train[features].min()) \n",
    "\n",
    "print(unit_train.min())\n",
    "\n",
    "print(unit_train.max())"
   ]
  },
  {
   "cell_type": "markdown",
   "metadata": {},
   "source": [
    "Vemos el valor de la varianza una vez escalado"
   ]
  },
  {
   "cell_type": "code",
   "execution_count": 121,
   "metadata": {},
   "outputs": [
    {
     "name": "stdout",
     "output_type": "stream",
     "text": [
      "Wood Deck SF     0.033064\n",
      "Open Porch SF    0.013938\n",
      "Fireplaces       0.046589\n",
      "Full Bath        0.018621\n",
      "1st Flr SF       0.025814\n",
      "Garage Area      0.020347\n",
      "Gr Liv Area      0.023078\n",
      "Overall Qual     0.024496\n",
      "dtype: float64\n"
     ]
    }
   ],
   "source": [
    "print(unit_train.var())"
   ]
  },
  {
   "cell_type": "markdown",
   "metadata": {},
   "source": [
    "Open Porch SF es la que tienen menor varianza, mucho más lejos que los dos siguientes entre ellos."
   ]
  },
  {
   "cell_type": "code",
   "execution_count": 122,
   "metadata": {},
   "outputs": [
    {
     "name": "stdout",
     "output_type": "stream",
     "text": [
      "34372.696707783965\n",
      "40591.42702437726\n"
     ]
    }
   ],
   "source": [
    "clean_test = test[final_corr_cols.index].dropna()\n",
    "\n",
    "features = features.drop('Open Porch SF')\n",
    "\n",
    "lrm = LinearRegression()\n",
    "\n",
    "lrm.fit(train[features], train[target])\n",
    "\n",
    "train_predictions = lrm.predict(train[features])\n",
    "\n",
    "train_rmse_2 = np.sqrt(mean_squared_error(train[target], train_predictions))\n",
    "\n",
    "test_predictions = lrm.predict(clean_test[features])\n",
    "\n",
    "test_rmse_2 = np.sqrt(mean_squared_error(clean_test[target], test_predictions))\n",
    "\n",
    "print(train_rmse_2)\n",
    "\n",
    "print(test_rmse_2)"
   ]
  },
  {
   "cell_type": "markdown",
   "metadata": {},
   "source": [
    "### Gradient Descent\n",
    "\n",
    "Un modelo de regresión lineal estima lña relación entre las features u la target y luego se utiliza para hacer predicciones.\n",
    "\n",
    "Vamos a discutir los dos métodos más comunes para encontrar los valores óptimos de los parámetros para un modelo de regresi´pn lineal.\n",
    "\n",
    "Encontrar los valores óptimos que forman un modelo se llama **model fitting**.\n",
    "\n",
    "El objetivo es minimizar la función:\n",
    "\n",
    "$MSE = \\cfrac{1}{n} \\sum_{i=1}^n (y_i - \\hat{y_i})^2$\n",
    "\n",
    "\n",
    "Un problema de optimización es el que consiste en elegir un set de valores que minimizan o maximizan otra función.\n",
    "\n",
    "Empezamos con un modelo con un solo parámetro (no tiene $a_0$)\n",
    "\n",
    "$\\hat{y} = a_1x_1$\n",
    "\n",
    "Si elegimos la variable GrLivArea podemos ver cómo evoluciona el error:\n",
    "\n",
    "![title](imagenes/gradient_descent.PNG)\n",
    "\n",
    "\n",
    "Esto se parece a buscar el mínimo relativo con cálculo. Sin embargo, no es tan sencillo como calcular la derivada cunado tenemos múltiples parámetros.\n",
    "\n",
    "Tampoco podremos visualizar a partir de 3 parámetros.\n",
    "\n",
    "Una solución interativa es el **Gradient Descent**. Este algoritmo prueba disintos valores de parámetro hasta que encuentra el menor MSE.\n",
    "\n",
    "Proceso:\n",
    "\n",
    "- Seleccionar valor inicial de $a_1$\n",
    "\n",
    "- Repetir hasta convergencia (Número definido de iteraciones):\n",
    "\n",
    "    - Calcular MSE con el $a_1$ actual : $MSE(a_1) = \\cfrac{1}{n} \\sum_{i=1}^n (y^{(i)} - \\hat{y^{(i)}})^2 $\n",
    "    - Calcular la derivada de MSE respecto al actual parámetro $\\cfrac{d}{da_1}MSE(a_1)$\n",
    "    - Actualizar el valor del parámetro restando la derivada por una constante $\\alpha$ (learning rate): $a_1:=a_1 - \\alpha \\cfrac{d}{da_1}MSE(a_1)$.\n",
    "        \n",
    "        También se puede escribir esta asignación con flecha $a_1 \\leftarrow a_1 - \\alpha \\cfrac{d}{da_1}MSE(a_1)$"
   ]
  },
  {
   "cell_type": "markdown",
   "metadata": {},
   "source": [
    "La función que tratamos de optimizar con minimización es la **función de coste/ Cost Function**. También se suele utilizar el término **Loss Function** pero no son lo mismo: \n",
    "\n",
    "A loss function/error function is for a single training example/input. A cost function, on the other hand, is the average loss over the entire training dataset.\n",
    "\n",
    "Si $\\hat{y^{(i)}} = a_1x_1$\n",
    "\n",
    "\n",
    "Si tenemos $MSE(a_1) = \\cfrac{1}{n} \\sum_{i=1}^n ( \\hat{y^{(i)}} - y^{(i)})^2 = \\cfrac{1}{n} \\sum_{i=1}^n (  a_1x_{1}^{(i)} - y^{(i)})^2 $ y calculamos la derivada respecto a $a_1$\n",
    "\n",
    "$\\cfrac{d}{da_1}MSE(a_1) = \\cfrac{2}{n} \\sum_{i=1}^n x_{1}^{(i)} (a_1x_{1}^{(i)} - y^{(i)})^2$\n",
    "\n",
    "\n",
    "Una vez conocido esto se utiliza el algoritmo del descenso de gradiente para encontrar un mínimo:"
   ]
  },
  {
   "cell_type": "code",
   "execution_count": 123,
   "metadata": {},
   "outputs": [],
   "source": [
    "def derivative(a1, xi_list, yi_list):\n",
    "    \n",
    "    return (2/len(xi_list)*(xi_list*(a1*xi_list - yi_list))).sum()\n",
    "\n",
    "def gradient_descent(xi_list, yi_list, max_iterations, alpha, a1_initial):\n",
    "    a1_list = [a1_initial]\n",
    "\n",
    "    for i in range(0, max_iterations):\n",
    "        a1 = a1_list[i]\n",
    "        deriv = derivative(a1, xi_list, yi_list)\n",
    "        a1_new = a1 - alpha*deriv\n",
    "        a1_list.append(a1_new)\n",
    "    return(a1_list)\n",
    "\n",
    "# Uncomment when ready.\n",
    "param_iterations = gradient_descent(train['Gr Liv Area'], train['SalePrice'], 20, .0000003, 150)\n",
    "final_param = param_iterations[-1]"
   ]
  },
  {
   "cell_type": "code",
   "execution_count": 124,
   "metadata": {},
   "outputs": [
    {
     "data": {
      "text/plain": [
       "120.14219147202736"
      ]
     },
     "execution_count": 124,
     "metadata": {},
     "output_type": "execute_result"
    }
   ],
   "source": [
    "final_param"
   ]
  },
  {
   "cell_type": "markdown",
   "metadata": {},
   "source": [
    "Otra forma de hacer la función sería:"
   ]
  },
  {
   "cell_type": "code",
   "execution_count": null,
   "metadata": {},
   "outputs": [],
   "source": [
    "def derivative(a1, xi_list, yi_list):\n",
    "    len_data = len(xi_list)\n",
    "    error = 0\n",
    "    for i in range(0, len_data):\n",
    "        error += xi_list[i]*(a1*xi_list[i] - yi_list[i])\n",
    "    deriv = 2*error/len_data\n",
    "    return deriv"
   ]
  },
  {
   "cell_type": "markdown",
   "metadata": {},
   "source": [
    "Si ahora añadimos el parámetro intercept $a_0$ tendremos un sistema de regresión lineal simple:\n",
    "\n",
    "SalePrice = $a_1$* GrLiveArea + $a_0$\n",
    "\n",
    "![title](imagenes/gradient_descent_1.PNG)"
   ]
  },
  {
   "cell_type": "markdown",
   "metadata": {},
   "source": [
    "Ahora la función de coste tendrán 2 parámetros $a_0$ y $a_1$\n",
    "\n",
    "$MSE(a_1) = \\cfrac{1}{n} \\sum_{i=1}^n (  a_0 + a_1x_{1}^{(i)} - y^{(i)})^2 $\n",
    "\n",
    "\n",
    "Ahora tenemos dos reglas de actualización para nuestros parámetros:\n",
    "\n",
    "\n",
    " $a_0 \\leftarrow a_0 - \\alpha \\cfrac{d}{da_0}MSE(a_0)$\n",
    "\n",
    " $a_1 \\leftarrow a_1 - \\alpha \\cfrac{d}{da_1}MSE(a_1)$\n",
    "\n",
    "\n",
    "Y habrá que calcular tantas derivadas como parámetros tengamos:\n",
    "\n",
    "\n",
    "$\\cfrac{d}{da_0}MSE(a_0) = \\cfrac{2}{n} \\sum_{i=1}^n  (a_0 + a_1x_{1}^{(i)} - y^{(i)})^2$\n",
    "\n",
    "\n",
    "$\\cfrac{d}{da_1}MSE(a_1) = \\cfrac{2}{n} \\sum_{i=1}^n x_{1}^{(i)} (a_1x_{1}^{(i)} - y^{(i)})^2$\n",
    "\n"
   ]
  },
  {
   "cell_type": "code",
   "execution_count": 126,
   "metadata": {},
   "outputs": [],
   "source": [
    "def a1_derivative(a0, a1, xi_list, yi_list):\n",
    "    len_data = len(xi_list)\n",
    "    error = 0\n",
    "    for i in range(0, len_data):\n",
    "        error += xi_list[i]*(a0 + a1*xi_list[i] - yi_list[i])\n",
    "    deriv = 2*error/len_data\n",
    "    return deriv\n",
    "\n",
    "def a0_derivative(a0, a1, xi_list, yi_list):\n",
    "    len_data = len(xi_list)\n",
    "    error = 0\n",
    "    for i in range(0, len_data):\n",
    "        error += a0 + a1*xi_list[i] - yi_list[i]\n",
    "    deriv = 2/len_data * error\n",
    "    \n",
    "    return deriv\n",
    "\n",
    "def gradient_descent(xi_list, yi_list, max_iterations, alpha, a1_initial, a0_initial):\n",
    "    a1_list = [a1_initial]\n",
    "    a0_list = [a0_initial]\n",
    "\n",
    "    for i in range(0, max_iterations):\n",
    "        a1 = a1_list[i]\n",
    "        a0 = a0_list[i]\n",
    "        \n",
    "        a1_deriv = a1_derivative(a0, a1, xi_list, yi_list)\n",
    "        a0_deriv = a0_derivative(a0, a1, xi_list, yi_list)\n",
    "        \n",
    "        a1_new = a1 - alpha*a1_deriv\n",
    "        a0_new = a0 - alpha*a0_deriv\n",
    "        \n",
    "        a1_list.append(a1_new)\n",
    "        a0_list.append(a0_new)\n",
    "    return(a0_list, a1_list)\n",
    "\n",
    "# Uncomment when ready.\n",
    "a0_params, a1_params = gradient_descent(train['Gr Liv Area'], train['SalePrice'], 20, .0000003, 150, 1000)"
   ]
  },
  {
   "cell_type": "code",
   "execution_count": 127,
   "metadata": {},
   "outputs": [
    {
     "data": {
      "text/plain": [
       "[1000,\n",
       " 999.9729797812329,\n",
       " 999.985903701066,\n",
       " 999.980232547139,\n",
       " 999.9832179015052,\n",
       " 999.9821734177915,\n",
       " 999.983004932363,\n",
       " 999.9829631191217,\n",
       " 999.9833278635107,\n",
       " 999.98350334434,\n",
       " 999.9837669324418,\n",
       " 999.9839895042135,\n",
       " 999.9842311701743,\n",
       " 999.9844639472566,\n",
       " 999.9847008623329,\n",
       " 999.9849358510428,\n",
       " 999.9851717365096,\n",
       " 999.9854072044933,\n",
       " 999.985642866808,\n",
       " 999.9858784386378,\n",
       " 999.986114052572]"
      ]
     },
     "execution_count": 127,
     "metadata": {},
     "output_type": "execute_result"
    }
   ],
   "source": [
    "a0_params"
   ]
  },
  {
   "cell_type": "code",
   "execution_count": 128,
   "metadata": {},
   "outputs": [
    {
     "data": {
      "text/plain": [
       "[150,\n",
       " 105.34801721547944,\n",
       " 126.13471917628125,\n",
       " 116.45794862200977,\n",
       " 120.96274606972909,\n",
       " 118.86564116059868,\n",
       " 119.84189984026605,\n",
       " 119.38742488614261,\n",
       " 119.59899502291616,\n",
       " 119.50050320781361,\n",
       " 119.54635359313434,\n",
       " 119.52500879150305,\n",
       " 119.53494516153384,\n",
       " 119.53031930255781,\n",
       " 119.53247255390217,\n",
       " 119.53146994657168,\n",
       " 119.53193647656232,\n",
       " 119.53171908350993,\n",
       " 119.53182007507831,\n",
       " 119.53177285001942,\n",
       " 119.53179462379771]"
      ]
     },
     "execution_count": 128,
     "metadata": {},
     "output_type": "execute_result"
    }
   ],
   "source": [
    "a1_params"
   ]
  },
  {
   "cell_type": "markdown",
   "metadata": {},
   "source": [
    "##### Los principales problemas en el descenso de gradiente serán\n",
    "\n",
    "- Elegir los valores iniciales de los parámetros\n",
    "\n",
    "- Elegir un learning rate adecuado (hyperparameter optimization)"
   ]
  },
  {
   "cell_type": "markdown",
   "metadata": {},
   "source": [
    "### Ordinary Least Squares\n",
    "\n",
    "Es una alternativa ala Gradient Descent.\n",
    "\n",
    "A diferencia del GD, no requiere de múltiples iteraciones.\n",
    "\n",
    "Cuando el número de parámetros crece (cientos), el GD no escala bien.\n",
    "\n",
    "El OLS lo que hace es definir una fórmula directa para calcular los valores óptimos de los parámetros en notación matricial.\n",
    "\n",
    "$Xa = \\hat{y}$\n",
    "\n",
    "$X$ es una matriz que representa las columnas del training set, $a$ es el vector que representa los valores de los parámetros e $\\hat{y} es el vector de las predicciones$\n",
    "\n",
    "![title](imagenes/OLS.PNG)\n",
    "\n",
    "La fórula será:\n",
    "\n",
    "$a = (X^TX)^{-1}X^Ty$\n",
    "\n",
    "\n",
    "Esto es lo que hace Scikit-Learn con la instancia LinearRegression()"
   ]
  },
  {
   "cell_type": "code",
   "execution_count": 139,
   "metadata": {},
   "outputs": [
    {
     "name": "stdout",
     "output_type": "stream",
     "text": [
      "[-1.12764871e+05  3.78815268e+01  7.08698430e+03 -2.22197281e+03\n",
      "  4.31853639e+01  6.48808564e+01  3.87112549e+01  2.45531837e+04]\n"
     ]
    }
   ],
   "source": [
    "import numpy as np\n",
    "import matplotlib.pyplot as plt\n",
    "import pandas as pd\n",
    "\n",
    "data = pd.read_csv('AmesHousing.txt', delimiter=\"\\t\")\n",
    "train = data[0:1460]\n",
    "test = data[1460:]\n",
    "\n",
    "features = ['Wood Deck SF', 'Fireplaces', 'Full Bath', '1st Flr SF', 'Garage Area',\n",
    "       'Gr Liv Area', 'Overall Qual']\n",
    "X = train[features].copy()\n",
    "X['bias'] = 1\n",
    "X = X[['bias']+features]\n",
    "y = train['SalePrice']\n",
    "\n",
    "first_term = np.linalg.inv(\n",
    "        np.dot(\n",
    "            np.transpose(X), \n",
    "            X\n",
    "        )\n",
    "    )\n",
    "second_term = np.dot(\n",
    "        np.transpose(X),\n",
    "        y\n",
    "    )\n",
    "ols_estimation = np.dot(first_term, second_term)\n",
    "print(ols_estimation)"
   ]
  },
  {
   "cell_type": "markdown",
   "metadata": {},
   "source": [
    "A diferencia del **GD**, el **OLS** es una **closed form solution**, una solución de forma cerrada.\n",
    "\n",
    "Esto es que la solución se puede computar aritméticamente con un número de operaciones matemáticas predecibles.\n",
    "\n",
    "El GD depende de los valores, iniciales, el learning rate alfa, etc...\n",
    "\n",
    "El error se representa con la letra espsilon $\\epsilon$:\n",
    "\n",
    "$\\epsilon = \\hat{y} - y$\n",
    "\n",
    "\n",
    "$y = Xa - \\epsilon$\n",
    "\n",
    "Aquí tenemos dos incógnitas: $a$ e $\\hat{y}$\n",
    "\n",
    "Estamos buscando un modelo, representado por $a$ que minimiza el MSE entre $y$ e $\\hat{y}$\n",
    "\n",
    "La función de coste es es el MSE, que en forma matricial es:\n",
    "\n",
    "$J(a) = \\cfrac{1}{n}(Xa - y)^T(Xa - y)$"
   ]
  },
  {
   "cell_type": "markdown",
   "metadata": {},
   "source": [
    "##### Dervivada de la Cost Function matricial\n",
    "\n",
    "[Aquí hay una explicación de la derivación](https://eli.thegreenplace.net/2015/the-normal-equation-and-matrix-calculus/)\n",
    "\n",
    "\n",
    "$\\cfrac{dJ(a)}{da} = 2X^TXa - 2X^Ty$\n",
    "\n",
    "Para encontrar el vector $a$ que minimiza la función $J(a)$ se iguala la derivada a 0\n",
    "\n",
    "$2X^TXa - 2X^Ty = 0$\n",
    "\n",
    "Quedando al final:\n",
    "\n",
    "$a = (X^TX)^{-1}X^Ty$\n"
   ]
  },
  {
   "cell_type": "markdown",
   "metadata": {},
   "source": [
    "##### Limitaciones del OLS\n",
    "\n",
    "La mayor limitación es el tamaño del data set. Computar la inversa es muy intensivo, de complejidad casi $O(n^3)$ [complejidad](https://en.wikipedia.org/wiki/Computational_complexity_of_mathematical_operations#Matrix_algebra).\n",
    "\n",
    "Cuando el número de elementos es mayor que pocos millones es mejor utilizar **Gradient DEscent**, ya que es lo sufficientemente flexible como para poner un threshold o una solución \"suficientemente buena\"."
   ]
  },
  {
   "cell_type": "markdown",
   "metadata": {},
   "source": [
    "### Processing and Transforming Features\n",
    "\n",
    "Vamos a explorar cómo transformar las features para que podeamos utilizarlas en nuestro modelo.\n",
    "\n",
    "Este proceso se llama **feature engineering**.\n",
    "\n",
    "Ayuda mucho saber sobre el tema específico (Real State por ejemplo), pero también hay estrategias universales.\n",
    "\n",
    "Primero nos centramos en las columnas sin missing values y que no tienen el formato aecuado para regresión lineal.\n",
    "\n",
    "Entre las columnas que no tengan missing values pueden aparecer otros problemas ocmo: \n",
    "\n",
    "- No numérico (Códiog de zona de una ciudad)\n",
    "- Numérico pero no ordinal (Código Postal)\n",
    "- Ordinal pero no representativo de la relación con el target (Año)"
   ]
  },
  {
   "cell_type": "code",
   "execution_count": 140,
   "metadata": {},
   "outputs": [
    {
     "name": "stdout",
     "output_type": "stream",
     "text": [
      "Order               0\n",
      "PID                 0\n",
      "MS SubClass         0\n",
      "MS Zoning           0\n",
      "Lot Frontage      249\n",
      "                 ... \n",
      "Mo Sold             0\n",
      "Yr Sold             0\n",
      "Sale Type           0\n",
      "Sale Condition      0\n",
      "SalePrice           0\n",
      "Length: 82, dtype: int64\n"
     ]
    }
   ],
   "source": [
    "import pandas as pd\n",
    "\n",
    "data = pd.read_csv('AmesHousing.txt', delimiter=\"\\t\")\n",
    "train = data[0:1460]\n",
    "test = data[1460:]\n",
    "\n",
    "train_null_counts = train.isnull().sum()\n",
    "print(train_null_counts)\n",
    "\n",
    "df_no_mv = train.dropna(axis = 1)"
   ]
  },
  {
   "cell_type": "markdown",
   "metadata": {},
   "source": [
    "Esto hace lo mismo:"
   ]
  },
  {
   "cell_type": "code",
   "execution_count": 141,
   "metadata": {},
   "outputs": [
    {
     "name": "stdout",
     "output_type": "stream",
     "text": [
      "Order               0\n",
      "PID                 0\n",
      "MS SubClass         0\n",
      "MS Zoning           0\n",
      "Lot Frontage      249\n",
      "                 ... \n",
      "Mo Sold             0\n",
      "Yr Sold             0\n",
      "Sale Type           0\n",
      "Sale Condition      0\n",
      "SalePrice           0\n",
      "Length: 82, dtype: int64\n"
     ]
    }
   ],
   "source": [
    "import pandas as pd\n",
    "\n",
    "data = pd.read_csv('AmesHousing.txt', delimiter=\"\\t\")\n",
    "train = data[0:1460]\n",
    "test = data[1460:]\n",
    "\n",
    "train_null_counts = train.isnull().sum()\n",
    "print(train_null_counts)\n",
    "df_no_mv = train[train_null_counts[train_null_counts==0].index]"
   ]
  },
  {
   "cell_type": "markdown",
   "metadata": {},
   "source": [
    "#### Categorical Features\n",
    "\n",
    "Si un feature está compuesto por un número limitado de valores representaods por strings se llama categorical feature.\n",
    "\n",
    "Por ejemplo:\n"
   ]
  },
  {
   "cell_type": "code",
   "execution_count": 142,
   "metadata": {},
   "outputs": [
    {
     "name": "stdout",
     "output_type": "stream",
     "text": [
      "AllPub    1457\n",
      "NoSewr       2\n",
      "NoSeWa       1\n",
      "Name: Utilities, dtype: int64\n"
     ]
    }
   ],
   "source": [
    "print(train['Utilities'].value_counts())"
   ]
  },
  {
   "cell_type": "code",
   "execution_count": 143,
   "metadata": {},
   "outputs": [
    {
     "name": "stdout",
     "output_type": "stream",
     "text": [
      "Pave    1455\n",
      "Grvl       5\n",
      "Name: Street, dtype: int64\n"
     ]
    }
   ],
   "source": [
    "print(train['Street'].value_counts())"
   ]
  },
  {
   "cell_type": "code",
   "execution_count": 144,
   "metadata": {},
   "outputs": [
    {
     "name": "stdout",
     "output_type": "stream",
     "text": [
      "1Story    743\n",
      "2Story    440\n",
      "1.5Fin    160\n",
      "SLvl       60\n",
      "SFoyer     35\n",
      "2.5Unf     11\n",
      "1.5Unf      8\n",
      "2.5Fin      3\n",
      "Name: House Style, dtype: int64\n"
     ]
    }
   ],
   "source": [
    "print(train['House Style'].value_counts())"
   ]
  },
  {
   "cell_type": "markdown",
   "metadata": {},
   "source": [
    "Para utilizarlos se puede transformar en representaciones numéricas.\n",
    "\n",
    "Pandas tiene un data type categorical."
   ]
  },
  {
   "cell_type": "code",
   "execution_count": 145,
   "metadata": {},
   "outputs": [
    {
     "name": "stdout",
     "output_type": "stream",
     "text": [
      "MS Zoning: 6\n",
      "Street: 2\n",
      "Lot Shape: 4\n",
      "Land Contour: 4\n",
      "Utilities: 3\n",
      "Lot Config: 5\n",
      "Land Slope: 3\n",
      "Neighborhood: 26\n",
      "Condition 1: 9\n",
      "Condition 2: 6\n",
      "Bldg Type: 5\n",
      "House Style: 8\n",
      "Roof Style: 6\n",
      "Roof Matl: 5\n",
      "Exterior 1st: 14\n",
      "Exterior 2nd: 16\n",
      "Exter Qual: 4\n",
      "Exter Cond: 5\n",
      "Foundation: 6\n",
      "Heating: 6\n",
      "Heating QC: 4\n",
      "Central Air: 2\n",
      "Electrical: 4\n",
      "Kitchen Qual: 5\n",
      "Functional: 7\n",
      "Paved Drive: 3\n",
      "Sale Type: 9\n",
      "Sale Condition: 5\n"
     ]
    }
   ],
   "source": [
    "text_cols = df_no_mv.select_dtypes(include=['object']).columns\n",
    "\n",
    "for col in text_cols:\n",
    "    print(col+\":\", len(train[col].unique()))    \n",
    "    "
   ]
  },
  {
   "cell_type": "code",
   "execution_count": 150,
   "metadata": {},
   "outputs": [
    {
     "name": "stderr",
     "output_type": "stream",
     "text": [
      "C:\\Users\\adrig\\anaconda3\\lib\\site-packages\\ipykernel_launcher.py:2: SettingWithCopyWarning: \n",
      "A value is trying to be set on a copy of a slice from a DataFrame.\n",
      "Try using .loc[row_indexer,col_indexer] = value instead\n",
      "\n",
      "See the caveats in the documentation: https://pandas.pydata.org/pandas-docs/stable/user_guide/indexing.html#returning-a-view-versus-a-copy\n",
      "  \n"
     ]
    }
   ],
   "source": [
    "for col in text_cols:    \n",
    "    train[col] = train[col].astype('category')   \n",
    "    \n"
   ]
  },
  {
   "cell_type": "code",
   "execution_count": 151,
   "metadata": {},
   "outputs": [
    {
     "data": {
      "text/plain": [
       "0    1457\n",
       "2       2\n",
       "1       1\n",
       "dtype: int64"
      ]
     },
     "execution_count": 151,
     "metadata": {},
     "output_type": "execute_result"
    }
   ],
   "source": [
    "train['Utilities'].cat.codes.value_counts()"
   ]
  },
  {
   "cell_type": "code",
   "execution_count": 153,
   "metadata": {},
   "outputs": [
    {
     "data": {
      "text/plain": [
       "0    0\n",
       "1    0\n",
       "2    0\n",
       "3    0\n",
       "4    0\n",
       "5    0\n",
       "6    0\n",
       "7    0\n",
       "8    0\n",
       "9    0\n",
       "dtype: int8"
      ]
     },
     "execution_count": 153,
     "metadata": {},
     "output_type": "execute_result"
    }
   ],
   "source": [
    "train['Utilities'].cat.codes.head(10)"
   ]
  },
  {
   "cell_type": "markdown",
   "metadata": {},
   "source": [
    "Cuando convertimos a categorical type, pandas asigna un número de 0 a n-1, siendo n el númerod e valores únicos de esa columna.\n",
    "\n",
    "El problema es que esto viola una asunción de la regresión lineal: Que las features están correlacionadas lienalmente con el target.\n",
    "\n",
    "Para un categorical no hay un significado numérico en el código asignado por pandas. Un incremento de 1 a 2 no significa nada en el target.\n",
    "\n",
    "Los categóricos se utilizan para unicidad y exclusividad: la categoría 0 es diffeente a la categoría 1.\n",
    "\n",
    "##### Dummy Coding\n",
    "\n",
    "La solución típica es usar dummy coding.\n",
    "\n",
    "En vez de tener una columna con n valores posibles, tenemos n columnas con dos valores posibles: 0 o 1.\n",
    "\n",
    "Por defecto, pandas pondrá el nombre de la feature con _ seguido de cada posible categoría\n",
    "\n",
    "| Utilities_AllPub | Utilities_NoSewr | Utilities_NoSeWa |\n",
    "|------------------|------------------|------------------|\n",
    "| 1                | 0                | 0                |\n",
    "| 1                | 0                | 0                |\n",
    "| 1                | 0                | 0                |\n",
    "| 1                | 0                | 0                |\n",
    "\n",
    "Nota:\n",
    "(También se puede hacer con feagtures categóricas que ya están en numérico).\n"
   ]
  },
  {
   "cell_type": "code",
   "execution_count": 155,
   "metadata": {},
   "outputs": [],
   "source": [
    "for col in text_cols:\n",
    "    col_dummies = pd.get_dummies(train[col])\n",
    "    train = pd.concat([train, col_dummies], axis=1)\n",
    "    del train[col]"
   ]
  },
  {
   "cell_type": "code",
   "execution_count": 156,
   "metadata": {},
   "outputs": [
    {
     "data": {
      "text/html": [
       "<div>\n",
       "<style scoped>\n",
       "    .dataframe tbody tr th:only-of-type {\n",
       "        vertical-align: middle;\n",
       "    }\n",
       "\n",
       "    .dataframe tbody tr th {\n",
       "        vertical-align: top;\n",
       "    }\n",
       "\n",
       "    .dataframe thead th {\n",
       "        text-align: right;\n",
       "    }\n",
       "</style>\n",
       "<table border=\"1\" class=\"dataframe\">\n",
       "  <thead>\n",
       "    <tr style=\"text-align: right;\">\n",
       "      <th></th>\n",
       "      <th>Order</th>\n",
       "      <th>PID</th>\n",
       "      <th>MS SubClass</th>\n",
       "      <th>Lot Frontage</th>\n",
       "      <th>Lot Area</th>\n",
       "      <th>Alley</th>\n",
       "      <th>Overall Qual</th>\n",
       "      <th>Overall Cond</th>\n",
       "      <th>Year Built</th>\n",
       "      <th>Year Remod/Add</th>\n",
       "      <th>...</th>\n",
       "      <th>ConLI</th>\n",
       "      <th>ConLw</th>\n",
       "      <th>New</th>\n",
       "      <th>Oth</th>\n",
       "      <th>WD</th>\n",
       "      <th>Abnorml</th>\n",
       "      <th>Alloca</th>\n",
       "      <th>Family</th>\n",
       "      <th>Normal</th>\n",
       "      <th>Partial</th>\n",
       "    </tr>\n",
       "  </thead>\n",
       "  <tbody>\n",
       "    <tr>\n",
       "      <th>0</th>\n",
       "      <td>1</td>\n",
       "      <td>526301100</td>\n",
       "      <td>20</td>\n",
       "      <td>141.0</td>\n",
       "      <td>31770</td>\n",
       "      <td>NaN</td>\n",
       "      <td>6</td>\n",
       "      <td>5</td>\n",
       "      <td>1960</td>\n",
       "      <td>1960</td>\n",
       "      <td>...</td>\n",
       "      <td>0</td>\n",
       "      <td>0</td>\n",
       "      <td>0</td>\n",
       "      <td>0</td>\n",
       "      <td>1</td>\n",
       "      <td>0</td>\n",
       "      <td>0</td>\n",
       "      <td>0</td>\n",
       "      <td>1</td>\n",
       "      <td>0</td>\n",
       "    </tr>\n",
       "    <tr>\n",
       "      <th>1</th>\n",
       "      <td>2</td>\n",
       "      <td>526350040</td>\n",
       "      <td>20</td>\n",
       "      <td>80.0</td>\n",
       "      <td>11622</td>\n",
       "      <td>NaN</td>\n",
       "      <td>5</td>\n",
       "      <td>6</td>\n",
       "      <td>1961</td>\n",
       "      <td>1961</td>\n",
       "      <td>...</td>\n",
       "      <td>0</td>\n",
       "      <td>0</td>\n",
       "      <td>0</td>\n",
       "      <td>0</td>\n",
       "      <td>1</td>\n",
       "      <td>0</td>\n",
       "      <td>0</td>\n",
       "      <td>0</td>\n",
       "      <td>1</td>\n",
       "      <td>0</td>\n",
       "    </tr>\n",
       "    <tr>\n",
       "      <th>2</th>\n",
       "      <td>3</td>\n",
       "      <td>526351010</td>\n",
       "      <td>20</td>\n",
       "      <td>81.0</td>\n",
       "      <td>14267</td>\n",
       "      <td>NaN</td>\n",
       "      <td>6</td>\n",
       "      <td>6</td>\n",
       "      <td>1958</td>\n",
       "      <td>1958</td>\n",
       "      <td>...</td>\n",
       "      <td>0</td>\n",
       "      <td>0</td>\n",
       "      <td>0</td>\n",
       "      <td>0</td>\n",
       "      <td>1</td>\n",
       "      <td>0</td>\n",
       "      <td>0</td>\n",
       "      <td>0</td>\n",
       "      <td>1</td>\n",
       "      <td>0</td>\n",
       "    </tr>\n",
       "    <tr>\n",
       "      <th>3</th>\n",
       "      <td>4</td>\n",
       "      <td>526353030</td>\n",
       "      <td>20</td>\n",
       "      <td>93.0</td>\n",
       "      <td>11160</td>\n",
       "      <td>NaN</td>\n",
       "      <td>7</td>\n",
       "      <td>5</td>\n",
       "      <td>1968</td>\n",
       "      <td>1968</td>\n",
       "      <td>...</td>\n",
       "      <td>0</td>\n",
       "      <td>0</td>\n",
       "      <td>0</td>\n",
       "      <td>0</td>\n",
       "      <td>1</td>\n",
       "      <td>0</td>\n",
       "      <td>0</td>\n",
       "      <td>0</td>\n",
       "      <td>1</td>\n",
       "      <td>0</td>\n",
       "    </tr>\n",
       "    <tr>\n",
       "      <th>4</th>\n",
       "      <td>5</td>\n",
       "      <td>527105010</td>\n",
       "      <td>60</td>\n",
       "      <td>74.0</td>\n",
       "      <td>13830</td>\n",
       "      <td>NaN</td>\n",
       "      <td>5</td>\n",
       "      <td>5</td>\n",
       "      <td>1997</td>\n",
       "      <td>1998</td>\n",
       "      <td>...</td>\n",
       "      <td>0</td>\n",
       "      <td>0</td>\n",
       "      <td>0</td>\n",
       "      <td>0</td>\n",
       "      <td>1</td>\n",
       "      <td>0</td>\n",
       "      <td>0</td>\n",
       "      <td>0</td>\n",
       "      <td>1</td>\n",
       "      <td>0</td>\n",
       "    </tr>\n",
       "  </tbody>\n",
       "</table>\n",
       "<p>5 rows × 236 columns</p>\n",
       "</div>"
      ],
      "text/plain": [
       "   Order        PID  MS SubClass  Lot Frontage  Lot Area Alley  Overall Qual  \\\n",
       "0      1  526301100           20         141.0     31770   NaN             6   \n",
       "1      2  526350040           20          80.0     11622   NaN             5   \n",
       "2      3  526351010           20          81.0     14267   NaN             6   \n",
       "3      4  526353030           20          93.0     11160   NaN             7   \n",
       "4      5  527105010           60          74.0     13830   NaN             5   \n",
       "\n",
       "   Overall Cond  Year Built  Year Remod/Add  ... ConLI  ConLw New Oth WD   \\\n",
       "0             5        1960            1960  ...     0      0   0   0   1   \n",
       "1             6        1961            1961  ...     0      0   0   0   1   \n",
       "2             6        1958            1958  ...     0      0   0   0   1   \n",
       "3             5        1968            1968  ...     0      0   0   0   1   \n",
       "4             5        1997            1998  ...     0      0   0   0   1   \n",
       "\n",
       "  Abnorml  Alloca Family  Normal  Partial  \n",
       "0       0       0      0       1        0  \n",
       "1       0       0      0       1        0  \n",
       "2       0       0      0       1        0  \n",
       "3       0       0      0       1        0  \n",
       "4       0       0      0       1        0  \n",
       "\n",
       "[5 rows x 236 columns]"
      ]
     },
     "execution_count": 156,
     "metadata": {},
     "output_type": "execute_result"
    }
   ],
   "source": [
    "train.head()"
   ]
  },
  {
   "cell_type": "markdown",
   "metadata": {},
   "source": [
    "#### Modificación de Columnas Numéricas\n",
    "\n",
    "Por ejemplo el año de construcción de una casa no da mucha información, ya que ha podido venderse 10 o 20 años después.\n",
    "\n",
    "Lo mismo pasa con año de remodelación"
   ]
  },
  {
   "cell_type": "code",
   "execution_count": 160,
   "metadata": {},
   "outputs": [
    {
     "name": "stdout",
     "output_type": "stream",
     "text": [
      "   Year Remod/Add  Year Built\n",
      "0            1960        1960\n",
      "1            1961        1961\n",
      "2            1958        1958\n",
      "3            1968        1968\n",
      "4            1998        1997\n",
      "5            1998        1998\n",
      "6            2001        2001\n",
      "7            1992        1992\n",
      "8            1996        1995\n",
      "9            1999        1999\n"
     ]
    }
   ],
   "source": [
    "print(train[['Year Remod/Add', 'Year Built']][:10])"
   ]
  },
  {
   "cell_type": "markdown",
   "metadata": {},
   "source": [
    "Tiene más sentido capturar la diferencia de tiempo entre ambos eventos:"
   ]
  },
  {
   "cell_type": "code",
   "execution_count": 161,
   "metadata": {},
   "outputs": [],
   "source": [
    "train['years_until_remod'] = train['Year Remod/Add'] - train['Year Built']"
   ]
  },
  {
   "cell_type": "markdown",
   "metadata": {},
   "source": [
    "#### Missing Values\n",
    "\n",
    "Cuando faltan datos tenemos dos opciones: Eliminar filas, Imputar valores\n",
    "\n",
    "- Eliminar filas que les falte valores en columnas específicas:\n",
    "    - Pro: solo queda info limpia\n",
    "    - Con:   Se elimina información, disminuye precisión\n",
    "- Imputar, o reemplazar valores perdidos con un estadístico descriptivo de la columna:\n",
    "    - Pro: Se preservan observaciones en el modelo\n",
    "    - COn: Puede aumentar el ruido\n",
    "    \n",
    "En general cuando hay más del 50% de missing values no se imputa nunca, un 25% también suele ser un valor de corte."
   ]
  },
  {
   "cell_type": "code",
   "execution_count": 162,
   "metadata": {},
   "outputs": [
    {
     "name": "stdout",
     "output_type": "stream",
     "text": [
      "Lot Frontage      249\n",
      "Mas Vnr Type       11\n",
      "Mas Vnr Area       11\n",
      "Bsmt Qual          40\n",
      "Bsmt Cond          40\n",
      "Bsmt Exposure      41\n",
      "BsmtFin Type 1     40\n",
      "BsmtFin SF 1        1\n",
      "BsmtFin Type 2     41\n",
      "BsmtFin SF 2        1\n",
      "Bsmt Unf SF         1\n",
      "Total Bsmt SF       1\n",
      "Bsmt Full Bath      1\n",
      "Bsmt Half Bath      1\n",
      "Garage Type        74\n",
      "Garage Yr Blt      75\n",
      "Garage Finish      75\n",
      "Garage Qual        75\n",
      "Garage Cond        75\n",
      "dtype: int64\n",
      "Lot Frontage      float64\n",
      "Mas Vnr Type       object\n",
      "Mas Vnr Area      float64\n",
      "Bsmt Qual          object\n",
      "Bsmt Cond          object\n",
      "Bsmt Exposure      object\n",
      "BsmtFin Type 1     object\n",
      "BsmtFin SF 1      float64\n",
      "BsmtFin Type 2     object\n",
      "BsmtFin SF 2      float64\n",
      "Bsmt Unf SF       float64\n",
      "Total Bsmt SF     float64\n",
      "Bsmt Full Bath    float64\n",
      "Bsmt Half Bath    float64\n",
      "Garage Type        object\n",
      "Garage Yr Blt     float64\n",
      "Garage Finish      object\n",
      "Garage Qual        object\n",
      "Garage Cond        object\n",
      "dtype: object\n"
     ]
    }
   ],
   "source": [
    "import pandas as pd\n",
    "\n",
    "data = pd.read_csv('AmesHousing.txt', delimiter=\"\\t\")\n",
    "train = data[0:1460]\n",
    "test = data[1460:]\n",
    "\n",
    "train_null_counts = train.isnull().sum()\n",
    "df_missing_values = train[train_null_counts[(train_null_counts>0) & (train_null_counts<584)].index]\n",
    "\n",
    "print(df_missing_values.isnull().sum())\n",
    "print(df_missing_values.dtypes)"
   ]
  },
  {
   "cell_type": "markdown",
   "metadata": {},
   "source": [
    "#### Imputación\n",
    "\n",
    "Se realiza con pandas.DataFrame.fillna()\n",
    "\n",
    "Como parámetro se pasa 0 o un estadístico como la media de las columnas\n",
    "\n",
    "Seleccionamos las columnas tipo float:\n"
   ]
  },
  {
   "cell_type": "code",
   "execution_count": 163,
   "metadata": {},
   "outputs": [
    {
     "data": {
      "text/plain": [
       "Lot Frontage      0\n",
       "Mas Vnr Area      0\n",
       "BsmtFin SF 1      0\n",
       "BsmtFin SF 2      0\n",
       "Bsmt Unf SF       0\n",
       "Total Bsmt SF     0\n",
       "Bsmt Full Bath    0\n",
       "Bsmt Half Bath    0\n",
       "Garage Yr Blt     0\n",
       "dtype: int64"
      ]
     },
     "execution_count": 163,
     "metadata": {},
     "output_type": "execute_result"
    }
   ],
   "source": [
    "float_cols = df_missing_values.select_dtypes(include=['float'])\n",
    "\n",
    "float_cols = float_cols.fillna(float_cols.mean())\n",
    "\n",
    "float_cols.isnull().sum()\n"
   ]
  },
  {
   "cell_type": "markdown",
   "metadata": {},
   "source": [
    "## Machine Learning in Python: Intermediate"
   ]
  },
  {
   "cell_type": "markdown",
   "metadata": {},
   "source": [
    "### Logistic Regression\n",
    "\n",
    "En **Linear Regression** la variable dependiente, la que se trata de predecir (target) es ordenada y continua.\n",
    "\n",
    "Esto no funciona bien para predecir variables discretas, es decir, para problemas de **clasificación**.\n",
    "\n",
    "Estos problemas tienen un número limitado de posibles valores y estos se pueden representar mediante enteros. Cada entero sería una categoría y se puede utilizar para mapear estas variables respecto a la variable targert utilizando operaciones matemáticas.\n",
    "\n",
    "Por ejemplo:\n",
    "\n",
    "| Problem                                                                   | Sample Features                                    | Type        | Categories           | Numerical Categories |\n",
    "|---------------------------------------------------------------------------|----------------------------------------------------|-------------|----------------------|----------------------|\n",
    "| Should we accept this student based on their graduate school application? | College GPA, SAT Score, Quality of Recommendations | Binary      | Don't Accept, Accept | 0, 1                 |\n",
    "| What is the most likely blood type of 2 parent's offspring?               | Parent 1's blood type, Parent 2's blood type.      | Multi-class | A, B, AB, O          | 1, 2, 3, 4           |\n",
    "\n",
    "\n",
    "\n",
    "Por ahora nos centraremos en **clasificación binaria**: 0 o 1"
   ]
  },
  {
   "cell_type": "markdown",
   "metadata": {},
   "source": [
    "En este caso se va a tratar de predecir la admisión en un U.S. graduate program según las puntuaciones \"GRE\" y \"GPA\".\n",
    "\n",
    "El data set es admissions.csv, tiene 644 filas y 3 columnas\n",
    "\n",
    "- gre - Applicant's Graduate Record Exam score. The GRE is a generalized test for prospective graduate students. Score ranges from 200 to 800.\n",
    "- gpa - College grade point average. Continuous between 0.0 and 4.0.\n",
    "- admit - Binary value\n",
    "\n",
    "En primer lugar se hace solo con la columna \"gpa\""
   ]
  },
  {
   "cell_type": "code",
   "execution_count": 166,
   "metadata": {},
   "outputs": [
    {
     "data": {
      "text/html": [
       "<div>\n",
       "<style scoped>\n",
       "    .dataframe tbody tr th:only-of-type {\n",
       "        vertical-align: middle;\n",
       "    }\n",
       "\n",
       "    .dataframe tbody tr th {\n",
       "        vertical-align: top;\n",
       "    }\n",
       "\n",
       "    .dataframe thead th {\n",
       "        text-align: right;\n",
       "    }\n",
       "</style>\n",
       "<table border=\"1\" class=\"dataframe\">\n",
       "  <thead>\n",
       "    <tr style=\"text-align: right;\">\n",
       "      <th></th>\n",
       "      <th>admit</th>\n",
       "      <th>gpa</th>\n",
       "      <th>gre</th>\n",
       "    </tr>\n",
       "  </thead>\n",
       "  <tbody>\n",
       "    <tr>\n",
       "      <th>0</th>\n",
       "      <td>0</td>\n",
       "      <td>3.177277</td>\n",
       "      <td>594.102992</td>\n",
       "    </tr>\n",
       "    <tr>\n",
       "      <th>1</th>\n",
       "      <td>0</td>\n",
       "      <td>3.412655</td>\n",
       "      <td>631.528607</td>\n",
       "    </tr>\n",
       "    <tr>\n",
       "      <th>2</th>\n",
       "      <td>0</td>\n",
       "      <td>2.728097</td>\n",
       "      <td>553.714399</td>\n",
       "    </tr>\n",
       "    <tr>\n",
       "      <th>3</th>\n",
       "      <td>0</td>\n",
       "      <td>3.093559</td>\n",
       "      <td>551.089985</td>\n",
       "    </tr>\n",
       "    <tr>\n",
       "      <th>4</th>\n",
       "      <td>0</td>\n",
       "      <td>3.141923</td>\n",
       "      <td>537.184894</td>\n",
       "    </tr>\n",
       "  </tbody>\n",
       "</table>\n",
       "</div>"
      ],
      "text/plain": [
       "   admit       gpa         gre\n",
       "0      0  3.177277  594.102992\n",
       "1      0  3.412655  631.528607\n",
       "2      0  2.728097  553.714399\n",
       "3      0  3.093559  551.089985\n",
       "4      0  3.141923  537.184894"
      ]
     },
     "execution_count": 166,
     "metadata": {},
     "output_type": "execute_result"
    }
   ],
   "source": [
    "import pandas as pd\n",
    "import matplotlib.pyplot as plt\n",
    "\n",
    "admissions = pd.read_csv('admissions.csv')\n",
    "admissions.head()"
   ]
  },
  {
   "cell_type": "code",
   "execution_count": 167,
   "metadata": {},
   "outputs": [
    {
     "data": {
      "image/png": "[encoded data removed]",
      "text/plain": [
       "<Figure size 432x288 with 1 Axes>"
      ]
     },
     "metadata": {},
     "output_type": "display_data"
    }
   ],
   "source": [
    "\n",
    "\n",
    "plt.scatter(admissions['gpa'], admissions['admit'])\n",
    "plt.show()"
   ]
  },
  {
   "cell_type": "markdown",
   "metadata": {},
   "source": [
    "Se ve que no existe ningún tipo de relación lineal entre gpa y admit.\n",
    "\n",
    "Los valores 0 y 1 de admit representan valores binarios y no tienen ningún peso asociado.\n",
    "\n",
    "Cuando los números se emplean para definir opciones (categprías) se llaman valores categóricos (**Categorical Values**).\n",
    "\n",
    "Los problemas de **clasificación** se centran en estimar la relación entre las variables independientes (features) y la variable dependiente, que es una **Categorical Variable**.\n",
    "\n",
    "La técnica utilizada es **Logistic Regression**.\n",
    "\n",
    "Mientras que un modelo de regresión lineal da una salida de un número real (label), el modelo de logistic regression da una salida de probabilidad comprendida entre 0 y 1. Si la probabilidad es mayor que un threshold se asigna 1 o 0.\n",
    "\n"
   ]
  },
  {
   "cell_type": "markdown",
   "metadata": {},
   "source": [
    "#### Logistic Function"
   ]
  },
  {
   "cell_type": "markdown",
   "metadata": {},
   "source": [
    "En regresión lineal la relación entre features y target se define con la función lineal $y = mx + b$.\n",
    "\n",
    "En logistic regression se define con la logistic function\n",
    "\n",
    "$\\sigma(t) = \\cfrac{e^t}{1+ e^t}$\n",
    "\n",
    "Está dividida en dos partes:\n",
    "\n",
    "- Transformación Exponencial: Transforma los valores en positivo $e^t$\n",
    "- Transformación de Normalización:  Transforma los valores para que estén en el rango 0 a 1 $ \\cfrac{t}{1+t}$"
   ]
  },
  {
   "cell_type": "code",
   "execution_count": 172,
   "metadata": {},
   "outputs": [
    {
     "data": {
      "image/png": "[encoded data removed]",
      "text/plain": [
       "<Figure size 432x288 with 1 Axes>"
      ]
     },
     "metadata": {},
     "output_type": "display_data"
    },
    {
     "data": {
      "image/png": "[encoded data removed]",
      "text/plain": [
       "<Figure size 432x288 with 1 Axes>"
      ]
     },
     "metadata": {},
     "output_type": "display_data"
    },
    {
     "data": {
      "image/png": "[encoded data removed]",
      "text/plain": [
       "<Figure size 432x288 with 1 Axes>"
      ]
     },
     "metadata": {},
     "output_type": "display_data"
    }
   ],
   "source": [
    "import numpy as np\n",
    "\n",
    "# Generate 50 real values, evenly spaced, between -6 and 6.\n",
    "x = np.linspace(-6,6,100, dtype=float)\n",
    "\n",
    "# Exponential transformation\n",
    "def exp(x):\n",
    "    return np.exp(x)\n",
    "\n",
    "# Transform each number in t using the Exponential transformation.\n",
    "y = exp(x)\n",
    "\n",
    "# Plot the resulting data.\n",
    "plt.plot(x, y)\n",
    "plt.ylabel(\"y\")\n",
    "plt.title('e^x')\n",
    "plt.show()\n",
    "\n",
    "# Normalization transformation\n",
    "def norm(x):\n",
    "    return x/(1+x)\n",
    "\n",
    "\n",
    "# Transform each number in t using the Normalization transformation.\n",
    "y = norm(x)\n",
    "\n",
    "# Plot the resulting data.\n",
    "plt.plot(x, y)\n",
    "plt.ylabel(\"y\")\n",
    "plt.title('x/(1+x)')\n",
    "plt.show()\n",
    "\n",
    "# Logistic Function\n",
    "def logistic(x):\n",
    "    # np.exp(x) raises x to the exponential power, ie e^x. e ~= 2.71828\n",
    "    return np.exp(x)  / (1 + np.exp(x)) \n",
    "\n",
    "\n",
    "# Transform each number in t using the logistic function.\n",
    "y = logistic(x)\n",
    "\n",
    "# Plot the resulting data.\n",
    "plt.plot(x, y)\n",
    "plt.ylabel(\"Probability\")\n",
    "plt.title('logistic')\n",
    "plt.show()"
   ]
  },
  {
   "cell_type": "markdown",
   "metadata": {},
   "source": [
    "#### Modelo LogisticRegression en Scikit-Learn\n",
    "\n",
    "Es similar al proceso de la clase LinearRegression()"
   ]
  },
  {
   "cell_type": "code",
   "execution_count": 173,
   "metadata": {},
   "outputs": [
    {
     "data": {
      "text/plain": [
       "LogisticRegression(C=1.0, class_weight=None, dual=False, fit_intercept=True,\n",
       "                   intercept_scaling=1, l1_ratio=None, max_iter=100,\n",
       "                   multi_class='auto', n_jobs=None, penalty='l2',\n",
       "                   random_state=None, solver='lbfgs', tol=0.0001, verbose=0,\n",
       "                   warm_start=False)"
      ]
     },
     "execution_count": 173,
     "metadata": {},
     "output_type": "execute_result"
    }
   ],
   "source": [
    "from sklearn.linear_model import LinearRegression\n",
    "linear_model = LinearRegression()\n",
    "linear_model.fit(admissions[[\"gpa\"]], admissions[\"admit\"])\n",
    "\n",
    "from sklearn.linear_model import LogisticRegression\n",
    "logistic_model = LogisticRegression()\n",
    "logistic_model.fit(admissions[['gpa']], admissions['admit'])"
   ]
  },
  {
   "cell_type": "markdown",
   "metadata": {},
   "source": [
    "Para hacer predicciones se utiliza el método predict_proba().\n",
    "Este método requiere de entrada una matriz de observaciones num_features x num_sample.\n",
    "\n",
    "Para cada row de entrada, scikit edvuelve un array numpy con dos valores de probabilidad:\n",
    "- La prob de que la row sea label 0\n",
    "- La porb de que la row sea label 1\n",
    "\n",
    "En este caso tenemos solo dos categorías"
   ]
  },
  {
   "cell_type": "code",
   "execution_count": 174,
   "metadata": {},
   "outputs": [],
   "source": [
    "pred_probs = logistic_model.predict_proba(admissions[['gpa']])"
   ]
  },
  {
   "cell_type": "code",
   "execution_count": 177,
   "metadata": {},
   "outputs": [
    {
     "data": {
      "text/plain": [
       "array([[0.66343633, 0.33656367],\n",
       "       [0.53967962, 0.46032038],\n",
       "       [0.84160275, 0.15839725],\n",
       "       [0.70338133, 0.29661867],\n",
       "       [0.68063462, 0.31936538],\n",
       "       [0.43719912, 0.56280088],\n",
       "       [0.63238349, 0.36761651],\n",
       "       [0.53555227, 0.46444773],\n",
       "       [0.45718328, 0.54281672],\n",
       "       [0.28091701, 0.71908299]])"
      ]
     },
     "execution_count": 177,
     "metadata": {},
     "output_type": "execute_result"
    }
   ],
   "source": [
    "pred_probs[:10]"
   ]
  },
  {
   "cell_type": "code",
   "execution_count": 183,
   "metadata": {},
   "outputs": [
    {
     "data": {
      "text/plain": [
       "0.3365636690550385"
      ]
     },
     "execution_count": 183,
     "metadata": {},
     "output_type": "execute_result"
    }
   ],
   "source": [
    "pred_probs[0,1]"
   ]
  },
  {
   "cell_type": "code",
   "execution_count": 184,
   "metadata": {},
   "outputs": [
    {
     "data": {
      "text/plain": [
       "<matplotlib.collections.PathCollection at 0x1d1893d1f48>"
      ]
     },
     "execution_count": 184,
     "metadata": {},
     "output_type": "execute_result"
    },
    {
     "data": {
      "image/png": "[encoded data removed]",
      "text/plain": [
       "<Figure size 432x288 with 1 Axes>"
      ]
     },
     "metadata": {},
     "output_type": "display_data"
    }
   ],
   "source": [
    "plt.scatter(admissions['gpa'], pred_probs[:,1])"
   ]
  },
  {
   "cell_type": "code",
   "execution_count": 186,
   "metadata": {},
   "outputs": [
    {
     "data": {
      "text/plain": [
       "<matplotlib.collections.PathCollection at 0x1d188e6fa48>"
      ]
     },
     "execution_count": 186,
     "metadata": {},
     "output_type": "execute_result"
    },
    {
     "data": {
      "image/png": "[encoded data removed]",
      "text/plain": [
       "<Figure size 432x288 with 1 Axes>"
      ]
     },
     "metadata": {},
     "output_type": "display_data"
    }
   ],
   "source": [
    "plt.scatter(admissions['gpa'], pred_probs[:,0])"
   ]
  },
  {
   "cell_type": "markdown",
   "metadata": {},
   "source": [
    "Este gráfico sugiere una relación lineal entre los valores de GPA y la probavbilidad de ser admitido.\n",
    "\n",
    "Esto es porque logistic regression es una **versión adaptada de regresión lineal para clasificación**.\n",
    "\n",
    "##### Tanto logistic como linear regression se usan para capturar relaciones lineales entre las variables independientes y la variable dependiente."
   ]
  },
  {
   "cell_type": "markdown",
   "metadata": {},
   "source": [
    "#### Método predict()\n",
    "\n",
    "Con el método predict(), en vez de dar una probabilidad se obtiene una label para cada row:"
   ]
  },
  {
   "cell_type": "code",
   "execution_count": 187,
   "metadata": {},
   "outputs": [
    {
     "data": {
      "text/plain": [
       "<matplotlib.collections.PathCollection at 0x1d188e87788>"
      ]
     },
     "execution_count": 187,
     "metadata": {},
     "output_type": "execute_result"
    },
    {
     "data": {
      "image/png": "[encoded data removed]",
      "text/plain": [
       "<Figure size 432x288 with 1 Axes>"
      ]
     },
     "metadata": {},
     "output_type": "display_data"
    }
   ],
   "source": [
    "fitted_labels = logistic_model.predict(admissions[['gpa']])\n",
    "\n",
    "plt.scatter(admissions['gpa'], fitted_labels)"
   ]
  },
  {
   "cell_type": "markdown",
   "metadata": {},
   "source": [
    "### Introduction to Evaluating Binary Classifiers"
   ]
  },
  {
   "cell_type": "code",
   "execution_count": 218,
   "metadata": {},
   "outputs": [
    {
     "name": "stdout",
     "output_type": "stream",
     "text": [
      "0    507\n",
      "1    137\n",
      "Name: predicted_label, dtype: int64\n"
     ]
    },
    {
     "data": {
      "text/html": [
       "<div>\n",
       "<style scoped>\n",
       "    .dataframe tbody tr th:only-of-type {\n",
       "        vertical-align: middle;\n",
       "    }\n",
       "\n",
       "    .dataframe tbody tr th {\n",
       "        vertical-align: top;\n",
       "    }\n",
       "\n",
       "    .dataframe thead th {\n",
       "        text-align: right;\n",
       "    }\n",
       "</style>\n",
       "<table border=\"1\" class=\"dataframe\">\n",
       "  <thead>\n",
       "    <tr style=\"text-align: right;\">\n",
       "      <th></th>\n",
       "      <th>admit</th>\n",
       "      <th>gpa</th>\n",
       "      <th>gre</th>\n",
       "      <th>predicted_label</th>\n",
       "    </tr>\n",
       "  </thead>\n",
       "  <tbody>\n",
       "    <tr>\n",
       "      <th>0</th>\n",
       "      <td>0</td>\n",
       "      <td>3.177277</td>\n",
       "      <td>594.102992</td>\n",
       "      <td>0</td>\n",
       "    </tr>\n",
       "    <tr>\n",
       "      <th>1</th>\n",
       "      <td>0</td>\n",
       "      <td>3.412655</td>\n",
       "      <td>631.528607</td>\n",
       "      <td>0</td>\n",
       "    </tr>\n",
       "    <tr>\n",
       "      <th>2</th>\n",
       "      <td>0</td>\n",
       "      <td>2.728097</td>\n",
       "      <td>553.714399</td>\n",
       "      <td>0</td>\n",
       "    </tr>\n",
       "    <tr>\n",
       "      <th>3</th>\n",
       "      <td>0</td>\n",
       "      <td>3.093559</td>\n",
       "      <td>551.089985</td>\n",
       "      <td>0</td>\n",
       "    </tr>\n",
       "    <tr>\n",
       "      <th>4</th>\n",
       "      <td>0</td>\n",
       "      <td>3.141923</td>\n",
       "      <td>537.184894</td>\n",
       "      <td>0</td>\n",
       "    </tr>\n",
       "  </tbody>\n",
       "</table>\n",
       "</div>"
      ],
      "text/plain": [
       "   admit       gpa         gre  predicted_label\n",
       "0      0  3.177277  594.102992                0\n",
       "1      0  3.412655  631.528607                0\n",
       "2      0  2.728097  553.714399                0\n",
       "3      0  3.093559  551.089985                0\n",
       "4      0  3.141923  537.184894                0"
      ]
     },
     "execution_count": 218,
     "metadata": {},
     "output_type": "execute_result"
    }
   ],
   "source": [
    "import pandas as pd\n",
    "import matplotlib.pyplot as plt\n",
    "from sklearn.linear_model import LogisticRegression\n",
    "\n",
    "admissions = pd.read_csv(\"admissions.csv\")\n",
    "model = LogisticRegression()\n",
    "model.fit(admissions[[\"gpa\"]], admissions[\"admit\"])\n",
    "\n",
    "labels = model.predict(admissions[['gpa']])\n",
    "admissions['predicted_label'] = labels\n",
    "\n",
    "print(admissions['predicted_label'].value_counts())\n",
    "\n",
    "admissions.head()"
   ]
  },
  {
   "cell_type": "markdown",
   "metadata": {},
   "source": [
    "En la columna admit está el valor real de la admisión y en predicted_label el predicho por el modelo.\n",
    "\n",
    "En este formato es fácil calcular cómo de efectivo es el modelo:\n",
    "\n",
    "$Accuracy = \\cfrac{\\# Correctly Predicted}{\\# Observations}$\n",
    "\n",
    "Por defecto, Scikit-Learn deja el threshold para calcular el label a partir de lka probabilidad calculada por la logistic function en 0.5."
   ]
  },
  {
   "cell_type": "code",
   "execution_count": 219,
   "metadata": {},
   "outputs": [
    {
     "name": "stdout",
     "output_type": "stream",
     "text": [
      "   actual_label       gpa         gre  predicted_label\n",
      "0             0  3.177277  594.102992                0\n",
      "1             0  3.412655  631.528607                0\n",
      "2             0  2.728097  553.714399                0\n",
      "3             0  3.093559  551.089985                0\n",
      "4             0  3.141923  537.184894                0\n",
      "0.6847826086956522\n"
     ]
    }
   ],
   "source": [
    "admissions = admissions.rename(columns ={'admit':'actual_label'})\n",
    "\n",
    "matches = admissions['actual_label'] == admissions['predicted_label']\n",
    "\n",
    "correct_predictions = admissions[matches]\n",
    "\n",
    "print(correct_predictions.head())\n",
    "\n",
    "accuracy = len(correct_predictions)/len(admissions)\n",
    "\n",
    "print(accuracy)"
   ]
  },
  {
   "cell_type": "markdown",
   "metadata": {},
   "source": [
    "Esta accuracy no da mucha información, ya que está evaluada sobre el propio training set.\n",
    "\n",
    "Hay que evaluarla sobre datos que el modelo nunca haya visto.\n",
    "\n",
    "Hay cuatro posibles resultados en un problema de clasificación binaria:\n",
    "\n",
    "| Prediction   | Observation         |                     |\n",
    "|--------------|---------------------|---------------------|\n",
    "|              | Admitted (1)        | Rejected (0)        |\n",
    "| Admitted (1) | True Positive (TP)  | False Positive (FP) |\n",
    "| Rejected (0) | False Negative (FN) | True Negative (TN)  |\n",
    "\n",
    "Vamos a calcular el númerod e observaciones que hay en cada categoría de resultado"
   ]
  },
  {
   "cell_type": "code",
   "execution_count": 220,
   "metadata": {},
   "outputs": [
    {
     "name": "stdout",
     "output_type": "stream",
     "text": [
      "89\n",
      "352\n"
     ]
    }
   ],
   "source": [
    "true_positives = len(admissions[(admissions['predicted_label'] == 1) & (admissions['actual_label'] == 1)])\n",
    "true_negatives = len(admissions[(admissions['predicted_label'] == 0) & (admissions['actual_label'] == 0)])\n",
    "\n",
    "print(true_positives)\n",
    "print(true_negatives)"
   ]
  },
  {
   "cell_type": "markdown",
   "metadata": {},
   "source": [
    "#### Sensitivity\n",
    "\n",
    "Una manera más minuciosa de calcular el desempeño de un modelo es la sensibilidad.\n",
    "\n",
    "La sensibilidad es el **True Positive Rate**, (En el ejemplo la proporción de solicitantes que fueron admitidos correctamente).\n",
    "\n",
    "De todos los estudiantes que debería ser admitidos (TP + FN), qué fracción el modelo predijo correctamente.\n",
    "\n",
    "$TPR = \\cfrac{\\text{True Positives}}{\\text{False Negatives + True Positives}}$\n",
    "\n",
    "Responde a la pregunta: **¿Cómo de efectivo es el modelo para identificar resultados positivos?**.\n",
    "\n",
    "Es muy importante en problemas como predecir pacientes con cáncer o situaciones en las que conocer la postividad es crítica.\n",
    "\n"
   ]
  },
  {
   "cell_type": "code",
   "execution_count": 221,
   "metadata": {},
   "outputs": [
    {
     "name": "stdout",
     "output_type": "stream",
     "text": [
      "0.36475409836065575\n"
     ]
    }
   ],
   "source": [
    "true_positive_filter = (admissions[\"predicted_label\"] == 1) & (admissions[\"actual_label\"] == 1)\n",
    "true_positives = len(admissions[true_positive_filter])\n",
    "\n",
    "false_negative_filter = (admissions['predicted_label'] == 0) & (admissions['actual_label'] == 1)\n",
    "false_negatives = len(admissions[false_negative_filter])\n",
    "\n",
    "sensitivity = true_positives / (true_positives + false_negatives)\n",
    "print(sensitivity)"
   ]
  },
  {
   "cell_type": "markdown",
   "metadata": {},
   "source": [
    "#### Specificity\n",
    "\n",
    "Responde a **¿Cómo de efectivo es el modelo para identificar resultados negativos?**\n",
    "\n",
    "Indicaría la proporción de solicitantes que deberían ser rechazados y fueron correctamente rechazados.\n",
    "\n",
    "$TNR = \\cfrac{\\text{True Negatives}}{\\text{False Positives + True Negatives}}$\n"
   ]
  },
  {
   "cell_type": "code",
   "execution_count": 222,
   "metadata": {},
   "outputs": [
    {
     "name": "stdout",
     "output_type": "stream",
     "text": [
      "0.88\n"
     ]
    }
   ],
   "source": [
    "false_positive_filter = (admissions['predicted_label'] == 1)&(admissions['actual_label'] == 0)\n",
    "false_positives = len(admissions[false_positive_filter])\n",
    "\n",
    "specificity = true_negatives / (false_positives + true_negatives)\n",
    "print(specificity)"
   ]
  },
  {
   "cell_type": "code",
   "execution_count": null,
   "metadata": {},
   "outputs": [],
   "source": []
  },
  {
   "cell_type": "markdown",
   "metadata": {},
   "source": [
    "### Multiclass Classification"
   ]
  },
  {
   "cell_type": "markdown",
   "metadata": {},
   "source": [
    "En el ejemplo anterior el resultaod era binario, 0 o 1.\n",
    "\n",
    "Ahora se estudia el caso de más de dos categorías de resultados.\n",
    "\n",
    "El data set es auto-mpg.data dl repositorio de Machine Learning de UCI. [University of California Irvine on their machine learning repository](https://archive.ics.uci.edu/ml/datasets/Auto+MPG).\n",
    "\n",
    "El csv es autocsv, ya filtrado omitiendo filas sin datos de miles per gallon.\n",
    "\n",
    "Las columnas son:\n",
    "\n",
    "- mpg -- Miles per gallon, Continuous.\n",
    "- cylinders -- Number of cylinders in the motor, Integer, Ordinal, and Categorical.\n",
    "- displacement -- Motor size, Continuous.\n",
    "- horsepower -- Horsepower produced, Continuous.\n",
    "- weight -- Car's weight, Continuous.\n",
    "- acceleration -- Acceleration, Continuous.\n",
    "- year -- Year the car was built, Integer and Categorical.\n",
    "- origin -- Integer and Categorical. 1: North America, 2: Europe, 3: Asia.\n",
    "\n",
    "Se va a tratar de predecir el origen del coche según el resto de variables."
   ]
  },
  {
   "cell_type": "code",
   "execution_count": 229,
   "metadata": {},
   "outputs": [
    {
     "name": "stdout",
     "output_type": "stream",
     "text": [
      "[1 3 2]\n"
     ]
    }
   ],
   "source": [
    "import pandas as pd\n",
    "cars = pd.read_csv(\"auto.csv\")\n",
    "\n",
    "unique_regions = cars['origin'].unique()\n",
    "print(unique_regions)"
   ]
  },
  {
   "cell_type": "markdown",
   "metadata": {},
   "source": [
    "Hay 3 columnas categóricas en el data set:\n",
    "\n",
    "- cyclinders\n",
    "- year\n",
    "- origin \n",
    "\n",
    "La columna year es numérica, pero el año 71 y el 70 no se relaciónan de la misma manera que esos dos números se relacionan numéricamente. Son dos categorías distintas.\n",
    "\n",
    "Lo mismo pasa con cylinders.\n",
    "\n",
    "Pasamos estas columnas a dummy variables\n"
   ]
  },
  {
   "cell_type": "code",
   "execution_count": 232,
   "metadata": {},
   "outputs": [],
   "source": [
    "pd.options.display.max_columns = 99"
   ]
  },
  {
   "cell_type": "code",
   "execution_count": 233,
   "metadata": {},
   "outputs": [
    {
     "data": {
      "text/html": [
       "<div>\n",
       "<style scoped>\n",
       "    .dataframe tbody tr th:only-of-type {\n",
       "        vertical-align: middle;\n",
       "    }\n",
       "\n",
       "    .dataframe tbody tr th {\n",
       "        vertical-align: top;\n",
       "    }\n",
       "\n",
       "    .dataframe thead th {\n",
       "        text-align: right;\n",
       "    }\n",
       "</style>\n",
       "<table border=\"1\" class=\"dataframe\">\n",
       "  <thead>\n",
       "    <tr style=\"text-align: right;\">\n",
       "      <th></th>\n",
       "      <th>mpg</th>\n",
       "      <th>displacement</th>\n",
       "      <th>horsepower</th>\n",
       "      <th>weight</th>\n",
       "      <th>acceleration</th>\n",
       "      <th>origin</th>\n",
       "      <th>cyl_3</th>\n",
       "      <th>cyl_4</th>\n",
       "      <th>cyl_5</th>\n",
       "      <th>cyl_6</th>\n",
       "      <th>cyl_8</th>\n",
       "      <th>year_70</th>\n",
       "      <th>year_71</th>\n",
       "      <th>year_72</th>\n",
       "      <th>year_73</th>\n",
       "      <th>year_74</th>\n",
       "      <th>year_75</th>\n",
       "      <th>year_76</th>\n",
       "      <th>year_77</th>\n",
       "      <th>year_78</th>\n",
       "      <th>year_79</th>\n",
       "      <th>year_80</th>\n",
       "      <th>year_81</th>\n",
       "      <th>year_82</th>\n",
       "    </tr>\n",
       "  </thead>\n",
       "  <tbody>\n",
       "    <tr>\n",
       "      <th>0</th>\n",
       "      <td>18.0</td>\n",
       "      <td>307.0</td>\n",
       "      <td>130.0</td>\n",
       "      <td>3504.0</td>\n",
       "      <td>12.0</td>\n",
       "      <td>1</td>\n",
       "      <td>0</td>\n",
       "      <td>0</td>\n",
       "      <td>0</td>\n",
       "      <td>0</td>\n",
       "      <td>1</td>\n",
       "      <td>1</td>\n",
       "      <td>0</td>\n",
       "      <td>0</td>\n",
       "      <td>0</td>\n",
       "      <td>0</td>\n",
       "      <td>0</td>\n",
       "      <td>0</td>\n",
       "      <td>0</td>\n",
       "      <td>0</td>\n",
       "      <td>0</td>\n",
       "      <td>0</td>\n",
       "      <td>0</td>\n",
       "      <td>0</td>\n",
       "    </tr>\n",
       "    <tr>\n",
       "      <th>1</th>\n",
       "      <td>15.0</td>\n",
       "      <td>350.0</td>\n",
       "      <td>165.0</td>\n",
       "      <td>3693.0</td>\n",
       "      <td>11.5</td>\n",
       "      <td>1</td>\n",
       "      <td>0</td>\n",
       "      <td>0</td>\n",
       "      <td>0</td>\n",
       "      <td>0</td>\n",
       "      <td>1</td>\n",
       "      <td>1</td>\n",
       "      <td>0</td>\n",
       "      <td>0</td>\n",
       "      <td>0</td>\n",
       "      <td>0</td>\n",
       "      <td>0</td>\n",
       "      <td>0</td>\n",
       "      <td>0</td>\n",
       "      <td>0</td>\n",
       "      <td>0</td>\n",
       "      <td>0</td>\n",
       "      <td>0</td>\n",
       "      <td>0</td>\n",
       "    </tr>\n",
       "    <tr>\n",
       "      <th>2</th>\n",
       "      <td>18.0</td>\n",
       "      <td>318.0</td>\n",
       "      <td>150.0</td>\n",
       "      <td>3436.0</td>\n",
       "      <td>11.0</td>\n",
       "      <td>1</td>\n",
       "      <td>0</td>\n",
       "      <td>0</td>\n",
       "      <td>0</td>\n",
       "      <td>0</td>\n",
       "      <td>1</td>\n",
       "      <td>1</td>\n",
       "      <td>0</td>\n",
       "      <td>0</td>\n",
       "      <td>0</td>\n",
       "      <td>0</td>\n",
       "      <td>0</td>\n",
       "      <td>0</td>\n",
       "      <td>0</td>\n",
       "      <td>0</td>\n",
       "      <td>0</td>\n",
       "      <td>0</td>\n",
       "      <td>0</td>\n",
       "      <td>0</td>\n",
       "    </tr>\n",
       "    <tr>\n",
       "      <th>3</th>\n",
       "      <td>16.0</td>\n",
       "      <td>304.0</td>\n",
       "      <td>150.0</td>\n",
       "      <td>3433.0</td>\n",
       "      <td>12.0</td>\n",
       "      <td>1</td>\n",
       "      <td>0</td>\n",
       "      <td>0</td>\n",
       "      <td>0</td>\n",
       "      <td>0</td>\n",
       "      <td>1</td>\n",
       "      <td>1</td>\n",
       "      <td>0</td>\n",
       "      <td>0</td>\n",
       "      <td>0</td>\n",
       "      <td>0</td>\n",
       "      <td>0</td>\n",
       "      <td>0</td>\n",
       "      <td>0</td>\n",
       "      <td>0</td>\n",
       "      <td>0</td>\n",
       "      <td>0</td>\n",
       "      <td>0</td>\n",
       "      <td>0</td>\n",
       "    </tr>\n",
       "    <tr>\n",
       "      <th>4</th>\n",
       "      <td>17.0</td>\n",
       "      <td>302.0</td>\n",
       "      <td>140.0</td>\n",
       "      <td>3449.0</td>\n",
       "      <td>10.5</td>\n",
       "      <td>1</td>\n",
       "      <td>0</td>\n",
       "      <td>0</td>\n",
       "      <td>0</td>\n",
       "      <td>0</td>\n",
       "      <td>1</td>\n",
       "      <td>1</td>\n",
       "      <td>0</td>\n",
       "      <td>0</td>\n",
       "      <td>0</td>\n",
       "      <td>0</td>\n",
       "      <td>0</td>\n",
       "      <td>0</td>\n",
       "      <td>0</td>\n",
       "      <td>0</td>\n",
       "      <td>0</td>\n",
       "      <td>0</td>\n",
       "      <td>0</td>\n",
       "      <td>0</td>\n",
       "    </tr>\n",
       "  </tbody>\n",
       "</table>\n",
       "</div>"
      ],
      "text/plain": [
       "    mpg  displacement  horsepower  weight  acceleration  origin  cyl_3  cyl_4  \\\n",
       "0  18.0         307.0       130.0  3504.0          12.0       1      0      0   \n",
       "1  15.0         350.0       165.0  3693.0          11.5       1      0      0   \n",
       "2  18.0         318.0       150.0  3436.0          11.0       1      0      0   \n",
       "3  16.0         304.0       150.0  3433.0          12.0       1      0      0   \n",
       "4  17.0         302.0       140.0  3449.0          10.5       1      0      0   \n",
       "\n",
       "   cyl_5  cyl_6  cyl_8  year_70  year_71  year_72  year_73  year_74  year_75  \\\n",
       "0      0      0      1        1        0        0        0        0        0   \n",
       "1      0      0      1        1        0        0        0        0        0   \n",
       "2      0      0      1        1        0        0        0        0        0   \n",
       "3      0      0      1        1        0        0        0        0        0   \n",
       "4      0      0      1        1        0        0        0        0        0   \n",
       "\n",
       "   year_76  year_77  year_78  year_79  year_80  year_81  year_82  \n",
       "0        0        0        0        0        0        0        0  \n",
       "1        0        0        0        0        0        0        0  \n",
       "2        0        0        0        0        0        0        0  \n",
       "3        0        0        0        0        0        0        0  \n",
       "4        0        0        0        0        0        0        0  "
      ]
     },
     "execution_count": 233,
     "metadata": {},
     "output_type": "execute_result"
    }
   ],
   "source": [
    "cars = pd.read_csv(\"auto.csv\")\n",
    "\n",
    "dummy_cylinders = pd.get_dummies(cars[\"cylinders\"], prefix=\"cyl\")\n",
    "cars = pd.concat([cars, dummy_cylinders], axis=1)\n",
    "\n",
    "dummy_years = pd.get_dummies(cars['year'], prefix='year')\n",
    "cars = pd.concat([cars, dummy_years], axis = 1)\n",
    "\n",
    "cars = cars.drop(['cylinders','year'], axis = 1)\n",
    "                \n",
    "cars.head()"
   ]
  },
  {
   "cell_type": "markdown",
   "metadata": {},
   "source": [
    "#### One-Versus-All Method \n",
    "\n",
    "Hay múltiples  métodos o técnicas.\n",
    "\n",
    "One-Versus-All es una técnica en la que elegimos una de las categorías como el caso **Positivo** y agrupamos el resto como **False**.\n",
    "\n",
    "Se trata de partir el problema en múltiples clasificaciones binarias.\n",
    "\n",
    "Cada observación tiene como salida del modelo la probabilidad de pertenecer a cada categoría"
   ]
  },
  {
   "cell_type": "code",
   "execution_count": 234,
   "metadata": {},
   "outputs": [],
   "source": [
    "shuffled_rows = np.random.permutation(cars.index)\n",
    "shuffled_cars = cars.iloc[shuffled_rows]\n",
    "\n",
    "train_rows = int(len(shuffled_cars)*0.70)\n",
    "\n",
    "train = shuffled_cars[:train_rows]\n",
    "test = shuffled_cars[train_rows:]"
   ]
  },
  {
   "cell_type": "markdown",
   "metadata": {},
   "source": [
    "Se divide el 3 problemas de clasificación binaria con 3 modelos distintos:\n",
    "\n",
    "- Un modelo en que North America es Positivo 1 y Europe y Asia son Negativo 0.\n",
    "- Un modelo en que Europe es Positivo 1 y North America y Asia son Negativo 0.\n",
    "- Un modelo en que Europe es Asia 1 y North America y Europe son Negativo 0.\n",
    "\n",
    "El que de mayor probabilidad será el que elijamos como predicted label."
   ]
  },
  {
   "cell_type": "code",
   "execution_count": 238,
   "metadata": {},
   "outputs": [],
   "source": [
    "from sklearn.linear_model import LogisticRegression\n",
    "\n",
    "unique_origins = cars[\"origin\"].unique()\n",
    "unique_origins.sort()\n",
    "\n",
    "models = {}\n",
    "features = [c for c in train.columns if c.startswith(\"cyl\") or c.startswith(\"year\")]\n",
    "\n",
    "for origin in unique_origins:\n",
    "    model = LogisticRegression()\n",
    "    \n",
    "    X_train = train[features]\n",
    "    y_train = train[\"origin\"] == origin\n",
    "\n",
    "    model.fit(X_train, y_train)\n",
    "    models[origin] = model"
   ]
  },
  {
   "cell_type": "markdown",
   "metadata": {},
   "source": [
    "Las predicciones con cada uno de los modelos:"
   ]
  },
  {
   "cell_type": "code",
   "execution_count": 239,
   "metadata": {},
   "outputs": [],
   "source": [
    "testing_probs = pd.DataFrame(columns=unique_origins)\n",
    "\n",
    "for origin in unique_origins:\n",
    "    prediction = models[origin].predict_proba(test[features])\n",
    "    testing_probs[origin] = prediction[:,1]"
   ]
  },
  {
   "cell_type": "code",
   "execution_count": 241,
   "metadata": {},
   "outputs": [
    {
     "data": {
      "text/html": [
       "<div>\n",
       "<style scoped>\n",
       "    .dataframe tbody tr th:only-of-type {\n",
       "        vertical-align: middle;\n",
       "    }\n",
       "\n",
       "    .dataframe tbody tr th {\n",
       "        vertical-align: top;\n",
       "    }\n",
       "\n",
       "    .dataframe thead th {\n",
       "        text-align: right;\n",
       "    }\n",
       "</style>\n",
       "<table border=\"1\" class=\"dataframe\">\n",
       "  <thead>\n",
       "    <tr style=\"text-align: right;\">\n",
       "      <th></th>\n",
       "      <th>1</th>\n",
       "      <th>2</th>\n",
       "      <th>3</th>\n",
       "    </tr>\n",
       "  </thead>\n",
       "  <tbody>\n",
       "    <tr>\n",
       "      <th>0</th>\n",
       "      <td>0.374398</td>\n",
       "      <td>0.392102</td>\n",
       "      <td>0.220660</td>\n",
       "    </tr>\n",
       "    <tr>\n",
       "      <th>1</th>\n",
       "      <td>0.817014</td>\n",
       "      <td>0.091240</td>\n",
       "      <td>0.072676</td>\n",
       "    </tr>\n",
       "    <tr>\n",
       "      <th>2</th>\n",
       "      <td>0.817014</td>\n",
       "      <td>0.091240</td>\n",
       "      <td>0.072676</td>\n",
       "    </tr>\n",
       "    <tr>\n",
       "      <th>3</th>\n",
       "      <td>0.310999</td>\n",
       "      <td>0.152146</td>\n",
       "      <td>0.531702</td>\n",
       "    </tr>\n",
       "    <tr>\n",
       "      <th>4</th>\n",
       "      <td>0.879196</td>\n",
       "      <td>0.060595</td>\n",
       "      <td>0.065045</td>\n",
       "    </tr>\n",
       "    <tr>\n",
       "      <th>5</th>\n",
       "      <td>0.871300</td>\n",
       "      <td>0.035527</td>\n",
       "      <td>0.113538</td>\n",
       "    </tr>\n",
       "    <tr>\n",
       "      <th>6</th>\n",
       "      <td>0.462760</td>\n",
       "      <td>0.116902</td>\n",
       "      <td>0.424534</td>\n",
       "    </tr>\n",
       "    <tr>\n",
       "      <th>7</th>\n",
       "      <td>0.817014</td>\n",
       "      <td>0.091240</td>\n",
       "      <td>0.072676</td>\n",
       "    </tr>\n",
       "    <tr>\n",
       "      <th>8</th>\n",
       "      <td>0.420428</td>\n",
       "      <td>0.305795</td>\n",
       "      <td>0.250728</td>\n",
       "    </tr>\n",
       "    <tr>\n",
       "      <th>9</th>\n",
       "      <td>0.400663</td>\n",
       "      <td>0.349722</td>\n",
       "      <td>0.233940</td>\n",
       "    </tr>\n",
       "  </tbody>\n",
       "</table>\n",
       "</div>"
      ],
      "text/plain": [
       "          1         2         3\n",
       "0  0.374398  0.392102  0.220660\n",
       "1  0.817014  0.091240  0.072676\n",
       "2  0.817014  0.091240  0.072676\n",
       "3  0.310999  0.152146  0.531702\n",
       "4  0.879196  0.060595  0.065045\n",
       "5  0.871300  0.035527  0.113538\n",
       "6  0.462760  0.116902  0.424534\n",
       "7  0.817014  0.091240  0.072676\n",
       "8  0.420428  0.305795  0.250728\n",
       "9  0.400663  0.349722  0.233940"
      ]
     },
     "execution_count": 241,
     "metadata": {},
     "output_type": "execute_result"
    }
   ],
   "source": [
    "testing_probs.head(10)"
   ]
  },
  {
   "cell_type": "markdown",
   "metadata": {},
   "source": [
    "Ahora se elige el índice de la columna / origen de mayor probabilidad"
   ]
  },
  {
   "cell_type": "code",
   "execution_count": 242,
   "metadata": {},
   "outputs": [],
   "source": [
    "predicted_origins = testing_probs.idxmax(axis = 1)"
   ]
  },
  {
   "cell_type": "code",
   "execution_count": 243,
   "metadata": {},
   "outputs": [
    {
     "data": {
      "text/plain": [
       "0    2\n",
       "1    1\n",
       "2    1\n",
       "3    3\n",
       "4    1\n",
       "dtype: int64"
      ]
     },
     "execution_count": 243,
     "metadata": {},
     "output_type": "execute_result"
    }
   ],
   "source": [
    "predicted_origins.head()"
   ]
  },
  {
   "cell_type": "markdown",
   "metadata": {},
   "source": [
    "### Overfitting\n",
    "\n",
    "Para entender el overfitting hay que entender **Bias** y **Variance**\n",
    "\n",
    "Ahora utilizamos el data set original auto-mpg.data, que requiere cierta limpieza previa."
   ]
  },
  {
   "cell_type": "code",
   "execution_count": 255,
   "metadata": {},
   "outputs": [],
   "source": [
    "import pandas as pd\n",
    "columns = [\"mpg\", \"cylinders\", \"displacement\", \"horsepower\", \"weight\", \"acceleration\", \"model year\", \"origin\", \"car name\"]\n",
    "cars = pd.read_table(\"auto-mpg.data\", delim_whitespace=True, names=columns)\n",
    "filtered_cars = cars[cars['horsepower'] != '?'].copy()\n",
    "filtered_cars['horsepower'] = filtered_cars['horsepower'].astype('float')"
   ]
  },
  {
   "cell_type": "code",
   "execution_count": 257,
   "metadata": {},
   "outputs": [
    {
     "data": {
      "text/html": [
       "<div>\n",
       "<style scoped>\n",
       "    .dataframe tbody tr th:only-of-type {\n",
       "        vertical-align: middle;\n",
       "    }\n",
       "\n",
       "    .dataframe tbody tr th {\n",
       "        vertical-align: top;\n",
       "    }\n",
       "\n",
       "    .dataframe thead th {\n",
       "        text-align: right;\n",
       "    }\n",
       "</style>\n",
       "<table border=\"1\" class=\"dataframe\">\n",
       "  <thead>\n",
       "    <tr style=\"text-align: right;\">\n",
       "      <th></th>\n",
       "      <th>mpg</th>\n",
       "      <th>cylinders</th>\n",
       "      <th>displacement</th>\n",
       "      <th>horsepower</th>\n",
       "      <th>weight</th>\n",
       "      <th>acceleration</th>\n",
       "      <th>model year</th>\n",
       "      <th>origin</th>\n",
       "      <th>car name</th>\n",
       "    </tr>\n",
       "  </thead>\n",
       "  <tbody>\n",
       "    <tr>\n",
       "      <th>0</th>\n",
       "      <td>18.0</td>\n",
       "      <td>8</td>\n",
       "      <td>307.0</td>\n",
       "      <td>130.0</td>\n",
       "      <td>3504.0</td>\n",
       "      <td>12.0</td>\n",
       "      <td>70</td>\n",
       "      <td>1</td>\n",
       "      <td>chevrolet chevelle malibu</td>\n",
       "    </tr>\n",
       "    <tr>\n",
       "      <th>1</th>\n",
       "      <td>15.0</td>\n",
       "      <td>8</td>\n",
       "      <td>350.0</td>\n",
       "      <td>165.0</td>\n",
       "      <td>3693.0</td>\n",
       "      <td>11.5</td>\n",
       "      <td>70</td>\n",
       "      <td>1</td>\n",
       "      <td>buick skylark 320</td>\n",
       "    </tr>\n",
       "    <tr>\n",
       "      <th>2</th>\n",
       "      <td>18.0</td>\n",
       "      <td>8</td>\n",
       "      <td>318.0</td>\n",
       "      <td>150.0</td>\n",
       "      <td>3436.0</td>\n",
       "      <td>11.0</td>\n",
       "      <td>70</td>\n",
       "      <td>1</td>\n",
       "      <td>plymouth satellite</td>\n",
       "    </tr>\n",
       "    <tr>\n",
       "      <th>3</th>\n",
       "      <td>16.0</td>\n",
       "      <td>8</td>\n",
       "      <td>304.0</td>\n",
       "      <td>150.0</td>\n",
       "      <td>3433.0</td>\n",
       "      <td>12.0</td>\n",
       "      <td>70</td>\n",
       "      <td>1</td>\n",
       "      <td>amc rebel sst</td>\n",
       "    </tr>\n",
       "    <tr>\n",
       "      <th>4</th>\n",
       "      <td>17.0</td>\n",
       "      <td>8</td>\n",
       "      <td>302.0</td>\n",
       "      <td>140.0</td>\n",
       "      <td>3449.0</td>\n",
       "      <td>10.5</td>\n",
       "      <td>70</td>\n",
       "      <td>1</td>\n",
       "      <td>ford torino</td>\n",
       "    </tr>\n",
       "  </tbody>\n",
       "</table>\n",
       "</div>"
      ],
      "text/plain": [
       "    mpg  cylinders  displacement  horsepower  weight  acceleration  \\\n",
       "0  18.0          8         307.0       130.0  3504.0          12.0   \n",
       "1  15.0          8         350.0       165.0  3693.0          11.5   \n",
       "2  18.0          8         318.0       150.0  3436.0          11.0   \n",
       "3  16.0          8         304.0       150.0  3433.0          12.0   \n",
       "4  17.0          8         302.0       140.0  3449.0          10.5   \n",
       "\n",
       "   model year  origin                   car name  \n",
       "0          70       1  chevrolet chevelle malibu  \n",
       "1          70       1          buick skylark 320  \n",
       "2          70       1         plymouth satellite  \n",
       "3          70       1              amc rebel sst  \n",
       "4          70       1                ford torino  "
      ]
     },
     "execution_count": 257,
     "metadata": {},
     "output_type": "execute_result"
    }
   ],
   "source": [
    "filtered_cars.head()"
   ]
  },
  {
   "cell_type": "code",
   "execution_count": 258,
   "metadata": {},
   "outputs": [
    {
     "name": "stdout",
     "output_type": "stream",
     "text": [
      "<class 'pandas.core.frame.DataFrame'>\n",
      "RangeIndex: 398 entries, 0 to 397\n",
      "Data columns (total 9 columns):\n",
      " #   Column        Non-Null Count  Dtype  \n",
      "---  ------        --------------  -----  \n",
      " 0   mpg           398 non-null    float64\n",
      " 1   cylinders     398 non-null    int64  \n",
      " 2   displacement  398 non-null    float64\n",
      " 3   horsepower    398 non-null    object \n",
      " 4   weight        398 non-null    float64\n",
      " 5   acceleration  398 non-null    float64\n",
      " 6   model year    398 non-null    int64  \n",
      " 7   origin        398 non-null    int64  \n",
      " 8   car name      398 non-null    object \n",
      "dtypes: float64(4), int64(3), object(2)\n",
      "memory usage: 28.1+ KB\n"
     ]
    }
   ],
   "source": [
    "cars.info()"
   ]
  },
  {
   "cell_type": "code",
   "execution_count": 259,
   "metadata": {},
   "outputs": [
    {
     "name": "stdout",
     "output_type": "stream",
     "text": [
      "<class 'pandas.core.frame.DataFrame'>\n",
      "Int64Index: 392 entries, 0 to 397\n",
      "Data columns (total 9 columns):\n",
      " #   Column        Non-Null Count  Dtype  \n",
      "---  ------        --------------  -----  \n",
      " 0   mpg           392 non-null    float64\n",
      " 1   cylinders     392 non-null    int64  \n",
      " 2   displacement  392 non-null    float64\n",
      " 3   horsepower    392 non-null    float64\n",
      " 4   weight        392 non-null    float64\n",
      " 5   acceleration  392 non-null    float64\n",
      " 6   model year    392 non-null    int64  \n",
      " 7   origin        392 non-null    int64  \n",
      " 8   car name      392 non-null    object \n",
      "dtypes: float64(5), int64(3), object(1)\n",
      "memory usage: 30.6+ KB\n"
     ]
    }
   ],
   "source": [
    "filtered_cars.info()"
   ]
  },
  {
   "cell_type": "markdown",
   "metadata": {},
   "source": [
    "#### Bias y Variance\n",
    "\n",
    "Son las dos fuentes observables de error que podemos controlar indirectamente.\n",
    "\n",
    "Un buen [artículo](http://scott.fortmann-roe.com/docs/BiasVariance.html)\n",
    "\n",
    "##### Bias\n",
    "El sesgo describe el error que resulta de malas asumciones en el algoritmo de aprendizaje.\n",
    "\n",
    "Por ejemplo, asumir que una feature puede exlplicar el target en un modelo univariante, por ejemplo: solo el peso del coche se relaciona con la eficiencia en combustible. Esto resulta en un sesgo muy alto. El error será grande porque hay más variables que afectan.\n",
    "\n",
    "##### Variance\n",
    "\n",
    "La varianza describe un error que ocurre por la variabilidad de los valores predichos por el modelo.\n",
    "\n",
    "Si tenemos un dataset de 1000 features y usamos todas en un modelo muy complejo, el resuyltado tendrá bajo bias pero alta variance.\n",
    "\n",
    "\n",
    "Siempre hay un balance entre ambos\n",
    "\n",
    "##### Overfitting\n",
    "\n",
    "Ocurre cuando el modelo es eficaz en el training set pero no lo es para nuevos datos. Realmente es un concepto relativo, compara dos modelos.\n",
    "\n",
    "Overfit captura el ruido a parte de la señal que queremos."
   ]
  },
  {
   "cell_type": "code",
   "execution_count": 260,
   "metadata": {},
   "outputs": [],
   "source": [
    "from sklearn.linear_model import LinearRegression\n",
    "from sklearn.metrics import mean_squared_error\n",
    "import numpy as np\n",
    "import matplotlib.pyplot as plt\n",
    "\n",
    "def train_and_test(cols):\n",
    "    model = LinearRegression()\n",
    "    model.fit(filtered_cars[cols], filtered_cars['mpg'])\n",
    "    predictions = model.predict(filtered_cars[cols])\n",
    "    variance = np.var(predictions)\n",
    "    mse = mean_squared_error(filtered_cars['mpg'], predictions)\n",
    "    return mse, variance\n",
    "\n",
    "\n",
    "cols = ['cylinders']\n",
    "\n",
    "cyl_mse, cyl_var = train_and_test(cols)\n",
    "\n",
    "\n",
    "\n",
    "cols = ['weight']\n",
    "\n",
    "weight_mse, weight_var = train_and_test(cols)"
   ]
  },
  {
   "cell_type": "markdown",
   "metadata": {},
   "source": [
    "Ahora entrenamos modelos más complejos:"
   ]
  },
  {
   "cell_type": "code",
   "execution_count": 265,
   "metadata": {},
   "outputs": [],
   "source": [
    "def train_and_test(cols):\n",
    "    # Split into features & target.\n",
    "    features = filtered_cars[cols]\n",
    "    target = filtered_cars[\"mpg\"]\n",
    "    # Fit model.\n",
    "    lr = LinearRegression()\n",
    "    lr.fit(features, target)\n",
    "    # Make predictions on training set.\n",
    "    predictions = lr.predict(features)\n",
    "    # Compute MSE and Variance.\n",
    "    mse = mean_squared_error(filtered_cars[\"mpg\"], predictions)\n",
    "    variance = np.var(predictions)\n",
    "    return(mse, variance)\n",
    "\n",
    "features = ['cylinders', 'displacement', 'horsepower', 'weight', 'acceleration',\n",
    "       'model year', 'origin']\n",
    "one_mse, one_var = train_and_test([\"cylinders\"])\n",
    "two_mse, two_var = train_and_test(features[:2])\n",
    "three_mse, three_var = train_and_test(features[:3])\n",
    "four_mse, four_var = train_and_test(features[:4])\n",
    "five_mse, five_var = train_and_test(features[:5])\n",
    "six_mse, six_var = train_and_test(features[:6])\n",
    "seven_mse, seven_var = train_and_test(features[:7])"
   ]
  },
  {
   "cell_type": "code",
   "execution_count": 267,
   "metadata": {},
   "outputs": [
    {
     "name": "stdout",
     "output_type": "stream",
     "text": [
      "24.02017956815553 36.74255887416017\n",
      "21.282057055586364 39.480681386729316\n",
      "20.252954839714228 40.509783602601445\n",
      "17.763860571843846 42.99887787047185\n",
      "17.76139610540622 43.001342336909396\n",
      "11.590170981415227 49.172567460900346\n",
      "10.847480945000454 49.915257497315146\n"
     ]
    }
   ],
   "source": [
    "print(one_mse, one_var) \n",
    "print(two_mse, two_var) \n",
    "print(three_mse, three_var)\n",
    "print(four_mse, four_var)\n",
    "print(five_mse, five_var)\n",
    "print(six_mse, six_var)\n",
    "print(seven_mse, seven_var)"
   ]
  },
  {
   "cell_type": "markdown",
   "metadata": {},
   "source": [
    "#### KFold Cross Validation\n",
    "Para ver si un modelo está overfitting es útil comparar el in-sample error y el out-of-sample error\n",
    "\n",
    "Haciendo cross validation se puede detectar fácilmente. Calculamos la media del mse y la varianza para cada fold.\n"
   ]
  },
  {
   "cell_type": "code",
   "execution_count": 287,
   "metadata": {},
   "outputs": [],
   "source": [
    "from sklearn.model_selection import KFold\n",
    "from sklearn.metrics import mean_squared_error\n",
    "import numpy as np\n",
    "\n",
    "def train_and_cross_val(cols):\n",
    "    features = filtered_cars[cols]\n",
    "    target = filtered_cars['mpg']\n",
    "    \n",
    "    mse_values = []\n",
    "    variance_values = []\n",
    "    \n",
    "    kf = KFold(n_splits=10, shuffle = True, random_state = 3)\n",
    "    \n",
    "    \n",
    "    for train_index, test_index in kf.split(features):\n",
    "        X_train, X_test = features.iloc[train_index],  features.iloc[test_index]\n",
    "        y_train, y_test = target.iloc[train_index], target.iloc[test_index]\n",
    "        \n",
    "        \n",
    "        lrm = LinearRegression()\n",
    "        lrm.fit(X_train, y_train)\n",
    "        \n",
    "        predictions = lrm.predict(X_test)\n",
    "                \n",
    "        mse = mean_squared_error(y_test, predictions)\n",
    "        \n",
    "        variance_values.append(np.var(predictions))\n",
    "        mse_values.append(mse)\n",
    "        \n",
    "    return np.mean(mse_values), np.mean(variance_values)\n",
    "\n",
    "features = ['cylinders', 'displacement', 'horsepower', 'weight', 'acceleration',\n",
    "       'model year', 'origin']\n",
    "\n",
    "two_mse, two_var = train_and_cross_val(features[:2])\n",
    "three_mse, three_var = train_and_cross_val(features[:3])\n",
    "four_mse, four_var = train_and_cross_val(features[:4])\n",
    "five_mse, five_var = train_and_cross_val(features[:5])\n",
    "six_mse, six_var = train_and_cross_val(features[:6])\n",
    "seven_mse, seven_var = train_and_cross_val(features[:7])"
   ]
  },
  {
   "cell_type": "code",
   "execution_count": 288,
   "metadata": {},
   "outputs": [
    {
     "name": "stdout",
     "output_type": "stream",
     "text": [
      "24.02017956815553 36.74255887416017\n",
      "21.584370274954374 38.902525313756016\n",
      "20.655622193882955 40.091287956606934\n",
      "18.169683239081884 42.50764364364439\n",
      "18.283038517172052 42.59873630014678\n",
      "12.099685425467118 48.92824696771803\n",
      "11.418131971812054 49.90431373098729\n"
     ]
    }
   ],
   "source": [
    "print(one_mse, one_var) \n",
    "print(two_mse, two_var) \n",
    "print(three_mse, three_var)\n",
    "print(four_mse, four_var)\n",
    "print(five_mse, five_var)\n",
    "print(six_mse, six_var)\n",
    "print(seven_mse, seven_var)"
   ]
  },
  {
   "cell_type": "markdown",
   "metadata": {},
   "source": [
    "Para ver qué está haciendo el kfold"
   ]
  },
  {
   "cell_type": "code",
   "execution_count": 286,
   "metadata": {},
   "outputs": [
    {
     "name": "stdout",
     "output_type": "stream",
     "text": [
      "[  0   1   2   7   8   9  11  12  13  17  19  20  22  26  28  32  33  34\n",
      "  35  36  39  41  44  48  49  51  52  54  60  62  63  69  71  72  76  85\n",
      "  86  87  88  89  90  91  92  93  94  95  96  97  99 100 104 106 110 111\n",
      " 113 116 117 119 120 124 129 131 132 133 135 138 139 141 145 147 148 150\n",
      " 152 156 158 160 161 164 165 167 169 171 172 173 174 175 176 178 179 181\n",
      " 182 183 184 187 192 196 198 200 202 205 206 207 208 212 213 215 216 218\n",
      " 219 222 223 226 232 233 235 237 242 248 249 252 253 256 257 258 262 264\n",
      " 265 267 270 272 274 275 276 277 280 282 285 286 287 289 292 293 294 295\n",
      " 300 301 302 304 306 308 311 312 314 315 316 318 320 321 322 324 325 326\n",
      " 327 330 331 332 334 335 337 341 342 344 346 347 348 350 354 355 357 358\n",
      " 359 360 362 363 364 365 367 368 370 374 377 379 381 386 389 390] \n",
      " [  3   4   5   6  10  14  15  16  18  21  23  24  25  27  29  30  31  37\n",
      "  38  40  42  43  45  46  47  50  53  55  56  57  58  59  61  64  65  66\n",
      "  67  68  70  73  74  75  77  78  79  80  81  82  83  84  98 101 102 103\n",
      " 105 107 108 109 112 114 115 118 121 122 123 125 126 127 128 130 134 136\n",
      " 137 140 142 143 144 146 149 151 153 154 155 157 159 162 163 166 168 170\n",
      " 177 180 185 186 188 189 190 191 193 194 195 197 199 201 203 204 209 210\n",
      " 211 214 217 220 221 224 225 227 228 229 230 231 234 236 238 239 240 241\n",
      " 243 244 245 246 247 250 251 254 255 259 260 261 263 266 268 269 271 273\n",
      " 278 279 281 283 284 288 290 291 296 297 298 299 303 305 307 309 310 313\n",
      " 317 319 323 328 329 333 336 338 339 340 343 345 349 351 352 353 356 361\n",
      " 366 369 371 372 373 375 376 378 380 382 383 384 385 387 388 391]\n",
      "\n",
      "\n",
      "\n",
      "\n",
      "[  3   4   5   6  10  14  15  16  18  21  23  24  25  27  29  30  31  37\n",
      "  38  40  42  43  45  46  47  50  53  55  56  57  58  59  61  64  65  66\n",
      "  67  68  70  73  74  75  77  78  79  80  81  82  83  84  98 101 102 103\n",
      " 105 107 108 109 112 114 115 118 121 122 123 125 126 127 128 130 134 136\n",
      " 137 140 142 143 144 146 149 151 153 154 155 157 159 162 163 166 168 170\n",
      " 177 180 185 186 188 189 190 191 193 194 195 197 199 201 203 204 209 210\n",
      " 211 214 217 220 221 224 225 227 228 229 230 231 234 236 238 239 240 241\n",
      " 243 244 245 246 247 250 251 254 255 259 260 261 263 266 268 269 271 273\n",
      " 278 279 281 283 284 288 290 291 296 297 298 299 303 305 307 309 310 313\n",
      " 317 319 323 328 329 333 336 338 339 340 343 345 349 351 352 353 356 361\n",
      " 366 369 371 372 373 375 376 378 380 382 383 384 385 387 388 391] \n",
      " [  0   1   2   7   8   9  11  12  13  17  19  20  22  26  28  32  33  34\n",
      "  35  36  39  41  44  48  49  51  52  54  60  62  63  69  71  72  76  85\n",
      "  86  87  88  89  90  91  92  93  94  95  96  97  99 100 104 106 110 111\n",
      " 113 116 117 119 120 124 129 131 132 133 135 138 139 141 145 147 148 150\n",
      " 152 156 158 160 161 164 165 167 169 171 172 173 174 175 176 178 179 181\n",
      " 182 183 184 187 192 196 198 200 202 205 206 207 208 212 213 215 216 218\n",
      " 219 222 223 226 232 233 235 237 242 248 249 252 253 256 257 258 262 264\n",
      " 265 267 270 272 274 275 276 277 280 282 285 286 287 289 292 293 294 295\n",
      " 300 301 302 304 306 308 311 312 314 315 316 318 320 321 322 324 325 326\n",
      " 327 330 331 332 334 335 337 341 342 344 346 347 348 350 354 355 357 358\n",
      " 359 360 362 363 364 365 367 368 370 374 377 379 381 386 389 390]\n",
      "\n",
      "\n",
      "\n",
      "\n"
     ]
    }
   ],
   "source": [
    "features = filtered_cars[['cylinders', 'displacement', 'horsepower', 'weight', 'acceleration',\n",
    "       'model year', 'origin', ]]\n",
    "target = filtered_cars['mpg']\n",
    "\n",
    "kf = KFold(n_splits=2, shuffle= True, random_state = 3)\n",
    "for a, b in kf.split(features):\n",
    "    print(a,'\\n', b)\n",
    "    print('\\n')\n",
    "    print('\\n')"
   ]
  },
  {
   "cell_type": "markdown",
   "metadata": {},
   "source": [
    "#### Bias / variance - continuacion\n",
    "\n",
    "Durante el ejemplo, la cross validation, cuantas más features, menor es el error.\n",
    "\n",
    "Esto es una buena señal, ya que indica que el modelo está generalizando bien para nuevos datos.\n",
    "\n",
    "***Los modelos con menor mse son más complejos, pero suelen ser más sensibles a pequeñas variaciones en las entradas, tienen mayor varianza.**\n",
    "\n",
    "El aumento en complejidad del modelo hace que sea más impredecible con ndatos nuevos desconocidos."
   ]
  },
  {
   "cell_type": "code",
   "execution_count": null,
   "metadata": {},
   "outputs": [],
   "source": [
    "print(one_mse, one_var) \n",
    "print(two_mse, two_var) \n",
    "print(three_mse, three_var)\n",
    "print(four_mse, four_var)\n",
    "print(five_mse, five_var)\n",
    "print(six_mse, six_var)\n",
    "print(seven_mse, seven_var)"
   ]
  },
  {
   "cell_type": "code",
   "execution_count": 289,
   "metadata": {},
   "outputs": [
    {
     "data": {
      "text/plain": [
       "<matplotlib.collections.PathCollection at 0x1d18a516cc8>"
      ]
     },
     "execution_count": 289,
     "metadata": {},
     "output_type": "execute_result"
    },
    {
     "data": {
      "image/png": "[encoded data removed]",
      "text/plain": [
       "<Figure size 432x288 with 1 Axes>"
      ]
     },
     "metadata": {},
     "output_type": "display_data"
    }
   ],
   "source": [
    "plt.scatter([2,3,4,5,6,7],[two_mse, three_mse, four_mse, five_mse, six_mse, seven_mse], c='red')\n",
    "\n",
    "\n",
    "plt.scatter([2,3,4,5,6,7],[two_var, three_var, four_var, five_var, six_var, seven_var], c='blue')"
   ]
  },
  {
   "cell_type": "markdown",
   "metadata": {},
   "source": [
    "### Clustering Basics\n"
   ]
  },
  {
   "cell_type": "markdown",
   "metadata": {},
   "source": [
    "#### Supervised Machine Learning\n",
    "Se basa en el entrenamiento de un modelo para hacer predicciones.\n",
    "\n",
    "Lo que hemos visto hasta ahora de regresión y clasificación es aprendizaje supervisado.\n",
    "\n",
    "#### Unsupervised Machine Learning\n",
    "No se trata de predecir, sino de encontrar patrones en unos datos.\n",
    "\n",
    "Una de las principales técnicas es el clustering. El clustering explora eld ataset y las relaciones emtre las columna y las filas.\n",
    "\n",
    "Un ejemplo sería agrupar jugadores de la NBA según sus estadísticas:\n",
    "\n",
    "![title](imagenes/clustering.PNG)\n",
    "\n"
   ]
  },
  {
   "cell_type": "markdown",
   "metadata": {},
   "source": [
    "Vamos a estudiar datos de senadores de US basándose en qué votan.\n",
    "\n",
    "EL dataset 114_congress.vsv tiene los resultados de los votos del 114th Senate.\n",
    "Cada row es un senador.\n",
    "\n",
    "Cada clumna es una votación.\n",
    "\n",
    "0 es No, 1 es Yes, 0.5 es Abstención.\n",
    "\n",
    "Columnas:\n",
    "\n",
    "- name -- The Senator's last name.\n",
    "- party -- The Senator's political party. The valid values are D for Democrat, R for Republican, and I for Independent.\n",
    "- Several columns numbered like 00001, 00004, etc. Each of these columns represents the results of a single roll call vote."
   ]
  },
  {
   "cell_type": "code",
   "execution_count": 1,
   "metadata": {},
   "outputs": [
    {
     "data": {
      "text/html": [
       "<div>\n",
       "<style scoped>\n",
       "    .dataframe tbody tr th:only-of-type {\n",
       "        vertical-align: middle;\n",
       "    }\n",
       "\n",
       "    .dataframe tbody tr th {\n",
       "        vertical-align: top;\n",
       "    }\n",
       "\n",
       "    .dataframe thead th {\n",
       "        text-align: right;\n",
       "    }\n",
       "</style>\n",
       "<table border=\"1\" class=\"dataframe\">\n",
       "  <thead>\n",
       "    <tr style=\"text-align: right;\">\n",
       "      <th></th>\n",
       "      <th>name</th>\n",
       "      <th>party</th>\n",
       "      <th>state</th>\n",
       "      <th>00001</th>\n",
       "      <th>00004</th>\n",
       "      <th>00005</th>\n",
       "      <th>00006</th>\n",
       "      <th>00007</th>\n",
       "      <th>00008</th>\n",
       "      <th>00009</th>\n",
       "      <th>00010</th>\n",
       "      <th>00020</th>\n",
       "      <th>00026</th>\n",
       "      <th>00032</th>\n",
       "      <th>00038</th>\n",
       "      <th>00039</th>\n",
       "      <th>00044</th>\n",
       "      <th>00047</th>\n",
       "    </tr>\n",
       "  </thead>\n",
       "  <tbody>\n",
       "    <tr>\n",
       "      <th>0</th>\n",
       "      <td>Alexander</td>\n",
       "      <td>R</td>\n",
       "      <td>TN</td>\n",
       "      <td>0.0</td>\n",
       "      <td>1.0</td>\n",
       "      <td>1.0</td>\n",
       "      <td>1.0</td>\n",
       "      <td>1.0</td>\n",
       "      <td>0.0</td>\n",
       "      <td>0.0</td>\n",
       "      <td>1.0</td>\n",
       "      <td>1.0</td>\n",
       "      <td>1.0</td>\n",
       "      <td>0.0</td>\n",
       "      <td>0.0</td>\n",
       "      <td>0.0</td>\n",
       "      <td>0.0</td>\n",
       "      <td>0.0</td>\n",
       "    </tr>\n",
       "    <tr>\n",
       "      <th>1</th>\n",
       "      <td>Ayotte</td>\n",
       "      <td>R</td>\n",
       "      <td>NH</td>\n",
       "      <td>0.0</td>\n",
       "      <td>1.0</td>\n",
       "      <td>1.0</td>\n",
       "      <td>1.0</td>\n",
       "      <td>1.0</td>\n",
       "      <td>0.0</td>\n",
       "      <td>0.0</td>\n",
       "      <td>1.0</td>\n",
       "      <td>0.0</td>\n",
       "      <td>1.0</td>\n",
       "      <td>0.0</td>\n",
       "      <td>1.0</td>\n",
       "      <td>0.0</td>\n",
       "      <td>1.0</td>\n",
       "      <td>0.0</td>\n",
       "    </tr>\n",
       "    <tr>\n",
       "      <th>2</th>\n",
       "      <td>Baldwin</td>\n",
       "      <td>D</td>\n",
       "      <td>WI</td>\n",
       "      <td>1.0</td>\n",
       "      <td>0.0</td>\n",
       "      <td>0.0</td>\n",
       "      <td>1.0</td>\n",
       "      <td>0.0</td>\n",
       "      <td>1.0</td>\n",
       "      <td>0.0</td>\n",
       "      <td>1.0</td>\n",
       "      <td>0.0</td>\n",
       "      <td>0.0</td>\n",
       "      <td>1.0</td>\n",
       "      <td>1.0</td>\n",
       "      <td>0.0</td>\n",
       "      <td>1.0</td>\n",
       "      <td>1.0</td>\n",
       "    </tr>\n",
       "    <tr>\n",
       "      <th>3</th>\n",
       "      <td>Barrasso</td>\n",
       "      <td>R</td>\n",
       "      <td>WY</td>\n",
       "      <td>0.0</td>\n",
       "      <td>1.0</td>\n",
       "      <td>1.0</td>\n",
       "      <td>1.0</td>\n",
       "      <td>1.0</td>\n",
       "      <td>0.0</td>\n",
       "      <td>1.0</td>\n",
       "      <td>1.0</td>\n",
       "      <td>1.0</td>\n",
       "      <td>1.0</td>\n",
       "      <td>0.0</td>\n",
       "      <td>0.0</td>\n",
       "      <td>1.0</td>\n",
       "      <td>0.0</td>\n",
       "      <td>0.0</td>\n",
       "    </tr>\n",
       "    <tr>\n",
       "      <th>4</th>\n",
       "      <td>Bennet</td>\n",
       "      <td>D</td>\n",
       "      <td>CO</td>\n",
       "      <td>0.0</td>\n",
       "      <td>0.0</td>\n",
       "      <td>0.0</td>\n",
       "      <td>1.0</td>\n",
       "      <td>0.0</td>\n",
       "      <td>1.0</td>\n",
       "      <td>0.0</td>\n",
       "      <td>1.0</td>\n",
       "      <td>0.0</td>\n",
       "      <td>0.0</td>\n",
       "      <td>0.0</td>\n",
       "      <td>1.0</td>\n",
       "      <td>0.0</td>\n",
       "      <td>1.0</td>\n",
       "      <td>0.0</td>\n",
       "    </tr>\n",
       "  </tbody>\n",
       "</table>\n",
       "</div>"
      ],
      "text/plain": [
       "        name party state  00001  00004  00005  00006  00007  00008  00009  \\\n",
       "0  Alexander     R    TN    0.0    1.0    1.0    1.0    1.0    0.0    0.0   \n",
       "1     Ayotte     R    NH    0.0    1.0    1.0    1.0    1.0    0.0    0.0   \n",
       "2    Baldwin     D    WI    1.0    0.0    0.0    1.0    0.0    1.0    0.0   \n",
       "3   Barrasso     R    WY    0.0    1.0    1.0    1.0    1.0    0.0    1.0   \n",
       "4     Bennet     D    CO    0.0    0.0    0.0    1.0    0.0    1.0    0.0   \n",
       "\n",
       "   00010  00020  00026  00032  00038  00039  00044  00047  \n",
       "0    1.0    1.0    1.0    0.0    0.0    0.0    0.0    0.0  \n",
       "1    1.0    0.0    1.0    0.0    1.0    0.0    1.0    0.0  \n",
       "2    1.0    0.0    0.0    1.0    1.0    0.0    1.0    1.0  \n",
       "3    1.0    1.0    1.0    0.0    0.0    1.0    0.0    0.0  \n",
       "4    1.0    0.0    0.0    0.0    1.0    0.0    1.0    0.0  "
      ]
     },
     "execution_count": 1,
     "metadata": {},
     "output_type": "execute_result"
    }
   ],
   "source": [
    "import pandas as pd\n",
    "votes = pd.read_csv('114_congress.csv')\n",
    "votes.head()"
   ]
  },
  {
   "cell_type": "code",
   "execution_count": 2,
   "metadata": {},
   "outputs": [
    {
     "name": "stdout",
     "output_type": "stream",
     "text": [
      "R    54\n",
      "D    44\n",
      "I     2\n",
      "Name: party, dtype: int64\n"
     ]
    },
    {
     "data": {
      "text/plain": [
       "00001    0.325\n",
       "00004    0.575\n",
       "00005    0.535\n",
       "00006    0.945\n",
       "00007    0.545\n",
       "dtype: float64"
      ]
     },
     "execution_count": 2,
     "metadata": {},
     "output_type": "execute_result"
    }
   ],
   "source": [
    "print(votes['party'].value_counts())\n",
    "\n",
    "votes.mean().head()"
   ]
  },
  {
   "cell_type": "markdown",
   "metadata": {},
   "source": [
    "Un resultado de la media de más de 0.5 es que hay más Yes que No."
   ]
  },
  {
   "cell_type": "markdown",
   "metadata": {},
   "source": [
    "#### Distancia Euclídea\n",
    "\n",
    "Para agrupar senadores se puede calcular la distancia euclídea entre ellos.\n",
    "\n",
    "$d = \\sqrt{(q_1 - p_1)^2 + (q_2 - p_2)^2 + ... (q_n - p_n)^2}$\n",
    "\n",
    "Se utilizan solo las columnas numéricas, obviamente."
   ]
  },
  {
   "cell_type": "code",
   "execution_count": 7,
   "metadata": {},
   "outputs": [
    {
     "name": "stdout",
     "output_type": "stream",
     "text": [
      "[[1.73205081]]\n",
      "[[3.31662479]]\n"
     ]
    }
   ],
   "source": [
    "from sklearn.metrics.pairwise import euclidean_distances\n",
    "\n",
    "print(euclidean_distances(votes.iloc[0,3:].values.reshape(1, -1), votes.iloc[1,3:].values.reshape(1, -1)))\n",
    "\n",
    "distance = euclidean_distances(votes.iloc[0,3:].values.reshape(1, -1), votes.iloc[2,3:].values.reshape(1, -1))\n",
    "print(distance)"
   ]
  },
  {
   "cell_type": "markdown",
   "metadata": {},
   "source": [
    "#### K-Means Clustering Intro\n",
    "\n",
    "Vamos a utilizar el algoritmo de K-MEans de Scikit-Learn para ver el funcionamiento a alto nivel y más adelante se verá en detalle.\n",
    "\n",
    "El algoritmo agrupa senadores se´gun similaridad de votos.\n",
    "\n",
    "A cada cluster se le asigna un centro y se computa la distancia de cada senador a cada centro.\n",
    "\n",
    "Se asignan a cluisters según proximidad\n",
    "\n",
    "Intuimos que los senadores se agruparán según partidos, por eso ponemos k=2 como número de clusters.\n",
    "\n",
    "Como no estamos predicionedo nada no existe el overfitting. Se entrena con el dataset entero.\n",
    "\n",
    "Se inicializa el modelo:\n",
    "\n",
    "````\n",
    "kmeans_model = KMeans(n_clusters=2, random_state=1)\n",
    "\n",
    "````\n",
    "\n",
    "YSe aplica el método fit_transform() en el dataset.\n",
    "\n",
    "El resultado serán dos columnas con las dos distancias a cada uno de los clusters:\n",
    "\n",
    "````\n",
    "array([[ 3.12141628,  1.3134775 ],\n",
    "   [ 2.6146248 ,  2.05339992],\n",
    "   [ 0.33960656,  3.41651746],\n",
    "   [ 3.42004795,  0.24198446],\n",
    "   [ 1.43833966,  2.96866004],\n",
    "   [ 0.33960656,  3.41651746],\n",
    "   [ 3.42004795,  0.24198446],\n",
    "   [ 0.33960656,  3.41651746],\n",
    "   [ 3.42004795,  0.24198446],\n",
    "   [ 0.31287498,  3.30758755],\n",
    "   ...\n",
    "````"
   ]
  },
  {
   "cell_type": "code",
   "execution_count": 8,
   "metadata": {},
   "outputs": [
    {
     "data": {
      "text/plain": [
       "array([[1.3134775 , 3.12141628],\n",
       "       [2.05339992, 2.6146248 ],\n",
       "       [3.41651746, 0.33960656],\n",
       "       [0.24198446, 3.42004795],\n",
       "       [2.96866004, 1.43833966],\n",
       "       [3.41651746, 0.33960656],\n",
       "       [0.24198446, 3.42004795],\n",
       "       [3.41651746, 0.33960656],\n",
       "       [0.24198446, 3.42004795],\n",
       "       [3.30758755, 0.31287498]])"
      ]
     },
     "execution_count": 8,
     "metadata": {},
     "output_type": "execute_result"
    }
   ],
   "source": [
    "import pandas as pd\n",
    "from sklearn.cluster import KMeans\n",
    "\n",
    "kmeans_model = KMeans(n_clusters=2, random_state=1)\n",
    "\n",
    "senator_distances = kmeans_model.fit_transform(votes.iloc[:,3:])\n",
    "\n",
    "senator_distances[:10]"
   ]
  },
  {
   "cell_type": "markdown",
   "metadata": {},
   "source": [
    "##### Crosstab()\n",
    "\n",
    "Para ver cómo se relacionan los clusters calculados con los partidos que ya se conocían en el dataset podemos utilizar el método crosstab().\n",
    "\n",
    "Ejemplo ilustrativo de crosstab()"
   ]
  },
  {
   "cell_type": "code",
   "execution_count": 16,
   "metadata": {},
   "outputs": [
    {
     "data": {
      "text/html": [
       "<div>\n",
       "<style scoped>\n",
       "    .dataframe tbody tr th:only-of-type {\n",
       "        vertical-align: middle;\n",
       "    }\n",
       "\n",
       "    .dataframe tbody tr th {\n",
       "        vertical-align: top;\n",
       "    }\n",
       "\n",
       "    .dataframe thead th {\n",
       "        text-align: right;\n",
       "    }\n",
       "</style>\n",
       "<table border=\"1\" class=\"dataframe\">\n",
       "  <thead>\n",
       "    <tr style=\"text-align: right;\">\n",
       "      <th>has_lung_cancer</th>\n",
       "      <th>0</th>\n",
       "      <th>1</th>\n",
       "    </tr>\n",
       "    <tr>\n",
       "      <th>is_smoker</th>\n",
       "      <th></th>\n",
       "      <th></th>\n",
       "    </tr>\n",
       "  </thead>\n",
       "  <tbody>\n",
       "    <tr>\n",
       "      <th>0</th>\n",
       "      <td>1</td>\n",
       "      <td>2</td>\n",
       "    </tr>\n",
       "    <tr>\n",
       "      <th>1</th>\n",
       "      <td>2</td>\n",
       "      <td>1</td>\n",
       "    </tr>\n",
       "  </tbody>\n",
       "</table>\n",
       "</div>"
      ],
      "text/plain": [
       "has_lung_cancer  0  1\n",
       "is_smoker            \n",
       "0                1  2\n",
       "1                2  1"
      ]
     },
     "execution_count": 16,
     "metadata": {},
     "output_type": "execute_result"
    }
   ],
   "source": [
    "import numpy as np\n",
    "is_smoker = np.array([0,1,1,0,0,1])\n",
    "has_lung_cancer =  np.array([1,0,1,0,1,0])\n",
    "\n",
    "pd.crosstab(is_smoker, has_lung_cancer, rownames = ['is_smoker'], colnames = ['has_lung_cancer'])"
   ]
  },
  {
   "cell_type": "markdown",
   "metadata": {},
   "source": [
    "Para el ejemplo del senado:"
   ]
  },
  {
   "cell_type": "code",
   "execution_count": 23,
   "metadata": {},
   "outputs": [
    {
     "data": {
      "text/html": [
       "<div>\n",
       "<style scoped>\n",
       "    .dataframe tbody tr th:only-of-type {\n",
       "        vertical-align: middle;\n",
       "    }\n",
       "\n",
       "    .dataframe tbody tr th {\n",
       "        vertical-align: top;\n",
       "    }\n",
       "\n",
       "    .dataframe thead th {\n",
       "        text-align: right;\n",
       "    }\n",
       "</style>\n",
       "<table border=\"1\" class=\"dataframe\">\n",
       "  <thead>\n",
       "    <tr style=\"text-align: right;\">\n",
       "      <th>party</th>\n",
       "      <th>D</th>\n",
       "      <th>I</th>\n",
       "      <th>R</th>\n",
       "    </tr>\n",
       "    <tr>\n",
       "      <th>row_0</th>\n",
       "      <th></th>\n",
       "      <th></th>\n",
       "      <th></th>\n",
       "    </tr>\n",
       "  </thead>\n",
       "  <tbody>\n",
       "    <tr>\n",
       "      <th>0</th>\n",
       "      <td>3</td>\n",
       "      <td>0</td>\n",
       "      <td>54</td>\n",
       "    </tr>\n",
       "    <tr>\n",
       "      <th>1</th>\n",
       "      <td>41</td>\n",
       "      <td>2</td>\n",
       "      <td>0</td>\n",
       "    </tr>\n",
       "  </tbody>\n",
       "</table>\n",
       "</div>"
      ],
      "text/plain": [
       "party   D  I   R\n",
       "row_0           \n",
       "0       3  0  54\n",
       "1      41  2   0"
      ]
     },
     "execution_count": 23,
     "metadata": {},
     "output_type": "execute_result"
    }
   ],
   "source": [
    "labels = kmeans_model.labels_\n",
    "\n",
    "\n",
    "pd.crosstab(labels, votes['party'])"
   ]
  },
  {
   "cell_type": "markdown",
   "metadata": {},
   "source": [
    "Parece que 3 Demócratas han votado algo distinto que el resto de DEmócratas y que ningñun Republicano ha votado algo distinto de su partido.\n",
    "\n",
    "Seleccionamos los 3 Demócratas outliers\n",
    "\n"
   ]
  },
  {
   "cell_type": "code",
   "execution_count": 24,
   "metadata": {},
   "outputs": [
    {
     "data": {
      "text/html": [
       "<div>\n",
       "<style scoped>\n",
       "    .dataframe tbody tr th:only-of-type {\n",
       "        vertical-align: middle;\n",
       "    }\n",
       "\n",
       "    .dataframe tbody tr th {\n",
       "        vertical-align: top;\n",
       "    }\n",
       "\n",
       "    .dataframe thead th {\n",
       "        text-align: right;\n",
       "    }\n",
       "</style>\n",
       "<table border=\"1\" class=\"dataframe\">\n",
       "  <thead>\n",
       "    <tr style=\"text-align: right;\">\n",
       "      <th></th>\n",
       "      <th>name</th>\n",
       "      <th>party</th>\n",
       "      <th>state</th>\n",
       "      <th>00001</th>\n",
       "      <th>00004</th>\n",
       "      <th>00005</th>\n",
       "      <th>00006</th>\n",
       "      <th>00007</th>\n",
       "      <th>00008</th>\n",
       "      <th>00009</th>\n",
       "      <th>00010</th>\n",
       "      <th>00020</th>\n",
       "      <th>00026</th>\n",
       "      <th>00032</th>\n",
       "      <th>00038</th>\n",
       "      <th>00039</th>\n",
       "      <th>00044</th>\n",
       "      <th>00047</th>\n",
       "    </tr>\n",
       "  </thead>\n",
       "  <tbody>\n",
       "    <tr>\n",
       "      <th>42</th>\n",
       "      <td>Heitkamp</td>\n",
       "      <td>D</td>\n",
       "      <td>ND</td>\n",
       "      <td>0.0</td>\n",
       "      <td>1.0</td>\n",
       "      <td>0.0</td>\n",
       "      <td>1.0</td>\n",
       "      <td>0.0</td>\n",
       "      <td>0.0</td>\n",
       "      <td>1.0</td>\n",
       "      <td>1.0</td>\n",
       "      <td>0.0</td>\n",
       "      <td>0.0</td>\n",
       "      <td>0.0</td>\n",
       "      <td>1.0</td>\n",
       "      <td>0.0</td>\n",
       "      <td>0.0</td>\n",
       "      <td>0.0</td>\n",
       "    </tr>\n",
       "    <tr>\n",
       "      <th>56</th>\n",
       "      <td>Manchin</td>\n",
       "      <td>D</td>\n",
       "      <td>WV</td>\n",
       "      <td>0.0</td>\n",
       "      <td>1.0</td>\n",
       "      <td>0.0</td>\n",
       "      <td>1.0</td>\n",
       "      <td>0.0</td>\n",
       "      <td>0.0</td>\n",
       "      <td>1.0</td>\n",
       "      <td>1.0</td>\n",
       "      <td>1.0</td>\n",
       "      <td>0.0</td>\n",
       "      <td>0.0</td>\n",
       "      <td>1.0</td>\n",
       "      <td>1.0</td>\n",
       "      <td>0.0</td>\n",
       "      <td>0.0</td>\n",
       "    </tr>\n",
       "    <tr>\n",
       "      <th>74</th>\n",
       "      <td>Reid</td>\n",
       "      <td>D</td>\n",
       "      <td>NV</td>\n",
       "      <td>0.5</td>\n",
       "      <td>0.5</td>\n",
       "      <td>0.5</td>\n",
       "      <td>0.5</td>\n",
       "      <td>0.5</td>\n",
       "      <td>0.5</td>\n",
       "      <td>0.5</td>\n",
       "      <td>0.5</td>\n",
       "      <td>0.5</td>\n",
       "      <td>0.5</td>\n",
       "      <td>0.5</td>\n",
       "      <td>0.5</td>\n",
       "      <td>0.5</td>\n",
       "      <td>0.5</td>\n",
       "      <td>0.5</td>\n",
       "    </tr>\n",
       "  </tbody>\n",
       "</table>\n",
       "</div>"
      ],
      "text/plain": [
       "        name party state  00001  00004  00005  00006  00007  00008  00009  \\\n",
       "42  Heitkamp     D    ND    0.0    1.0    0.0    1.0    0.0    0.0    1.0   \n",
       "56   Manchin     D    WV    0.0    1.0    0.0    1.0    0.0    0.0    1.0   \n",
       "74      Reid     D    NV    0.5    0.5    0.5    0.5    0.5    0.5    0.5   \n",
       "\n",
       "    00010  00020  00026  00032  00038  00039  00044  00047  \n",
       "42    1.0    0.0    0.0    0.0    1.0    0.0    0.0    0.0  \n",
       "56    1.0    1.0    0.0    0.0    1.0    1.0    0.0    0.0  \n",
       "74    0.5    0.5    0.5    0.5    0.5    0.5    0.5    0.5  "
      ]
     },
     "execution_count": 24,
     "metadata": {},
     "output_type": "execute_result"
    }
   ],
   "source": [
    "democratic_outliers = votes[(labels == 0) & (votes['party'] == 'D')]\n",
    "democratic_outliers"
   ]
  },
  {
   "cell_type": "markdown",
   "metadata": {},
   "source": [
    "##### Representando en Matplotlib"
   ]
  },
  {
   "cell_type": "code",
   "execution_count": 30,
   "metadata": {},
   "outputs": [
    {
     "data": {
      "text/plain": [
       "<matplotlib.collections.PathCollection at 0x183dbc75e48>"
      ]
     },
     "execution_count": 30,
     "metadata": {},
     "output_type": "execute_result"
    },
    {
     "data": {
      "image/png": "[encoded data removed]",
      "text/plain": [
       "<Figure size 432x288 with 1 Axes>"
      ]
     },
     "metadata": {
      "needs_background": "light"
     },
     "output_type": "display_data"
    }
   ],
   "source": [
    "import matplotlib.pyplot as plt\n",
    "plt.scatter(senator_distances[:,0], senator_distances[:,1], c=labels, linewidths = 0)\n"
   ]
  },
  {
   "cell_type": "code",
   "execution_count": 31,
   "metadata": {},
   "outputs": [
    {
     "data": {
      "text/plain": [
       "array([0, 0, 1, 0, 1, 1, 0, 1, 0, 1, 1, 0, 1, 0, 1, 1, 1, 0, 0, 0, 0, 1,\n",
       "       0, 0, 0, 0, 0, 0, 1, 1, 0, 0, 1, 0, 0, 1, 0, 1, 0, 0, 0, 1, 0, 0,\n",
       "       1, 0, 0, 0, 0, 1, 1, 0, 1, 0, 1, 0, 0, 1, 0, 1, 0, 1, 1, 1, 0, 0,\n",
       "       1, 1, 1, 0, 0, 1, 0, 1, 0, 0, 0, 0, 0, 1, 0, 1, 1, 0, 0, 1, 0, 1,\n",
       "       0, 1, 0, 0, 0, 1, 0, 1, 1, 1, 0, 1])"
      ]
     },
     "execution_count": 31,
     "metadata": {},
     "output_type": "execute_result"
    }
   ],
   "source": [
    "labels"
   ]
  },
  {
   "cell_type": "markdown",
   "metadata": {},
   "source": [
    "El array de labels tiene 2 valores distintos y el scatter lo interpreta como que cada valor es un color."
   ]
  },
  {
   "cell_type": "markdown",
   "metadata": {},
   "source": [
    "Se podría decir que los senadores más extremistas son aquellos que se encuentran lo más lejos de un cluster. Los que estén entre ambos clusters son más moderados.\n",
    "\n",
    "##### Fórmula para encontrar extremistas\n",
    "\n",
    "Se calcula el cubos de las distancias a los clusters.\n",
    "\n",
    "Por ejemplo:\n",
    "\n",
    "Un extremista sería e =\\[3.4, 0.24], está muy lejos de un cluster comparado con otro y la suma 3.4 + 0.24 = 3.64\n",
    "\n",
    "Un moderado sería m= \\[2.6, 2], a una distancia parecida y la suma 2.6 + 2 = 4.6\n",
    "\n",
    "Parecería que el moderado es más extremo\n",
    "\n",
    "Sin embargo, sus cubos serían e**3 = [39.3, 0.013] y m**3 = [17.57, 8]\n",
    "\n",
    "Y sus sumas 39.3 y 25.6, por lo que el extremista se identifica."
   ]
  },
  {
   "cell_type": "code",
   "execution_count": 44,
   "metadata": {},
   "outputs": [
    {
     "data": {
      "text/html": [
       "<div>\n",
       "<style scoped>\n",
       "    .dataframe tbody tr th:only-of-type {\n",
       "        vertical-align: middle;\n",
       "    }\n",
       "\n",
       "    .dataframe tbody tr th {\n",
       "        vertical-align: top;\n",
       "    }\n",
       "\n",
       "    .dataframe thead th {\n",
       "        text-align: right;\n",
       "    }\n",
       "</style>\n",
       "<table border=\"1\" class=\"dataframe\">\n",
       "  <thead>\n",
       "    <tr style=\"text-align: right;\">\n",
       "      <th></th>\n",
       "      <th>name</th>\n",
       "      <th>party</th>\n",
       "      <th>state</th>\n",
       "      <th>00001</th>\n",
       "      <th>00004</th>\n",
       "      <th>00005</th>\n",
       "      <th>00006</th>\n",
       "      <th>00007</th>\n",
       "      <th>00008</th>\n",
       "      <th>00009</th>\n",
       "      <th>00010</th>\n",
       "      <th>00020</th>\n",
       "      <th>00026</th>\n",
       "      <th>00032</th>\n",
       "      <th>00038</th>\n",
       "      <th>00039</th>\n",
       "      <th>00044</th>\n",
       "      <th>00047</th>\n",
       "      <th>extremism</th>\n",
       "    </tr>\n",
       "  </thead>\n",
       "  <tbody>\n",
       "    <tr>\n",
       "      <th>98</th>\n",
       "      <td>Wicker</td>\n",
       "      <td>R</td>\n",
       "      <td>MS</td>\n",
       "      <td>0.0</td>\n",
       "      <td>1.0</td>\n",
       "      <td>1.0</td>\n",
       "      <td>1.0</td>\n",
       "      <td>1.0</td>\n",
       "      <td>0.0</td>\n",
       "      <td>1.0</td>\n",
       "      <td>0.0</td>\n",
       "      <td>1.0</td>\n",
       "      <td>1.0</td>\n",
       "      <td>0.0</td>\n",
       "      <td>0.0</td>\n",
       "      <td>1.0</td>\n",
       "      <td>0.0</td>\n",
       "      <td>0.0</td>\n",
       "      <td>46.250476</td>\n",
       "    </tr>\n",
       "    <tr>\n",
       "      <th>53</th>\n",
       "      <td>Lankford</td>\n",
       "      <td>R</td>\n",
       "      <td>OK</td>\n",
       "      <td>0.0</td>\n",
       "      <td>1.0</td>\n",
       "      <td>1.0</td>\n",
       "      <td>0.0</td>\n",
       "      <td>1.0</td>\n",
       "      <td>0.0</td>\n",
       "      <td>1.0</td>\n",
       "      <td>1.0</td>\n",
       "      <td>1.0</td>\n",
       "      <td>1.0</td>\n",
       "      <td>0.0</td>\n",
       "      <td>0.0</td>\n",
       "      <td>1.0</td>\n",
       "      <td>0.0</td>\n",
       "      <td>0.0</td>\n",
       "      <td>46.046873</td>\n",
       "    </tr>\n",
       "    <tr>\n",
       "      <th>69</th>\n",
       "      <td>Paul</td>\n",
       "      <td>R</td>\n",
       "      <td>KY</td>\n",
       "      <td>0.0</td>\n",
       "      <td>1.0</td>\n",
       "      <td>1.0</td>\n",
       "      <td>0.0</td>\n",
       "      <td>1.0</td>\n",
       "      <td>0.0</td>\n",
       "      <td>1.0</td>\n",
       "      <td>1.0</td>\n",
       "      <td>1.0</td>\n",
       "      <td>1.0</td>\n",
       "      <td>0.0</td>\n",
       "      <td>0.0</td>\n",
       "      <td>1.0</td>\n",
       "      <td>0.0</td>\n",
       "      <td>0.0</td>\n",
       "      <td>46.046873</td>\n",
       "    </tr>\n",
       "    <tr>\n",
       "      <th>80</th>\n",
       "      <td>Sasse</td>\n",
       "      <td>R</td>\n",
       "      <td>NE</td>\n",
       "      <td>0.0</td>\n",
       "      <td>1.0</td>\n",
       "      <td>1.0</td>\n",
       "      <td>0.0</td>\n",
       "      <td>1.0</td>\n",
       "      <td>0.0</td>\n",
       "      <td>1.0</td>\n",
       "      <td>1.0</td>\n",
       "      <td>1.0</td>\n",
       "      <td>1.0</td>\n",
       "      <td>0.0</td>\n",
       "      <td>0.0</td>\n",
       "      <td>1.0</td>\n",
       "      <td>0.0</td>\n",
       "      <td>0.0</td>\n",
       "      <td>46.046873</td>\n",
       "    </tr>\n",
       "    <tr>\n",
       "      <th>26</th>\n",
       "      <td>Cruz</td>\n",
       "      <td>R</td>\n",
       "      <td>TX</td>\n",
       "      <td>0.0</td>\n",
       "      <td>1.0</td>\n",
       "      <td>1.0</td>\n",
       "      <td>0.0</td>\n",
       "      <td>1.0</td>\n",
       "      <td>0.0</td>\n",
       "      <td>1.0</td>\n",
       "      <td>1.0</td>\n",
       "      <td>1.0</td>\n",
       "      <td>1.0</td>\n",
       "      <td>0.0</td>\n",
       "      <td>0.0</td>\n",
       "      <td>1.0</td>\n",
       "      <td>0.0</td>\n",
       "      <td>0.0</td>\n",
       "      <td>46.046873</td>\n",
       "    </tr>\n",
       "    <tr>\n",
       "      <th>48</th>\n",
       "      <td>Johnson</td>\n",
       "      <td>R</td>\n",
       "      <td>WI</td>\n",
       "      <td>0.0</td>\n",
       "      <td>1.0</td>\n",
       "      <td>1.0</td>\n",
       "      <td>1.0</td>\n",
       "      <td>1.0</td>\n",
       "      <td>0.0</td>\n",
       "      <td>1.0</td>\n",
       "      <td>1.0</td>\n",
       "      <td>1.0</td>\n",
       "      <td>1.0</td>\n",
       "      <td>0.0</td>\n",
       "      <td>0.0</td>\n",
       "      <td>1.0</td>\n",
       "      <td>0.0</td>\n",
       "      <td>0.0</td>\n",
       "      <td>40.017540</td>\n",
       "    </tr>\n",
       "    <tr>\n",
       "      <th>47</th>\n",
       "      <td>Isakson</td>\n",
       "      <td>R</td>\n",
       "      <td>GA</td>\n",
       "      <td>0.0</td>\n",
       "      <td>1.0</td>\n",
       "      <td>1.0</td>\n",
       "      <td>1.0</td>\n",
       "      <td>1.0</td>\n",
       "      <td>0.0</td>\n",
       "      <td>1.0</td>\n",
       "      <td>1.0</td>\n",
       "      <td>1.0</td>\n",
       "      <td>1.0</td>\n",
       "      <td>0.0</td>\n",
       "      <td>0.0</td>\n",
       "      <td>1.0</td>\n",
       "      <td>0.0</td>\n",
       "      <td>0.0</td>\n",
       "      <td>40.017540</td>\n",
       "    </tr>\n",
       "    <tr>\n",
       "      <th>65</th>\n",
       "      <td>Murkowski</td>\n",
       "      <td>R</td>\n",
       "      <td>AK</td>\n",
       "      <td>0.0</td>\n",
       "      <td>1.0</td>\n",
       "      <td>1.0</td>\n",
       "      <td>1.0</td>\n",
       "      <td>1.0</td>\n",
       "      <td>0.0</td>\n",
       "      <td>1.0</td>\n",
       "      <td>1.0</td>\n",
       "      <td>1.0</td>\n",
       "      <td>1.0</td>\n",
       "      <td>0.0</td>\n",
       "      <td>0.0</td>\n",
       "      <td>1.0</td>\n",
       "      <td>0.0</td>\n",
       "      <td>0.0</td>\n",
       "      <td>40.017540</td>\n",
       "    </tr>\n",
       "    <tr>\n",
       "      <th>64</th>\n",
       "      <td>Moran</td>\n",
       "      <td>R</td>\n",
       "      <td>KS</td>\n",
       "      <td>0.0</td>\n",
       "      <td>1.0</td>\n",
       "      <td>1.0</td>\n",
       "      <td>1.0</td>\n",
       "      <td>1.0</td>\n",
       "      <td>0.0</td>\n",
       "      <td>1.0</td>\n",
       "      <td>1.0</td>\n",
       "      <td>1.0</td>\n",
       "      <td>1.0</td>\n",
       "      <td>0.0</td>\n",
       "      <td>0.0</td>\n",
       "      <td>1.0</td>\n",
       "      <td>0.0</td>\n",
       "      <td>0.0</td>\n",
       "      <td>40.017540</td>\n",
       "    </tr>\n",
       "    <tr>\n",
       "      <th>30</th>\n",
       "      <td>Enzi</td>\n",
       "      <td>R</td>\n",
       "      <td>WY</td>\n",
       "      <td>0.0</td>\n",
       "      <td>1.0</td>\n",
       "      <td>1.0</td>\n",
       "      <td>1.0</td>\n",
       "      <td>1.0</td>\n",
       "      <td>0.0</td>\n",
       "      <td>1.0</td>\n",
       "      <td>1.0</td>\n",
       "      <td>1.0</td>\n",
       "      <td>1.0</td>\n",
       "      <td>0.0</td>\n",
       "      <td>0.0</td>\n",
       "      <td>1.0</td>\n",
       "      <td>0.0</td>\n",
       "      <td>0.0</td>\n",
       "      <td>40.017540</td>\n",
       "    </tr>\n",
       "  </tbody>\n",
       "</table>\n",
       "</div>"
      ],
      "text/plain": [
       "         name party state  00001  00004  00005  00006  00007  00008  00009  \\\n",
       "98     Wicker     R    MS    0.0    1.0    1.0    1.0    1.0    0.0    1.0   \n",
       "53   Lankford     R    OK    0.0    1.0    1.0    0.0    1.0    0.0    1.0   \n",
       "69       Paul     R    KY    0.0    1.0    1.0    0.0    1.0    0.0    1.0   \n",
       "80      Sasse     R    NE    0.0    1.0    1.0    0.0    1.0    0.0    1.0   \n",
       "26       Cruz     R    TX    0.0    1.0    1.0    0.0    1.0    0.0    1.0   \n",
       "48    Johnson     R    WI    0.0    1.0    1.0    1.0    1.0    0.0    1.0   \n",
       "47    Isakson     R    GA    0.0    1.0    1.0    1.0    1.0    0.0    1.0   \n",
       "65  Murkowski     R    AK    0.0    1.0    1.0    1.0    1.0    0.0    1.0   \n",
       "64      Moran     R    KS    0.0    1.0    1.0    1.0    1.0    0.0    1.0   \n",
       "30       Enzi     R    WY    0.0    1.0    1.0    1.0    1.0    0.0    1.0   \n",
       "\n",
       "    00010  00020  00026  00032  00038  00039  00044  00047  extremism  \n",
       "98    0.0    1.0    1.0    0.0    0.0    1.0    0.0    0.0  46.250476  \n",
       "53    1.0    1.0    1.0    0.0    0.0    1.0    0.0    0.0  46.046873  \n",
       "69    1.0    1.0    1.0    0.0    0.0    1.0    0.0    0.0  46.046873  \n",
       "80    1.0    1.0    1.0    0.0    0.0    1.0    0.0    0.0  46.046873  \n",
       "26    1.0    1.0    1.0    0.0    0.0    1.0    0.0    0.0  46.046873  \n",
       "48    1.0    1.0    1.0    0.0    0.0    1.0    0.0    0.0  40.017540  \n",
       "47    1.0    1.0    1.0    0.0    0.0    1.0    0.0    0.0  40.017540  \n",
       "65    1.0    1.0    1.0    0.0    0.0    1.0    0.0    0.0  40.017540  \n",
       "64    1.0    1.0    1.0    0.0    0.0    1.0    0.0    0.0  40.017540  \n",
       "30    1.0    1.0    1.0    0.0    0.0    1.0    0.0    0.0  40.017540  "
      ]
     },
     "execution_count": 44,
     "metadata": {},
     "output_type": "execute_result"
    }
   ],
   "source": [
    "extremism = (senator_distances ** 3).sum(axis = 1)\n",
    "\n",
    "votes['extremism'] = extremism\n",
    "\n",
    "votes = votes.sort_values('extremism', ascending = False)\n",
    "\n",
    "votes.head(10)"
   ]
  },
  {
   "cell_type": "code",
   "execution_count": 45,
   "metadata": {},
   "outputs": [
    {
     "data": {
      "text/html": [
       "<div>\n",
       "<style scoped>\n",
       "    .dataframe tbody tr th:only-of-type {\n",
       "        vertical-align: middle;\n",
       "    }\n",
       "\n",
       "    .dataframe tbody tr th {\n",
       "        vertical-align: top;\n",
       "    }\n",
       "\n",
       "    .dataframe thead th {\n",
       "        text-align: right;\n",
       "    }\n",
       "</style>\n",
       "<table border=\"1\" class=\"dataframe\">\n",
       "  <thead>\n",
       "    <tr style=\"text-align: right;\">\n",
       "      <th></th>\n",
       "      <th>name</th>\n",
       "      <th>party</th>\n",
       "      <th>state</th>\n",
       "      <th>00001</th>\n",
       "      <th>00004</th>\n",
       "      <th>00005</th>\n",
       "      <th>00006</th>\n",
       "      <th>00007</th>\n",
       "      <th>00008</th>\n",
       "      <th>00009</th>\n",
       "      <th>00010</th>\n",
       "      <th>00020</th>\n",
       "      <th>00026</th>\n",
       "      <th>00032</th>\n",
       "      <th>00038</th>\n",
       "      <th>00039</th>\n",
       "      <th>00044</th>\n",
       "      <th>00047</th>\n",
       "      <th>extremism</th>\n",
       "    </tr>\n",
       "  </thead>\n",
       "  <tbody>\n",
       "    <tr>\n",
       "      <th>4</th>\n",
       "      <td>Bennet</td>\n",
       "      <td>D</td>\n",
       "      <td>CO</td>\n",
       "      <td>0.0</td>\n",
       "      <td>0.0</td>\n",
       "      <td>0.0</td>\n",
       "      <td>1.0</td>\n",
       "      <td>0.0</td>\n",
       "      <td>1.0</td>\n",
       "      <td>0.0</td>\n",
       "      <td>1.0</td>\n",
       "      <td>0.0</td>\n",
       "      <td>0.0</td>\n",
       "      <td>0.0</td>\n",
       "      <td>1.0</td>\n",
       "      <td>0.0</td>\n",
       "      <td>1.0</td>\n",
       "      <td>0.0</td>\n",
       "      <td>29.138297</td>\n",
       "    </tr>\n",
       "    <tr>\n",
       "      <th>56</th>\n",
       "      <td>Manchin</td>\n",
       "      <td>D</td>\n",
       "      <td>WV</td>\n",
       "      <td>0.0</td>\n",
       "      <td>1.0</td>\n",
       "      <td>0.0</td>\n",
       "      <td>1.0</td>\n",
       "      <td>0.0</td>\n",
       "      <td>0.0</td>\n",
       "      <td>1.0</td>\n",
       "      <td>1.0</td>\n",
       "      <td>1.0</td>\n",
       "      <td>0.0</td>\n",
       "      <td>0.0</td>\n",
       "      <td>1.0</td>\n",
       "      <td>1.0</td>\n",
       "      <td>0.0</td>\n",
       "      <td>0.0</td>\n",
       "      <td>28.234966</td>\n",
       "    </tr>\n",
       "    <tr>\n",
       "      <th>28</th>\n",
       "      <td>Donnelly</td>\n",
       "      <td>D</td>\n",
       "      <td>IN</td>\n",
       "      <td>0.0</td>\n",
       "      <td>0.0</td>\n",
       "      <td>0.0</td>\n",
       "      <td>1.0</td>\n",
       "      <td>0.0</td>\n",
       "      <td>0.0</td>\n",
       "      <td>0.0</td>\n",
       "      <td>1.0</td>\n",
       "      <td>0.0</td>\n",
       "      <td>0.0</td>\n",
       "      <td>1.0</td>\n",
       "      <td>1.0</td>\n",
       "      <td>0.0</td>\n",
       "      <td>0.0</td>\n",
       "      <td>0.0</td>\n",
       "      <td>27.758024</td>\n",
       "    </tr>\n",
       "    <tr>\n",
       "      <th>59</th>\n",
       "      <td>McCaskill</td>\n",
       "      <td>D</td>\n",
       "      <td>MO</td>\n",
       "      <td>0.0</td>\n",
       "      <td>0.0</td>\n",
       "      <td>0.0</td>\n",
       "      <td>1.0</td>\n",
       "      <td>0.0</td>\n",
       "      <td>0.0</td>\n",
       "      <td>0.0</td>\n",
       "      <td>1.0</td>\n",
       "      <td>0.0</td>\n",
       "      <td>0.0</td>\n",
       "      <td>0.0</td>\n",
       "      <td>1.0</td>\n",
       "      <td>0.0</td>\n",
       "      <td>1.0</td>\n",
       "      <td>0.0</td>\n",
       "      <td>27.073018</td>\n",
       "    </tr>\n",
       "    <tr>\n",
       "      <th>89</th>\n",
       "      <td>Tester</td>\n",
       "      <td>D</td>\n",
       "      <td>MT</td>\n",
       "      <td>0.0</td>\n",
       "      <td>0.0</td>\n",
       "      <td>0.0</td>\n",
       "      <td>1.0</td>\n",
       "      <td>0.0</td>\n",
       "      <td>0.0</td>\n",
       "      <td>0.0</td>\n",
       "      <td>1.0</td>\n",
       "      <td>0.0</td>\n",
       "      <td>0.0</td>\n",
       "      <td>0.0</td>\n",
       "      <td>1.0</td>\n",
       "      <td>0.0</td>\n",
       "      <td>1.0</td>\n",
       "      <td>0.0</td>\n",
       "      <td>27.073018</td>\n",
       "    </tr>\n",
       "    <tr>\n",
       "      <th>1</th>\n",
       "      <td>Ayotte</td>\n",
       "      <td>R</td>\n",
       "      <td>NH</td>\n",
       "      <td>0.0</td>\n",
       "      <td>1.0</td>\n",
       "      <td>1.0</td>\n",
       "      <td>1.0</td>\n",
       "      <td>1.0</td>\n",
       "      <td>0.0</td>\n",
       "      <td>0.0</td>\n",
       "      <td>1.0</td>\n",
       "      <td>0.0</td>\n",
       "      <td>1.0</td>\n",
       "      <td>0.0</td>\n",
       "      <td>1.0</td>\n",
       "      <td>0.0</td>\n",
       "      <td>1.0</td>\n",
       "      <td>0.0</td>\n",
       "      <td>26.532323</td>\n",
       "    </tr>\n",
       "    <tr>\n",
       "      <th>20</th>\n",
       "      <td>Collins</td>\n",
       "      <td>R</td>\n",
       "      <td>ME</td>\n",
       "      <td>0.0</td>\n",
       "      <td>1.0</td>\n",
       "      <td>1.0</td>\n",
       "      <td>1.0</td>\n",
       "      <td>1.0</td>\n",
       "      <td>0.0</td>\n",
       "      <td>0.0</td>\n",
       "      <td>1.0</td>\n",
       "      <td>0.0</td>\n",
       "      <td>1.0</td>\n",
       "      <td>0.0</td>\n",
       "      <td>1.0</td>\n",
       "      <td>0.0</td>\n",
       "      <td>1.0</td>\n",
       "      <td>0.0</td>\n",
       "      <td>26.532323</td>\n",
       "    </tr>\n",
       "    <tr>\n",
       "      <th>42</th>\n",
       "      <td>Heitkamp</td>\n",
       "      <td>D</td>\n",
       "      <td>ND</td>\n",
       "      <td>0.0</td>\n",
       "      <td>1.0</td>\n",
       "      <td>0.0</td>\n",
       "      <td>1.0</td>\n",
       "      <td>0.0</td>\n",
       "      <td>0.0</td>\n",
       "      <td>1.0</td>\n",
       "      <td>1.0</td>\n",
       "      <td>0.0</td>\n",
       "      <td>0.0</td>\n",
       "      <td>0.0</td>\n",
       "      <td>1.0</td>\n",
       "      <td>0.0</td>\n",
       "      <td>0.0</td>\n",
       "      <td>0.0</td>\n",
       "      <td>25.557841</td>\n",
       "    </tr>\n",
       "    <tr>\n",
       "      <th>78</th>\n",
       "      <td>Rubio</td>\n",
       "      <td>R</td>\n",
       "      <td>FL</td>\n",
       "      <td>0.0</td>\n",
       "      <td>1.0</td>\n",
       "      <td>1.0</td>\n",
       "      <td>1.0</td>\n",
       "      <td>1.0</td>\n",
       "      <td>0.0</td>\n",
       "      <td>1.0</td>\n",
       "      <td>1.0</td>\n",
       "      <td>1.0</td>\n",
       "      <td>1.0</td>\n",
       "      <td>0.5</td>\n",
       "      <td>0.5</td>\n",
       "      <td>0.5</td>\n",
       "      <td>0.5</td>\n",
       "      <td>0.5</td>\n",
       "      <td>24.655309</td>\n",
       "    </tr>\n",
       "    <tr>\n",
       "      <th>74</th>\n",
       "      <td>Reid</td>\n",
       "      <td>D</td>\n",
       "      <td>NV</td>\n",
       "      <td>0.5</td>\n",
       "      <td>0.5</td>\n",
       "      <td>0.5</td>\n",
       "      <td>0.5</td>\n",
       "      <td>0.5</td>\n",
       "      <td>0.5</td>\n",
       "      <td>0.5</td>\n",
       "      <td>0.5</td>\n",
       "      <td>0.5</td>\n",
       "      <td>0.5</td>\n",
       "      <td>0.5</td>\n",
       "      <td>0.5</td>\n",
       "      <td>0.5</td>\n",
       "      <td>0.5</td>\n",
       "      <td>0.5</td>\n",
       "      <td>10.784129</td>\n",
       "    </tr>\n",
       "  </tbody>\n",
       "</table>\n",
       "</div>"
      ],
      "text/plain": [
       "         name party state  00001  00004  00005  00006  00007  00008  00009  \\\n",
       "4      Bennet     D    CO    0.0    0.0    0.0    1.0    0.0    1.0    0.0   \n",
       "56    Manchin     D    WV    0.0    1.0    0.0    1.0    0.0    0.0    1.0   \n",
       "28   Donnelly     D    IN    0.0    0.0    0.0    1.0    0.0    0.0    0.0   \n",
       "59  McCaskill     D    MO    0.0    0.0    0.0    1.0    0.0    0.0    0.0   \n",
       "89     Tester     D    MT    0.0    0.0    0.0    1.0    0.0    0.0    0.0   \n",
       "1      Ayotte     R    NH    0.0    1.0    1.0    1.0    1.0    0.0    0.0   \n",
       "20    Collins     R    ME    0.0    1.0    1.0    1.0    1.0    0.0    0.0   \n",
       "42   Heitkamp     D    ND    0.0    1.0    0.0    1.0    0.0    0.0    1.0   \n",
       "78      Rubio     R    FL    0.0    1.0    1.0    1.0    1.0    0.0    1.0   \n",
       "74       Reid     D    NV    0.5    0.5    0.5    0.5    0.5    0.5    0.5   \n",
       "\n",
       "    00010  00020  00026  00032  00038  00039  00044  00047  extremism  \n",
       "4     1.0    0.0    0.0    0.0    1.0    0.0    1.0    0.0  29.138297  \n",
       "56    1.0    1.0    0.0    0.0    1.0    1.0    0.0    0.0  28.234966  \n",
       "28    1.0    0.0    0.0    1.0    1.0    0.0    0.0    0.0  27.758024  \n",
       "59    1.0    0.0    0.0    0.0    1.0    0.0    1.0    0.0  27.073018  \n",
       "89    1.0    0.0    0.0    0.0    1.0    0.0    1.0    0.0  27.073018  \n",
       "1     1.0    0.0    1.0    0.0    1.0    0.0    1.0    0.0  26.532323  \n",
       "20    1.0    0.0    1.0    0.0    1.0    0.0    1.0    0.0  26.532323  \n",
       "42    1.0    0.0    0.0    0.0    1.0    0.0    0.0    0.0  25.557841  \n",
       "78    1.0    1.0    1.0    0.5    0.5    0.5    0.5    0.5  24.655309  \n",
       "74    0.5    0.5    0.5    0.5    0.5    0.5    0.5    0.5  10.784129  "
      ]
     },
     "execution_count": 45,
     "metadata": {},
     "output_type": "execute_result"
    }
   ],
   "source": [
    "votes.tail(10)"
   ]
  },
  {
   "cell_type": "markdown",
   "metadata": {},
   "source": [
    "### K-means Clustering\n",
    "\n",
    "Ahora se estudia el algoritmo de clustering en detalle.\n",
    "\n",
    "Se utiliza el dataset de jugadores de NBA nba_2013.csv cuyas columnas son:\n",
    "\n",
    "- player — the player's name\n",
    "- pos — the player's position\n",
    "- g — the number of games played\n",
    "- pts — the player's total points scored\n",
    "- fg. — the field goal percentage\n",
    "- ft. — the free throw percentage\n",
    "\n",
    "[La referencia del dataset](https://www.basketball-reference.com/leagues/NBA_2014_adj_shooting.html)"
   ]
  },
  {
   "cell_type": "code",
   "execution_count": 47,
   "metadata": {},
   "outputs": [
    {
     "data": {
      "text/html": [
       "<div>\n",
       "<style scoped>\n",
       "    .dataframe tbody tr th:only-of-type {\n",
       "        vertical-align: middle;\n",
       "    }\n",
       "\n",
       "    .dataframe tbody tr th {\n",
       "        vertical-align: top;\n",
       "    }\n",
       "\n",
       "    .dataframe thead th {\n",
       "        text-align: right;\n",
       "    }\n",
       "</style>\n",
       "<table border=\"1\" class=\"dataframe\">\n",
       "  <thead>\n",
       "    <tr style=\"text-align: right;\">\n",
       "      <th></th>\n",
       "      <th>player</th>\n",
       "      <th>pos</th>\n",
       "      <th>age</th>\n",
       "      <th>bref_team_id</th>\n",
       "      <th>g</th>\n",
       "      <th>gs</th>\n",
       "      <th>mp</th>\n",
       "      <th>fg</th>\n",
       "      <th>fga</th>\n",
       "      <th>fg.</th>\n",
       "      <th>...</th>\n",
       "      <th>drb</th>\n",
       "      <th>trb</th>\n",
       "      <th>ast</th>\n",
       "      <th>stl</th>\n",
       "      <th>blk</th>\n",
       "      <th>tov</th>\n",
       "      <th>pf</th>\n",
       "      <th>pts</th>\n",
       "      <th>season</th>\n",
       "      <th>season_end</th>\n",
       "    </tr>\n",
       "  </thead>\n",
       "  <tbody>\n",
       "    <tr>\n",
       "      <th>0</th>\n",
       "      <td>Quincy Acy</td>\n",
       "      <td>SF</td>\n",
       "      <td>23</td>\n",
       "      <td>TOT</td>\n",
       "      <td>63</td>\n",
       "      <td>0</td>\n",
       "      <td>847</td>\n",
       "      <td>66</td>\n",
       "      <td>141</td>\n",
       "      <td>0.468</td>\n",
       "      <td>...</td>\n",
       "      <td>144</td>\n",
       "      <td>216</td>\n",
       "      <td>28</td>\n",
       "      <td>23</td>\n",
       "      <td>26</td>\n",
       "      <td>30</td>\n",
       "      <td>122</td>\n",
       "      <td>171</td>\n",
       "      <td>2013-2014</td>\n",
       "      <td>2013</td>\n",
       "    </tr>\n",
       "    <tr>\n",
       "      <th>1</th>\n",
       "      <td>Steven Adams</td>\n",
       "      <td>C</td>\n",
       "      <td>20</td>\n",
       "      <td>OKC</td>\n",
       "      <td>81</td>\n",
       "      <td>20</td>\n",
       "      <td>1197</td>\n",
       "      <td>93</td>\n",
       "      <td>185</td>\n",
       "      <td>0.503</td>\n",
       "      <td>...</td>\n",
       "      <td>190</td>\n",
       "      <td>332</td>\n",
       "      <td>43</td>\n",
       "      <td>40</td>\n",
       "      <td>57</td>\n",
       "      <td>71</td>\n",
       "      <td>203</td>\n",
       "      <td>265</td>\n",
       "      <td>2013-2014</td>\n",
       "      <td>2013</td>\n",
       "    </tr>\n",
       "    <tr>\n",
       "      <th>2</th>\n",
       "      <td>Jeff Adrien</td>\n",
       "      <td>PF</td>\n",
       "      <td>27</td>\n",
       "      <td>TOT</td>\n",
       "      <td>53</td>\n",
       "      <td>12</td>\n",
       "      <td>961</td>\n",
       "      <td>143</td>\n",
       "      <td>275</td>\n",
       "      <td>0.520</td>\n",
       "      <td>...</td>\n",
       "      <td>204</td>\n",
       "      <td>306</td>\n",
       "      <td>38</td>\n",
       "      <td>24</td>\n",
       "      <td>36</td>\n",
       "      <td>39</td>\n",
       "      <td>108</td>\n",
       "      <td>362</td>\n",
       "      <td>2013-2014</td>\n",
       "      <td>2013</td>\n",
       "    </tr>\n",
       "  </tbody>\n",
       "</table>\n",
       "<p>3 rows × 31 columns</p>\n",
       "</div>"
      ],
      "text/plain": [
       "         player pos  age bref_team_id   g  gs    mp   fg  fga    fg.  ...  \\\n",
       "0    Quincy Acy  SF   23          TOT  63   0   847   66  141  0.468  ...   \n",
       "1  Steven Adams   C   20          OKC  81  20  1197   93  185  0.503  ...   \n",
       "2   Jeff Adrien  PF   27          TOT  53  12   961  143  275  0.520  ...   \n",
       "\n",
       "   drb  trb  ast  stl  blk  tov   pf  pts     season  season_end  \n",
       "0  144  216   28   23   26   30  122  171  2013-2014        2013  \n",
       "1  190  332   43   40   57   71  203  265  2013-2014        2013  \n",
       "2  204  306   38   24   36   39  108  362  2013-2014        2013  \n",
       "\n",
       "[3 rows x 31 columns]"
      ]
     },
     "execution_count": 47,
     "metadata": {},
     "output_type": "execute_result"
    }
   ],
   "source": [
    "import pandas as pd\n",
    "import numpy as np\n",
    "\n",
    "nba = pd.read_csv(\"nba_2013.csv\")\n",
    "nba.head(3)"
   ]
  },
  {
   "cell_type": "markdown",
   "metadata": {},
   "source": [
    "Primero nos vamos a centrar en dos features para simplificar la ilustración del clustering.\n",
    "\n",
    "Seleccionamos solo los jugadores que juegan como point guards. Su labor es crear oportunidades de hacer canasta.\n",
    "\n",
    "Por lo tanto el ratio que tienen entre Asistencias y Turnovers (perder el balón sin anotar) cuantifica su desempeño.\n",
    "\n",
    "También los puntos que generan ellos mismos son una buena manera de evaluarlos.\n",
    "\n"
   ]
  },
  {
   "cell_type": "code",
   "execution_count": 58,
   "metadata": {},
   "outputs": [],
   "source": [
    "point_guards = nba[nba['pos'] == 'PG'].copy()"
   ]
  },
  {
   "cell_type": "markdown",
   "metadata": {},
   "source": [
    "Calculamos los puntos por partido de manora aproximada, porque no existe ese dato"
   ]
  },
  {
   "cell_type": "code",
   "execution_count": 59,
   "metadata": {},
   "outputs": [
    {
     "data": {
      "text/html": [
       "<div>\n",
       "<style scoped>\n",
       "    .dataframe tbody tr th:only-of-type {\n",
       "        vertical-align: middle;\n",
       "    }\n",
       "\n",
       "    .dataframe tbody tr th {\n",
       "        vertical-align: top;\n",
       "    }\n",
       "\n",
       "    .dataframe thead th {\n",
       "        text-align: right;\n",
       "    }\n",
       "</style>\n",
       "<table border=\"1\" class=\"dataframe\">\n",
       "  <thead>\n",
       "    <tr style=\"text-align: right;\">\n",
       "      <th></th>\n",
       "      <th>pts</th>\n",
       "      <th>g</th>\n",
       "      <th>ppg</th>\n",
       "    </tr>\n",
       "  </thead>\n",
       "  <tbody>\n",
       "    <tr>\n",
       "      <th>24</th>\n",
       "      <td>930</td>\n",
       "      <td>71</td>\n",
       "      <td>13.098592</td>\n",
       "    </tr>\n",
       "    <tr>\n",
       "      <th>29</th>\n",
       "      <td>150</td>\n",
       "      <td>20</td>\n",
       "      <td>7.500000</td>\n",
       "    </tr>\n",
       "    <tr>\n",
       "      <th>30</th>\n",
       "      <td>660</td>\n",
       "      <td>79</td>\n",
       "      <td>8.354430</td>\n",
       "    </tr>\n",
       "    <tr>\n",
       "      <th>38</th>\n",
       "      <td>666</td>\n",
       "      <td>72</td>\n",
       "      <td>9.250000</td>\n",
       "    </tr>\n",
       "    <tr>\n",
       "      <th>50</th>\n",
       "      <td>378</td>\n",
       "      <td>55</td>\n",
       "      <td>6.872727</td>\n",
       "    </tr>\n",
       "  </tbody>\n",
       "</table>\n",
       "</div>"
      ],
      "text/plain": [
       "    pts   g        ppg\n",
       "24  930  71  13.098592\n",
       "29  150  20   7.500000\n",
       "30  660  79   8.354430\n",
       "38  666  72   9.250000\n",
       "50  378  55   6.872727"
      ]
     },
     "execution_count": 59,
     "metadata": {},
     "output_type": "execute_result"
    }
   ],
   "source": [
    "point_guards['ppg'] = point_guards['pts'] / point_guards['g']\n",
    "\n",
    "# Make sure ppg = pts/g\n",
    "point_guards[['pts', 'g', 'ppg']].head(5)"
   ]
  },
  {
   "cell_type": "markdown",
   "metadata": {},
   "source": [
    "Eliminamos los jugadores con tov 0, ya que probablemente hayan jugado poco y no podemos hacer el ratio."
   ]
  },
  {
   "cell_type": "code",
   "execution_count": 60,
   "metadata": {},
   "outputs": [],
   "source": [
    "point_guards = point_guards[point_guards['tov'] != 0]\n",
    "\n",
    "point_guards['atr'] = point_guards['ast'] / point_guards['tov']"
   ]
  },
  {
   "cell_type": "markdown",
   "metadata": {},
   "source": [
    "En un scatter plot se pueden ver ambas variables y cómo caen los jugadores"
   ]
  },
  {
   "cell_type": "code",
   "execution_count": 65,
   "metadata": {},
   "outputs": [
    {
     "data": {
      "image/png": "[encoded data removed]",
      "text/plain": [
       "<Figure size 432x288 with 1 Axes>"
      ]
     },
     "metadata": {
      "needs_background": "light"
     },
     "output_type": "display_data"
    }
   ],
   "source": [
    "\n",
    "plt.scatter(point_guards['ppg'], point_guards['atr'], c='y')\n",
    "plt.title(\"Point Guards\")\n",
    "plt.xlabel('Points Per Game', fontsize=13)\n",
    "plt.ylabel('Assist Turnover Ratio', fontsize=13)\n",
    "plt.show()"
   ]
  },
  {
   "cell_type": "code",
   "execution_count": 63,
   "metadata": {},
   "outputs": [],
   "source": [
    "out = point_guards[point_guards['atr'] > 4]"
   ]
  },
  {
   "cell_type": "code",
   "execution_count": 64,
   "metadata": {},
   "outputs": [
    {
     "data": {
      "text/html": [
       "<div>\n",
       "<style scoped>\n",
       "    .dataframe tbody tr th:only-of-type {\n",
       "        vertical-align: middle;\n",
       "    }\n",
       "\n",
       "    .dataframe tbody tr th {\n",
       "        vertical-align: top;\n",
       "    }\n",
       "\n",
       "    .dataframe thead th {\n",
       "        text-align: right;\n",
       "    }\n",
       "</style>\n",
       "<table border=\"1\" class=\"dataframe\">\n",
       "  <thead>\n",
       "    <tr style=\"text-align: right;\">\n",
       "      <th></th>\n",
       "      <th>player</th>\n",
       "      <th>pos</th>\n",
       "      <th>age</th>\n",
       "      <th>bref_team_id</th>\n",
       "      <th>g</th>\n",
       "      <th>gs</th>\n",
       "      <th>mp</th>\n",
       "      <th>fg</th>\n",
       "      <th>fga</th>\n",
       "      <th>fg.</th>\n",
       "      <th>...</th>\n",
       "      <th>ast</th>\n",
       "      <th>stl</th>\n",
       "      <th>blk</th>\n",
       "      <th>tov</th>\n",
       "      <th>pf</th>\n",
       "      <th>pts</th>\n",
       "      <th>season</th>\n",
       "      <th>season_end</th>\n",
       "      <th>ppg</th>\n",
       "      <th>atr</th>\n",
       "    </tr>\n",
       "  </thead>\n",
       "  <tbody>\n",
       "    <tr>\n",
       "      <th>347</th>\n",
       "      <td>Chris Paul</td>\n",
       "      <td>PG</td>\n",
       "      <td>28</td>\n",
       "      <td>LAC</td>\n",
       "      <td>62</td>\n",
       "      <td>62</td>\n",
       "      <td>2171</td>\n",
       "      <td>406</td>\n",
       "      <td>870</td>\n",
       "      <td>0.467</td>\n",
       "      <td>...</td>\n",
       "      <td>663</td>\n",
       "      <td>154</td>\n",
       "      <td>4</td>\n",
       "      <td>145</td>\n",
       "      <td>157</td>\n",
       "      <td>1185</td>\n",
       "      <td>2013-2014</td>\n",
       "      <td>2013</td>\n",
       "      <td>19.112903</td>\n",
       "      <td>4.572414</td>\n",
       "    </tr>\n",
       "  </tbody>\n",
       "</table>\n",
       "<p>1 rows × 33 columns</p>\n",
       "</div>"
      ],
      "text/plain": [
       "         player pos  age bref_team_id   g  gs    mp   fg  fga    fg.  ...  \\\n",
       "347  Chris Paul  PG   28          LAC  62  62  2171  406  870  0.467  ...   \n",
       "\n",
       "     ast  stl  blk  tov   pf   pts     season  season_end        ppg       atr  \n",
       "347  663  154    4  145  157  1185  2013-2014        2013  19.112903  4.572414  \n",
       "\n",
       "[1 rows x 33 columns]"
      ]
     },
     "execution_count": 64,
     "metadata": {},
     "output_type": "execute_result"
    }
   ],
   "source": [
    "out"
   ]
  },
  {
   "cell_type": "markdown",
   "metadata": {},
   "source": [
    "#### Centroid Based Clustering\n",
    "\n",
    "K-means es un algoritmo de clustering que es **centroid based**.\n",
    "\n",
    "Esto quiere decir que funciona bien para clusters que tienden a tener forma de círculos con centros (centroides).\n",
    "\n",
    "El centroide representa la media aritmética de todos los data points del cluster.\n",
    "\n",
    "La K se refiere al número de clusters. Se puede elegir el k que más convenga en cada caso.\n",
    "\n",
    "A priori hay 5 áreas generales para los Point Guards. Se pueden segmentar este grupo en subgrupos de jugaores similares.\n",
    "\n",
    "El algoritmo es iterativo y va recalculando el valor del centroide de cada cluster y los jugadores que pertenecen aél. Para la primera iteración se cogen como centroides un número k(5) de jugadores."
   ]
  },
  {
   "cell_type": "code",
   "execution_count": 66,
   "metadata": {},
   "outputs": [],
   "source": [
    "num_clusters = 5\n",
    "# Use numpy's random function to generate a list, length: num_clusters, of indices\n",
    "random_initial_points = np.random.choice(point_guards.index, size=num_clusters)\n",
    "# Use the random indices to create the centroids\n",
    "centroids = point_guards.loc[random_initial_points]"
   ]
  },
  {
   "cell_type": "code",
   "execution_count": 67,
   "metadata": {},
   "outputs": [
    {
     "data": {
      "text/html": [
       "<div>\n",
       "<style scoped>\n",
       "    .dataframe tbody tr th:only-of-type {\n",
       "        vertical-align: middle;\n",
       "    }\n",
       "\n",
       "    .dataframe tbody tr th {\n",
       "        vertical-align: top;\n",
       "    }\n",
       "\n",
       "    .dataframe thead th {\n",
       "        text-align: right;\n",
       "    }\n",
       "</style>\n",
       "<table border=\"1\" class=\"dataframe\">\n",
       "  <thead>\n",
       "    <tr style=\"text-align: right;\">\n",
       "      <th></th>\n",
       "      <th>player</th>\n",
       "      <th>pos</th>\n",
       "      <th>age</th>\n",
       "      <th>bref_team_id</th>\n",
       "      <th>g</th>\n",
       "      <th>gs</th>\n",
       "      <th>mp</th>\n",
       "      <th>fg</th>\n",
       "      <th>fga</th>\n",
       "      <th>fg.</th>\n",
       "      <th>...</th>\n",
       "      <th>ast</th>\n",
       "      <th>stl</th>\n",
       "      <th>blk</th>\n",
       "      <th>tov</th>\n",
       "      <th>pf</th>\n",
       "      <th>pts</th>\n",
       "      <th>season</th>\n",
       "      <th>season_end</th>\n",
       "      <th>ppg</th>\n",
       "      <th>atr</th>\n",
       "    </tr>\n",
       "  </thead>\n",
       "  <tbody>\n",
       "    <tr>\n",
       "      <th>273</th>\n",
       "      <td>Jeremy Lin</td>\n",
       "      <td>PG</td>\n",
       "      <td>25</td>\n",
       "      <td>HOU</td>\n",
       "      <td>71</td>\n",
       "      <td>33</td>\n",
       "      <td>2054</td>\n",
       "      <td>295</td>\n",
       "      <td>662</td>\n",
       "      <td>0.446</td>\n",
       "      <td>...</td>\n",
       "      <td>294</td>\n",
       "      <td>68</td>\n",
       "      <td>27</td>\n",
       "      <td>176</td>\n",
       "      <td>166</td>\n",
       "      <td>890</td>\n",
       "      <td>2013-2014</td>\n",
       "      <td>2013</td>\n",
       "      <td>12.535211</td>\n",
       "      <td>1.670455</td>\n",
       "    </tr>\n",
       "    <tr>\n",
       "      <th>279</th>\n",
       "      <td>John Lucas</td>\n",
       "      <td>PG</td>\n",
       "      <td>31</td>\n",
       "      <td>UTA</td>\n",
       "      <td>42</td>\n",
       "      <td>6</td>\n",
       "      <td>591</td>\n",
       "      <td>62</td>\n",
       "      <td>190</td>\n",
       "      <td>0.326</td>\n",
       "      <td>...</td>\n",
       "      <td>42</td>\n",
       "      <td>14</td>\n",
       "      <td>0</td>\n",
       "      <td>22</td>\n",
       "      <td>41</td>\n",
       "      <td>159</td>\n",
       "      <td>2013-2014</td>\n",
       "      <td>2013</td>\n",
       "      <td>3.785714</td>\n",
       "      <td>1.909091</td>\n",
       "    </tr>\n",
       "    <tr>\n",
       "      <th>136</th>\n",
       "      <td>Monta Ellis</td>\n",
       "      <td>PG</td>\n",
       "      <td>28</td>\n",
       "      <td>DAL</td>\n",
       "      <td>82</td>\n",
       "      <td>82</td>\n",
       "      <td>3023</td>\n",
       "      <td>576</td>\n",
       "      <td>1278</td>\n",
       "      <td>0.451</td>\n",
       "      <td>...</td>\n",
       "      <td>471</td>\n",
       "      <td>141</td>\n",
       "      <td>23</td>\n",
       "      <td>264</td>\n",
       "      <td>197</td>\n",
       "      <td>1560</td>\n",
       "      <td>2013-2014</td>\n",
       "      <td>2013</td>\n",
       "      <td>19.024390</td>\n",
       "      <td>1.784091</td>\n",
       "    </tr>\n",
       "    <tr>\n",
       "      <th>60</th>\n",
       "      <td>Avery Bradley</td>\n",
       "      <td>PG</td>\n",
       "      <td>23</td>\n",
       "      <td>BOS</td>\n",
       "      <td>60</td>\n",
       "      <td>58</td>\n",
       "      <td>1855</td>\n",
       "      <td>361</td>\n",
       "      <td>825</td>\n",
       "      <td>0.438</td>\n",
       "      <td>...</td>\n",
       "      <td>85</td>\n",
       "      <td>63</td>\n",
       "      <td>11</td>\n",
       "      <td>96</td>\n",
       "      <td>145</td>\n",
       "      <td>891</td>\n",
       "      <td>2013-2014</td>\n",
       "      <td>2013</td>\n",
       "      <td>14.850000</td>\n",
       "      <td>0.885417</td>\n",
       "    </tr>\n",
       "    <tr>\n",
       "      <th>87</th>\n",
       "      <td>Mario Chalmers</td>\n",
       "      <td>PG</td>\n",
       "      <td>27</td>\n",
       "      <td>MIA</td>\n",
       "      <td>73</td>\n",
       "      <td>73</td>\n",
       "      <td>2178</td>\n",
       "      <td>254</td>\n",
       "      <td>560</td>\n",
       "      <td>0.454</td>\n",
       "      <td>...</td>\n",
       "      <td>357</td>\n",
       "      <td>119</td>\n",
       "      <td>16</td>\n",
       "      <td>162</td>\n",
       "      <td>210</td>\n",
       "      <td>716</td>\n",
       "      <td>2013-2014</td>\n",
       "      <td>2013</td>\n",
       "      <td>9.808219</td>\n",
       "      <td>2.203704</td>\n",
       "    </tr>\n",
       "  </tbody>\n",
       "</table>\n",
       "<p>5 rows × 33 columns</p>\n",
       "</div>"
      ],
      "text/plain": [
       "             player pos  age bref_team_id   g  gs    mp   fg   fga    fg.  \\\n",
       "273      Jeremy Lin  PG   25          HOU  71  33  2054  295   662  0.446   \n",
       "279      John Lucas  PG   31          UTA  42   6   591   62   190  0.326   \n",
       "136     Monta Ellis  PG   28          DAL  82  82  3023  576  1278  0.451   \n",
       "60    Avery Bradley  PG   23          BOS  60  58  1855  361   825  0.438   \n",
       "87   Mario Chalmers  PG   27          MIA  73  73  2178  254   560  0.454   \n",
       "\n",
       "     ...  ast  stl  blk  tov   pf   pts     season  season_end        ppg  \\\n",
       "273  ...  294   68   27  176  166   890  2013-2014        2013  12.535211   \n",
       "279  ...   42   14    0   22   41   159  2013-2014        2013   3.785714   \n",
       "136  ...  471  141   23  264  197  1560  2013-2014        2013  19.024390   \n",
       "60   ...   85   63   11   96  145   891  2013-2014        2013  14.850000   \n",
       "87   ...  357  119   16  162  210   716  2013-2014        2013   9.808219   \n",
       "\n",
       "          atr  \n",
       "273  1.670455  \n",
       "279  1.909091  \n",
       "136  1.784091  \n",
       "60   0.885417  \n",
       "87   2.203704  \n",
       "\n",
       "[5 rows x 33 columns]"
      ]
     },
     "execution_count": 67,
     "metadata": {},
     "output_type": "execute_result"
    }
   ],
   "source": [
    "centroids"
   ]
  },
  {
   "cell_type": "code",
   "execution_count": 93,
   "metadata": {},
   "outputs": [
    {
     "data": {
      "image/png": "[encoded data removed]",
      "text/plain": [
       "<Figure size 432x288 with 1 Axes>"
      ]
     },
     "metadata": {
      "needs_background": "light"
     },
     "output_type": "display_data"
    }
   ],
   "source": [
    "plt.scatter(point_guards['ppg'], point_guards['atr'], c='yellow')\n",
    "plt.scatter(centroids['ppg'], centroids['atr'], c='red')\n",
    "plt.title(\"Centroids\")\n",
    "plt.xlabel('Points Per Game', fontsize=13)\n",
    "plt.ylabel('Assist Turnover Ratio', fontsize=13)\n",
    "plt.show()"
   ]
  },
  {
   "cell_type": "markdown",
   "metadata": {},
   "source": [
    "Creamos un diccionario de centroides actualziable en cada iteración"
   ]
  },
  {
   "cell_type": "code",
   "execution_count": 94,
   "metadata": {},
   "outputs": [],
   "source": [
    "def centroids_to_dict(centroids):\n",
    "    dictionary = dict()\n",
    "    # iterating counter we use to generate a cluster_id\n",
    "    counter = 0\n",
    "\n",
    "    # iterate a pandas data frame row-wise using .iterrows()\n",
    "    for index, row in centroids.iterrows():\n",
    "        coordinates = [row['ppg'], row['atr']]\n",
    "        dictionary[counter] = coordinates\n",
    "        counter += 1\n",
    "\n",
    "    return dictionary\n",
    "\n",
    "centroids_dict = centroids_to_dict(centroids)"
   ]
  },
  {
   "cell_type": "code",
   "execution_count": 95,
   "metadata": {},
   "outputs": [
    {
     "data": {
      "text/plain": [
       "{0: [12.535211267605634, 1.6704545454545454],\n",
       " 1: [3.7857142857142856, 1.9090909090909092],\n",
       " 2: [19.024390243902438, 1.7840909090909092],\n",
       " 3: [14.85, 0.8854166666666666],\n",
       " 4: [9.808219178082192, 2.2037037037037037]}"
      ]
     },
     "execution_count": 95,
     "metadata": {},
     "output_type": "execute_result"
    }
   ],
   "source": [
    "centroids_dict"
   ]
  },
  {
   "cell_type": "markdown",
   "metadata": {},
   "source": [
    "FUnción para calcular la distancia entre cada data point y un centroide"
   ]
  },
  {
   "cell_type": "code",
   "execution_count": 96,
   "metadata": {},
   "outputs": [
    {
     "name": "stdout",
     "output_type": "stream",
     "text": [
      "2.23606797749979\n"
     ]
    }
   ],
   "source": [
    "import math\n",
    "\n",
    "def calculate_distance(centroid, player_values):\n",
    "    root_distance = 0\n",
    "    \n",
    "    for x in range(0, len(centroid)):\n",
    "        difference = centroid[x] - player_values[x]\n",
    "        squared_difference = difference**2\n",
    "        root_distance += squared_difference\n",
    "\n",
    "    euclid_distance = math.sqrt(root_distance)\n",
    "    return euclid_distance\n",
    "\n",
    "q = [5, 2]\n",
    "p = [3,1]\n",
    "\n",
    "# Sqrt(5) = ~2.24\n",
    "print(calculate_distance(q, p))"
   ]
  },
  {
   "cell_type": "markdown",
   "metadata": {},
   "source": [
    "Ahora signamos los data points a clusters según la diustancia euclídea.\n",
    "\n",
    "Dos soluciones: una la oficial y más bruta y otra la que hice yo, más corta"
   ]
  },
  {
   "cell_type": "code",
   "execution_count": 104,
   "metadata": {},
   "outputs": [],
   "source": [
    "def assign_to_cluster(row):\n",
    "    lowest_distance = None\n",
    "    closest_cluster = None\n",
    "    \n",
    "    for cluster_id, centroid in centroids_dict.items():\n",
    "        df_row = [row['ppg'], row['atr']]\n",
    "        euclidean_distance = calculate_distance(centroid, df_row)\n",
    "        \n",
    "        if lowest_distance is None:\n",
    "            lowest_distance = euclidean_distance\n",
    "            closest_cluster = cluster_id \n",
    "        elif euclidean_distance < lowest_distance:\n",
    "            lowest_distance = euclidean_distance\n",
    "            closest_cluster = cluster_id\n",
    "    return closest_cluster\n",
    "\n",
    "point_guards['cluster'] = point_guards.apply(lambda row: assign_to_cluster(row), axis=1)\n"
   ]
  },
  {
   "cell_type": "code",
   "execution_count": 106,
   "metadata": {},
   "outputs": [],
   "source": [
    "def assign_to_cluster(row):\n",
    "    distances_centroid = dict()\n",
    "    for centroid in centroids_dict:                \n",
    "        distances_centroid[centroid] = calculate_distance(centroids_dict[centroid], [row['ppg'], row['atr']])    \n",
    "    return min(distances_centroid, key=distances_centroid.get)\n",
    "\n",
    "point_guards['cluster'] = point_guards.apply(lambda row: assign_to_cluster(row), axis=1)"
   ]
  },
  {
   "cell_type": "markdown",
   "metadata": {},
   "source": [
    "Visualizar los clusters"
   ]
  },
  {
   "cell_type": "code",
   "execution_count": 107,
   "metadata": {},
   "outputs": [
    {
     "data": {
      "image/png": "[encoded data removed]",
      "text/plain": [
       "<Figure size 432x288 with 1 Axes>"
      ]
     },
     "metadata": {
      "needs_background": "light"
     },
     "output_type": "display_data"
    }
   ],
   "source": [
    "# Visualizing clusters\n",
    "def visualize_clusters(df, num_clusters):\n",
    "    colors = ['b', 'g', 'r', 'c', 'm', 'y', 'k']\n",
    "\n",
    "    for n in range(num_clusters):\n",
    "        clustered_df = df[df['cluster'] == n]\n",
    "        plt.scatter(clustered_df['ppg'], clustered_df['atr'], c=colors[n-1])\n",
    "        plt.xlabel('Points Per Game', fontsize=13)\n",
    "        plt.ylabel('Assist Turnover Ratio', fontsize=13)\n",
    "    plt.show()\n",
    "\n",
    "visualize_clusters(point_guards, 5)"
   ]
  },
  {
   "cell_type": "markdown",
   "metadata": {},
   "source": [
    "Esto ha sido una iteración, ahora hau que recalcular los clusters de cada centroide con la media aritmética de sus miembros."
   ]
  },
  {
   "cell_type": "code",
   "execution_count": 108,
   "metadata": {},
   "outputs": [],
   "source": [
    "def recalculate_centroids(df):\n",
    "    new_centroids_dict = dict()\n",
    "    # 0..1...2...3...4\n",
    "    for cluster_id in range(0, num_clusters):\n",
    "        # Finish the logic\n",
    "        new_centroids_dict[cluster_id] = [df[df['cluster'] == cluster_id]['ppg'].mean(), df[df['cluster'] == cluster_id]['atr'].mean()]\n",
    "        \n",
    "    return new_centroids_dict\n",
    "\n",
    "centroids_dict = recalculate_centroids(point_guards)"
   ]
  },
  {
   "cell_type": "markdown",
   "metadata": {},
   "source": [
    "Hacemos la siguiente iteración"
   ]
  },
  {
   "cell_type": "code",
   "execution_count": 109,
   "metadata": {},
   "outputs": [
    {
     "data": {
      "image/png": "[encoded data removed]",
      "text/plain": [
       "<Figure size 432x288 with 1 Axes>"
      ]
     },
     "metadata": {
      "needs_background": "light"
     },
     "output_type": "display_data"
    }
   ],
   "source": [
    "point_guards['cluster'] = point_guards.apply(lambda row: assign_to_cluster(row), axis=1)\n",
    "visualize_clusters(point_guards, num_clusters)"
   ]
  },
  {
   "cell_type": "code",
   "execution_count": 111,
   "metadata": {},
   "outputs": [
    {
     "data": {
      "image/png": "[encoded data removed]",
      "text/plain": [
       "<Figure size 432x288 with 1 Axes>"
      ]
     },
     "metadata": {
      "needs_background": "light"
     },
     "output_type": "display_data"
    }
   ],
   "source": [
    "centroids_dict = recalculate_centroids(point_guards)\n",
    "point_guards['cluster'] = point_guards.apply(lambda row: assign_to_cluster(row), axis=1)\n",
    "visualize_clusters(point_guards, num_clusters)\n"
   ]
  },
  {
   "cell_type": "markdown",
   "metadata": {},
   "source": [
    "Apenas ha cambiado en las dos últimas iteraciones. Esto significa que siempre convergerá.\n",
    "\n",
    "Como K-means es conservadr entre iteraciones, es muy determinante la elección de centroides inicial.\n",
    "\n",
    "Sklearn  ejecuta el algoritmo varias veces con distintos valores iniciales para minimizar este sesgo.\n",
    "\n"
   ]
  },
  {
   "cell_type": "code",
   "execution_count": 112,
   "metadata": {},
   "outputs": [
    {
     "data": {
      "image/png": "[encoded data removed]",
      "text/plain": [
       "<Figure size 432x288 with 1 Axes>"
      ]
     },
     "metadata": {
      "needs_background": "light"
     },
     "output_type": "display_data"
    }
   ],
   "source": [
    "from sklearn.cluster import KMeans\n",
    "\n",
    "kmeans = KMeans(n_clusters=num_clusters)\n",
    "kmeans.fit(point_guards[['ppg', 'atr']])\n",
    "point_guards['cluster'] = kmeans.labels_\n",
    "\n",
    "visualize_clusters(point_guards, num_clusters)"
   ]
  },
  {
   "cell_type": "code",
   "execution_count": 90,
   "metadata": {},
   "outputs": [],
   "source": []
  },
  {
   "cell_type": "code",
   "execution_count": 92,
   "metadata": {},
   "outputs": [
    {
     "data": {
      "text/plain": [
       "[5.582818825711082,\n",
       " 3.66989507630336,\n",
       " 11.928989824565118,\n",
       " 8.026099521497176,\n",
       " 2.8313958135441823]"
      ]
     },
     "execution_count": 92,
     "metadata": {},
     "output_type": "execute_result"
    }
   ],
   "source": []
  },
  {
   "cell_type": "markdown",
   "metadata": {},
   "source": [
    "## Decision Trees"
   ]
  },
  {
   "cell_type": "markdown",
   "metadata": {},
   "source": [
    "### Introduction to Decision Trees\n",
    "\n",
    "es un método de aprendizaje supervisado. Primero se contruye el árbol con datos históricos y luego se usa para predecir.\n",
    "\n",
    "Una de las mayores ventajas es que puede captar interacciones no lineales entre variables de la manera en que regresión lineal no puede.\n",
    "\n",
    "En el ejemplo, un árbol puede predecir que solo se debe luchar contra osos grandes si no puedes escapar.\n",
    "\n",
    "![title](imagenes/decisiontree.PNG)"
   ]
  },
  {
   "cell_type": "markdown",
   "metadata": {},
   "source": [
    "Se va a utilizar el dataset de ingresos individuales del censo de 1994 en US. Contiene información de estadoo matrimonial, edad, tipo de empleo, etc. La target sería determinar si un individuo gana más o menos de 50k al año.\n",
    "\n",
    "[Dataset](http://archive.ics.uci.edu/ml/datasets/Adult)"
   ]
  },
  {
   "cell_type": "code",
   "execution_count": 114,
   "metadata": {},
   "outputs": [
    {
     "data": {
      "text/html": [
       "<div>\n",
       "<style scoped>\n",
       "    .dataframe tbody tr th:only-of-type {\n",
       "        vertical-align: middle;\n",
       "    }\n",
       "\n",
       "    .dataframe tbody tr th {\n",
       "        vertical-align: top;\n",
       "    }\n",
       "\n",
       "    .dataframe thead th {\n",
       "        text-align: right;\n",
       "    }\n",
       "</style>\n",
       "<table border=\"1\" class=\"dataframe\">\n",
       "  <thead>\n",
       "    <tr style=\"text-align: right;\">\n",
       "      <th></th>\n",
       "      <th>age</th>\n",
       "      <th>workclass</th>\n",
       "      <th>fnlwgt</th>\n",
       "      <th>education</th>\n",
       "      <th>education_num</th>\n",
       "      <th>marital_status</th>\n",
       "      <th>occupation</th>\n",
       "      <th>relationship</th>\n",
       "      <th>race</th>\n",
       "      <th>sex</th>\n",
       "      <th>capital_gain</th>\n",
       "      <th>capital_loss</th>\n",
       "      <th>hours_per_week</th>\n",
       "      <th>native_country</th>\n",
       "      <th>high_income</th>\n",
       "    </tr>\n",
       "  </thead>\n",
       "  <tbody>\n",
       "    <tr>\n",
       "      <th>0</th>\n",
       "      <td>39</td>\n",
       "      <td>State-gov</td>\n",
       "      <td>77516</td>\n",
       "      <td>Bachelors</td>\n",
       "      <td>13</td>\n",
       "      <td>Never-married</td>\n",
       "      <td>Adm-clerical</td>\n",
       "      <td>Not-in-family</td>\n",
       "      <td>White</td>\n",
       "      <td>Male</td>\n",
       "      <td>2174</td>\n",
       "      <td>0</td>\n",
       "      <td>40</td>\n",
       "      <td>United-States</td>\n",
       "      <td>&lt;=50K</td>\n",
       "    </tr>\n",
       "    <tr>\n",
       "      <th>1</th>\n",
       "      <td>50</td>\n",
       "      <td>Self-emp-not-inc</td>\n",
       "      <td>83311</td>\n",
       "      <td>Bachelors</td>\n",
       "      <td>13</td>\n",
       "      <td>Married-civ-spouse</td>\n",
       "      <td>Exec-managerial</td>\n",
       "      <td>Husband</td>\n",
       "      <td>White</td>\n",
       "      <td>Male</td>\n",
       "      <td>0</td>\n",
       "      <td>0</td>\n",
       "      <td>13</td>\n",
       "      <td>United-States</td>\n",
       "      <td>&lt;=50K</td>\n",
       "    </tr>\n",
       "    <tr>\n",
       "      <th>2</th>\n",
       "      <td>38</td>\n",
       "      <td>Private</td>\n",
       "      <td>215646</td>\n",
       "      <td>HS-grad</td>\n",
       "      <td>9</td>\n",
       "      <td>Divorced</td>\n",
       "      <td>Handlers-cleaners</td>\n",
       "      <td>Not-in-family</td>\n",
       "      <td>White</td>\n",
       "      <td>Male</td>\n",
       "      <td>0</td>\n",
       "      <td>0</td>\n",
       "      <td>40</td>\n",
       "      <td>United-States</td>\n",
       "      <td>&lt;=50K</td>\n",
       "    </tr>\n",
       "    <tr>\n",
       "      <th>3</th>\n",
       "      <td>53</td>\n",
       "      <td>Private</td>\n",
       "      <td>234721</td>\n",
       "      <td>11th</td>\n",
       "      <td>7</td>\n",
       "      <td>Married-civ-spouse</td>\n",
       "      <td>Handlers-cleaners</td>\n",
       "      <td>Husband</td>\n",
       "      <td>Black</td>\n",
       "      <td>Male</td>\n",
       "      <td>0</td>\n",
       "      <td>0</td>\n",
       "      <td>40</td>\n",
       "      <td>United-States</td>\n",
       "      <td>&lt;=50K</td>\n",
       "    </tr>\n",
       "    <tr>\n",
       "      <th>4</th>\n",
       "      <td>28</td>\n",
       "      <td>Private</td>\n",
       "      <td>338409</td>\n",
       "      <td>Bachelors</td>\n",
       "      <td>13</td>\n",
       "      <td>Married-civ-spouse</td>\n",
       "      <td>Prof-specialty</td>\n",
       "      <td>Wife</td>\n",
       "      <td>Black</td>\n",
       "      <td>Female</td>\n",
       "      <td>0</td>\n",
       "      <td>0</td>\n",
       "      <td>40</td>\n",
       "      <td>Cuba</td>\n",
       "      <td>&lt;=50K</td>\n",
       "    </tr>\n",
       "  </tbody>\n",
       "</table>\n",
       "</div>"
      ],
      "text/plain": [
       "   age          workclass  fnlwgt   education  education_num  \\\n",
       "0   39          State-gov   77516   Bachelors             13   \n",
       "1   50   Self-emp-not-inc   83311   Bachelors             13   \n",
       "2   38            Private  215646     HS-grad              9   \n",
       "3   53            Private  234721        11th              7   \n",
       "4   28            Private  338409   Bachelors             13   \n",
       "\n",
       "        marital_status          occupation    relationship    race      sex  \\\n",
       "0        Never-married        Adm-clerical   Not-in-family   White     Male   \n",
       "1   Married-civ-spouse     Exec-managerial         Husband   White     Male   \n",
       "2             Divorced   Handlers-cleaners   Not-in-family   White     Male   \n",
       "3   Married-civ-spouse   Handlers-cleaners         Husband   Black     Male   \n",
       "4   Married-civ-spouse      Prof-specialty            Wife   Black   Female   \n",
       "\n",
       "   capital_gain  capital_loss  hours_per_week  native_country high_income  \n",
       "0          2174             0              40   United-States       <=50K  \n",
       "1             0             0              13   United-States       <=50K  \n",
       "2             0             0              40   United-States       <=50K  \n",
       "3             0             0              40   United-States       <=50K  \n",
       "4             0             0              40            Cuba       <=50K  "
      ]
     },
     "execution_count": 114,
     "metadata": {},
     "output_type": "execute_result"
    }
   ],
   "source": [
    "import pandas\n",
    "\n",
    "# Set index_col to False to avoid pandas thinking that the first column is row indexes (it's age)\n",
    "income = pandas.read_csv(\"income.csv\", index_col=False)\n",
    "income.head()"
   ]
  },
  {
   "cell_type": "code",
   "execution_count": 115,
   "metadata": {},
   "outputs": [
    {
     "data": {
      "text/plain": [
       " Private             22696\n",
       " Self-emp-not-inc     2541\n",
       " Local-gov            2093\n",
       " ?                    1836\n",
       " State-gov            1298\n",
       " Self-emp-inc         1116\n",
       " Federal-gov           960\n",
       " Without-pay            14\n",
       " Never-worked            7\n",
       "Name: workclass, dtype: int64"
      ]
     },
     "execution_count": 115,
     "metadata": {},
     "output_type": "execute_result"
    }
   ],
   "source": [
    "income['workclass'].value_counts()"
   ]
  },
  {
   "cell_type": "markdown",
   "metadata": {},
   "source": [
    "Se ve que hay muchas variables categóricas. Es necesario convertirlas en numeric.\n",
    "\n",
    "A cada label de categoría se le asigna un número.\n",
    "\n",
    "En la conversión a categorical de pandas, éste muestra las labes como strings pero las guarda internamente ocmo números para hacer cálculos. Muchas veces los números no son compatibles ocn otras librerías (scikit), por lo que lo mejor es hacer la conversión directamente con  pandas.Categorical()"
   ]
  },
  {
   "cell_type": "code",
   "execution_count": 116,
   "metadata": {},
   "outputs": [
    {
     "name": "stdout",
     "output_type": "stream",
     "text": [
      "0    7\n",
      "1    6\n",
      "2    4\n",
      "3    4\n",
      "4    4\n",
      "Name: workclass, dtype: int8\n"
     ]
    }
   ],
   "source": [
    "# Convert a single column from text categories to numbers\n",
    "col = pandas.Categorical(income[\"workclass\"])\n",
    "income[\"workclass\"] = col.codes\n",
    "print(income[\"workclass\"].head(5))\n",
    "\n",
    "income['education'] = pandas.Categorical(income['education']).codes\n",
    "\n",
    "income['marital_status'] = pandas.Categorical(income['marital_status']).codes\n",
    "\n",
    "income['occupation'] = pandas.Categorical(income['occupation']).codes\n",
    "\n",
    "income['relationship'] = pandas.Categorical(income['relationship']).codes\n",
    "\n",
    "income['race'] = pandas.Categorical(income['race']).codes\n",
    "\n",
    "income['sex'] = pandas.Categorical(income['sex']).codes\n",
    "\n",
    "income['native_country'] = pandas.Categorical(income['native_country']).codes\n",
    "\n",
    "income['high_income'] = pandas.Categorical(income['high_income']).codes"
   ]
  },
  {
   "cell_type": "code",
   "execution_count": 117,
   "metadata": {},
   "outputs": [
    {
     "data": {
      "text/html": [
       "<div>\n",
       "<style scoped>\n",
       "    .dataframe tbody tr th:only-of-type {\n",
       "        vertical-align: middle;\n",
       "    }\n",
       "\n",
       "    .dataframe tbody tr th {\n",
       "        vertical-align: top;\n",
       "    }\n",
       "\n",
       "    .dataframe thead th {\n",
       "        text-align: right;\n",
       "    }\n",
       "</style>\n",
       "<table border=\"1\" class=\"dataframe\">\n",
       "  <thead>\n",
       "    <tr style=\"text-align: right;\">\n",
       "      <th></th>\n",
       "      <th>age</th>\n",
       "      <th>workclass</th>\n",
       "      <th>fnlwgt</th>\n",
       "      <th>education</th>\n",
       "      <th>education_num</th>\n",
       "      <th>marital_status</th>\n",
       "      <th>occupation</th>\n",
       "      <th>relationship</th>\n",
       "      <th>race</th>\n",
       "      <th>sex</th>\n",
       "      <th>capital_gain</th>\n",
       "      <th>capital_loss</th>\n",
       "      <th>hours_per_week</th>\n",
       "      <th>native_country</th>\n",
       "      <th>high_income</th>\n",
       "    </tr>\n",
       "  </thead>\n",
       "  <tbody>\n",
       "    <tr>\n",
       "      <th>0</th>\n",
       "      <td>39</td>\n",
       "      <td>7</td>\n",
       "      <td>77516</td>\n",
       "      <td>9</td>\n",
       "      <td>13</td>\n",
       "      <td>4</td>\n",
       "      <td>1</td>\n",
       "      <td>1</td>\n",
       "      <td>4</td>\n",
       "      <td>1</td>\n",
       "      <td>2174</td>\n",
       "      <td>0</td>\n",
       "      <td>40</td>\n",
       "      <td>39</td>\n",
       "      <td>0</td>\n",
       "    </tr>\n",
       "    <tr>\n",
       "      <th>1</th>\n",
       "      <td>50</td>\n",
       "      <td>6</td>\n",
       "      <td>83311</td>\n",
       "      <td>9</td>\n",
       "      <td>13</td>\n",
       "      <td>2</td>\n",
       "      <td>4</td>\n",
       "      <td>0</td>\n",
       "      <td>4</td>\n",
       "      <td>1</td>\n",
       "      <td>0</td>\n",
       "      <td>0</td>\n",
       "      <td>13</td>\n",
       "      <td>39</td>\n",
       "      <td>0</td>\n",
       "    </tr>\n",
       "    <tr>\n",
       "      <th>2</th>\n",
       "      <td>38</td>\n",
       "      <td>4</td>\n",
       "      <td>215646</td>\n",
       "      <td>11</td>\n",
       "      <td>9</td>\n",
       "      <td>0</td>\n",
       "      <td>6</td>\n",
       "      <td>1</td>\n",
       "      <td>4</td>\n",
       "      <td>1</td>\n",
       "      <td>0</td>\n",
       "      <td>0</td>\n",
       "      <td>40</td>\n",
       "      <td>39</td>\n",
       "      <td>0</td>\n",
       "    </tr>\n",
       "    <tr>\n",
       "      <th>3</th>\n",
       "      <td>53</td>\n",
       "      <td>4</td>\n",
       "      <td>234721</td>\n",
       "      <td>1</td>\n",
       "      <td>7</td>\n",
       "      <td>2</td>\n",
       "      <td>6</td>\n",
       "      <td>0</td>\n",
       "      <td>2</td>\n",
       "      <td>1</td>\n",
       "      <td>0</td>\n",
       "      <td>0</td>\n",
       "      <td>40</td>\n",
       "      <td>39</td>\n",
       "      <td>0</td>\n",
       "    </tr>\n",
       "    <tr>\n",
       "      <th>4</th>\n",
       "      <td>28</td>\n",
       "      <td>4</td>\n",
       "      <td>338409</td>\n",
       "      <td>9</td>\n",
       "      <td>13</td>\n",
       "      <td>2</td>\n",
       "      <td>10</td>\n",
       "      <td>5</td>\n",
       "      <td>2</td>\n",
       "      <td>0</td>\n",
       "      <td>0</td>\n",
       "      <td>0</td>\n",
       "      <td>40</td>\n",
       "      <td>5</td>\n",
       "      <td>0</td>\n",
       "    </tr>\n",
       "  </tbody>\n",
       "</table>\n",
       "</div>"
      ],
      "text/plain": [
       "   age  workclass  fnlwgt  education  education_num  marital_status  \\\n",
       "0   39          7   77516          9             13               4   \n",
       "1   50          6   83311          9             13               2   \n",
       "2   38          4  215646         11              9               0   \n",
       "3   53          4  234721          1              7               2   \n",
       "4   28          4  338409          9             13               2   \n",
       "\n",
       "   occupation  relationship  race  sex  capital_gain  capital_loss  \\\n",
       "0           1             1     4    1          2174             0   \n",
       "1           4             0     4    1             0             0   \n",
       "2           6             1     4    1             0             0   \n",
       "3           6             0     2    1             0             0   \n",
       "4          10             5     2    0             0             0   \n",
       "\n",
       "   hours_per_week  native_country  high_income  \n",
       "0              40              39            0  \n",
       "1              13              39            0  \n",
       "2              40              39            0  \n",
       "3              40              39            0  \n",
       "4              40               5            0  "
      ]
     },
     "execution_count": 117,
     "metadata": {},
     "output_type": "execute_result"
    }
   ],
   "source": [
    "Esta comparación equivalcincome.head()"
   ]
  },
  {
   "cell_type": "markdown",
   "metadata": {},
   "source": [
    "Esta decisión equivaldría  a workclass != 4 para No y workclass == 4 para Sí\n",
    "\n",
    "![title](imagenes/decisiontree_1.PNG)"
   ]
  },
  {
   "cell_type": "code",
   "execution_count": 118,
   "metadata": {},
   "outputs": [],
   "source": [
    "private_incomes = income[income['workclass'] == 4]\n",
    "\n",
    "public_incomes = income[income['workclass'] != 4]"
   ]
  },
  {
   "cell_type": "markdown",
   "metadata": {},
   "source": [
    "Con cada split, el número de rows va disminuyendo en cada nodo\n",
    "\n",
    "![title](imagenes/decisiontree_2.PNG)\n",
    "\n",
    "Los nodos inferiores, donde se para de partir, se llaman terminal nodes o leaves (hojas).\n",
    "\n",
    "El objetivo es asegurarse de que se puede h<cer una predicción en datos futuros. Cada hoja debe tener un valor de la columna target.\n",
    "\n",
    "La target es high_income: 1 para >50 k , 0 para < 50k\n",
    "\n",
    "CUando pasamos una row nueva por el árbol de decisión:\n",
    "\n",
    "Primero se ve si la persona trabaja en private_sector, luego si es nativo de US, etc hasta llegar a la hoja.\n",
    "\n",
    "En una hoja los valores de target de las rows que lleguen ahí deberían ser los misms."
   ]
  },
  {
   "cell_type": "markdown",
   "metadata": {},
   "source": [
    "#### Entropy\n",
    "\n",
    "Cuando se va separando el dataset tendremos dos nuevos datasets.\n",
    "\n",
    "En cada  uno de estos pasos lo que interesa es que en cada uno de los dos grupos haya homogeneidad del valor del target (high_income).\n",
    "\n",
    "Para ello se utiliza la métrica de la entropía.\n",
    "\n",
    "Cuanto más mezclados estén 0 y 1 en el target, más alta será la entropía.\n",
    "\n",
    "La entropía de la Information Theory (No la de física) se basa en probabilidad, estadística y trata sobre transmisión, presamiento, utilziación y extracción de información.\n",
    "\n",
    "Una unidad de información en este caso es un número binario, 1 o 0.\n",
    "\n",
    "Si tenemos una moneda con 2 caras la entropía es 0, no se gana información tirándola. Si es una moneda normal, tirarla da un bit de información.\n",
    "\n",
    "Cuando hay más de  2 posibilidadespuede ser muhco más compleja.\n",
    "\n",
    "La fórmula es:\n",
    "\n",
    "$-\\sum_{i=1}^c P(x_i)log_bP(x_i)$\n",
    "\n",
    "Se itera sobre cada valor único de una columna (high_income), $i$ es cada posible valor en una columna.\n",
    "\n",
    "La probabilidad de que cada valor ocurra en los datos es $P(x_i)$.\n",
    "\n",
    "La base del logaritmo $b$ se suele poner en 2.\n",
    "\n",
    "````\n",
    "age    high_income\n",
    "25     1\n",
    "50     1\n",
    "30     0\n",
    "50     0\n",
    "80     1\n",
    "````\n",
    "$-\\sum_{i=1}^c P(x_i)log_bP(x_i) = -((2/5*log_22/5)+ (3/5*log_23/5)) = 0.97$\n",
    "\n",
    "\n",
    "Esto quiere decir que con esta clasificación hemos obtenido menos de un bit de información."
   ]
  },
  {
   "cell_type": "code",
   "execution_count": 121,
   "metadata": {},
   "outputs": [
    {
     "data": {
      "text/plain": [
       "0.7963839552022132"
      ]
     },
     "execution_count": 121,
     "metadata": {},
     "output_type": "execute_result"
    }
   ],
   "source": [
    "import math\n",
    "# We'll do the same calculation we did above, but in Python\n",
    "# Passing in 2 as the second parameter to math.log will take a base 2 log\n",
    "\n",
    "prob_0 = income[income[\"high_income\"] == 0].shape[0] / income.shape[0]\n",
    "prob_1 = income[income[\"high_income\"] == 1].shape[0] / income.shape[0]\n",
    "income_entropy = -(prob_0 * math.log(prob_0, 2) + prob_1 * math.log(prob_1, 2))\n",
    "income_entropy"
   ]
  },
  {
   "cell_type": "markdown",
   "metadata": {},
   "source": [
    "####   Surprise (Youtube StatQuest)\n",
    "\n",
    "Es una manera de explicar la entropía comparándola con la \"sorpresa\" al encontrar una observación dentro de un conjunto.\n",
    "\n",
    "La sorpresa no se puede definir como $\\cfrac{1}{\\text{probabilidad}}$ por los valores que encuentra en $P = 1$ y $P = 0$, por lo que se define como $surprise = log\\cfrac{1}{p}$\n",
    "\n",
    "Se ve el ejemplo de dos monedas raras, una que siempre es cara y ora que lo es con 0.9 prob.\n",
    "\n",
    "![title](imagenes/surprise_1.PNG)\n",
    "![title](imagenes/surprise_2.PNG)\n",
    "![title](imagenes/surprise_3.PNG)\n",
    "![title](imagenes/surprise_4.PNG)\n",
    "![title](imagenes/surprise_5.PNG)\n",
    "![title](imagenes/surprise_6.PNG)\n",
    "![title](imagenes/surprise_7.PNG)\n",
    "![title](imagenes/surprise_8.PNG)\n",
    "![title](imagenes/surprise_9.PNG)\n"
   ]
  },
  {
   "cell_type": "markdown",
   "metadata": {},
   "source": [
    "#### Information Gain\n",
    "\n",
    "Nos dice qué variable es la que más reduce la entropía si se hace un split con ella.\n",
    "\n",
    "$IG(T,A) = Entropy(T) - \\sum_{v\\in A}\\cfrac{|T_v|}{|T|}Entropy(T_v)$\n",
    "\n",
    "La $IG$ para una Target variable $T$ y para una variable spbre la que hacer split $A$.\n",
    "\n",
    "Para cada valor $v$ de $A$ se computa el número de rows en las que $A$ tiene el valor $v$ y se divide por el número de rows y s emultiplica por la entropía de de las rows con $A = v$.\n",
    "\n",
    "Es decir, se han hecho tantos subgrupos como distintos valores $v$ haya y se ha calculado la entropía en todos esos subgrupos. Se suman sus entropías y se resta de la entropía del conjunto original. Cada subgrupo se multiplica por su peso relativo en el conjunto.\n",
    "\n",
    "Si el resultado es positivo quiere decir que con ese split se ha disminuído la entropía, el split produce una ganancia de información. (La entropía nueva es menor que la entropía antigua)\n",
    "\n",
    "**La estrategia es crear árboles que tienen tantas ramas en cada nodo como valores únicos haya de la variable sobre la que estamos partiendo los datos***\n",
    "\n",
    "Esto es complejo, para simplificar se puede partir por mayor o menor que el valor mediano de la variable en cuestión.\n",
    "\n",
    "Si age <= 50 -> grupo 0 else grupo 1:\n",
    "\n",
    "````\n",
    "\n",
    "age    high_income    split_age\n",
    "25     1              0\n",
    "50     1              0\n",
    "30     0              0\n",
    "50     0              0\n",
    "80     1              1\n",
    "\n",
    "\n",
    "````\n",
    "\n",
    "Tenemos dos grupos en los que en uno high_income es 1 1 0 0 y en el otro es 1. SI calculamos la entroía de ambos grupos, lo multiplicamos por su peso relativo y la restamos a la entropía del grupo antes de partirlo:\n",
    "\n",
    "$IG(T,A) = Entropy(T) - \\sum_{v\\in A}\\cfrac{|T_v|}{|T|}Entropy(T_v)  = 0.97 - ((((4/5) * - (2/4*log_22/4 + 2/4*log_22/4)) + -(1/5*(0*log_20 + 1*log_21))) = 0.97 - ((4/5)*-(-0.5-0.5)) + (1/5*-(0+1*0)) = 0.97 - 4/5 = 0.17$\n",
    "\n",
    "Esto quiere decir que se han ganado 0.17 bits de información en el split."
   ]
  },
  {
   "cell_type": "code",
   "execution_count": 123,
   "metadata": {},
   "outputs": [
    {
     "name": "stdout",
     "output_type": "stream",
     "text": [
      "0.9709505944546686\n",
      "0.17095059445466854\n"
     ]
    }
   ],
   "source": [
    "import numpy\n",
    "\n",
    "def calc_entropy(column):\n",
    "    \"\"\"\n",
    "    Calculate entropy given a pandas series, list, or numpy array.\n",
    "    \"\"\"\n",
    "    # Compute the counts of each unique value in the column\n",
    "    counts = numpy.bincount(column)\n",
    "    # Divide by the total column length to get a probability\n",
    "    probabilities = counts / len(column)\n",
    "    \n",
    "    # Initialize the entropy to 0\n",
    "    entropy = 0\n",
    "    # Loop through the probabilities, and add each one to the total entropy\n",
    "    for prob in probabilities:\n",
    "        if prob > 0:\n",
    "            entropy += prob * math.log(prob, 2)\n",
    "    \n",
    "    return -entropy\n",
    "\n",
    "# Verify that our function matches our answer from earlier\n",
    "entropy = calc_entropy([1,1,0,0,1])\n",
    "print(entropy)\n",
    "\n",
    "information_gain = entropy - ((.8 * calc_entropy([1,1,0,0])) + (.2 * calc_entropy([1])))\n",
    "print(information_gain)\n"
   ]
  },
  {
   "cell_type": "markdown",
   "metadata": {},
   "source": [
    "Aplicando a toda la columna de high income haciendo el mismo split con la mediana de age"
   ]
  },
  {
   "cell_type": "code",
   "execution_count": 130,
   "metadata": {},
   "outputs": [],
   "source": [
    "median_age = income['age'].median()\n",
    "\n",
    "left_split = income[income['age'] <= median_age]\n",
    "\n",
    "right_split = income[income['age'] > median_age]\n",
    "\n",
    "age_information_gain = (calc_entropy(income['high_income']) -\n",
    "                        (left_split.shape[0]/ income['high_income'].shape[0] * calc_entropy(left_split['high_income']) + \n",
    "                         right_split.shape[0]/ income['high_income'].shape[0] * calc_entropy(right_split['high_income'])))"
   ]
  },
  {
   "cell_type": "code",
   "execution_count": 132,
   "metadata": {},
   "outputs": [
    {
     "name": "stdout",
     "output_type": "stream",
     "text": [
      "0.047028661304691965\n"
     ]
    }
   ],
   "source": [
    "print(age_information_gain)"
   ]
  },
  {
   "cell_type": "markdown",
   "metadata": {},
   "source": [
    "Ahora lo que hay que hacer es buscar la columna que mayor IG tiene:"
   ]
  },
  {
   "cell_type": "code",
   "execution_count": 133,
   "metadata": {},
   "outputs": [
    {
     "name": "stdout",
     "output_type": "stream",
     "text": [
      "0.047028661304691965\n"
     ]
    }
   ],
   "source": [
    "def calc_information_gain(data, split_name, target_name):\n",
    "    \"\"\"\n",
    "    Calculate information gain given a data set, column to split on, and target\n",
    "    \"\"\"\n",
    "    # Calculate the original entropy\n",
    "    original_entropy = calc_entropy(data[target_name])\n",
    "    \n",
    "    # Find the median of the column we're splitting\n",
    "    column = data[split_name]\n",
    "    median = column.median()\n",
    "    \n",
    "    # Make two subsets of the data, based on the median\n",
    "    left_split = data[column <= median]\n",
    "    right_split = data[column > median]\n",
    "    \n",
    "    # Loop through the splits and calculate the subset entropies\n",
    "    to_subtract = 0\n",
    "    for subset in [left_split, right_split]:\n",
    "        prob = (subset.shape[0] / data.shape[0]) \n",
    "        to_subtract += prob * calc_entropy(subset[target_name])\n",
    "    \n",
    "    # Return information gain\n",
    "    return original_entropy - to_subtract\n",
    "\n",
    "# Verify that our answer is the same as on the last screen\n",
    "print(calc_information_gain(income, \"age\", \"high_income\"))\n"
   ]
  },
  {
   "cell_type": "code",
   "execution_count": 134,
   "metadata": {},
   "outputs": [],
   "source": [
    "columns = [\"age\", \"workclass\", \"education_num\", \"marital_status\", \"occupation\", \"relationship\", \"race\", \"sex\", \"hours_per_week\", \"native_country\"]\n",
    "\n",
    "information_gains = []\n",
    "\n",
    "for col in columns:\n",
    "    information_gains.append(calc_information_gain(income, col, 'high_income'))\n",
    "    \n",
    "highest_gain = columns[information_gains.index(max(information_gains))]"
   ]
  },
  {
   "cell_type": "code",
   "execution_count": 135,
   "metadata": {},
   "outputs": [
    {
     "name": "stdout",
     "output_type": "stream",
     "text": [
      "marital_status\n"
     ]
    }
   ],
   "source": [
    "print(highest_gain)"
   ]
  },
  {
   "cell_type": "markdown",
   "metadata": {},
   "source": [
    "Este algoritmo de árbol es el **ID3 algorithm**. hay otros como el **CART**, que usa diferentes medidas para el split.\n",
    "\n",
    "\n",
    "NOTA:\n",
    "\n",
    "Se ha aprendido a hacer un split, para hacer el árbos se hacn splits hasta que en las hojas quedan clases únicas de la variable target.\n",
    "\n",
    "Si miramos el árbol de abajo vemos que en una hoja hay valor 0.5 del target, esto es porque hay dos rows (personas) de 50 años que cada uno tiene una target de high_income distinta (1 y 0). Si tuviésemos más variables se seguiría partiendo por ellas.\n",
    "\n",
    "````\n",
    "age    high_income\n",
    "25     1\n",
    "50     1\n",
    "30     0\n",
    "50     0\n",
    "80     1\n",
    "````\n",
    "\n",
    "![title](imagenes/decisiontree_3.PNG)"
   ]
  },
  {
   "cell_type": "markdown",
   "metadata": {},
   "source": [
    "### Building a Decision Tree"
   ]
  },
  {
   "cell_type": "markdown",
   "metadata": {},
   "source": [
    "Se va a utilizar el algoritmo ID3 para construir un árbil.\n",
    "\n",
    "Este algoritmo emplea recurividad y conocimiento de complejidad temporal.\n",
    "\n",
    "LAs funciones recursivas se llaman a sí mismas y parten un problema en trozos más pequeños.\n",
    "\n",
    "En cada nodo se llama a la función recursiva, que parte el dataset en dos (o más) ramas. Cada rama lleva a otro nodo y la función se llama otra vez en cada uno.\n",
    "\n",
    "EL ID3 en pseudocódigo es:\n",
    "\n",
    "````\n",
    "def id3(data, target, columns)\n",
    "    1 Create a node for the tree\n",
    "    2 If all values of the target attribute are 1, Return the node, with label = 1\n",
    "    3 If all values of the target attribute are 0, Return the node, with label = 0\n",
    "    4 Use information to gain, find A, the column that splits the data best\n",
    "    5 Find the median value in column A\n",
    "    6 Split column A into values below or equal to the median (0), and values above the median (1)\n",
    "    7 For each possible value (0 or 1), vi, of A,\n",
    "    8    Add a new tree branch below Root that corresponds to rows of data where A = vi\n",
    "    9    Let Examples(vi) be the subset of examples that have the value vi for A\n",
    "   10    Below this new branch add the subtree id3(data[A==vi], target, columns)\n",
    "   11 Return Root\n",
    "\n",
    "\n",
    "````\n",
    "\n",
    "\n",
    "Se hace un ejemplo práctico con un data set pequeño en el que queremos predecir high_income usando age y marital_status (0 unmarried, 1 married, 2 divorced)\n",
    "\n",
    "````\n",
    "high_income    age    marital_status\n",
    "0              20     0\n",
    "0              60     2\n",
    "0              40     1\n",
    "1              25     1\n",
    "1              35     2\n",
    "1              55     1\n",
    "\n",
    "````\n",
    "\n",
    "Cuando se inicia el algoritmo:\n",
    "\n",
    "Hay 0 y 1 en high_income, se pasa a calcular qué columna tiene la mayor Information Gain.\n",
    "\n",
    "Se empieza partiendo por age y se calcula su mediana: 37.5.\n",
    "\n",
    "Se parte en dos grupos menor y mayor a 37.5 Se a valor 0 a los menores y 1 los mayores que la mediana.\n",
    "\n",
    "Se empieza por los valores que son 0, que ahora son un conjunto de datos y se crea una rama, por lo que se llama a la función con ese conjunto. En conjunto de los valores con 1 se queda pausado y esperando a seguir igual que el otro.\n",
    "\n",
    "Comienza de nuevo.\n",
    "\n",
    "Se repite hasta que se llega a una leaf, cuando todos los números del target son iguales.\n",
    "\n",
    "![title](imagenes/recursivetree.PNG)"
   ]
  },
  {
   "cell_type": "markdown",
   "metadata": {},
   "source": [
    "Encontrando la columna con mayor IG"
   ]
  },
  {
   "cell_type": "code",
   "execution_count": 136,
   "metadata": {},
   "outputs": [],
   "source": [
    "def find_best_column(data, target_name, columns):\n",
    "    # Fill in the logic here to automatically find the column in columns to split on\n",
    "    # data is a dataframe\n",
    "    # target_name is the name of the target variable\n",
    "    # columns is a list of potential columns to split on\n",
    "    \n",
    "    information_gains = []\n",
    "\n",
    "    for col in columns:\n",
    "        information_gains.append(calc_information_gain(data, col, 'high_income'))\n",
    "    \n",
    "    highest_gain = columns[information_gains.index(max(information_gains))]\n",
    "    \n",
    "    return highest_gain\n",
    "\n",
    "# A list of columns to potentially split income with\n",
    "columns = [\"age\", \"workclass\", \"education_num\", \"marital_status\", \"occupation\", \"relationship\", \"race\", \"sex\", \"hours_per_week\", \"native_country\"]\n",
    "\n",
    "income_split = find_best_column(income, 'high_income', columns)"
   ]
  },
  {
   "cell_type": "code",
   "execution_count": 137,
   "metadata": {},
   "outputs": [
    {
     "data": {
      "text/plain": [
       "'marital_status'"
      ]
     },
     "execution_count": 137,
     "metadata": {},
     "output_type": "execute_result"
    }
   ],
   "source": [
    "income_split"
   ]
  },
  {
   "cell_type": "markdown",
   "metadata": {},
   "source": [
    "Se hace la llamada recursiva pero modificando las lúneas 2 y 3 del pseudocódigo por la adición de unos contadores para ver cuántas leaves tienen label 1 y cuántas 0."
   ]
  },
  {
   "cell_type": "code",
   "execution_count": 143,
   "metadata": {},
   "outputs": [],
   "source": [
    "label_1s = []\n",
    "label_0s = []\n",
    "\n",
    "def id3(data, target, columns):\n",
    "    # The pandas.unique method will return a list of all the unique values in a series\n",
    "    unique_targets = pandas.unique(data[target])\n",
    "    \n",
    "    if len(unique_targets) == 1:\n",
    "        # Insert code here to append 1 to label_1s or 0 to label_0s, based on what we should label the node\n",
    "        # See lines 2 and 3 in the algorithm\n",
    "        if 0 in unique_targets:\n",
    "            label_0s.append(0)\n",
    "        elif 1 in unique_targets:\n",
    "            label_1s.append(1)\n",
    "        \n",
    "            \n",
    "        # Returning here is critical -- if we don't, the recursive tree will never finish, and run forever\n",
    "        # See our example above for when we returned\n",
    "        return \n",
    "    \n",
    "    # Find the best column to split on in our data\n",
    "    best_column = find_best_column(data, target, columns)\n",
    "    # Find the median of the column\n",
    "    column_median = data[best_column].median()\n",
    "    \n",
    "    # Create the two splits\n",
    "    left_split = data[data[best_column] <= column_median]\n",
    "    right_split = data[data[best_column] > column_median]\n",
    "    \n",
    "    # Loop through the splits and call id3 recursively\n",
    "    for split in [left_split, right_split]:\n",
    "        # Call id3 recursively to process each branch\n",
    "        id3(split, target, columns)\n",
    "    \n",
    "# Create the data set that we used in the example on the last screen\n",
    "data = pandas.DataFrame([\n",
    "    [0,20,0],\n",
    "    [0,60,2],\n",
    "    [0,40,1],\n",
    "    [1,25,1],\n",
    "    [1,35,2],\n",
    "    [1,55,1]\n",
    "    ])\n",
    "# Assign column names to the data\n",
    "data.columns = [\"high_income\", \"age\", \"marital_status\"]\n",
    "\n",
    "# Call the function on our data to set the counters properly\n",
    "id3(data, \"high_income\", [\"age\", \"marital_status\"])"
   ]
  },
  {
   "cell_type": "code",
   "execution_count": 144,
   "metadata": {},
   "outputs": [
    {
     "data": {
      "text/plain": [
       "[1, 1, 1]"
      ]
     },
     "execution_count": 144,
     "metadata": {},
     "output_type": "execute_result"
    }
   ],
   "source": [
    "label_1s"
   ]
  },
  {
   "cell_type": "code",
   "execution_count": 145,
   "metadata": {},
   "outputs": [
    {
     "data": {
      "text/plain": [
       "[0, 0, 0]"
      ]
     },
     "execution_count": 145,
     "metadata": {},
     "output_type": "execute_result"
    }
   ],
   "source": [
    "label_0s"
   ]
  },
  {
   "cell_type": "markdown",
   "metadata": {},
   "source": [
    "#### Guardar el árbol completo\n",
    "\n",
    "Para guardar un árbol completo se pueden usar diccionarios anidados..\n",
    "\n",
    "El diccionario ráiz tendrías dos ramas que serían las keys left y right, Que a su vez serían otros diccionarios.\n",
    "\n",
    "Otra key sería columns, que es la columna sobre la que se hace el split y su valor emdiano.\n",
    "\n",
    "El label de una leaf se guararía en la key label.\n",
    "\n",
    "El número de nodo se guardaría en la key number.\n",
    "\n",
    "Quedaría como el siguiente diccionario (el mismo que en el ejemplo de antes)\n",
    "\n",
    "````\n",
    "{  \n",
    "   \"left\":{  \n",
    "      \"left\":{  \n",
    "         \"left\":{  \n",
    "            \"number\":4,\n",
    "            \"label\":0\n",
    "         },\n",
    "         \"column\":\"age\",\n",
    "         \"median\":22.5,\n",
    "         \"number\":3,\n",
    "         \"right\":{  \n",
    "            \"number\":5,\n",
    "            \"label\":1\n",
    "         }\n",
    "      },\n",
    "      \"column\":\"age\",\n",
    "      \"median\":25.0,\n",
    "      \"number\":2,\n",
    "      \"right\":{  \n",
    "         \"number\":6,\n",
    "         \"label\":1\n",
    "      }\n",
    "   },\n",
    "   \"column\":\"age\",\n",
    "   \"median\":37.5,\n",
    "   \"number\":1,\n",
    "   \"right\":{  \n",
    "      \"left\":{  \n",
    "         \"left\":{  \n",
    "            \"number\":9,\n",
    "            \"label\":0\n",
    "         },\n",
    "         \"column\":\"age\",\n",
    "         \"median\":47.5,\n",
    "         \"number\":8,\n",
    "         \"right\":{  \n",
    "            \"number\":10,\n",
    "            \"label\":1\n",
    "         }\n",
    "      },\n",
    "      \"column\":\"age\",\n",
    "      \"median\":55.0,\n",
    "      \"number\":7,\n",
    "      \"right\":{  \n",
    "         \"number\":11,\n",
    "         \"label\":0\n",
    "      }\n",
    "   }\n",
    "}\n",
    "````\n"
   ]
  },
  {
   "cell_type": "markdown",
   "metadata": {},
   "source": [
    "El pseudocódigo sería el de abajo. Se pasa el diccionaria tree a la función id3 y cada diccionario que se pasa recursivamente está ligado al original porque son keys de éste.\n",
    "\n",
    "````\n",
    "def id3(data, target, columns, tree)\n",
    "    1 Create a node for the tree\n",
    "    2 Number the node\n",
    "    3 If all of the values of the target attribute are 1, assign 1 to the label key in tree\n",
    "    4 If all of the values of the target attribute are 0, assign 0 to the label key in tree\n",
    "    5 Using information gain, find A, the column that splits the data best\n",
    "    6 Find the median value in column A\n",
    "    7 Assign the column and median keys in tree\n",
    "    8 Split A into values less than or equal to the median (0), and values above the median (1)\n",
    "    9 For each possible value (0 or 1), vi, of A,\n",
    "   10    Add a new tree branch below Root that corresponds to rows of data where A = vi\n",
    "   11    Let Examples(vi) be the subset of examples that have the value vi for A\n",
    "   12    Create a new key with the name corresponding to the side of the split (0=left, 1=right).  The value of this key should be an empty dictionary.\n",
    "   13    Below this new branch, add the subtree id3(data[A==vi], target, columns, tree[split_side])\n",
    "   14 Return Root\n",
    "\n",
    "````"
   ]
  },
  {
   "cell_type": "code",
   "execution_count": 146,
   "metadata": {},
   "outputs": [],
   "source": [
    "# Create a dictionary to hold the tree  \n",
    "# It has to be outside of the function so we can access it later\n",
    "tree = {}\n",
    "\n",
    "# This list will let us number the nodes  \n",
    "# It has to be a list so we can access it inside the function\n",
    "nodes = []\n",
    "\n",
    "def id3(data, target, columns, tree):\n",
    "    unique_targets = pandas.unique(data[target])\n",
    "    \n",
    "    # Assign the number key to the nodes list\n",
    "    nodes.append(len(nodes) + 1)\n",
    "    tree[\"number\"] = nodes[-1]\n",
    "\n",
    "    if len(unique_targets) == 1:\n",
    "        # Insert code here that assigns the \"label\" field to the nodes list\n",
    "        if 0 in unique_targets:\n",
    "            tree[\"label\"] = 0\n",
    "        elif 1 in unique_targets:\n",
    "            tree[\"label\"] = 1\n",
    "        return\n",
    "    \n",
    "    best_column = find_best_column(data, target, columns)\n",
    "    column_median = data[best_column].median()\n",
    "    \n",
    "    # Insert code here that assigns the \"column\" and \"median\" fields to the nodes list\n",
    "    \n",
    "    tree['column'] = best_column\n",
    "    tree['median'] = column_median\n",
    "    left_split = data[data[best_column] <= column_median]\n",
    "    right_split = data[data[best_column] > column_median]\n",
    "    split_dict = [[\"left\", left_split], [\"right\", right_split]]\n",
    "    \n",
    "    for name, split in split_dict:\n",
    "        tree[name] = {}\n",
    "        id3(split, target, columns, tree[name])\n",
    "\n",
    "# Call the function on our data to set the counters properly\n",
    "id3(data, \"high_income\", [\"age\", \"marital_status\"], tree)"
   ]
  },
  {
   "cell_type": "code",
   "execution_count": 147,
   "metadata": {},
   "outputs": [
    {
     "data": {
      "text/plain": [
       "{'number': 1,\n",
       " 'column': 'age',\n",
       " 'median': 37.5,\n",
       " 'left': {'number': 2,\n",
       "  'column': 'age',\n",
       "  'median': 25.0,\n",
       "  'left': {'number': 3,\n",
       "   'column': 'age',\n",
       "   'median': 22.5,\n",
       "   'left': {'number': 4, 'label': 0},\n",
       "   'right': {'number': 5, 'label': 1}},\n",
       "  'right': {'number': 6, 'label': 1}},\n",
       " 'right': {'number': 7,\n",
       "  'column': 'age',\n",
       "  'median': 55.0,\n",
       "  'left': {'number': 8,\n",
       "   'column': 'age',\n",
       "   'median': 47.5,\n",
       "   'left': {'number': 9, 'label': 0},\n",
       "   'right': {'number': 10, 'label': 1}},\n",
       "  'right': {'number': 11, 'label': 0}}}"
      ]
     },
     "execution_count": 147,
     "metadata": {},
     "output_type": "execute_result"
    }
   ],
   "source": [
    "tree"
   ]
  },
  {
   "cell_type": "markdown",
   "metadata": {},
   "source": [
    "#### Imprimir el árbol de manera intuitiva\n",
    "\n",
    "Utilizando la identación para mover la impresión según sea más profundo el nodo:\n",
    "\n",
    "``````\n",
    "def print_node(tree, depth):\n",
    "    1 Check for the presence of the \"label\" key in the tree\n",
    "    2     If found, print the label and return\n",
    "    3 Print out the tree's \"column\" and \"median\" keys\n",
    "    4 Iterate through the tree's \"left\" and \"right\" keys\n",
    "    5     Recursively call print_node(tree[key], depth+1)\n",
    "\n",
    "``````"
   ]
  },
  {
   "cell_type": "code",
   "execution_count": 148,
   "metadata": {},
   "outputs": [
    {
     "name": "stdout",
     "output_type": "stream",
     "text": [
      "age > 37.5\n",
      "    age > 25.0\n",
      "        age > 22.5\n",
      "            Leaf: Label 0\n",
      "            Leaf: Label 1\n",
      "        Leaf: Label 1\n",
      "    age > 55.0\n",
      "        age > 47.5\n",
      "            Leaf: Label 0\n",
      "            Leaf: Label 1\n",
      "        Leaf: Label 0\n"
     ]
    }
   ],
   "source": [
    "def print_with_depth(string, depth):\n",
    "    # Add space before a string\n",
    "    prefix = \"    \" * depth\n",
    "    # Print a string, and indent it appropriately\n",
    "    print(\"{0}{1}\".format(prefix, string))\n",
    "    \n",
    "    \n",
    "def print_node(tree, depth):\n",
    "    # Check for the presence of \"label\" in the tree\n",
    "    if \"label\" in tree:\n",
    "        # If found, then this is a leaf, so print it and return\n",
    "        print_with_depth(\"Leaf: Label {0}\".format(tree[\"label\"]), depth)\n",
    "        # This is critical -- without it, you'll get infinite recursion\n",
    "        return\n",
    "    # Print information about what the node is splitting on\n",
    "    print_with_depth(\"{0} > {1}\".format(tree[\"column\"], tree[\"median\"]), depth)\n",
    "    \n",
    "    # Create a list of tree branches\n",
    "    branches = [tree[\"left\"], tree[\"right\"]]\n",
    "        \n",
    "    # Insert code here to recursively call print_node on each branch\n",
    "    # Don't forget to increment depth when you pass it in\n",
    "    for branch in branches:\n",
    "        print_node(branch, depth+1)\n",
    "\n",
    "print_node(tree, 0)"
   ]
  },
  {
   "cell_type": "markdown",
   "metadata": {},
   "source": [
    "#### Hacer predicciones automáticamente\n",
    "\n",
    "Se hace una predicción sobre la primera row de income:"
   ]
  },
  {
   "cell_type": "code",
   "execution_count": 149,
   "metadata": {},
   "outputs": [
    {
     "name": "stdout",
     "output_type": "stream",
     "text": [
      "0\n"
     ]
    }
   ],
   "source": [
    "def predict(tree, row):\n",
    "    if \"label\" in tree:\n",
    "        return tree[\"label\"]\n",
    "    \n",
    "    column = tree[\"column\"]\n",
    "    median = tree[\"median\"]\n",
    "    \n",
    "    # Insert code here to check whether row[column] is less than or equal to median\n",
    "    # If it's less than or equal, return the result of predicting on the left branch of the tree\n",
    "    # If it's greater, return the result of predicting on the right branch of the tree\n",
    "    # Remember to use the return statement to return the result!\n",
    "    \n",
    "    if row[column] <= median:    \n",
    "        return predict(tree['left'], row)\n",
    "    else:    \n",
    "        return predict(tree['right'], row)\n",
    "\n",
    "# Print the prediction for the first row in our data\n",
    "print(predict(tree, data.iloc[0]))"
   ]
  },
  {
   "cell_type": "code",
   "execution_count": 150,
   "metadata": {},
   "outputs": [],
   "source": [
    "new_data = pandas.DataFrame([\n",
    "    [40,0],\n",
    "    [20,2],\n",
    "    [80,1],\n",
    "    [15,1],\n",
    "    [27,2],\n",
    "    [38,1]\n",
    "    ])\n",
    "# Assign column names to the data\n",
    "new_data.columns = [\"age\", \"marital_status\"]\n",
    "\n",
    "def batch_predict(tree, df):\n",
    "    # Insert your code here\n",
    "    return df.apply(lambda x: predict(tree, x), axis = 1)\n",
    "    \n",
    "\n",
    "predictions = batch_predict(tree, new_data)"
   ]
  },
  {
   "cell_type": "code",
   "execution_count": 151,
   "metadata": {},
   "outputs": [
    {
     "data": {
      "text/plain": [
       "0    0\n",
       "1    0\n",
       "2    0\n",
       "3    0\n",
       "4    1\n",
       "5    0\n",
       "dtype: int64"
      ]
     },
     "execution_count": 151,
     "metadata": {},
     "output_type": "execute_result"
    }
   ],
   "source": [
    "predictions"
   ]
  },
  {
   "cell_type": "markdown",
   "metadata": {},
   "source": [
    "### Applying Decision Trees"
   ]
  },
  {
   "cell_type": "markdown",
   "metadata": {},
   "source": [
    "EL algoritmo ID3 es más sencillo que los otros más comunes como c4.5 o CART, pero los principios son los mismos.\n",
    "\n",
    "Aplicamos decision trees en el mismo data set income.csv.\n",
    "\n",
    "El la librería scikit-learn existen dos clases de árboles:\n",
    "\n",
    "- DecisionTreeClassifier\n",
    "\n",
    "- DecissionTreeRegressor\n",
    "\n",
    "En este caso se quiere predecir una salida binaria (high_income 1 o 0), por lo que se ha de utilizar el Classifier.\n",
    "\n",
    "\n"
   ]
  },
  {
   "cell_type": "code",
   "execution_count": 152,
   "metadata": {},
   "outputs": [
    {
     "data": {
      "text/plain": [
       "DecisionTreeClassifier(ccp_alpha=0.0, class_weight=None, criterion='gini',\n",
       "                       max_depth=None, max_features=None, max_leaf_nodes=None,\n",
       "                       min_impurity_decrease=0.0, min_impurity_split=None,\n",
       "                       min_samples_leaf=1, min_samples_split=2,\n",
       "                       min_weight_fraction_leaf=0.0, presort='deprecated',\n",
       "                       random_state=1, splitter='best')"
      ]
     },
     "execution_count": 152,
     "metadata": {},
     "output_type": "execute_result"
    }
   ],
   "source": [
    "from sklearn.tree import DecisionTreeClassifier\n",
    "\n",
    "# A list of columns to train with\n",
    "# We've already converted all columns to numeric\n",
    "columns = [\"age\", \"workclass\", \"education_num\", \"marital_status\", \"occupation\", \"relationship\", \"race\", \"sex\", \"hours_per_week\", \"native_country\"]\n",
    "\n",
    "# Instantiate the classifier\n",
    "# Set random_state to 1 to make sure the results are consistent\n",
    "clf = DecisionTreeClassifier(random_state=1)\n",
    "\n",
    "# We've already loaded the variable \"income,\" which contains all of the income data\n",
    "clf.fit(income[columns], income['high_income'])"
   ]
  },
  {
   "cell_type": "markdown",
   "metadata": {},
   "source": [
    "Separar en dos sets para evitar overfitting al hacer las pruebas"
   ]
  },
  {
   "cell_type": "code",
   "execution_count": 153,
   "metadata": {},
   "outputs": [],
   "source": [
    "import numpy\n",
    "import math\n",
    "\n",
    "# Set a random seed so the shuffle is the same every time\n",
    "numpy.random.seed(1)\n",
    "\n",
    "# Shuffle the rows  \n",
    "# This permutes the index randomly using numpy.random.permutation\n",
    "# Then, it reindexes the dataframe with the result\n",
    "# The net effect is to put the rows into random order\n",
    "income = income.reindex(numpy.random.permutation(income.index))\n",
    "\n",
    "train_max_row = math.floor(income.shape[0] * .8)\n",
    "\n",
    "train = income.iloc[:train_max_row]\n",
    "\n",
    "test = income.iloc[train_max_row:]"
   ]
  },
  {
   "cell_type": "markdown",
   "metadata": {},
   "source": [
    "#### ROC AUC\n",
    "\n",
    "- ROC Receiving Oprating Characteristic\n",
    "\n",
    "Es una curva que representa la habilidad diagnóstica de un clasificador binario según cambia su umbral de discriminación (discrimination threshold).\n",
    "\n",
    "Se crea dibujnado el True Positive Rate (Sensitivity) contra el False Positive Rate (Prob of false alarm, 1 - Specificity).\n",
    "\n",
    "- AUC Area Under Curve\n",
    "\n",
    "Es el área que queda bajo el ROC\n",
    "\n",
    "A mayor área  AUC -> Menor False Postitive Rate - > mejor"
   ]
  },
  {
   "cell_type": "code",
   "execution_count": 154,
   "metadata": {},
   "outputs": [
    {
     "name": "stdout",
     "output_type": "stream",
     "text": [
      "0.6934656324746192\n"
     ]
    }
   ],
   "source": [
    "from sklearn.metrics import roc_auc_score\n",
    "\n",
    "clf = DecisionTreeClassifier(random_state=1)\n",
    "clf.fit(train[columns], train[\"high_income\"])\n",
    "\n",
    "predictions = clf.predict(test[columns])\n",
    "\n",
    "error = roc_auc_score(test['high_income'], predictions)\n",
    "print(error)"
   ]
  },
  {
   "cell_type": "markdown",
   "metadata": {},
   "source": [
    "Se comprueba el nivel de overfitting prediciendo para el train set"
   ]
  },
  {
   "cell_type": "code",
   "execution_count": 155,
   "metadata": {},
   "outputs": [
    {
     "name": "stdout",
     "output_type": "stream",
     "text": [
      "0.9471244501437455\n"
     ]
    }
   ],
   "source": [
    "predictions = clf.predict(train[columns])\n",
    "\n",
    "print(roc_auc_score(train['high_income'], predictions))"
   ]
  },
  {
   "cell_type": "markdown",
   "metadata": {},
   "source": [
    "Está prediciendo mucho mejor en train que en test"
   ]
  },
  {
   "cell_type": "markdown",
   "metadata": {},
   "source": [
    "#### Overfitting\n",
    "\n",
    "En general, árboles más profundos, con más niveles de nodos, funcionan peor con datos nuevos.\n",
    "\n",
    "Esto es porque cuando se entrena un árbol en un training set se crean reglas muy específicas de ese data set que no generalizan bien.\n",
    "\n",
    "Por ejemplo, para el dat a set:\n",
    "\n",
    "````\n",
    "high_income    age    marital_status\n",
    "0              20     0\n",
    "0              60     2\n",
    "0              40     1\n",
    "1              25     1\n",
    "1              35     2\n",
    "1              55     1\n",
    "\n",
    "````\n",
    "\n",
    "\n",
    "Se crea el árbol completo:\n",
    "\n",
    "![title](imagenes/treeoverfitting.PNG)\n",
    "\n",
    "Y se ve que no tiene sentido en el mundo real que: \n",
    "\n",
    "- If you're under 22.5 years old, you have a low income\n",
    "- If you're 22.5 - 37.5, you have a high income\n",
    "- If you're 37.5 - 47.5, you have a low income\n",
    "- If you're 47.5 to 55, you have a high income\n",
    "- Finally, if you're above 55, you have a low income\n",
    "\n",
    "Por lo que si podamos el árbol y sale un más simple\n",
    "\n",
    "![title](imagenes/treeoverfitting_2.PNG)\n",
    "\n",
    "Este clasificará peor el training pero lo hará mejor con nuevos datos, porque es más cercano al mundo real."
   ]
  },
  {
   "cell_type": "markdown",
   "metadata": {},
   "source": [
    "##### Hay 3 maneras de combatir el overfitting:\n",
    "\n",
    "- Podar el árbol (Prune) después de construir y eliminar algunas hojas.\n",
    "\n",
    "- Juntar predicciones de muchos árboles.\n",
    "\n",
    "- Restringir la profundidad del árbol mientras se crea.\n",
    "\n",
    "Centrándose en la tercera opcion por ahora, se puede restringir con los parámetros de la clase DecisionTreeClassifier:\n",
    "\n",
    "- max_depth - Globally restricts how deep the tree goes\n",
    "- min_samples_split - The minimum number of rows a node should have before it can be split; if this is set to 2. For example, then nodes with 2 rows won't be split, and become leaves instead\n",
    "- min_samples_leaf - The minimum number of rows a leaf must have\n",
    "- min_weight_fraction_leaf - The fraction of input rows a leaf must have\n",
    "- max_leaf_nodes - The maximum number of total leaves; this will cap the count of leaf nodes as the tree is being built\n",
    "\n",
    "No se puede usar max_depth a la vez que max_leaf_nodes"
   ]
  },
  {
   "cell_type": "code",
   "execution_count": 157,
   "metadata": {},
   "outputs": [
    {
     "name": "stdout",
     "output_type": "stream",
     "text": [
      "0.8421431849275413\n",
      "0.6995617145150872\n"
     ]
    }
   ],
   "source": [
    "# Decision trees model from the last screen\n",
    "clf = DecisionTreeClassifier(random_state=1, min_samples_split = 13)\n",
    "clf.fit(train[columns], train['high_income'])\n",
    "\n",
    "train_auc = roc_auc_score(train['high_income'], clf.predict(train[columns]))\n",
    "print(train_auc)\n",
    "test_auc = roc_auc_score(test['high_income'], clf.predict(test[columns]))\n",
    "print(test_auc)"
   ]
  },
  {
   "cell_type": "markdown",
   "metadata": {},
   "source": [
    "Se han acercado los dos valores, por lo que se ha reducido el overfitting.\n",
    "\n",
    "Si se siguen poniendo restricciones:"
   ]
  },
  {
   "cell_type": "code",
   "execution_count": 158,
   "metadata": {},
   "outputs": [
    {
     "name": "stdout",
     "output_type": "stream",
     "text": [
      "0.7436344996725136\n",
      "0.748037708309209\n"
     ]
    }
   ],
   "source": [
    "# The first decision trees model we trained and tested\n",
    "clf = DecisionTreeClassifier(random_state=1, max_depth = 7, min_samples_split = 13)\n",
    "clf.fit(train[columns], train[\"high_income\"])\n",
    "predictions = clf.predict(test[columns])\n",
    "test_auc = roc_auc_score(test[\"high_income\"], predictions)\n",
    "\n",
    "train_predictions = clf.predict(train[columns])\n",
    "train_auc = roc_auc_score(train[\"high_income\"], train_predictions)\n",
    "\n",
    "print(test_auc)\n",
    "print(train_auc)"
   ]
  },
  {
   "cell_type": "markdown",
   "metadata": {},
   "source": [
    "Se han igualado bastante los rsultados, por lo que el overfitting se ha eliminado prácticamente.\n",
    "\n",
    "Si se sigue restringiendo se perjudica el funcionamiento: **Underfitting**. El modelo es demasiado simple para explicar las relaciones."
   ]
  },
  {
   "cell_type": "code",
   "execution_count": 159,
   "metadata": {},
   "outputs": [
    {
     "name": "stdout",
     "output_type": "stream",
     "text": [
      "0.6553138481876499\n",
      "0.6624508042161483\n"
     ]
    }
   ],
   "source": [
    "# The first decision tree model we trained and tested\n",
    "clf = DecisionTreeClassifier(random_state=1, max_depth = 2, min_samples_split = 100)\n",
    "clf.fit(train[columns], train[\"high_income\"])\n",
    "predictions = clf.predict(test[columns])\n",
    "test_auc = roc_auc_score(test[\"high_income\"], predictions)\n",
    "\n",
    "train_predictions = clf.predict(train[columns])\n",
    "train_auc = roc_auc_score(train[\"high_income\"], train_predictions)\n",
    "\n",
    "print(test_auc)\n",
    "print(train_auc)"
   ]
  },
  {
   "cell_type": "markdown",
   "metadata": {},
   "source": [
    "Esto es un caso del **bias-variance tradeoff**. Un modelo demasiado complejo no generaliza yuno muy simple no funciona.\n",
    "\n",
    "Si ahora se coge una muestra aleatoria de los datos y se crean muchos modelos, se comparan las predicciones y son muy distintas, tenemos una gran varianza.\n",
    "\n",
    "Si las predicciones para la misma row son  muy próximas pero muy distintas al valor real, se tendrá alto sesgo (bias).\n",
    "\n",
    "Alto bias casua **underfitting** porque el modelo es demasiado simple.\n",
    "\n",
    "Alta variance causa **overfiting** porque el modelo varía sus predicciones de manera significativa por pequeños cambios en los datos de entrada. Está considerando peculiaridades del training data y no haciendo un modelo generalizable.\n",
    "\n",
    "[Artículo del bias-variance tradeoff](http://scott.fortmann-roe.com/docs/BiasVariance.html).\n",
    "\n",
    "Un árbol en general sufre de alta varianza, ya que la estructura cambia mucho si hay pequeños cambios en el training data.\n",
    "\n",
    "Cuando restringimos la profundidad estamos incrementando el bias y reduciendo la varianza. Si se restringe demasiado, hace underfitting.\n"
   ]
  },
  {
   "cell_type": "markdown",
   "metadata": {},
   "source": [
    "Ahora si se genera una columna de ruido para meterlo como feature se puede ver lo susceptible que es un árbol a estos cambios."
   ]
  },
  {
   "cell_type": "code",
   "execution_count": 160,
   "metadata": {},
   "outputs": [
    {
     "name": "stdout",
     "output_type": "stream",
     "text": [
      "0.6914060013941348\n",
      "0.9750761614350801\n"
     ]
    }
   ],
   "source": [
    "numpy.random.seed(1)\n",
    "\n",
    "# Generate a column containing random numbers from 0 to 4\n",
    "income[\"noise\"] = numpy.random.randint(4, size=income.shape[0])\n",
    "\n",
    "# Adjust \"columns\" to include the noise column\n",
    "columns = [\"noise\", \"age\", \"workclass\", \"education_num\", \"marital_status\", \"occupation\", \"relationship\", \"race\", \"sex\", \"hours_per_week\", \"native_country\"]\n",
    "\n",
    "# Make new train and test sets\n",
    "train_max_row = math.floor(income.shape[0] * .8)\n",
    "train = income.iloc[:train_max_row]\n",
    "test = income.iloc[train_max_row:]\n",
    "\n",
    "# Initialize the classifier\n",
    "clf = DecisionTreeClassifier(random_state=1)\n",
    "clf.fit(train[columns], train['high_income'])\n",
    "\n",
    "train_auc = roc_auc_score(train['high_income'], clf.predict(train[columns]))\n",
    "\n",
    "test_auc = roc_auc_score(test['high_income'], clf.predict(test[columns]))\n",
    "\n",
    "print(test_auc)\n",
    "print(train_auc)"
   ]
  },
  {
   "cell_type": "markdown",
   "metadata": {},
   "source": [
    "#### Ventajas y desventajas de los Decision Trees\n",
    "\n",
    "Ventajas:\n",
    "\n",
    "- Fáciles de interpretar\n",
    "- Rápidos de entrenar y predecir\n",
    "- Capacidad de utilizar muchos tipos de datos\n",
    "- Capacidad para absorber no linearidades siendo precisos\n",
    "\n",
    "Desventaja:\n",
    "\n",
    "- Tendencia al overfitting\n",
    "\n",
    "\n",
    "\n",
    "La forma más eficaz de reducir el overfitting es con Random FOrest (Ensembles of Trees)."
   ]
  },
  {
   "cell_type": "markdown",
   "metadata": {},
   "source": [
    "### Introduction to Random Forests"
   ]
  },
  {
   "cell_type": "markdown",
   "metadata": {},
   "source": [
    "Son Ensemble Models: Combinan predicciones de múltiples modelos para crear una predicción más preciesa.\n",
    "\n",
    "Se crea un ensemble simple de dos árboles:\n",
    "\n",
    "- Uno con  min_samples_leaf = 2\n",
    "- Otro con max_depth = 5"
   ]
  },
  {
   "cell_type": "code",
   "execution_count": 161,
   "metadata": {},
   "outputs": [
    {
     "name": "stdout",
     "output_type": "stream",
     "text": [
      "0.6878964226062301\n",
      "0.6759853906508785\n"
     ]
    }
   ],
   "source": [
    "from sklearn.tree import DecisionTreeClassifier\n",
    "from sklearn.metrics import roc_auc_score\n",
    "\n",
    "columns = [\"age\", \"workclass\", \"education_num\", \"marital_status\", \"occupation\", \"relationship\", \"race\", \"sex\", \"hours_per_week\", \"native_country\"]\n",
    "\n",
    "clf = DecisionTreeClassifier(random_state=1, min_samples_leaf=2)\n",
    "clf.fit(train[columns], train[\"high_income\"])\n",
    "\n",
    "clf2 = DecisionTreeClassifier(random_state=1, max_depth=5)\n",
    "clf2.fit(train[columns], train[\"high_income\"])\n",
    "\n",
    "\n",
    "predictions_1 = clf.predict(test[columns])\n",
    "print(roc_auc_score( test['high_income'], predictions_1))\n",
    "\n",
    "\n",
    "predictions_2 = clf2.predict(test[columns])\n",
    "print(roc_auc_score( test['high_income'] , predictions_2))"
   ]
  },
  {
   "cell_type": "markdown",
   "metadata": {},
   "source": [
    "Cuando se tienen múltiples clasificadores haciendo predicciones podemos tratar cada set de predicciones como columnas en una matriz:\n",
    "\n",
    "````\n",
    "DT1     DT2    DT3\n",
    "0       1      0\n",
    "1       1      1\n",
    "0       0      1\n",
    "1       0      0\n",
    "\n",
    "````\n",
    "\n",
    "A partir de ellas se crea una predicción final. Esto se pude hacer por mayoría, pero cunado el número es par hay que definir criterios de empate.\n",
    "\n",
    "También se puede hacer prediciendo probabilidades de pertenecer a una clase u otra del target, y luego haciendo la media de esas probabilidades dadas por cada modelo.\n",
    "\n",
    "El método DecisionTreeClassifier.predict_proba() dará como salida dos columnas con probabilidad de cada clase."
   ]
  },
  {
   "cell_type": "code",
   "execution_count": 162,
   "metadata": {},
   "outputs": [
    {
     "name": "stdout",
     "output_type": "stream",
     "text": [
      "0.7150846804038882\n"
     ]
    }
   ],
   "source": [
    "predictions = clf.predict_proba(test[columns])[:,1]\n",
    "predictions2 = clf2.predict_proba(test[columns])[:,1]\n",
    "\n",
    "resulting_predictions = numpy.round((predictions + predictions2)/2)\n",
    "\n",
    "\n",
    "print(roc_auc_score(test['high_income'],resulting_predictions) )"
   ]
  },
  {
   "cell_type": "markdown",
   "metadata": {},
   "source": [
    "Se puede ver que el AUC es mayor en el ensemble que en los modeos aislados.\n",
    "\n",
    "| settings             | test AUC |\n",
    "|----------------------|----------|\n",
    "| min_samples_leaf: 2  | 0.688    |\n",
    "| max_depth: 5         | 0.676    |\n",
    "| combined predictions | 0.715    |\n",
    "\n",
    "Los modelos con una precisión similar pero que son lo suficientemente distintos tratando los datos, sus predicciones conjuntas son mejores que cad auno de ellos aislado.\n",
    "\n",
    "Esto no ocurre con modelos muy parecidos ni con modelos que tienen precisiones muy distintas.\n",
    "\n",
    "Por ejemplo, un ensemble de decision tree y logistig regression en general hará mejores predicciones que ensembles de dos decision trees."
   ]
  },
  {
   "cell_type": "markdown",
   "metadata": {},
   "source": [
    "#### Generar árboles aleatorios\n",
    "\n",
    "Si no se modifican los árboles todos darán el mismo resultado y no habrá mejora en el emnsemble.\n",
    "\n",
    "Si se introduce una variación aleatoria de los parámetros, esta variación pone el random de random forest.\n",
    "\n",
    "Hay dos maneras de introducir variación en los random forests:\n",
    "\n",
    "- Bagging\n",
    "- Random features\n",
    "\n"
   ]
  },
  {
   "cell_type": "markdown",
   "metadata": {},
   "source": [
    "##### Bagging\n",
    "Bagging consiste en no entrenar cada árbol con el mismo data set. Se les entrena con una muestra aleatoria de los datos o \"bag\".\n",
    "\n",
    "El sampling es con reemplazo, una row que se saca para entrenar está disponible para otras bags.\n"
   ]
  },
  {
   "cell_type": "code",
   "execution_count": 165,
   "metadata": {},
   "outputs": [
    {
     "name": "stdout",
     "output_type": "stream",
     "text": [
      "0.7329963297474371\n"
     ]
    }
   ],
   "source": [
    "# We'll build 10 trees\n",
    "tree_count = 10\n",
    "\n",
    "# Each \"bag\" will have 60% of the number of original rows\n",
    "bag_proportion = .6\n",
    "\n",
    "predictions = []\n",
    "for i in range(tree_count):\n",
    "    # We select 60% of the rows from train, sampling with replacement\n",
    "    # We set a random state to ensure we'll be able to replicate our results\n",
    "    # We set it to i instead of a fixed value so we don't get the same sample in every loop\n",
    "    # That would make all of our trees the same\n",
    "    bag = train.sample(frac=bag_proportion, replace=True, random_state=i)\n",
    "    \n",
    "    # Fit a decision tree model to the \"bag\"\n",
    "    clf = DecisionTreeClassifier(random_state=1, min_samples_leaf=2)\n",
    "    clf.fit(bag[columns], bag[\"high_income\"])\n",
    "    \n",
    "    # Using the model, make predictions on the test data\n",
    "    predictions.append(clf.predict_proba(test[columns])[:,1])\n",
    "    \n",
    "print(roc_auc_score(test['high_income'],numpy.round(sum(predictions)/len(predictions))))"
   ]
  },
  {
   "cell_type": "markdown",
   "metadata": {},
   "source": [
    "Se puede ver que ha mejorado la precisión:\n",
    "\n",
    "| settings                          | test AUC |\n",
    "|-----------------------------------|----------|\n",
    "| min_samples_leaf: 2               | 0.688    |\n",
    "| max_depth: 2                      | 0.676    |\n",
    "| combined predictions              | 0.715    |\n",
    "| min_samples_leaf: 2, with bagging | 0.732    |"
   ]
  },
  {
   "cell_type": "markdown",
   "metadata": {},
   "source": [
    "##### Random Feature Subsets\n",
    "\n",
    "En esta modalidad se crean diferentes árboles con features aleatorios:\n",
    "\n",
    "- Primero se toman todos los features disponibles y se elige un subconjunto de ellos.\n",
    "\n",
    "- Cada vez que se hace split se elige un subconjunto de features.\n",
    "\n",
    "- Se computa la Information Gain de cada feature del subconjunto aleatorio y se elige la de mayor IG para hacer el split.\n",
    "\n",
    "El proceso aplicado al ejemplo en el que se construía el algoritmo ID3 de cero sería:"
   ]
  },
  {
   "cell_type": "code",
   "execution_count": null,
   "metadata": {},
   "outputs": [],
   "source": []
  },
  {
   "cell_type": "code",
   "execution_count": 166,
   "metadata": {},
   "outputs": [
    {
     "name": "stdout",
     "output_type": "stream",
     "text": [
      "{'number': 1, 'column': 'age', 'median': 37.5, 'left': {'number': 2, 'column': 'employment', 'median': 4.0, 'left': {'number': 3, 'column': 'age', 'median': 22.5, 'left': {'number': 4, 'label': 0}, 'right': {'number': 5, 'label': 1}}, 'right': {'number': 6, 'label': 1}}, 'right': {'number': 7, 'column': 'age', 'median': 55.0, 'left': {'number': 8, 'column': 'age', 'median': 47.5, 'left': {'number': 9, 'label': 0}, 'right': {'number': 10, 'label': 1}}, 'right': {'number': 11, 'label': 0}}}\n"
     ]
    }
   ],
   "source": [
    "# Create the data set that we used two missions ago\n",
    "data = pandas.DataFrame([\n",
    "    [0,4,20,0],\n",
    "    [0,4,60,2],\n",
    "    [0,5,40,1],\n",
    "    [1,4,25,1],\n",
    "    [1,5,35,2],\n",
    "    [1,5,55,1]\n",
    "    ])\n",
    "data.columns = [\"high_income\", \"employment\", \"age\", \"marital_status\"]\n",
    "\n",
    "# Set a random seed to make the results reproducible\n",
    "numpy.random.seed(1)\n",
    "\n",
    "# The dictionary to store our tree\n",
    "tree = {}\n",
    "nodes = []\n",
    "\n",
    "# The function to find the column to split on\n",
    "def find_best_column(data, target_name, columns):\n",
    "    information_gains = []\n",
    "    \n",
    "    # Select two columns randomly\n",
    "    cols = numpy.random.choice(columns, 2)\n",
    "    \n",
    "    for col in cols:\n",
    "        information_gain = calc_information_gain(data, col, \"high_income\")\n",
    "        information_gains.append(information_gain)\n",
    "\n",
    "    highest_gain_index = information_gains.index(max(information_gains))\n",
    "    \n",
    "    # Get the highest gain by indexing \"cols\"\n",
    "    highest_gain = cols[highest_gain_index]\n",
    "    \n",
    "    return highest_gain\n",
    "\n",
    "# The function to construct an ID3 decision tree\n",
    "def id3(data, target, columns, tree):\n",
    "    unique_targets = pandas.unique(data[target])\n",
    "    nodes.append(len(nodes) + 1)\n",
    "    tree[\"number\"] = nodes[-1]\n",
    "\n",
    "    if len(unique_targets) == 1:\n",
    "        if 0 in unique_targets:\n",
    "            tree[\"label\"] = 0\n",
    "        elif 1 in unique_targets:\n",
    "            tree[\"label\"] = 1\n",
    "        return\n",
    "    \n",
    "    best_column = find_best_column(data, target, columns)\n",
    "    column_median = data[best_column].median()\n",
    "    \n",
    "    tree[\"column\"] = best_column\n",
    "    tree[\"median\"] = column_median\n",
    "    \n",
    "    left_split = data[data[best_column] <= column_median]\n",
    "    right_split = data[data[best_column] > column_median]\n",
    "    split_dict = [[\"left\", left_split], [\"right\", right_split]]\n",
    "    \n",
    "    for name, split in split_dict:\n",
    "        tree[name] = {}\n",
    "        id3(split, target, columns, tree[name])\n",
    "\n",
    "\n",
    "# Run the ID3 algorithm on our data set and print the resulting tree\n",
    "id3(data, \"high_income\", [\"employment\", \"age\", \"marital_status\"], tree)\n",
    "print(tree)"
   ]
  },
  {
   "cell_type": "markdown",
   "metadata": {},
   "source": [
    "##### Random Features en scikit-learn\n",
    "\n",
    "Se puede conseguir este proceso de selección aleatoria de features con los parámetros de la clase DecisionTreeClassifier:\n",
    "\n",
    "- splitter = 'random'\n",
    "\n",
    "- max_features = \"auto\"\n",
    "\n",
    "SI se tienen N columnas, se escogerán $\\sqrt{N}$ columnas y se cumputará en Gini Coefficient para cada (Métrica similar a Information Gain) y hará el split en ese nodo en la mejor columna."
   ]
  },
  {
   "cell_type": "code",
   "execution_count": 167,
   "metadata": {},
   "outputs": [
    {
     "name": "stdout",
     "output_type": "stream",
     "text": [
      "0.7345958637997538\n"
     ]
    }
   ],
   "source": [
    "# We'll build 10 trees\n",
    "tree_count = 10\n",
    "\n",
    "# Each \"bag\" will have 60% of the number of original rows\n",
    "bag_proportion = .6\n",
    "\n",
    "predictions = []\n",
    "for i in range(tree_count):\n",
    "    # We select 60% of the rows from train, sampling with replacement\n",
    "    # We set a random state to ensure we'll be able to replicate our results\n",
    "    # We set it to i instead of a fixed value so we don't get the same sample every time\n",
    "    bag = train.sample(frac=bag_proportion, replace=True, random_state=i)\n",
    "    \n",
    "    # Fit a decision tree model to the \"bag\"\n",
    "    clf = DecisionTreeClassifier(random_state=1, min_samples_leaf=2, splitter = 'random', max_features = 'auto')\n",
    "    clf.fit(bag[columns], bag[\"high_income\"])\n",
    "    \n",
    "    # Using the model, make predictions on the test data\n",
    "    predictions.append(clf.predict_proba(test[columns])[:,1])\n",
    "\n",
    "combined = numpy.sum(predictions, axis=0) / 10\n",
    "rounded = numpy.round(combined)\n",
    "\n",
    "print(roc_auc_score(test[\"high_income\"], rounded))"
   ]
  },
  {
   "cell_type": "markdown",
   "metadata": {},
   "source": [
    "La precisión ha aumentado ligeramente respecto a utilizar bagging.\n",
    "\n",
    "| settings                                             | test AUC |\n",
    "|------------------------------------------------------|----------|\n",
    "| min_samples_leaf: 2                                  | 0.688    |\n",
    "| max_depth: 2                                         | 0.676    |\n",
    "| combined predictions                                 | 0.715    |\n",
    "| min_samples_leaf: 2, with bagging                    | 0.732    |\n",
    "| min_samples_leaf: 2, with bagging and random subsets | 0.735    |"
   ]
  },
  {
   "cell_type": "markdown",
   "metadata": {},
   "source": [
    "#### Clase Random Forest en Scikit Learn"
   ]
  },
  {
   "cell_type": "markdown",
   "metadata": {},
   "source": [
    "Scikit-Learn tiene la clase RandomForestClassifier y RandomForestRegressor.\n",
    "\n",
    "[Documentación del Classifier](https://scikit-learn.org/stable/modules/generated/sklearn.ensemble.RandomForestClassifier.html).\n",
    "\n",
    "Dentro de los parámetros\n",
    "- n_estimators sería el número de árboles a construir.\n",
    "\n",
    "- bootstrap - \"Bootstrap aggregation\" es otra forma de llamar a bagging, True o False.\n",
    "\n",
    "Otros parámetros se aplicana  cada árbol individual como en la clase de árbol único.\n",
    "\n",
    "- min_samples_leaf\n",
    "- min_samples_split\n",
    "- max_depth\n",
    "- max_leaf_nodes"
   ]
  },
  {
   "cell_type": "code",
   "execution_count": 168,
   "metadata": {},
   "outputs": [
    {
     "name": "stdout",
     "output_type": "stream",
     "text": [
      "0.7347461391939776\n"
     ]
    }
   ],
   "source": [
    "from sklearn.ensemble import RandomForestClassifier\n",
    "\n",
    "clf = RandomForestClassifier(n_estimators=5, random_state=1, min_samples_leaf=2)\n",
    "\n",
    "clf.fit(train[columns], train['high_income'])\n",
    "\n",
    "print(roc_auc_score(test['high_income'], clf.predict(test[columns])))"
   ]
  },
  {
   "cell_type": "code",
   "execution_count": 169,
   "metadata": {},
   "outputs": [
    {
     "name": "stdout",
     "output_type": "stream",
     "text": [
      "0.7379403213124711\n"
     ]
    }
   ],
   "source": [
    "from sklearn.ensemble import RandomForestClassifier\n",
    "\n",
    "clf = RandomForestClassifier(n_estimators=150, random_state=1, min_samples_leaf=2)\n",
    "\n",
    "clf.fit(train[columns], train[\"high_income\"])\n",
    "\n",
    "predictions = clf.predict(test[columns])\n",
    "print(roc_auc_score(test[\"high_income\"], predictions))"
   ]
  },
  {
   "cell_type": "markdown",
   "metadata": {},
   "source": [
    "Aumentar el número de árboles a partir de un número no ayuda, ya que la función que describe la precisión es logarítmica.\n",
    "\n",
    "En este caso no se mejoró la precisión pero el tiempo de entrenamiento fue mucho mayor. Es algo a tener en cuenta, sobre todo para datasets muy grandes."
   ]
  },
  {
   "cell_type": "code",
   "execution_count": 170,
   "metadata": {},
   "outputs": [
    {
     "name": "stdout",
     "output_type": "stream",
     "text": [
      "0.8192570489534683\n",
      "0.7139325899284541\n",
      "0.7498874343962398\n"
     ]
    }
   ],
   "source": [
    "clf = DecisionTreeClassifier(random_state=1, min_samples_leaf=5)\n",
    "\n",
    "clf.fit(train[columns], train[\"high_income\"])\n",
    "\n",
    "predictions = clf.predict(train[columns])\n",
    "print(roc_auc_score(train[\"high_income\"], predictions))\n",
    "\n",
    "predictions = clf.predict(test[columns])\n",
    "print(roc_auc_score(test[\"high_income\"], predictions))\n",
    "\n",
    "clf = RandomForestClassifier(n_estimators=150, random_state=1, min_samples_leaf=5)\n",
    "\n",
    "clf.fit(train[columns], train['high_income'])\n",
    "predictions = clf.predict(test[columns])\n",
    "print(roc_auc_score(test['high_income'], predictions))"
   ]
  },
  {
   "cell_type": "markdown",
   "metadata": {},
   "source": [
    "#### Ventajas e Inconvenientes de Random Forests\n",
    "\n",
    "Ventajas:\n",
    "\n",
    "- Muy preciso. A la alturea de Neural Networks y Gradient-Boosted Trees (Top Performing)\n",
    "\n",
    "- Resistenica al overfitting. Es necesario calibrar parámetros como max_depth\n",
    "\n",
    "\n",
    "Inconvenientes:\n",
    "\n",
    "- Difíciles de interpretar al ser resultado ed múltiples modelos.\n",
    "\n",
    "- Lentos de crear. Se puede explotar paralelización con el parámetro n_jobs.\n",
    "\n",
    "Tiene sentido utilizarlos cuando la precisión es muy importante y no el tiempo y la interpretabilidad del resultado."
   ]
  },
  {
   "cell_type": "code",
   "execution_count": null,
   "metadata": {},
   "outputs": [],
   "source": []
  },
  {
   "cell_type": "code",
   "execution_count": null,
   "metadata": {},
   "outputs": [],
   "source": []
  }
 ],
 "metadata": {
  "kernelspec": {
   "display_name": "Python 3",
   "language": "python",
   "name": "python3"
  },
  "language_info": {
   "codemirror_mode": {
    "name": "ipython",
    "version": 3
   },
   "file_extension": ".py",
   "mimetype": "text/x-python",
   "name": "python",
   "nbconvert_exporter": "python",
   "pygments_lexer": "ipython3",
   "version": "3.7.6"
  }
 },
 "nbformat": 4,
 "nbformat_minor": 4
}
